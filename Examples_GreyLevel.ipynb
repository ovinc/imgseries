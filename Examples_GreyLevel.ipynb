{
 "cells": [
  {
   "cell_type": "code",
   "execution_count": 1,
   "metadata": {},
   "outputs": [
    {
     "name": "stdout",
     "output_type": "stream",
     "text": [
      "Using matplotlib backend: Qt5Agg\n"
     ]
    }
   ],
   "source": [
    "# change to `%matplotlib` for interactive methods\n",
    "%matplotlib\n",
    "\n",
    "from imgseries import GreyLevel"
   ]
  },
  {
   "cell_type": "code",
   "execution_count": 2,
   "metadata": {},
   "outputs": [],
   "source": [
    "basefolder = 'data'  # where analysis data etc. will be saved into and loaded from\n",
    "folders = 'data/img1', 'data/img2'"
   ]
  },
  {
   "cell_type": "markdown",
   "metadata": {},
   "source": [
    "# Minimal analysis"
   ]
  },
  {
   "cell_type": "code",
   "execution_count": 3,
   "metadata": {},
   "outputs": [],
   "source": [
    "gl = GreyLevel(folders, savepath=basefolder)\n",
    "\n",
    "# or, if working with a tiff stack: gl = GreyLevel(stack='stack.tif', savepath=basefolder)"
   ]
  },
  {
   "cell_type": "markdown",
   "metadata": {},
   "source": [
    "The line below assumes that analysis zones have already been defined and saved in the metadata file (see details further below)"
   ]
  },
  {
   "cell_type": "code",
   "execution_count": 4,
   "metadata": {},
   "outputs": [],
   "source": [
    "gl.regenerate()\n",
    "\n",
    "# Previously:\n",
    "# gl.load_transform()\n",
    "#gl.zones.load()"
   ]
  },
  {
   "cell_type": "markdown",
   "metadata": {},
   "source": [
    "Now, run analysis on these zones."
   ]
  },
  {
   "cell_type": "code",
   "execution_count": 5,
   "metadata": {},
   "outputs": [
    {
     "name": "stderr",
     "output_type": "stream",
     "text": [
      "100%|████████████████████████████████████████████████████████████| 50/50 [00:00<00:00, 94.27it/s]\n"
     ]
    }
   ],
   "source": [
    "gl.run()"
   ]
  },
  {
   "cell_type": "markdown",
   "metadata": {},
   "source": [
    "Note that for large numbers of images, it can be faster to distribute computation across multiple computer cores:"
   ]
  },
  {
   "cell_type": "code",
   "execution_count": 6,
   "metadata": {},
   "outputs": [
    {
     "name": "stderr",
     "output_type": "stream",
     "text": [
      "100%|████████████████████████████████████████████████████████████| 50/50 [00:16<00:00,  3.00it/s]\n"
     ]
    }
   ],
   "source": [
    "gl.run(parallel=True)  # has some startup delay due to multiprocessing initiation"
   ]
  },
  {
   "cell_type": "markdown",
   "metadata": {},
   "source": [
    "Results are stored in the `data` attribute, which is a pandas DataFrame (times are automatically extracted from image creation date, but can be modified, see further below)) "
   ]
  },
  {
   "cell_type": "code",
   "execution_count": 7,
   "metadata": {},
   "outputs": [
    {
     "data": {
      "text/html": [
       "<div>\n",
       "<style scoped>\n",
       "    .dataframe tbody tr th:only-of-type {\n",
       "        vertical-align: middle;\n",
       "    }\n",
       "\n",
       "    .dataframe tbody tr th {\n",
       "        vertical-align: top;\n",
       "    }\n",
       "\n",
       "    .dataframe thead th {\n",
       "        text-align: right;\n",
       "    }\n",
       "</style>\n",
       "<table border=\"1\" class=\"dataframe\">\n",
       "  <thead>\n",
       "    <tr style=\"text-align: right;\">\n",
       "      <th></th>\n",
       "      <th>folder</th>\n",
       "      <th>filename</th>\n",
       "      <th>time (unix)</th>\n",
       "      <th>zone 1</th>\n",
       "      <th>zone 2</th>\n",
       "      <th>zone 3</th>\n",
       "    </tr>\n",
       "    <tr>\n",
       "      <th>num</th>\n",
       "      <th></th>\n",
       "      <th></th>\n",
       "      <th></th>\n",
       "      <th></th>\n",
       "      <th></th>\n",
       "      <th></th>\n",
       "    </tr>\n",
       "  </thead>\n",
       "  <tbody>\n",
       "    <tr>\n",
       "      <th>0</th>\n",
       "      <td>img1</td>\n",
       "      <td>img-00610.png</td>\n",
       "      <td>1.599832e+09</td>\n",
       "      <td>69.861462</td>\n",
       "      <td>62.143014</td>\n",
       "      <td>88.134096</td>\n",
       "    </tr>\n",
       "    <tr>\n",
       "      <th>1</th>\n",
       "      <td>img1</td>\n",
       "      <td>img-00611.png</td>\n",
       "      <td>1.599832e+09</td>\n",
       "      <td>69.754513</td>\n",
       "      <td>62.061832</td>\n",
       "      <td>88.122558</td>\n",
       "    </tr>\n",
       "    <tr>\n",
       "      <th>2</th>\n",
       "      <td>img1</td>\n",
       "      <td>img-00612.png</td>\n",
       "      <td>1.599832e+09</td>\n",
       "      <td>69.777077</td>\n",
       "      <td>62.105780</td>\n",
       "      <td>88.175946</td>\n",
       "    </tr>\n",
       "    <tr>\n",
       "      <th>3</th>\n",
       "      <td>img1</td>\n",
       "      <td>img-00613.png</td>\n",
       "      <td>1.599832e+09</td>\n",
       "      <td>69.659798</td>\n",
       "      <td>62.014832</td>\n",
       "      <td>88.102289</td>\n",
       "    </tr>\n",
       "    <tr>\n",
       "      <th>4</th>\n",
       "      <td>img1</td>\n",
       "      <td>img-00614.png</td>\n",
       "      <td>1.599832e+09</td>\n",
       "      <td>69.659037</td>\n",
       "      <td>62.016725</td>\n",
       "      <td>88.065293</td>\n",
       "    </tr>\n",
       "  </tbody>\n",
       "</table>\n",
       "</div>"
      ],
      "text/plain": [
       "    folder       filename   time (unix)     zone 1     zone 2     zone 3\n",
       "num                                                                     \n",
       "0     img1  img-00610.png  1.599832e+09  69.861462  62.143014  88.134096\n",
       "1     img1  img-00611.png  1.599832e+09  69.754513  62.061832  88.122558\n",
       "2     img1  img-00612.png  1.599832e+09  69.777077  62.105780  88.175946\n",
       "3     img1  img-00613.png  1.599832e+09  69.659798  62.014832  88.102289\n",
       "4     img1  img-00614.png  1.599832e+09  69.659037  62.016725  88.065293"
      ]
     },
     "execution_count": 7,
     "metadata": {},
     "output_type": "execute_result"
    }
   ],
   "source": [
    "gl.data.head()"
   ]
  },
  {
   "cell_type": "code",
   "execution_count": 8,
   "metadata": {},
   "outputs": [
    {
     "data": {
      "text/plain": [
       "<AxesSubplot:title={'center':'Analysis Zones (img #0)'}>"
      ]
     },
     "execution_count": 8,
     "metadata": {},
     "output_type": "execute_result"
    }
   ],
   "source": [
    "gl.zones.show()"
   ]
  },
  {
   "cell_type": "code",
   "execution_count": 9,
   "metadata": {},
   "outputs": [
    {
     "data": {
      "text/plain": [
       "<matplotlib.animation.FuncAnimation at 0x27f5305f6d0>"
      ]
     },
     "execution_count": 9,
     "metadata": {},
     "output_type": "execute_result"
    },
    {
     "name": "stderr",
     "output_type": "stream",
     "text": [
      "Traceback (most recent call last):\n",
      "  File \"C:\\Users\\olivier.vincent\\Anaconda3\\lib\\site-packages\\matplotlib\\cbook\\__init__.py\", line 224, in process\n",
      "    func(*args, **kwargs)\n",
      "  File \"C:\\Users\\olivier.vincent\\Anaconda3\\lib\\site-packages\\matplotlib\\animation.py\", line 959, in _start\n",
      "    self._init_draw()\n",
      "  File \"C:\\Users\\olivier.vincent\\Anaconda3\\lib\\site-packages\\matplotlib\\animation.py\", line 1703, in _init_draw\n",
      "    self._draw_frame(next(self.new_frame_seq()))\n",
      "  File \"C:\\Users\\olivier.vincent\\Anaconda3\\lib\\site-packages\\matplotlib\\animation.py\", line 1726, in _draw_frame\n",
      "    self._drawn_artists = self._func(framedata, *self._args)\n",
      "  File \"C:\\Users\\olivier.vincent\\Python-OV\\imgseries\\imgseries\\plot.py\", line 34, in plot\n",
      "    self.first_plot(data)\n",
      "  File \"C:\\Users\\olivier.vincent\\Python-OV\\imgseries\\imgseries\\grey_level.py\", line 48, in first_plot\n",
      "    for zone_name, glevel in zip(self.img_series.zones.data, glevels):\n",
      "NameError: name 'glevels' is not defined\n"
     ]
    }
   ],
   "source": [
    "gl.animate()"
   ]
  },
  {
   "cell_type": "code",
   "execution_count": 10,
   "metadata": {},
   "outputs": [
    {
     "name": "stdout",
     "output_type": "stream",
     "text": [
      "Error (name 'glevels' is not defined) with GreyLevelResultsPlot viewer, trying with ImgSeriesPlot\n"
     ]
    },
    {
     "data": {
      "text/plain": [
       "<matplotlib.widgets.Slider at 0x27f536379a0>"
      ]
     },
     "execution_count": 10,
     "metadata": {},
     "output_type": "execute_result"
    }
   ],
   "source": [
    "gl.inspect()"
   ]
  },
  {
   "cell_type": "markdown",
   "metadata": {},
   "source": [
    "Plot grey level of every zone as a function of time:"
   ]
  },
  {
   "cell_type": "code",
   "execution_count": 8,
   "metadata": {},
   "outputs": [
    {
     "data": {
      "text/plain": [
       "<AxesSubplot:xlabel='time (unix)'>"
      ]
     },
     "execution_count": 8,
     "metadata": {},
     "output_type": "execute_result"
    },
    {
     "data": {
      "image/png": "[encoded data removed]",
      "text/plain": [
       "<Figure size 432x288 with 1 Axes>"
      ]
     },
     "metadata": {
      "needs_background": "light"
     },
     "output_type": "display_data"
    }
   ],
   "source": [
    "gl.data.set_index('time (unix)').filter(like='zone').plot(grid=True)"
   ]
  },
  {
   "cell_type": "markdown",
   "metadata": {},
   "source": [
    "Save data in a tsv (tab-separated value) file, using default filename (filename can be set as a parameter if necessary, see further below). Metadata including zone info, path info, and code version info is also saved in a .json file at the same time. \n",
    "\n",
    "Before saving, make sure the timing info is correct for all images. If not, correct timing info, re-run the analysis, and call save()."
   ]
  },
  {
   "cell_type": "code",
   "execution_count": 9,
   "metadata": {},
   "outputs": [
    {
     "name": "stdout",
     "output_type": "stream",
     "text": [
      "\n",
      "Warning: These modules have dirty git repositories: imgseries\n",
      "\n",
      "\n",
      "Warning: these modules are missing a tag: imgseries\n",
      "\n",
      "\n",
      "Warning: these modules are not in a git repository: skimage, matplotlib, numpy\n",
      "\n"
     ]
    }
   ],
   "source": [
    "gl.save()"
   ]
  },
  {
   "cell_type": "markdown",
   "metadata": {},
   "source": [
    "# Defining global transform (rotation, crop)\n",
    "(optional, see ImgSeries notebook for more details)"
   ]
  },
  {
   "cell_type": "code",
   "execution_count": 11,
   "metadata": {},
   "outputs": [
    {
     "name": "stdout",
     "output_type": "stream",
     "text": [
      "Line position recorded. Line deleted.\n"
     ]
    }
   ],
   "source": [
    "gl.rotation.define()\n",
    "gl.crop.define()"
   ]
  },
  {
   "cell_type": "markdown",
   "metadata": {},
   "source": [
    "# Defining and viewing analysis zones"
   ]
  },
  {
   "cell_type": "code",
   "execution_count": 10,
   "metadata": {},
   "outputs": [],
   "source": [
    "gl = GreyLevel(folders, savepath=basefolder)"
   ]
  },
  {
   "cell_type": "markdown",
   "metadata": {},
   "source": [
    "Zone defining has to be done at least once.\n",
    "\n",
    "**Important**: Matplotlib must be in an interactive mode to do so.\n",
    "\n",
    "Defining does not need to be done again in the following situations:\n",
    "- calling methods again from the same `gl` object, e.g. `gl.run()`\n",
    "- calling `gl.zones.load()` to load zones data from saved metadata (.json) file."
   ]
  },
  {
   "cell_type": "code",
   "execution_count": 6,
   "metadata": {},
   "outputs": [],
   "source": [
    "gl.zones.define()  # define one zone using the first image of the series"
   ]
  },
  {
   "cell_type": "code",
   "execution_count": 5,
   "metadata": {},
   "outputs": [],
   "source": [
    "gl.zones.define(3)  # define 3 zones using the first image of the series"
   ]
  },
  {
   "cell_type": "code",
   "execution_count": 5,
   "metadata": {},
   "outputs": [],
   "source": [
    "gl.zones.define(3, num=10)  # define 3 zones using image #10 in the series"
   ]
  },
  {
   "cell_type": "code",
   "execution_count": 7,
   "metadata": {},
   "outputs": [
    {
     "name": "stdout",
     "output_type": "stream",
     "text": [
      "Rectangle position recorded. Rectangle deleted.\n",
      "Rectangle position recorded. Rectangle deleted.\n",
      "Rectangle position recorded. Rectangle deleted.\n"
     ]
    }
   ],
   "source": [
    "gl.zones.define(3, draggable=True)  # define 3 zones using draggable rectangles instead of clicks"
   ]
  },
  {
   "cell_type": "markdown",
   "metadata": {},
   "source": [
    "Viewing analysis zones after defining or loading them:"
   ]
  },
  {
   "cell_type": "code",
   "execution_count": 8,
   "metadata": {},
   "outputs": [
    {
     "data": {
      "text/plain": [
       "{'zone 1': (18, 28, 126, 104),\n",
       " 'zone 2': (440, 26, 132, 120),\n",
       " 'zone 3': (38, 431, 519, 85)}"
      ]
     },
     "execution_count": 8,
     "metadata": {},
     "output_type": "execute_result"
    }
   ],
   "source": [
    "gl.zones.data"
   ]
  },
  {
   "cell_type": "code",
   "execution_count": 10,
   "metadata": {},
   "outputs": [
    {
     "data": {
      "text/plain": [
       "<AxesSubplot:title={'center':'Analysis Zones (img #0)'}>"
      ]
     },
     "execution_count": 10,
     "metadata": {},
     "output_type": "execute_result"
    },
    {
     "data": {
      "image/png": "[encoded data removed]",
      "text/plain": [
       "<Figure size 432x288 with 1 Axes>"
      ]
     },
     "metadata": {
      "needs_background": "light"
     },
     "output_type": "display_data"
    }
   ],
   "source": [
    "gl.zones.show()  # show zones on first image of series"
   ]
  },
  {
   "cell_type": "markdown",
   "metadata": {},
   "source": [
    "**Note**: At the moment, saving zones data is done by calling `gl.save()`, which saves both data and metadata. Be careful because calling `gl.save()` also overwrites saved analysis data (potentially with no data if no analysis has been run yet). This makes sure that metadata in .json files actually corresponds to the data in the .tsv file."
   ]
  },
  {
   "cell_type": "markdown",
   "metadata": {},
   "source": [
    "# Analyze only subset of images"
   ]
  },
  {
   "cell_type": "code",
   "execution_count": 10,
   "metadata": {},
   "outputs": [],
   "source": [
    "gl = GreyLevel(folders, savepath=basefolder)"
   ]
  },
  {
   "cell_type": "code",
   "execution_count": 11,
   "metadata": {},
   "outputs": [],
   "source": [
    "gl.zones.load()"
   ]
  },
  {
   "cell_type": "code",
   "execution_count": 12,
   "metadata": {},
   "outputs": [
    {
     "name": "stderr",
     "output_type": "stream",
     "text": [
      "100%|███████████████████████████████████████████████████████████| 40/40 [00:00<00:00, 188.00it/s]\n"
     ]
    },
    {
     "data": {
      "text/html": [
       "<div>\n",
       "<style scoped>\n",
       "    .dataframe tbody tr th:only-of-type {\n",
       "        vertical-align: middle;\n",
       "    }\n",
       "\n",
       "    .dataframe tbody tr th {\n",
       "        vertical-align: top;\n",
       "    }\n",
       "\n",
       "    .dataframe thead th {\n",
       "        text-align: right;\n",
       "    }\n",
       "</style>\n",
       "<table border=\"1\" class=\"dataframe\">\n",
       "  <thead>\n",
       "    <tr style=\"text-align: right;\">\n",
       "      <th></th>\n",
       "      <th>folder</th>\n",
       "      <th>filename</th>\n",
       "      <th>time (unix)</th>\n",
       "      <th>zone 1</th>\n",
       "      <th>zone 2</th>\n",
       "      <th>zone 3</th>\n",
       "    </tr>\n",
       "    <tr>\n",
       "      <th>num</th>\n",
       "      <th></th>\n",
       "      <th></th>\n",
       "      <th></th>\n",
       "      <th></th>\n",
       "      <th></th>\n",
       "      <th></th>\n",
       "    </tr>\n",
       "  </thead>\n",
       "  <tbody>\n",
       "    <tr>\n",
       "      <th>10</th>\n",
       "      <td>img1</td>\n",
       "      <td>img-00620.png</td>\n",
       "      <td>1.599832e+09</td>\n",
       "      <td>68.585725</td>\n",
       "      <td>61.883142</td>\n",
       "      <td>86.884977</td>\n",
       "    </tr>\n",
       "    <tr>\n",
       "      <th>11</th>\n",
       "      <td>img1</td>\n",
       "      <td>img-00621.png</td>\n",
       "      <td>1.599832e+09</td>\n",
       "      <td>68.538704</td>\n",
       "      <td>61.918391</td>\n",
       "      <td>86.898649</td>\n",
       "    </tr>\n",
       "    <tr>\n",
       "      <th>12</th>\n",
       "      <td>img1</td>\n",
       "      <td>img-00622.png</td>\n",
       "      <td>1.599832e+09</td>\n",
       "      <td>68.574690</td>\n",
       "      <td>61.932759</td>\n",
       "      <td>86.892388</td>\n",
       "    </tr>\n",
       "    <tr>\n",
       "      <th>13</th>\n",
       "      <td>img1</td>\n",
       "      <td>img-00623.png</td>\n",
       "      <td>1.599832e+09</td>\n",
       "      <td>68.789628</td>\n",
       "      <td>61.967864</td>\n",
       "      <td>87.056080</td>\n",
       "    </tr>\n",
       "    <tr>\n",
       "      <th>14</th>\n",
       "      <td>img1</td>\n",
       "      <td>img-00624.png</td>\n",
       "      <td>1.599832e+09</td>\n",
       "      <td>68.849152</td>\n",
       "      <td>62.015182</td>\n",
       "      <td>87.138355</td>\n",
       "    </tr>\n",
       "  </tbody>\n",
       "</table>\n",
       "</div>"
      ],
      "text/plain": [
       "    folder       filename   time (unix)     zone 1     zone 2     zone 3\n",
       "num                                                                     \n",
       "10    img1  img-00620.png  1.599832e+09  68.585725  61.883142  86.884977\n",
       "11    img1  img-00621.png  1.599832e+09  68.538704  61.918391  86.898649\n",
       "12    img1  img-00622.png  1.599832e+09  68.574690  61.932759  86.892388\n",
       "13    img1  img-00623.png  1.599832e+09  68.789628  61.967864  87.056080\n",
       "14    img1  img-00624.png  1.599832e+09  68.849152  62.015182  87.138355"
      ]
     },
     "execution_count": 12,
     "metadata": {},
     "output_type": "execute_result"
    }
   ],
   "source": [
    "gl.run(start=10)  # Analyze only from image #10\n",
    "gl.data.head()"
   ]
  },
  {
   "cell_type": "code",
   "execution_count": 16,
   "metadata": {},
   "outputs": [
    {
     "name": "stderr",
     "output_type": "stream",
     "text": [
      "100%|██████████████████████████████████████████████████████████████████████████████████████████████████████████| 25/25 [00:00<00:00, 159.81it/s]\n"
     ]
    },
    {
     "data": {
      "text/html": [
       "<div>\n",
       "<style scoped>\n",
       "    .dataframe tbody tr th:only-of-type {\n",
       "        vertical-align: middle;\n",
       "    }\n",
       "\n",
       "    .dataframe tbody tr th {\n",
       "        vertical-align: top;\n",
       "    }\n",
       "\n",
       "    .dataframe thead th {\n",
       "        text-align: right;\n",
       "    }\n",
       "</style>\n",
       "<table border=\"1\" class=\"dataframe\">\n",
       "  <thead>\n",
       "    <tr style=\"text-align: right;\">\n",
       "      <th></th>\n",
       "      <th>folder</th>\n",
       "      <th>filename</th>\n",
       "      <th>time (unix)</th>\n",
       "      <th>zone 1</th>\n",
       "      <th>zone 2</th>\n",
       "      <th>zone 3</th>\n",
       "    </tr>\n",
       "    <tr>\n",
       "      <th>num</th>\n",
       "      <th></th>\n",
       "      <th></th>\n",
       "      <th></th>\n",
       "      <th></th>\n",
       "      <th></th>\n",
       "      <th></th>\n",
       "    </tr>\n",
       "  </thead>\n",
       "  <tbody>\n",
       "    <tr>\n",
       "      <th>20</th>\n",
       "      <td>img1</td>\n",
       "      <td>img-00630.png</td>\n",
       "      <td>1.620833e+09</td>\n",
       "      <td>68.905795</td>\n",
       "      <td>62.022797</td>\n",
       "      <td>87.160375</td>\n",
       "    </tr>\n",
       "    <tr>\n",
       "      <th>21</th>\n",
       "      <td>img1</td>\n",
       "      <td>img-00631.png</td>\n",
       "      <td>1.620833e+09</td>\n",
       "      <td>68.977495</td>\n",
       "      <td>62.101580</td>\n",
       "      <td>87.239385</td>\n",
       "    </tr>\n",
       "    <tr>\n",
       "      <th>22</th>\n",
       "      <td>img1</td>\n",
       "      <td>img-00632.png</td>\n",
       "      <td>1.620833e+09</td>\n",
       "      <td>68.975429</td>\n",
       "      <td>62.059243</td>\n",
       "      <td>87.264562</td>\n",
       "    </tr>\n",
       "    <tr>\n",
       "      <th>23</th>\n",
       "      <td>img1</td>\n",
       "      <td>img-00633.png</td>\n",
       "      <td>1.620833e+09</td>\n",
       "      <td>68.950641</td>\n",
       "      <td>62.039751</td>\n",
       "      <td>87.174074</td>\n",
       "    </tr>\n",
       "    <tr>\n",
       "      <th>24</th>\n",
       "      <td>img1</td>\n",
       "      <td>img-00634.png</td>\n",
       "      <td>1.620833e+09</td>\n",
       "      <td>68.970809</td>\n",
       "      <td>62.086877</td>\n",
       "      <td>87.269003</td>\n",
       "    </tr>\n",
       "  </tbody>\n",
       "</table>\n",
       "</div>"
      ],
      "text/plain": [
       "    folder       filename   time (unix)     zone 1     zone 2     zone 3\n",
       "num                                                                     \n",
       "20    img1  img-00630.png  1.620833e+09  68.905795  62.022797  87.160375\n",
       "21    img1  img-00631.png  1.620833e+09  68.977495  62.101580  87.239385\n",
       "22    img1  img-00632.png  1.620833e+09  68.975429  62.059243  87.264562\n",
       "23    img1  img-00633.png  1.620833e+09  68.950641  62.039751  87.174074\n",
       "24    img1  img-00634.png  1.620833e+09  68.970809  62.086877  87.269003"
      ]
     },
     "execution_count": 16,
     "metadata": {},
     "output_type": "execute_result"
    }
   ],
   "source": [
    "gl.run(end=25)  # Analyze only up to image #25, not included\n",
    "gl.data.tail()"
   ]
  },
  {
   "cell_type": "code",
   "execution_count": 17,
   "metadata": {},
   "outputs": [
    {
     "name": "stderr",
     "output_type": "stream",
     "text": [
      "100%|██████████████████████████████████████████████████████████████████████████████████████████████████████████| 10/10 [00:00<00:00, 165.70it/s]\n"
     ]
    },
    {
     "data": {
      "text/html": [
       "<div>\n",
       "<style scoped>\n",
       "    .dataframe tbody tr th:only-of-type {\n",
       "        vertical-align: middle;\n",
       "    }\n",
       "\n",
       "    .dataframe tbody tr th {\n",
       "        vertical-align: top;\n",
       "    }\n",
       "\n",
       "    .dataframe thead th {\n",
       "        text-align: right;\n",
       "    }\n",
       "</style>\n",
       "<table border=\"1\" class=\"dataframe\">\n",
       "  <thead>\n",
       "    <tr style=\"text-align: right;\">\n",
       "      <th></th>\n",
       "      <th>folder</th>\n",
       "      <th>filename</th>\n",
       "      <th>time (unix)</th>\n",
       "      <th>zone 1</th>\n",
       "      <th>zone 2</th>\n",
       "      <th>zone 3</th>\n",
       "    </tr>\n",
       "    <tr>\n",
       "      <th>num</th>\n",
       "      <th></th>\n",
       "      <th></th>\n",
       "      <th></th>\n",
       "      <th></th>\n",
       "      <th></th>\n",
       "      <th></th>\n",
       "    </tr>\n",
       "  </thead>\n",
       "  <tbody>\n",
       "    <tr>\n",
       "      <th>0</th>\n",
       "      <td>img1</td>\n",
       "      <td>img-00610.png</td>\n",
       "      <td>1.620833e+09</td>\n",
       "      <td>69.036475</td>\n",
       "      <td>62.122701</td>\n",
       "      <td>87.176963</td>\n",
       "    </tr>\n",
       "    <tr>\n",
       "      <th>5</th>\n",
       "      <td>img1</td>\n",
       "      <td>img-00615.png</td>\n",
       "      <td>1.620833e+09</td>\n",
       "      <td>68.807621</td>\n",
       "      <td>61.954119</td>\n",
       "      <td>87.076415</td>\n",
       "    </tr>\n",
       "    <tr>\n",
       "      <th>10</th>\n",
       "      <td>img1</td>\n",
       "      <td>img-00620.png</td>\n",
       "      <td>1.620833e+09</td>\n",
       "      <td>68.585725</td>\n",
       "      <td>61.883142</td>\n",
       "      <td>86.884977</td>\n",
       "    </tr>\n",
       "    <tr>\n",
       "      <th>15</th>\n",
       "      <td>img1</td>\n",
       "      <td>img-00625.png</td>\n",
       "      <td>1.620833e+09</td>\n",
       "      <td>68.943194</td>\n",
       "      <td>62.067864</td>\n",
       "      <td>87.186702</td>\n",
       "    </tr>\n",
       "    <tr>\n",
       "      <th>20</th>\n",
       "      <td>img1</td>\n",
       "      <td>img-00630.png</td>\n",
       "      <td>1.620833e+09</td>\n",
       "      <td>68.905795</td>\n",
       "      <td>62.022797</td>\n",
       "      <td>87.160375</td>\n",
       "    </tr>\n",
       "  </tbody>\n",
       "</table>\n",
       "</div>"
      ],
      "text/plain": [
       "    folder       filename   time (unix)     zone 1     zone 2     zone 3\n",
       "num                                                                     \n",
       "0     img1  img-00610.png  1.620833e+09  69.036475  62.122701  87.176963\n",
       "5     img1  img-00615.png  1.620833e+09  68.807621  61.954119  87.076415\n",
       "10    img1  img-00620.png  1.620833e+09  68.585725  61.883142  86.884977\n",
       "15    img1  img-00625.png  1.620833e+09  68.943194  62.067864  87.186702\n",
       "20    img1  img-00630.png  1.620833e+09  68.905795  62.022797  87.160375"
      ]
     },
     "execution_count": 17,
     "metadata": {},
     "output_type": "execute_result"
    }
   ],
   "source": [
    "gl.run(skip=5)  # Analyze only every 5-th image\n",
    "gl.data.head()"
   ]
  },
  {
   "cell_type": "markdown",
   "metadata": {},
   "source": [
    "# Manage image time information"
   ]
  },
  {
   "cell_type": "markdown",
   "metadata": {},
   "source": [
    "It can be useful to save image time information and num/image correspondence in a file that can be used later for reference, i.e. if the images are copied or moved and lose their internal time information. To to so:"
   ]
  },
  {
   "cell_type": "code",
   "execution_count": 11,
   "metadata": {},
   "outputs": [
    {
     "data": {
      "text/html": [
       "<div>\n",
       "<style scoped>\n",
       "    .dataframe tbody tr th:only-of-type {\n",
       "        vertical-align: middle;\n",
       "    }\n",
       "\n",
       "    .dataframe tbody tr th {\n",
       "        vertical-align: top;\n",
       "    }\n",
       "\n",
       "    .dataframe thead th {\n",
       "        text-align: right;\n",
       "    }\n",
       "</style>\n",
       "<table border=\"1\" class=\"dataframe\">\n",
       "  <thead>\n",
       "    <tr style=\"text-align: right;\">\n",
       "      <th></th>\n",
       "      <th>folder</th>\n",
       "      <th>filename</th>\n",
       "      <th>time (unix)</th>\n",
       "    </tr>\n",
       "    <tr>\n",
       "      <th>num</th>\n",
       "      <th></th>\n",
       "      <th></th>\n",
       "      <th></th>\n",
       "    </tr>\n",
       "  </thead>\n",
       "  <tbody>\n",
       "    <tr>\n",
       "      <th>0</th>\n",
       "      <td>img1</td>\n",
       "      <td>img-00610.png</td>\n",
       "      <td>1.599832e+09</td>\n",
       "    </tr>\n",
       "    <tr>\n",
       "      <th>1</th>\n",
       "      <td>img1</td>\n",
       "      <td>img-00611.png</td>\n",
       "      <td>1.599832e+09</td>\n",
       "    </tr>\n",
       "    <tr>\n",
       "      <th>2</th>\n",
       "      <td>img1</td>\n",
       "      <td>img-00612.png</td>\n",
       "      <td>1.599832e+09</td>\n",
       "    </tr>\n",
       "    <tr>\n",
       "      <th>3</th>\n",
       "      <td>img1</td>\n",
       "      <td>img-00613.png</td>\n",
       "      <td>1.599832e+09</td>\n",
       "    </tr>\n",
       "    <tr>\n",
       "      <th>4</th>\n",
       "      <td>img1</td>\n",
       "      <td>img-00614.png</td>\n",
       "      <td>1.599832e+09</td>\n",
       "    </tr>\n",
       "  </tbody>\n",
       "</table>\n",
       "</div>"
      ],
      "text/plain": [
       "    folder       filename   time (unix)\n",
       "num                                    \n",
       "0     img1  img-00610.png  1.599832e+09\n",
       "1     img1  img-00611.png  1.599832e+09\n",
       "2     img1  img-00612.png  1.599832e+09\n",
       "3     img1  img-00613.png  1.599832e+09\n",
       "4     img1  img-00614.png  1.599832e+09"
      ]
     },
     "execution_count": 11,
     "metadata": {},
     "output_type": "execute_result"
    }
   ],
   "source": [
    "gl = GreyLevel(folders, savepath=basefolder)  # Note: here, one could user ImgSeries instead of GreyLevel\n",
    "gl.info.head()  # see what file and timing info is availlable"
   ]
  },
  {
   "cell_type": "code",
   "execution_count": 12,
   "metadata": {},
   "outputs": [],
   "source": [
    "gl.save_info()  # save into default filename (defined in config.py)"
   ]
  },
  {
   "cell_type": "code",
   "execution_count": 13,
   "metadata": {},
   "outputs": [],
   "source": [
    "gl.save_info('Img_Files_SavingTest.tsv')  # save into custom filename. Here, extension must be specified"
   ]
  },
  {
   "cell_type": "markdown",
   "metadata": {},
   "source": [
    "Now, to reload all file and timing info from a previously saved file, use:"
   ]
  },
  {
   "cell_type": "code",
   "execution_count": 14,
   "metadata": {},
   "outputs": [],
   "source": [
    "gl.load_info('for-tests-do-not-modify/Img_Files_Saved.tsv')    # replaces all file data"
   ]
  },
  {
   "cell_type": "markdown",
   "metadata": {},
   "source": [
    "But to keep folder / file info automatically detected by `GreyLevel` instantiation and modify only timing info using data from another file:"
   ]
  },
  {
   "cell_type": "code",
   "execution_count": 15,
   "metadata": {},
   "outputs": [
    {
     "data": {
      "text/html": [
       "<div>\n",
       "<style scoped>\n",
       "    .dataframe tbody tr th:only-of-type {\n",
       "        vertical-align: middle;\n",
       "    }\n",
       "\n",
       "    .dataframe tbody tr th {\n",
       "        vertical-align: top;\n",
       "    }\n",
       "\n",
       "    .dataframe thead th {\n",
       "        text-align: right;\n",
       "    }\n",
       "</style>\n",
       "<table border=\"1\" class=\"dataframe\">\n",
       "  <thead>\n",
       "    <tr style=\"text-align: right;\">\n",
       "      <th></th>\n",
       "      <th>folder</th>\n",
       "      <th>filename</th>\n",
       "      <th>time (unix)</th>\n",
       "    </tr>\n",
       "    <tr>\n",
       "      <th>num</th>\n",
       "      <th></th>\n",
       "      <th></th>\n",
       "      <th></th>\n",
       "    </tr>\n",
       "  </thead>\n",
       "  <tbody>\n",
       "    <tr>\n",
       "      <th>0</th>\n",
       "      <td>img1</td>\n",
       "      <td>img-00610.png</td>\n",
       "      <td>1599832397</td>\n",
       "    </tr>\n",
       "    <tr>\n",
       "      <th>1</th>\n",
       "      <td>img1</td>\n",
       "      <td>img-00611.png</td>\n",
       "      <td>1599832399</td>\n",
       "    </tr>\n",
       "    <tr>\n",
       "      <th>2</th>\n",
       "      <td>img1</td>\n",
       "      <td>img-00612.png</td>\n",
       "      <td>1599832401</td>\n",
       "    </tr>\n",
       "    <tr>\n",
       "      <th>3</th>\n",
       "      <td>img1</td>\n",
       "      <td>img-00613.png</td>\n",
       "      <td>1599832403</td>\n",
       "    </tr>\n",
       "    <tr>\n",
       "      <th>4</th>\n",
       "      <td>img1</td>\n",
       "      <td>img-00614.png</td>\n",
       "      <td>1599832405</td>\n",
       "    </tr>\n",
       "  </tbody>\n",
       "</table>\n",
       "</div>"
      ],
      "text/plain": [
       "    folder       filename  time (unix)\n",
       "num                                   \n",
       "0     img1  img-00610.png   1599832397\n",
       "1     img1  img-00611.png   1599832399\n",
       "2     img1  img-00612.png   1599832401\n",
       "3     img1  img-00613.png   1599832403\n",
       "4     img1  img-00614.png   1599832405"
      ]
     },
     "execution_count": 15,
     "metadata": {},
     "output_type": "execute_result"
    }
   ],
   "source": [
    "gl.load_time('for-tests-do-not-modify/Img_Files_Rounded.tsv')    # only updates times info\n",
    "gl.info.head()"
   ]
  },
  {
   "cell_type": "markdown",
   "metadata": {},
   "source": [
    "In this last situation, the file must be tab-separated and contain at least `num` and `time (unix)` columns. The data present in the file must have rows cover at least all `num` values already present in `gl.info`."
   ]
  },
  {
   "cell_type": "markdown",
   "metadata": {},
   "source": [
    "# Load analysis data a posteriori"
   ]
  },
  {
   "cell_type": "code",
   "execution_count": 16,
   "metadata": {},
   "outputs": [],
   "source": [
    "gl = GreyLevel(folders, savepath=basefolder)  # no need to specify folders here, except if one wants to load images"
   ]
  },
  {
   "cell_type": "markdown",
   "metadata": {},
   "source": [
    "### Load data and metadata for external use"
   ]
  },
  {
   "cell_type": "code",
   "execution_count": 17,
   "metadata": {},
   "outputs": [
    {
     "data": {
      "text/html": [
       "<div>\n",
       "<style scoped>\n",
       "    .dataframe tbody tr th:only-of-type {\n",
       "        vertical-align: middle;\n",
       "    }\n",
       "\n",
       "    .dataframe tbody tr th {\n",
       "        vertical-align: top;\n",
       "    }\n",
       "\n",
       "    .dataframe thead th {\n",
       "        text-align: right;\n",
       "    }\n",
       "</style>\n",
       "<table border=\"1\" class=\"dataframe\">\n",
       "  <thead>\n",
       "    <tr style=\"text-align: right;\">\n",
       "      <th></th>\n",
       "      <th>folder</th>\n",
       "      <th>filename</th>\n",
       "      <th>time (unix)</th>\n",
       "      <th>zone 1</th>\n",
       "      <th>zone 2</th>\n",
       "      <th>zone 3</th>\n",
       "    </tr>\n",
       "    <tr>\n",
       "      <th>num</th>\n",
       "      <th></th>\n",
       "      <th></th>\n",
       "      <th></th>\n",
       "      <th></th>\n",
       "      <th></th>\n",
       "      <th></th>\n",
       "    </tr>\n",
       "  </thead>\n",
       "  <tbody>\n",
       "    <tr>\n",
       "      <th>0</th>\n",
       "      <td>img1</td>\n",
       "      <td>img-00610.png</td>\n",
       "      <td>1.599832e+09</td>\n",
       "      <td>69.861462</td>\n",
       "      <td>62.143014</td>\n",
       "      <td>88.134096</td>\n",
       "    </tr>\n",
       "    <tr>\n",
       "      <th>1</th>\n",
       "      <td>img1</td>\n",
       "      <td>img-00611.png</td>\n",
       "      <td>1.599832e+09</td>\n",
       "      <td>69.754513</td>\n",
       "      <td>62.061832</td>\n",
       "      <td>88.122558</td>\n",
       "    </tr>\n",
       "    <tr>\n",
       "      <th>2</th>\n",
       "      <td>img1</td>\n",
       "      <td>img-00612.png</td>\n",
       "      <td>1.599832e+09</td>\n",
       "      <td>69.777077</td>\n",
       "      <td>62.105780</td>\n",
       "      <td>88.175946</td>\n",
       "    </tr>\n",
       "    <tr>\n",
       "      <th>3</th>\n",
       "      <td>img1</td>\n",
       "      <td>img-00613.png</td>\n",
       "      <td>1.599832e+09</td>\n",
       "      <td>69.659798</td>\n",
       "      <td>62.014832</td>\n",
       "      <td>88.102289</td>\n",
       "    </tr>\n",
       "    <tr>\n",
       "      <th>4</th>\n",
       "      <td>img1</td>\n",
       "      <td>img-00614.png</td>\n",
       "      <td>1.599832e+09</td>\n",
       "      <td>69.659037</td>\n",
       "      <td>62.016725</td>\n",
       "      <td>88.065293</td>\n",
       "    </tr>\n",
       "  </tbody>\n",
       "</table>\n",
       "</div>"
      ],
      "text/plain": [
       "    folder       filename   time (unix)     zone 1     zone 2     zone 3\n",
       "num                                                                     \n",
       "0     img1  img-00610.png  1.599832e+09  69.861462  62.143014  88.134096\n",
       "1     img1  img-00611.png  1.599832e+09  69.754513  62.061832  88.122558\n",
       "2     img1  img-00612.png  1.599832e+09  69.777077  62.105780  88.175946\n",
       "3     img1  img-00613.png  1.599832e+09  69.659798  62.014832  88.102289\n",
       "4     img1  img-00614.png  1.599832e+09  69.659037  62.016725  88.065293"
      ]
     },
     "execution_count": 17,
     "metadata": {},
     "output_type": "execute_result"
    }
   ],
   "source": [
    "data = gl.load()\n",
    "data.head()"
   ]
  },
  {
   "cell_type": "code",
   "execution_count": 18,
   "metadata": {},
   "outputs": [
    {
     "data": {
      "text/plain": [
       "{'path': 'C:\\\\Users\\\\olivier.vincent\\\\Python-OV\\\\imgseries\\\\data',\n",
       " 'folders': ['img1', 'img2'],\n",
       " 'zones': {'zone 1': [18, 15, 152, 121],\n",
       "  'zone 2': [444, 19, 129, 127],\n",
       "  'zone 3': [44, 454, 504, 65]},\n",
       " 'rotation': {'angle': -0.3425123582361368},\n",
       " 'crop': {'zone': [10, 8, 591, 536]},\n",
       " 'time (utc)': '2023-01-27 07:01:38',\n",
       " 'code version': {'skimage': {'status': 'not a git repository',\n",
       "   'tag': 'v0.17.2'},\n",
       "  'imgseries': {'hash': '0092eaca6c4eabb1336d5aa15017e487c0a6439a',\n",
       "   'status': 'dirty'},\n",
       "  'imgbasics': {'hash': '95ab3694d6b2b6525bbd25ebe9dc0319eaeeeab8',\n",
       "   'status': 'clean',\n",
       "   'tag': 'v0.2.1'},\n",
       "  'filo': {'hash': '150574b5ae82c74d0c500b3fdb494e8f9c7631f7',\n",
       "   'status': 'clean',\n",
       "   'tag': 'v1.1.5'},\n",
       "  'matplotlib': {'status': 'not a git repository', 'tag': 'v3.3.2'},\n",
       "  'numpy': {'status': 'not a git repository', 'tag': 'v1.19.2'}}}"
      ]
     },
     "execution_count": 18,
     "metadata": {},
     "output_type": "execute_result"
    }
   ],
   "source": [
    "metadata = gl.load_metadata()\n",
    "metadata"
   ]
  },
  {
   "cell_type": "markdown",
   "metadata": {},
   "source": [
    "If one wants to use zone methods as above, one must first reload the zones using saved data:"
   ]
  },
  {
   "cell_type": "code",
   "execution_count": 19,
   "metadata": {},
   "outputs": [
    {
     "data": {
      "text/plain": [
       "{'zone 1': [18, 15, 152, 121],\n",
       " 'zone 2': [444, 19, 129, 127],\n",
       " 'zone 3': [44, 454, 504, 65]}"
      ]
     },
     "execution_count": 19,
     "metadata": {},
     "output_type": "execute_result"
    }
   ],
   "source": [
    "gl.zones.load()  # dict of tuples (xmin, ymin, width height) for every zone analyzed\n",
    "gl.zones.data"
   ]
  },
  {
   "cell_type": "markdown",
   "metadata": {},
   "source": [
    "### Completely regenerate state after analysis to be able to use all GreyLevel methods"
   ]
  },
  {
   "cell_type": "code",
   "execution_count": 20,
   "metadata": {},
   "outputs": [],
   "source": [
    "gl.regenerate()"
   ]
  },
  {
   "cell_type": "code",
   "execution_count": 21,
   "metadata": {},
   "outputs": [
    {
     "name": "stdout",
     "output_type": "stream",
     "text": [
      "Crop object {'zone': [10, 8, 591, 536]}\n",
      "Rotation object {'angle': -0.3425123582361368}\n",
      "Zones object {'zone 1': [18, 15, 152, 121], 'zone 2': [444, 19, 129, 127], 'zone 3': [44, 454, 504, 65]}\n"
     ]
    },
    {
     "data": {
      "text/html": [
       "<div>\n",
       "<style scoped>\n",
       "    .dataframe tbody tr th:only-of-type {\n",
       "        vertical-align: middle;\n",
       "    }\n",
       "\n",
       "    .dataframe tbody tr th {\n",
       "        vertical-align: top;\n",
       "    }\n",
       "\n",
       "    .dataframe thead th {\n",
       "        text-align: right;\n",
       "    }\n",
       "</style>\n",
       "<table border=\"1\" class=\"dataframe\">\n",
       "  <thead>\n",
       "    <tr style=\"text-align: right;\">\n",
       "      <th></th>\n",
       "      <th>folder</th>\n",
       "      <th>filename</th>\n",
       "      <th>time (unix)</th>\n",
       "      <th>zone 1</th>\n",
       "      <th>zone 2</th>\n",
       "      <th>zone 3</th>\n",
       "    </tr>\n",
       "    <tr>\n",
       "      <th>num</th>\n",
       "      <th></th>\n",
       "      <th></th>\n",
       "      <th></th>\n",
       "      <th></th>\n",
       "      <th></th>\n",
       "      <th></th>\n",
       "    </tr>\n",
       "  </thead>\n",
       "  <tbody>\n",
       "    <tr>\n",
       "      <th>0</th>\n",
       "      <td>img1</td>\n",
       "      <td>img-00610.png</td>\n",
       "      <td>1.599832e+09</td>\n",
       "      <td>69.861462</td>\n",
       "      <td>62.143014</td>\n",
       "      <td>88.134096</td>\n",
       "    </tr>\n",
       "    <tr>\n",
       "      <th>1</th>\n",
       "      <td>img1</td>\n",
       "      <td>img-00611.png</td>\n",
       "      <td>1.599832e+09</td>\n",
       "      <td>69.754513</td>\n",
       "      <td>62.061832</td>\n",
       "      <td>88.122558</td>\n",
       "    </tr>\n",
       "    <tr>\n",
       "      <th>2</th>\n",
       "      <td>img1</td>\n",
       "      <td>img-00612.png</td>\n",
       "      <td>1.599832e+09</td>\n",
       "      <td>69.777077</td>\n",
       "      <td>62.105780</td>\n",
       "      <td>88.175946</td>\n",
       "    </tr>\n",
       "    <tr>\n",
       "      <th>3</th>\n",
       "      <td>img1</td>\n",
       "      <td>img-00613.png</td>\n",
       "      <td>1.599832e+09</td>\n",
       "      <td>69.659798</td>\n",
       "      <td>62.014832</td>\n",
       "      <td>88.102289</td>\n",
       "    </tr>\n",
       "    <tr>\n",
       "      <th>4</th>\n",
       "      <td>img1</td>\n",
       "      <td>img-00614.png</td>\n",
       "      <td>1.599832e+09</td>\n",
       "      <td>69.659037</td>\n",
       "      <td>62.016725</td>\n",
       "      <td>88.065293</td>\n",
       "    </tr>\n",
       "  </tbody>\n",
       "</table>\n",
       "</div>"
      ],
      "text/plain": [
       "    folder       filename   time (unix)     zone 1     zone 2     zone 3\n",
       "num                                                                     \n",
       "0     img1  img-00610.png  1.599832e+09  69.861462  62.143014  88.134096\n",
       "1     img1  img-00611.png  1.599832e+09  69.754513  62.061832  88.122558\n",
       "2     img1  img-00612.png  1.599832e+09  69.777077  62.105780  88.175946\n",
       "3     img1  img-00613.png  1.599832e+09  69.659798  62.014832  88.102289\n",
       "4     img1  img-00614.png  1.599832e+09  69.659037  62.016725  88.065293"
      ]
     },
     "execution_count": 21,
     "metadata": {},
     "output_type": "execute_result"
    }
   ],
   "source": [
    "print(gl.crop)\n",
    "print(gl.rotation)\n",
    "print(gl.zones)\n",
    "gl.data.head()"
   ]
  },
  {
   "cell_type": "markdown",
   "metadata": {},
   "source": [
    "If one wants to show the zones on actual images, one must either specify `paths` in the `glevels` instanciation above, or reload the file info using `load_info()` (see above). Note that the image files must still be present in the same location, or `load_info` must be called with a specific filename containing updated file location):"
   ]
  },
  {
   "cell_type": "code",
   "execution_count": 22,
   "metadata": {},
   "outputs": [],
   "source": [
    "gl.load_info()  # use default filename, or:\n",
    "gl.load_info('for-tests-do-not-modify/Img_Files_Saved.tsv')"
   ]
  },
  {
   "cell_type": "code",
   "execution_count": 23,
   "metadata": {},
   "outputs": [
    {
     "data": {
      "text/plain": [
       "<AxesSubplot:title={'center':'Analysis Zones (img #10)'}>"
      ]
     },
     "execution_count": 23,
     "metadata": {},
     "output_type": "execute_result"
    },
    {
     "data": {
      "image/png": "[encoded data removed]",
      "text/plain": [
       "<Figure size 432x288 with 1 Axes>"
      ]
     },
     "metadata": {
      "needs_background": "light"
     },
     "output_type": "display_data"
    }
   ],
   "source": [
    "gl.zones.show(10)  # show zones on 10-th image"
   ]
  },
  {
   "cell_type": "markdown",
   "metadata": {},
   "source": [
    "# Load / save with custom filenames"
   ]
  },
  {
   "cell_type": "markdown",
   "metadata": {},
   "source": [
    "Loading and saving data can accept custom filenames as arguments, without extensions (they are added automatically, with `.tsv` for analysis data, and `.json` for metadata, e.g. (lines below should follow a `gl.run()` so that `gl.data` is defined):"
   ]
  },
  {
   "cell_type": "code",
   "execution_count": 21,
   "metadata": {},
   "outputs": [
    {
     "name": "stdout",
     "output_type": "stream",
     "text": [
      "\n",
      "Warning: These modules have dirty git repositories: imgseries\n",
      "\n",
      "\n",
      "Warning: these modules are missing a tag: imgseries\n",
      "\n",
      "\n",
      "Warning: these modules are not in a git repository: skimage, matplotlib, numpy\n",
      "\n"
     ]
    }
   ],
   "source": [
    "gl.save('Img_GreyLevel_SavingTest')  # generates both .json and .tsv files"
   ]
  },
  {
   "cell_type": "code",
   "execution_count": 22,
   "metadata": {},
   "outputs": [
    {
     "data": {
      "text/html": [
       "<div>\n",
       "<style scoped>\n",
       "    .dataframe tbody tr th:only-of-type {\n",
       "        vertical-align: middle;\n",
       "    }\n",
       "\n",
       "    .dataframe tbody tr th {\n",
       "        vertical-align: top;\n",
       "    }\n",
       "\n",
       "    .dataframe thead th {\n",
       "        text-align: right;\n",
       "    }\n",
       "</style>\n",
       "<table border=\"1\" class=\"dataframe\">\n",
       "  <thead>\n",
       "    <tr style=\"text-align: right;\">\n",
       "      <th></th>\n",
       "      <th>folder</th>\n",
       "      <th>filename</th>\n",
       "      <th>time (unix)</th>\n",
       "      <th>zone 1</th>\n",
       "      <th>zone 2</th>\n",
       "      <th>zone 3</th>\n",
       "    </tr>\n",
       "    <tr>\n",
       "      <th>num</th>\n",
       "      <th></th>\n",
       "      <th></th>\n",
       "      <th></th>\n",
       "      <th></th>\n",
       "      <th></th>\n",
       "      <th></th>\n",
       "    </tr>\n",
       "  </thead>\n",
       "  <tbody>\n",
       "    <tr>\n",
       "      <th>0</th>\n",
       "      <td>img1</td>\n",
       "      <td>img-00610.png</td>\n",
       "      <td>1.599832e+09</td>\n",
       "      <td>69.792346</td>\n",
       "      <td>61.988281</td>\n",
       "      <td>87.333981</td>\n",
       "    </tr>\n",
       "    <tr>\n",
       "      <th>1</th>\n",
       "      <td>img1</td>\n",
       "      <td>img-00611.png</td>\n",
       "      <td>1.599832e+09</td>\n",
       "      <td>69.682485</td>\n",
       "      <td>61.919363</td>\n",
       "      <td>87.315412</td>\n",
       "    </tr>\n",
       "    <tr>\n",
       "      <th>2</th>\n",
       "      <td>img1</td>\n",
       "      <td>img-00612.png</td>\n",
       "      <td>1.599832e+09</td>\n",
       "      <td>69.711785</td>\n",
       "      <td>61.962286</td>\n",
       "      <td>87.377436</td>\n",
       "    </tr>\n",
       "    <tr>\n",
       "      <th>3</th>\n",
       "      <td>img1</td>\n",
       "      <td>img-00613.png</td>\n",
       "      <td>1.599832e+09</td>\n",
       "      <td>69.594640</td>\n",
       "      <td>61.871811</td>\n",
       "      <td>87.303698</td>\n",
       "    </tr>\n",
       "    <tr>\n",
       "      <th>4</th>\n",
       "      <td>img1</td>\n",
       "      <td>img-00614.png</td>\n",
       "      <td>1.599832e+09</td>\n",
       "      <td>69.602250</td>\n",
       "      <td>61.886858</td>\n",
       "      <td>87.263077</td>\n",
       "    </tr>\n",
       "  </tbody>\n",
       "</table>\n",
       "</div>"
      ],
      "text/plain": [
       "    folder       filename   time (unix)     zone 1     zone 2     zone 3\n",
       "num                                                                     \n",
       "0     img1  img-00610.png  1.599832e+09  69.792346  61.988281  87.333981\n",
       "1     img1  img-00611.png  1.599832e+09  69.682485  61.919363  87.315412\n",
       "2     img1  img-00612.png  1.599832e+09  69.711785  61.962286  87.377436\n",
       "3     img1  img-00613.png  1.599832e+09  69.594640  61.871811  87.303698\n",
       "4     img1  img-00614.png  1.599832e+09  69.602250  61.886858  87.263077"
      ]
     },
     "execution_count": 22,
     "metadata": {},
     "output_type": "execute_result"
    }
   ],
   "source": [
    "data = gl.load('Img_GreyLevel_SavingTest')  # loads from .tsv file\n",
    "data.head()"
   ]
  },
  {
   "cell_type": "markdown",
   "metadata": {},
   "source": [
    "# Access individual images"
   ]
  },
  {
   "cell_type": "markdown",
   "metadata": {},
   "source": [
    "`GreyLevel` inherits from `ImageSeries` so that some useful methods are available, e.g."
   ]
  },
  {
   "cell_type": "code",
   "execution_count": 11,
   "metadata": {},
   "outputs": [],
   "source": [
    "gl = GreyLevel(paths=folders, savepath=basefolder)"
   ]
  },
  {
   "cell_type": "code",
   "execution_count": 12,
   "metadata": {},
   "outputs": [
    {
     "data": {
      "text/plain": [
       "filo.File #33 [img-00643.png in folder 'data\\img2']"
      ]
     },
     "execution_count": 12,
     "metadata": {},
     "output_type": "execute_result"
    }
   ],
   "source": [
    "gl.files[33]"
   ]
  },
  {
   "cell_type": "code",
   "execution_count": 13,
   "metadata": {},
   "outputs": [
    {
     "data": {
      "text/plain": [
       "WindowsPath('data/img2/img-00643.png')"
      ]
     },
     "execution_count": 13,
     "metadata": {},
     "output_type": "execute_result"
    }
   ],
   "source": [
    "gl.files[33].file"
   ]
  },
  {
   "cell_type": "code",
   "execution_count": 14,
   "metadata": {},
   "outputs": [
    {
     "data": {
      "text/plain": [
       "array([[ 69,  68,  72, ...,  69,  65,  56],\n",
       "       [ 65,  54,  52, ...,  59,  59,  65],\n",
       "       [ 65,  59,  59, ...,  61,  66,  63],\n",
       "       ...,\n",
       "       [ 81,  90,  77, ...,  92,  90, 103],\n",
       "       [ 80,  91,  81, ...,  91,  90,  98],\n",
       "       [ 89,  83,  83, ...,  87,  94, 103]], dtype=uint8)"
      ]
     },
     "execution_count": 14,
     "metadata": {},
     "output_type": "execute_result"
    }
   ],
   "source": [
    "gl.read(33)  # read image num 33 as an array"
   ]
  },
  {
   "cell_type": "markdown",
   "metadata": {},
   "source": [
    "**NOTE**: `show()` only works if the analysis results are loaded"
   ]
  },
  {
   "cell_type": "code",
   "execution_count": 15,
   "metadata": {},
   "outputs": [],
   "source": [
    "gl.regenerate()"
   ]
  },
  {
   "cell_type": "code",
   "execution_count": 18,
   "metadata": {},
   "outputs": [
    {
     "data": {
      "text/plain": [
       "<matplotlib.axes._axes.Axes at 0x27f51a3bf40>"
      ]
     },
     "execution_count": 18,
     "metadata": {},
     "output_type": "execute_result"
    }
   ],
   "source": [
    "gl.show(33)"
   ]
  },
  {
   "cell_type": "code",
   "execution_count": null,
   "metadata": {},
   "outputs": [],
   "source": []
  }
 ],
 "metadata": {
  "kernelspec": {
   "display_name": "Python 3",
   "language": "python",
   "name": "python3"
  },
  "language_info": {
   "codemirror_mode": {
    "name": "ipython",
    "version": 3
   },
   "file_extension": ".py",
   "mimetype": "text/x-python",
   "name": "python",
   "nbconvert_exporter": "python",
   "pygments_lexer": "ipython3",
   "version": "3.8.5"
  }
 },
 "nbformat": 4,
 "nbformat_minor": 4
}

{
 "cells": [
  {
   "cell_type": "code",
   "execution_count": 1,
   "metadata": {},
   "outputs": [],
   "source": [
    "# change to `%matplotlib` for interactive methods\n",
    "%matplotlib inline\n",
    "\n",
    "from imgseries import GreyLevel"
   ]
  },
  {
   "cell_type": "code",
   "execution_count": 2,
   "metadata": {},
   "outputs": [],
   "source": [
    "basefolder = 'data'  # where analysis data etc. will be saved into and loaded from\n",
    "folders = 'data/img1', 'data/img2'"
   ]
  },
  {
   "cell_type": "markdown",
   "metadata": {},
   "source": [
    "# Minimal analysis"
   ]
  },
  {
   "cell_type": "code",
   "execution_count": 3,
   "metadata": {},
   "outputs": [],
   "source": [
    "gl = GreyLevel(folders, savepath=basefolder)\n",
    "\n",
    "# or, if working with a tiff stack: gl = GreyLevel(stack='stack.tif', savepath=basefolder)"
   ]
  },
  {
   "cell_type": "markdown",
   "metadata": {},
   "source": [
    "The line below assumes that analysis zones have already been defined and saved in the metadata file (see details further below)"
   ]
  },
  {
   "cell_type": "code",
   "execution_count": 4,
   "metadata": {},
   "outputs": [],
   "source": [
    "gl.regenerate()\n",
    "\n",
    "# Previously:\n",
    "# gl.load_transform()\n",
    "#gl.zones.load()"
   ]
  },
  {
   "cell_type": "markdown",
   "metadata": {},
   "source": [
    "Now, run analysis on these zones."
   ]
  },
  {
   "cell_type": "code",
   "execution_count": 5,
   "metadata": {},
   "outputs": [
    {
     "name": "stderr",
     "output_type": "stream",
     "text": [
      "100%|█████████████████████████████████████████████████████████████████████████████████████████████████| 50/50 [00:00<00:00, 90.37it/s]\n"
     ]
    }
   ],
   "source": [
    "gl.run()"
   ]
  },
  {
   "cell_type": "markdown",
   "metadata": {},
   "source": [
    "Note that for large numbers of images, it can be faster to distribute computation across multiple computer cores:"
   ]
  },
  {
   "cell_type": "code",
   "execution_count": 6,
   "metadata": {},
   "outputs": [
    {
     "name": "stderr",
     "output_type": "stream",
     "text": [
      "100%|█████████████████████████████████████████████████████████████████████████████████████████████████| 50/50 [00:09<00:00,  5.55it/s]\n"
     ]
    }
   ],
   "source": [
    "gl.run(parallel=True)  # has some startup delay due to multiprocessing initiation"
   ]
  },
  {
   "cell_type": "markdown",
   "metadata": {},
   "source": [
    "Results are stored in the `data` attribute, which is a pandas DataFrame (times are automatically extracted from image creation date, but can be modified, see further below)) "
   ]
  },
  {
   "cell_type": "code",
   "execution_count": 7,
   "metadata": {},
   "outputs": [
    {
     "data": {
      "text/html": [
       "<div>\n",
       "<style scoped>\n",
       "    .dataframe tbody tr th:only-of-type {\n",
       "        vertical-align: middle;\n",
       "    }\n",
       "\n",
       "    .dataframe tbody tr th {\n",
       "        vertical-align: top;\n",
       "    }\n",
       "\n",
       "    .dataframe thead th {\n",
       "        text-align: right;\n",
       "    }\n",
       "</style>\n",
       "<table border=\"1\" class=\"dataframe\">\n",
       "  <thead>\n",
       "    <tr style=\"text-align: right;\">\n",
       "      <th></th>\n",
       "      <th>folder</th>\n",
       "      <th>filename</th>\n",
       "      <th>time (unix)</th>\n",
       "      <th>zone 1</th>\n",
       "      <th>zone 2</th>\n",
       "      <th>zone 3</th>\n",
       "    </tr>\n",
       "    <tr>\n",
       "      <th>num</th>\n",
       "      <th></th>\n",
       "      <th></th>\n",
       "      <th></th>\n",
       "      <th></th>\n",
       "      <th></th>\n",
       "      <th></th>\n",
       "    </tr>\n",
       "  </thead>\n",
       "  <tbody>\n",
       "    <tr>\n",
       "      <th>0</th>\n",
       "      <td>img1</td>\n",
       "      <td>img-00610.png</td>\n",
       "      <td>1.599832e+09</td>\n",
       "      <td>69.792346</td>\n",
       "      <td>61.988281</td>\n",
       "      <td>87.333981</td>\n",
       "    </tr>\n",
       "    <tr>\n",
       "      <th>1</th>\n",
       "      <td>img1</td>\n",
       "      <td>img-00611.png</td>\n",
       "      <td>1.599832e+09</td>\n",
       "      <td>69.682485</td>\n",
       "      <td>61.919363</td>\n",
       "      <td>87.315412</td>\n",
       "    </tr>\n",
       "    <tr>\n",
       "      <th>2</th>\n",
       "      <td>img1</td>\n",
       "      <td>img-00612.png</td>\n",
       "      <td>1.599832e+09</td>\n",
       "      <td>69.711785</td>\n",
       "      <td>61.962286</td>\n",
       "      <td>87.377436</td>\n",
       "    </tr>\n",
       "    <tr>\n",
       "      <th>3</th>\n",
       "      <td>img1</td>\n",
       "      <td>img-00613.png</td>\n",
       "      <td>1.599832e+09</td>\n",
       "      <td>69.594640</td>\n",
       "      <td>61.871811</td>\n",
       "      <td>87.303698</td>\n",
       "    </tr>\n",
       "    <tr>\n",
       "      <th>4</th>\n",
       "      <td>img1</td>\n",
       "      <td>img-00614.png</td>\n",
       "      <td>1.599832e+09</td>\n",
       "      <td>69.602250</td>\n",
       "      <td>61.886858</td>\n",
       "      <td>87.263077</td>\n",
       "    </tr>\n",
       "  </tbody>\n",
       "</table>\n",
       "</div>"
      ],
      "text/plain": [
       "    folder       filename   time (unix)     zone 1     zone 2     zone 3\n",
       "num                                                                     \n",
       "0     img1  img-00610.png  1.599832e+09  69.792346  61.988281  87.333981\n",
       "1     img1  img-00611.png  1.599832e+09  69.682485  61.919363  87.315412\n",
       "2     img1  img-00612.png  1.599832e+09  69.711785  61.962286  87.377436\n",
       "3     img1  img-00613.png  1.599832e+09  69.594640  61.871811  87.303698\n",
       "4     img1  img-00614.png  1.599832e+09  69.602250  61.886858  87.263077"
      ]
     },
     "execution_count": 7,
     "metadata": {},
     "output_type": "execute_result"
    }
   ],
   "source": [
    "gl.data.head()"
   ]
  },
  {
   "cell_type": "markdown",
   "metadata": {},
   "source": [
    "Plot grey level of every zone as a function of time:"
   ]
  },
  {
   "cell_type": "code",
   "execution_count": 8,
   "metadata": {},
   "outputs": [
    {
     "data": {
      "text/plain": [
       "<AxesSubplot:xlabel='time (unix)'>"
      ]
     },
     "execution_count": 8,
     "metadata": {},
     "output_type": "execute_result"
    },
    {
     "data": {
      "image/png": "[encoded data removed]",
      "text/plain": [
       "<Figure size 432x288 with 1 Axes>"
      ]
     },
     "metadata": {
      "needs_background": "light"
     },
     "output_type": "display_data"
    }
   ],
   "source": [
    "gl.data.set_index('time (unix)').filter(like='zone').plot()"
   ]
  },
  {
   "cell_type": "markdown",
   "metadata": {},
   "source": [
    "Save data in a tsv (tab-separated value) file, using default filename (filename can be set as a parameter if necessary, see further below). Metadata including zone info, path info, and code version info is also saved in a .json file at the same time. \n",
    "\n",
    "Before saving, make sure the timing info is correct for all images. If not, correct timing info, re-run the analysis, and call save()."
   ]
  },
  {
   "cell_type": "code",
   "execution_count": 9,
   "metadata": {},
   "outputs": [
    {
     "name": "stdout",
     "output_type": "stream",
     "text": [
      "\n",
      "Warning: These modules have dirty git repositories: imgseries\n",
      "\n",
      "\n",
      "Warning: these modules are missing a tag: imgseries\n",
      "\n",
      "\n",
      "Warning: these modules are not in a git repository: skimage, matplotlib, numpy\n",
      "\n"
     ]
    }
   ],
   "source": [
    "gl.save()"
   ]
  },
  {
   "cell_type": "markdown",
   "metadata": {},
   "source": [
    "# Defining global transform (rotation, crop)\n",
    "(optional, see ImgSeries notebook for more details)"
   ]
  },
  {
   "cell_type": "code",
   "execution_count": 11,
   "metadata": {},
   "outputs": [
    {
     "name": "stdout",
     "output_type": "stream",
     "text": [
      "Line position recorded. Line deleted.\n"
     ]
    }
   ],
   "source": [
    "gl.rotation.define()\n",
    "gl.crop.define()"
   ]
  },
  {
   "cell_type": "markdown",
   "metadata": {},
   "source": [
    "# Defining and viewing analysis zones"
   ]
  },
  {
   "cell_type": "code",
   "execution_count": 10,
   "metadata": {},
   "outputs": [],
   "source": [
    "gl = GreyLevel(folders, savepath=basefolder)"
   ]
  },
  {
   "cell_type": "markdown",
   "metadata": {},
   "source": [
    "Zone defining has to be done at least once.\n",
    "\n",
    "**Important**: Matplotlib must be in an interactive mode to do so.\n",
    "\n",
    "Defining does not need to be done again in the following situations:\n",
    "- calling methods again from the same `gl` object, e.g. `gl.run()`\n",
    "- calling `gl.zones.load()` to load zones data from saved metadata (.json) file."
   ]
  },
  {
   "cell_type": "code",
   "execution_count": 12,
   "metadata": {},
   "outputs": [],
   "source": [
    "gl.zones.define()  # define one zone using the first image of the series"
   ]
  },
  {
   "cell_type": "code",
   "execution_count": 5,
   "metadata": {},
   "outputs": [],
   "source": [
    "gl.zones.define(3)  # define 3 zones using the first image of the series"
   ]
  },
  {
   "cell_type": "code",
   "execution_count": 6,
   "metadata": {},
   "outputs": [],
   "source": [
    "gl.zones.define(3, num=10)  # define 3 zones using image #10 in the series"
   ]
  },
  {
   "cell_type": "code",
   "execution_count": 7,
   "metadata": {},
   "outputs": [
    {
     "name": "stdout",
     "output_type": "stream",
     "text": [
      "Rectangle position recorded. Rectangle deleted.\n",
      "Rectangle position recorded. Rectangle deleted.\n",
      "Rectangle position recorded. Rectangle deleted.\n"
     ]
    }
   ],
   "source": [
    "gl.zones.define(3, draggable=True)  # define 3 zones using draggable rectangles instead of clicks"
   ]
  },
  {
   "cell_type": "markdown",
   "metadata": {},
   "source": [
    "Viewing analysis zones after defining or loading them:"
   ]
  },
  {
   "cell_type": "code",
   "execution_count": 11,
   "metadata": {},
   "outputs": [
    {
     "data": {
      "text/plain": [
       "{'zone 1': [13, 16, 146, 126],\n",
       " 'zone 2': [448, 12, 144, 145],\n",
       " 'zone 3': [21, 464, 575, 65]}"
      ]
     },
     "execution_count": 11,
     "metadata": {},
     "output_type": "execute_result"
    }
   ],
   "source": [
    "gl.zones.data"
   ]
  },
  {
   "cell_type": "code",
   "execution_count": 10,
   "metadata": {},
   "outputs": [
    {
     "data": {
      "text/plain": [
       "<AxesSubplot:title={'center':'Analysis Zones (img #0)'}>"
      ]
     },
     "execution_count": 10,
     "metadata": {},
     "output_type": "execute_result"
    },
    {
     "data": {
      "image/png": "[encoded data removed]",
      "text/plain": [
       "<Figure size 432x288 with 1 Axes>"
      ]
     },
     "metadata": {
      "needs_background": "light"
     },
     "output_type": "display_data"
    }
   ],
   "source": [
    "gl.zones.show()  # show zones on first image of series"
   ]
  },
  {
   "cell_type": "markdown",
   "metadata": {},
   "source": [
    "**Note**: At the moment, saving zones data is done by calling `gl.save()`, which saves both data and metadata. Be careful because calling `gl.save()` also overwrites saved analysis data (potentially with no data if no analysis has been run yet). This makes sure that metadata in .json files actually corresponds to the data in the .tsv file."
   ]
  },
  {
   "cell_type": "markdown",
   "metadata": {},
   "source": [
    "# Analyze only subset of images"
   ]
  },
  {
   "cell_type": "code",
   "execution_count": 13,
   "metadata": {},
   "outputs": [],
   "source": [
    "gl = GreyLevel(folders, savepath=basefolder)"
   ]
  },
  {
   "cell_type": "code",
   "execution_count": 14,
   "metadata": {},
   "outputs": [],
   "source": [
    "gl.zones.load()"
   ]
  },
  {
   "cell_type": "code",
   "execution_count": 15,
   "metadata": {},
   "outputs": [
    {
     "name": "stderr",
     "output_type": "stream",
     "text": [
      "100%|██████████████████████████████████████████████████████████████████████████████████████████████████████████| 40/40 [00:00<00:00, 164.45it/s]\n"
     ]
    },
    {
     "data": {
      "text/html": [
       "<div>\n",
       "<style scoped>\n",
       "    .dataframe tbody tr th:only-of-type {\n",
       "        vertical-align: middle;\n",
       "    }\n",
       "\n",
       "    .dataframe tbody tr th {\n",
       "        vertical-align: top;\n",
       "    }\n",
       "\n",
       "    .dataframe thead th {\n",
       "        text-align: right;\n",
       "    }\n",
       "</style>\n",
       "<table border=\"1\" class=\"dataframe\">\n",
       "  <thead>\n",
       "    <tr style=\"text-align: right;\">\n",
       "      <th></th>\n",
       "      <th>folder</th>\n",
       "      <th>filename</th>\n",
       "      <th>time (unix)</th>\n",
       "      <th>zone 1</th>\n",
       "      <th>zone 2</th>\n",
       "      <th>zone 3</th>\n",
       "    </tr>\n",
       "    <tr>\n",
       "      <th>num</th>\n",
       "      <th></th>\n",
       "      <th></th>\n",
       "      <th></th>\n",
       "      <th></th>\n",
       "      <th></th>\n",
       "      <th></th>\n",
       "    </tr>\n",
       "  </thead>\n",
       "  <tbody>\n",
       "    <tr>\n",
       "      <th>10</th>\n",
       "      <td>img1</td>\n",
       "      <td>img-00620.png</td>\n",
       "      <td>1.620833e+09</td>\n",
       "      <td>68.585725</td>\n",
       "      <td>61.883142</td>\n",
       "      <td>86.884977</td>\n",
       "    </tr>\n",
       "    <tr>\n",
       "      <th>11</th>\n",
       "      <td>img1</td>\n",
       "      <td>img-00621.png</td>\n",
       "      <td>1.620833e+09</td>\n",
       "      <td>68.538704</td>\n",
       "      <td>61.918391</td>\n",
       "      <td>86.898649</td>\n",
       "    </tr>\n",
       "    <tr>\n",
       "      <th>12</th>\n",
       "      <td>img1</td>\n",
       "      <td>img-00622.png</td>\n",
       "      <td>1.620833e+09</td>\n",
       "      <td>68.574690</td>\n",
       "      <td>61.932759</td>\n",
       "      <td>86.892388</td>\n",
       "    </tr>\n",
       "    <tr>\n",
       "      <th>13</th>\n",
       "      <td>img1</td>\n",
       "      <td>img-00623.png</td>\n",
       "      <td>1.620833e+09</td>\n",
       "      <td>68.789628</td>\n",
       "      <td>61.967864</td>\n",
       "      <td>87.056080</td>\n",
       "    </tr>\n",
       "    <tr>\n",
       "      <th>14</th>\n",
       "      <td>img1</td>\n",
       "      <td>img-00624.png</td>\n",
       "      <td>1.620833e+09</td>\n",
       "      <td>68.849152</td>\n",
       "      <td>62.015182</td>\n",
       "      <td>87.138355</td>\n",
       "    </tr>\n",
       "  </tbody>\n",
       "</table>\n",
       "</div>"
      ],
      "text/plain": [
       "    folder       filename   time (unix)     zone 1     zone 2     zone 3\n",
       "num                                                                     \n",
       "10    img1  img-00620.png  1.620833e+09  68.585725  61.883142  86.884977\n",
       "11    img1  img-00621.png  1.620833e+09  68.538704  61.918391  86.898649\n",
       "12    img1  img-00622.png  1.620833e+09  68.574690  61.932759  86.892388\n",
       "13    img1  img-00623.png  1.620833e+09  68.789628  61.967864  87.056080\n",
       "14    img1  img-00624.png  1.620833e+09  68.849152  62.015182  87.138355"
      ]
     },
     "execution_count": 15,
     "metadata": {},
     "output_type": "execute_result"
    }
   ],
   "source": [
    "gl.run(start=10)  # Analyze only from image #10\n",
    "gl.data.head()"
   ]
  },
  {
   "cell_type": "code",
   "execution_count": 16,
   "metadata": {},
   "outputs": [
    {
     "name": "stderr",
     "output_type": "stream",
     "text": [
      "100%|██████████████████████████████████████████████████████████████████████████████████████████████████████████| 25/25 [00:00<00:00, 159.81it/s]\n"
     ]
    },
    {
     "data": {
      "text/html": [
       "<div>\n",
       "<style scoped>\n",
       "    .dataframe tbody tr th:only-of-type {\n",
       "        vertical-align: middle;\n",
       "    }\n",
       "\n",
       "    .dataframe tbody tr th {\n",
       "        vertical-align: top;\n",
       "    }\n",
       "\n",
       "    .dataframe thead th {\n",
       "        text-align: right;\n",
       "    }\n",
       "</style>\n",
       "<table border=\"1\" class=\"dataframe\">\n",
       "  <thead>\n",
       "    <tr style=\"text-align: right;\">\n",
       "      <th></th>\n",
       "      <th>folder</th>\n",
       "      <th>filename</th>\n",
       "      <th>time (unix)</th>\n",
       "      <th>zone 1</th>\n",
       "      <th>zone 2</th>\n",
       "      <th>zone 3</th>\n",
       "    </tr>\n",
       "    <tr>\n",
       "      <th>num</th>\n",
       "      <th></th>\n",
       "      <th></th>\n",
       "      <th></th>\n",
       "      <th></th>\n",
       "      <th></th>\n",
       "      <th></th>\n",
       "    </tr>\n",
       "  </thead>\n",
       "  <tbody>\n",
       "    <tr>\n",
       "      <th>20</th>\n",
       "      <td>img1</td>\n",
       "      <td>img-00630.png</td>\n",
       "      <td>1.620833e+09</td>\n",
       "      <td>68.905795</td>\n",
       "      <td>62.022797</td>\n",
       "      <td>87.160375</td>\n",
       "    </tr>\n",
       "    <tr>\n",
       "      <th>21</th>\n",
       "      <td>img1</td>\n",
       "      <td>img-00631.png</td>\n",
       "      <td>1.620833e+09</td>\n",
       "      <td>68.977495</td>\n",
       "      <td>62.101580</td>\n",
       "      <td>87.239385</td>\n",
       "    </tr>\n",
       "    <tr>\n",
       "      <th>22</th>\n",
       "      <td>img1</td>\n",
       "      <td>img-00632.png</td>\n",
       "      <td>1.620833e+09</td>\n",
       "      <td>68.975429</td>\n",
       "      <td>62.059243</td>\n",
       "      <td>87.264562</td>\n",
       "    </tr>\n",
       "    <tr>\n",
       "      <th>23</th>\n",
       "      <td>img1</td>\n",
       "      <td>img-00633.png</td>\n",
       "      <td>1.620833e+09</td>\n",
       "      <td>68.950641</td>\n",
       "      <td>62.039751</td>\n",
       "      <td>87.174074</td>\n",
       "    </tr>\n",
       "    <tr>\n",
       "      <th>24</th>\n",
       "      <td>img1</td>\n",
       "      <td>img-00634.png</td>\n",
       "      <td>1.620833e+09</td>\n",
       "      <td>68.970809</td>\n",
       "      <td>62.086877</td>\n",
       "      <td>87.269003</td>\n",
       "    </tr>\n",
       "  </tbody>\n",
       "</table>\n",
       "</div>"
      ],
      "text/plain": [
       "    folder       filename   time (unix)     zone 1     zone 2     zone 3\n",
       "num                                                                     \n",
       "20    img1  img-00630.png  1.620833e+09  68.905795  62.022797  87.160375\n",
       "21    img1  img-00631.png  1.620833e+09  68.977495  62.101580  87.239385\n",
       "22    img1  img-00632.png  1.620833e+09  68.975429  62.059243  87.264562\n",
       "23    img1  img-00633.png  1.620833e+09  68.950641  62.039751  87.174074\n",
       "24    img1  img-00634.png  1.620833e+09  68.970809  62.086877  87.269003"
      ]
     },
     "execution_count": 16,
     "metadata": {},
     "output_type": "execute_result"
    }
   ],
   "source": [
    "gl.run(end=25)  # Analyze only up to image #25, not included\n",
    "gl.data.tail()"
   ]
  },
  {
   "cell_type": "code",
   "execution_count": 17,
   "metadata": {},
   "outputs": [
    {
     "name": "stderr",
     "output_type": "stream",
     "text": [
      "100%|██████████████████████████████████████████████████████████████████████████████████████████████████████████| 10/10 [00:00<00:00, 165.70it/s]\n"
     ]
    },
    {
     "data": {
      "text/html": [
       "<div>\n",
       "<style scoped>\n",
       "    .dataframe tbody tr th:only-of-type {\n",
       "        vertical-align: middle;\n",
       "    }\n",
       "\n",
       "    .dataframe tbody tr th {\n",
       "        vertical-align: top;\n",
       "    }\n",
       "\n",
       "    .dataframe thead th {\n",
       "        text-align: right;\n",
       "    }\n",
       "</style>\n",
       "<table border=\"1\" class=\"dataframe\">\n",
       "  <thead>\n",
       "    <tr style=\"text-align: right;\">\n",
       "      <th></th>\n",
       "      <th>folder</th>\n",
       "      <th>filename</th>\n",
       "      <th>time (unix)</th>\n",
       "      <th>zone 1</th>\n",
       "      <th>zone 2</th>\n",
       "      <th>zone 3</th>\n",
       "    </tr>\n",
       "    <tr>\n",
       "      <th>num</th>\n",
       "      <th></th>\n",
       "      <th></th>\n",
       "      <th></th>\n",
       "      <th></th>\n",
       "      <th></th>\n",
       "      <th></th>\n",
       "    </tr>\n",
       "  </thead>\n",
       "  <tbody>\n",
       "    <tr>\n",
       "      <th>0</th>\n",
       "      <td>img1</td>\n",
       "      <td>img-00610.png</td>\n",
       "      <td>1.620833e+09</td>\n",
       "      <td>69.036475</td>\n",
       "      <td>62.122701</td>\n",
       "      <td>87.176963</td>\n",
       "    </tr>\n",
       "    <tr>\n",
       "      <th>5</th>\n",
       "      <td>img1</td>\n",
       "      <td>img-00615.png</td>\n",
       "      <td>1.620833e+09</td>\n",
       "      <td>68.807621</td>\n",
       "      <td>61.954119</td>\n",
       "      <td>87.076415</td>\n",
       "    </tr>\n",
       "    <tr>\n",
       "      <th>10</th>\n",
       "      <td>img1</td>\n",
       "      <td>img-00620.png</td>\n",
       "      <td>1.620833e+09</td>\n",
       "      <td>68.585725</td>\n",
       "      <td>61.883142</td>\n",
       "      <td>86.884977</td>\n",
       "    </tr>\n",
       "    <tr>\n",
       "      <th>15</th>\n",
       "      <td>img1</td>\n",
       "      <td>img-00625.png</td>\n",
       "      <td>1.620833e+09</td>\n",
       "      <td>68.943194</td>\n",
       "      <td>62.067864</td>\n",
       "      <td>87.186702</td>\n",
       "    </tr>\n",
       "    <tr>\n",
       "      <th>20</th>\n",
       "      <td>img1</td>\n",
       "      <td>img-00630.png</td>\n",
       "      <td>1.620833e+09</td>\n",
       "      <td>68.905795</td>\n",
       "      <td>62.022797</td>\n",
       "      <td>87.160375</td>\n",
       "    </tr>\n",
       "  </tbody>\n",
       "</table>\n",
       "</div>"
      ],
      "text/plain": [
       "    folder       filename   time (unix)     zone 1     zone 2     zone 3\n",
       "num                                                                     \n",
       "0     img1  img-00610.png  1.620833e+09  69.036475  62.122701  87.176963\n",
       "5     img1  img-00615.png  1.620833e+09  68.807621  61.954119  87.076415\n",
       "10    img1  img-00620.png  1.620833e+09  68.585725  61.883142  86.884977\n",
       "15    img1  img-00625.png  1.620833e+09  68.943194  62.067864  87.186702\n",
       "20    img1  img-00630.png  1.620833e+09  68.905795  62.022797  87.160375"
      ]
     },
     "execution_count": 17,
     "metadata": {},
     "output_type": "execute_result"
    }
   ],
   "source": [
    "gl.run(skip=5)  # Analyze only every 5-th image\n",
    "gl.data.head()"
   ]
  },
  {
   "cell_type": "markdown",
   "metadata": {},
   "source": [
    "# Manage image time information"
   ]
  },
  {
   "cell_type": "markdown",
   "metadata": {},
   "source": [
    "It can be useful to save image time information and num/image correspondence in a file that can be used later for reference, i.e. if the images are copied or moved and lose their internal time information. To to so:"
   ]
  },
  {
   "cell_type": "code",
   "execution_count": 18,
   "metadata": {},
   "outputs": [
    {
     "data": {
      "text/html": [
       "<div>\n",
       "<style scoped>\n",
       "    .dataframe tbody tr th:only-of-type {\n",
       "        vertical-align: middle;\n",
       "    }\n",
       "\n",
       "    .dataframe tbody tr th {\n",
       "        vertical-align: top;\n",
       "    }\n",
       "\n",
       "    .dataframe thead th {\n",
       "        text-align: right;\n",
       "    }\n",
       "</style>\n",
       "<table border=\"1\" class=\"dataframe\">\n",
       "  <thead>\n",
       "    <tr style=\"text-align: right;\">\n",
       "      <th></th>\n",
       "      <th>folder</th>\n",
       "      <th>filename</th>\n",
       "      <th>time (unix)</th>\n",
       "    </tr>\n",
       "    <tr>\n",
       "      <th>num</th>\n",
       "      <th></th>\n",
       "      <th></th>\n",
       "      <th></th>\n",
       "    </tr>\n",
       "  </thead>\n",
       "  <tbody>\n",
       "    <tr>\n",
       "      <th>0</th>\n",
       "      <td>img1</td>\n",
       "      <td>img-00610.png</td>\n",
       "      <td>1.620833e+09</td>\n",
       "    </tr>\n",
       "    <tr>\n",
       "      <th>1</th>\n",
       "      <td>img1</td>\n",
       "      <td>img-00611.png</td>\n",
       "      <td>1.620833e+09</td>\n",
       "    </tr>\n",
       "    <tr>\n",
       "      <th>2</th>\n",
       "      <td>img1</td>\n",
       "      <td>img-00612.png</td>\n",
       "      <td>1.620833e+09</td>\n",
       "    </tr>\n",
       "    <tr>\n",
       "      <th>3</th>\n",
       "      <td>img1</td>\n",
       "      <td>img-00613.png</td>\n",
       "      <td>1.620833e+09</td>\n",
       "    </tr>\n",
       "    <tr>\n",
       "      <th>4</th>\n",
       "      <td>img1</td>\n",
       "      <td>img-00614.png</td>\n",
       "      <td>1.620833e+09</td>\n",
       "    </tr>\n",
       "  </tbody>\n",
       "</table>\n",
       "</div>"
      ],
      "text/plain": [
       "    folder       filename   time (unix)\n",
       "num                                    \n",
       "0     img1  img-00610.png  1.620833e+09\n",
       "1     img1  img-00611.png  1.620833e+09\n",
       "2     img1  img-00612.png  1.620833e+09\n",
       "3     img1  img-00613.png  1.620833e+09\n",
       "4     img1  img-00614.png  1.620833e+09"
      ]
     },
     "execution_count": 18,
     "metadata": {},
     "output_type": "execute_result"
    }
   ],
   "source": [
    "gl = GreyLevel(folders, savepath=basefolder)  # Note: here, one could user ImgSeries instead of GreyLevel\n",
    "gl.info.head()  # see what file and timing info is availlable"
   ]
  },
  {
   "cell_type": "code",
   "execution_count": 19,
   "metadata": {},
   "outputs": [],
   "source": [
    "gl.save_info()  # save into default filename (defined in config.py)"
   ]
  },
  {
   "cell_type": "code",
   "execution_count": 18,
   "metadata": {},
   "outputs": [],
   "source": [
    "gl.save_info('Img_Files_SavingTest.tsv')  # save into custom filename. Here, extension must be specified"
   ]
  },
  {
   "cell_type": "markdown",
   "metadata": {},
   "source": [
    "Now, to reload all file and timing info from a previously saved file, use:"
   ]
  },
  {
   "cell_type": "code",
   "execution_count": 19,
   "metadata": {},
   "outputs": [],
   "source": [
    "gl.load_info('for-tests-do-not-modify/Img_Files_Saved.tsv')    # replaces all file data"
   ]
  },
  {
   "cell_type": "markdown",
   "metadata": {},
   "source": [
    "But to keep folder / file info automatically detected by `GreyLevel` instantiation and modify only timing info using data from another file:"
   ]
  },
  {
   "cell_type": "code",
   "execution_count": 20,
   "metadata": {},
   "outputs": [
    {
     "data": {
      "text/html": [
       "<div>\n",
       "<style scoped>\n",
       "    .dataframe tbody tr th:only-of-type {\n",
       "        vertical-align: middle;\n",
       "    }\n",
       "\n",
       "    .dataframe tbody tr th {\n",
       "        vertical-align: top;\n",
       "    }\n",
       "\n",
       "    .dataframe thead th {\n",
       "        text-align: right;\n",
       "    }\n",
       "</style>\n",
       "<table border=\"1\" class=\"dataframe\">\n",
       "  <thead>\n",
       "    <tr style=\"text-align: right;\">\n",
       "      <th></th>\n",
       "      <th>folder</th>\n",
       "      <th>filename</th>\n",
       "      <th>time (unix)</th>\n",
       "    </tr>\n",
       "    <tr>\n",
       "      <th>num</th>\n",
       "      <th></th>\n",
       "      <th></th>\n",
       "      <th></th>\n",
       "    </tr>\n",
       "  </thead>\n",
       "  <tbody>\n",
       "    <tr>\n",
       "      <th>0</th>\n",
       "      <td>img1</td>\n",
       "      <td>img-00610.png</td>\n",
       "      <td>1599832397</td>\n",
       "    </tr>\n",
       "    <tr>\n",
       "      <th>1</th>\n",
       "      <td>img1</td>\n",
       "      <td>img-00611.png</td>\n",
       "      <td>1599832399</td>\n",
       "    </tr>\n",
       "    <tr>\n",
       "      <th>2</th>\n",
       "      <td>img1</td>\n",
       "      <td>img-00612.png</td>\n",
       "      <td>1599832401</td>\n",
       "    </tr>\n",
       "    <tr>\n",
       "      <th>3</th>\n",
       "      <td>img1</td>\n",
       "      <td>img-00613.png</td>\n",
       "      <td>1599832403</td>\n",
       "    </tr>\n",
       "    <tr>\n",
       "      <th>4</th>\n",
       "      <td>img1</td>\n",
       "      <td>img-00614.png</td>\n",
       "      <td>1599832405</td>\n",
       "    </tr>\n",
       "  </tbody>\n",
       "</table>\n",
       "</div>"
      ],
      "text/plain": [
       "    folder       filename  time (unix)\n",
       "num                                   \n",
       "0     img1  img-00610.png   1599832397\n",
       "1     img1  img-00611.png   1599832399\n",
       "2     img1  img-00612.png   1599832401\n",
       "3     img1  img-00613.png   1599832403\n",
       "4     img1  img-00614.png   1599832405"
      ]
     },
     "execution_count": 20,
     "metadata": {},
     "output_type": "execute_result"
    }
   ],
   "source": [
    "gl.load_time('for-tests-do-not-modify/Img_Files_Rounded.tsv')    # only updates times info\n",
    "gl.info.head()"
   ]
  },
  {
   "cell_type": "markdown",
   "metadata": {},
   "source": [
    "In this last situation, the file must be tab-separated and contain at least `num` and `time (unix)` columns. The data present in the file must have rows cover at least all `num` values already present in `gl.info`."
   ]
  },
  {
   "cell_type": "markdown",
   "metadata": {},
   "source": [
    "# Load analysis data a posteriori"
   ]
  },
  {
   "cell_type": "code",
   "execution_count": 11,
   "metadata": {},
   "outputs": [],
   "source": [
    "gl = GreyLevel(savepath=basefolder)  # no need to specify folders here"
   ]
  },
  {
   "cell_type": "markdown",
   "metadata": {},
   "source": [
    "### Load data and metadata for external use"
   ]
  },
  {
   "cell_type": "code",
   "execution_count": 12,
   "metadata": {},
   "outputs": [
    {
     "data": {
      "text/html": [
       "<div>\n",
       "<style scoped>\n",
       "    .dataframe tbody tr th:only-of-type {\n",
       "        vertical-align: middle;\n",
       "    }\n",
       "\n",
       "    .dataframe tbody tr th {\n",
       "        vertical-align: top;\n",
       "    }\n",
       "\n",
       "    .dataframe thead th {\n",
       "        text-align: right;\n",
       "    }\n",
       "</style>\n",
       "<table border=\"1\" class=\"dataframe\">\n",
       "  <thead>\n",
       "    <tr style=\"text-align: right;\">\n",
       "      <th></th>\n",
       "      <th>folder</th>\n",
       "      <th>filename</th>\n",
       "      <th>time (unix)</th>\n",
       "      <th>zone 1</th>\n",
       "      <th>zone 2</th>\n",
       "      <th>zone 3</th>\n",
       "    </tr>\n",
       "    <tr>\n",
       "      <th>num</th>\n",
       "      <th></th>\n",
       "      <th></th>\n",
       "      <th></th>\n",
       "      <th></th>\n",
       "      <th></th>\n",
       "      <th></th>\n",
       "    </tr>\n",
       "  </thead>\n",
       "  <tbody>\n",
       "    <tr>\n",
       "      <th>0</th>\n",
       "      <td>img1</td>\n",
       "      <td>img-00610.png</td>\n",
       "      <td>1.599832e+09</td>\n",
       "      <td>69.792346</td>\n",
       "      <td>61.988281</td>\n",
       "      <td>87.333981</td>\n",
       "    </tr>\n",
       "    <tr>\n",
       "      <th>1</th>\n",
       "      <td>img1</td>\n",
       "      <td>img-00611.png</td>\n",
       "      <td>1.599832e+09</td>\n",
       "      <td>69.682485</td>\n",
       "      <td>61.919363</td>\n",
       "      <td>87.315412</td>\n",
       "    </tr>\n",
       "    <tr>\n",
       "      <th>2</th>\n",
       "      <td>img1</td>\n",
       "      <td>img-00612.png</td>\n",
       "      <td>1.599832e+09</td>\n",
       "      <td>69.711785</td>\n",
       "      <td>61.962286</td>\n",
       "      <td>87.377436</td>\n",
       "    </tr>\n",
       "    <tr>\n",
       "      <th>3</th>\n",
       "      <td>img1</td>\n",
       "      <td>img-00613.png</td>\n",
       "      <td>1.599832e+09</td>\n",
       "      <td>69.594640</td>\n",
       "      <td>61.871811</td>\n",
       "      <td>87.303698</td>\n",
       "    </tr>\n",
       "    <tr>\n",
       "      <th>4</th>\n",
       "      <td>img1</td>\n",
       "      <td>img-00614.png</td>\n",
       "      <td>1.599832e+09</td>\n",
       "      <td>69.602250</td>\n",
       "      <td>61.886858</td>\n",
       "      <td>87.263077</td>\n",
       "    </tr>\n",
       "  </tbody>\n",
       "</table>\n",
       "</div>"
      ],
      "text/plain": [
       "    folder       filename   time (unix)     zone 1     zone 2     zone 3\n",
       "num                                                                     \n",
       "0     img1  img-00610.png  1.599832e+09  69.792346  61.988281  87.333981\n",
       "1     img1  img-00611.png  1.599832e+09  69.682485  61.919363  87.315412\n",
       "2     img1  img-00612.png  1.599832e+09  69.711785  61.962286  87.377436\n",
       "3     img1  img-00613.png  1.599832e+09  69.594640  61.871811  87.303698\n",
       "4     img1  img-00614.png  1.599832e+09  69.602250  61.886858  87.263077"
      ]
     },
     "execution_count": 12,
     "metadata": {},
     "output_type": "execute_result"
    }
   ],
   "source": [
    "data = gl.load()\n",
    "data.head()"
   ]
  },
  {
   "cell_type": "code",
   "execution_count": 14,
   "metadata": {},
   "outputs": [
    {
     "data": {
      "text/plain": [
       "{'path': 'C:\\\\Users\\\\olivier.vincent\\\\Python-OV\\\\imgseries\\\\data',\n",
       " 'folders': ['img1', 'img2'],\n",
       " 'zones': {'zone 1': [13, 16, 146, 126],\n",
       "  'zone 2': [448, 12, 144, 145],\n",
       "  'zone 3': [21, 464, 575, 65]},\n",
       " 'rotation': {'angle': -0.3425123582361368},\n",
       " 'crop': {'zone': [10, 8, 591, 536]},\n",
       " 'time (utc)': '2023-01-25 15:30:14',\n",
       " 'code version': {'skimage': {'status': 'not a git repository',\n",
       "   'tag': 'v0.17.2'},\n",
       "  'imgseries': {'hash': 'fdd37822407146639b21d459efa39b26a87ed623',\n",
       "   'status': 'dirty'},\n",
       "  'imgbasics': {'hash': '95ab3694d6b2b6525bbd25ebe9dc0319eaeeeab8',\n",
       "   'status': 'clean',\n",
       "   'tag': 'v0.2.1'},\n",
       "  'filo': {'hash': '150574b5ae82c74d0c500b3fdb494e8f9c7631f7',\n",
       "   'status': 'clean',\n",
       "   'tag': 'v1.1.5'},\n",
       "  'matplotlib': {'status': 'not a git repository', 'tag': 'v3.3.2'},\n",
       "  'numpy': {'status': 'not a git repository', 'tag': 'v1.19.2'}}}"
      ]
     },
     "execution_count": 14,
     "metadata": {},
     "output_type": "execute_result"
    }
   ],
   "source": [
    "metadata = gl.load_metadata()\n",
    "metadata"
   ]
  },
  {
   "cell_type": "markdown",
   "metadata": {},
   "source": [
    "If one wants to use zone methods as above, one must first reload the zones using saved data:"
   ]
  },
  {
   "cell_type": "code",
   "execution_count": 15,
   "metadata": {},
   "outputs": [
    {
     "data": {
      "text/plain": [
       "{'zone 1': [13, 16, 146, 126],\n",
       " 'zone 2': [448, 12, 144, 145],\n",
       " 'zone 3': [21, 464, 575, 65]}"
      ]
     },
     "execution_count": 15,
     "metadata": {},
     "output_type": "execute_result"
    }
   ],
   "source": [
    "gl.zones.load()  # dict of tuples (xmin, ymin, width height) for every zone analyzed\n",
    "gl.zones.data"
   ]
  },
  {
   "cell_type": "markdown",
   "metadata": {},
   "source": [
    "### Completely regenerate state after analysis to be able to use all GreyLevel methods"
   ]
  },
  {
   "cell_type": "code",
   "execution_count": 16,
   "metadata": {},
   "outputs": [],
   "source": [
    "gl.regenerate()"
   ]
  },
  {
   "cell_type": "code",
   "execution_count": 18,
   "metadata": {},
   "outputs": [
    {
     "name": "stdout",
     "output_type": "stream",
     "text": [
      "Crop object {'zone': [10, 8, 591, 536]}\n",
      "Rotation object {'angle': -0.3425123582361368}\n",
      "Zones object {'zone 1': [13, 16, 146, 126], 'zone 2': [448, 12, 144, 145], 'zone 3': [21, 464, 575, 65]}\n"
     ]
    },
    {
     "data": {
      "text/html": [
       "<div>\n",
       "<style scoped>\n",
       "    .dataframe tbody tr th:only-of-type {\n",
       "        vertical-align: middle;\n",
       "    }\n",
       "\n",
       "    .dataframe tbody tr th {\n",
       "        vertical-align: top;\n",
       "    }\n",
       "\n",
       "    .dataframe thead th {\n",
       "        text-align: right;\n",
       "    }\n",
       "</style>\n",
       "<table border=\"1\" class=\"dataframe\">\n",
       "  <thead>\n",
       "    <tr style=\"text-align: right;\">\n",
       "      <th></th>\n",
       "      <th>folder</th>\n",
       "      <th>filename</th>\n",
       "      <th>time (unix)</th>\n",
       "      <th>zone 1</th>\n",
       "      <th>zone 2</th>\n",
       "      <th>zone 3</th>\n",
       "    </tr>\n",
       "    <tr>\n",
       "      <th>num</th>\n",
       "      <th></th>\n",
       "      <th></th>\n",
       "      <th></th>\n",
       "      <th></th>\n",
       "      <th></th>\n",
       "      <th></th>\n",
       "    </tr>\n",
       "  </thead>\n",
       "  <tbody>\n",
       "    <tr>\n",
       "      <th>0</th>\n",
       "      <td>img1</td>\n",
       "      <td>img-00610.png</td>\n",
       "      <td>1.599832e+09</td>\n",
       "      <td>69.792346</td>\n",
       "      <td>61.988281</td>\n",
       "      <td>87.333981</td>\n",
       "    </tr>\n",
       "    <tr>\n",
       "      <th>1</th>\n",
       "      <td>img1</td>\n",
       "      <td>img-00611.png</td>\n",
       "      <td>1.599832e+09</td>\n",
       "      <td>69.682485</td>\n",
       "      <td>61.919363</td>\n",
       "      <td>87.315412</td>\n",
       "    </tr>\n",
       "    <tr>\n",
       "      <th>2</th>\n",
       "      <td>img1</td>\n",
       "      <td>img-00612.png</td>\n",
       "      <td>1.599832e+09</td>\n",
       "      <td>69.711785</td>\n",
       "      <td>61.962286</td>\n",
       "      <td>87.377436</td>\n",
       "    </tr>\n",
       "    <tr>\n",
       "      <th>3</th>\n",
       "      <td>img1</td>\n",
       "      <td>img-00613.png</td>\n",
       "      <td>1.599832e+09</td>\n",
       "      <td>69.594640</td>\n",
       "      <td>61.871811</td>\n",
       "      <td>87.303698</td>\n",
       "    </tr>\n",
       "    <tr>\n",
       "      <th>4</th>\n",
       "      <td>img1</td>\n",
       "      <td>img-00614.png</td>\n",
       "      <td>1.599832e+09</td>\n",
       "      <td>69.602250</td>\n",
       "      <td>61.886858</td>\n",
       "      <td>87.263077</td>\n",
       "    </tr>\n",
       "  </tbody>\n",
       "</table>\n",
       "</div>"
      ],
      "text/plain": [
       "    folder       filename   time (unix)     zone 1     zone 2     zone 3\n",
       "num                                                                     \n",
       "0     img1  img-00610.png  1.599832e+09  69.792346  61.988281  87.333981\n",
       "1     img1  img-00611.png  1.599832e+09  69.682485  61.919363  87.315412\n",
       "2     img1  img-00612.png  1.599832e+09  69.711785  61.962286  87.377436\n",
       "3     img1  img-00613.png  1.599832e+09  69.594640  61.871811  87.303698\n",
       "4     img1  img-00614.png  1.599832e+09  69.602250  61.886858  87.263077"
      ]
     },
     "execution_count": 18,
     "metadata": {},
     "output_type": "execute_result"
    }
   ],
   "source": [
    "print(gl.crop)\n",
    "print(gl.rotation)\n",
    "print(gl.zones)\n",
    "gl.data.head()"
   ]
  },
  {
   "cell_type": "markdown",
   "metadata": {},
   "source": [
    "If one wants to show the zones on actual images, one must either specify `paths` in the `glevels` instanciation above, or reload the file info using `load_info()` (see above). Note that the image files must still be present in the same location, or `load_info` must be called with a specific filename containing updated file location):"
   ]
  },
  {
   "cell_type": "code",
   "execution_count": 19,
   "metadata": {},
   "outputs": [],
   "source": [
    "gl.load_info()  # use default filename, or:\n",
    "gl.load_info('for-tests-do-not-modify/Img_Files_Saved.tsv')"
   ]
  },
  {
   "cell_type": "code",
   "execution_count": 20,
   "metadata": {},
   "outputs": [
    {
     "data": {
      "text/plain": [
       "<AxesSubplot:title={'center':'Analysis Zones (img #10)'}>"
      ]
     },
     "execution_count": 20,
     "metadata": {},
     "output_type": "execute_result"
    },
    {
     "data": {
      "image/png": "[encoded data removed]",
      "text/plain": [
       "<Figure size 432x288 with 1 Axes>"
      ]
     },
     "metadata": {
      "needs_background": "light"
     },
     "output_type": "display_data"
    }
   ],
   "source": [
    "gl.zones.show(10)  # show zones on 10-th image"
   ]
  },
  {
   "cell_type": "markdown",
   "metadata": {},
   "source": [
    "# Load / save with custom filenames"
   ]
  },
  {
   "cell_type": "markdown",
   "metadata": {},
   "source": [
    "Loading and saving data can accept custom filenames as arguments, without extensions (they are added automatically, with `.tsv` for analysis data, and `.json` for metadata, e.g. (lines below should follow a `gl.run()` so that `gl.data` is defined):"
   ]
  },
  {
   "cell_type": "code",
   "execution_count": 21,
   "metadata": {},
   "outputs": [
    {
     "name": "stdout",
     "output_type": "stream",
     "text": [
      "\n",
      "Warning: These modules have dirty git repositories: imgseries\n",
      "\n",
      "\n",
      "Warning: these modules are missing a tag: imgseries\n",
      "\n",
      "\n",
      "Warning: these modules are not in a git repository: skimage, matplotlib, numpy\n",
      "\n"
     ]
    }
   ],
   "source": [
    "gl.save('Img_GreyLevel_SavingTest')  # generates both .json and .tsv files"
   ]
  },
  {
   "cell_type": "code",
   "execution_count": 22,
   "metadata": {},
   "outputs": [
    {
     "data": {
      "text/html": [
       "<div>\n",
       "<style scoped>\n",
       "    .dataframe tbody tr th:only-of-type {\n",
       "        vertical-align: middle;\n",
       "    }\n",
       "\n",
       "    .dataframe tbody tr th {\n",
       "        vertical-align: top;\n",
       "    }\n",
       "\n",
       "    .dataframe thead th {\n",
       "        text-align: right;\n",
       "    }\n",
       "</style>\n",
       "<table border=\"1\" class=\"dataframe\">\n",
       "  <thead>\n",
       "    <tr style=\"text-align: right;\">\n",
       "      <th></th>\n",
       "      <th>folder</th>\n",
       "      <th>filename</th>\n",
       "      <th>time (unix)</th>\n",
       "      <th>zone 1</th>\n",
       "      <th>zone 2</th>\n",
       "      <th>zone 3</th>\n",
       "    </tr>\n",
       "    <tr>\n",
       "      <th>num</th>\n",
       "      <th></th>\n",
       "      <th></th>\n",
       "      <th></th>\n",
       "      <th></th>\n",
       "      <th></th>\n",
       "      <th></th>\n",
       "    </tr>\n",
       "  </thead>\n",
       "  <tbody>\n",
       "    <tr>\n",
       "      <th>0</th>\n",
       "      <td>img1</td>\n",
       "      <td>img-00610.png</td>\n",
       "      <td>1.599832e+09</td>\n",
       "      <td>69.792346</td>\n",
       "      <td>61.988281</td>\n",
       "      <td>87.333981</td>\n",
       "    </tr>\n",
       "    <tr>\n",
       "      <th>1</th>\n",
       "      <td>img1</td>\n",
       "      <td>img-00611.png</td>\n",
       "      <td>1.599832e+09</td>\n",
       "      <td>69.682485</td>\n",
       "      <td>61.919363</td>\n",
       "      <td>87.315412</td>\n",
       "    </tr>\n",
       "    <tr>\n",
       "      <th>2</th>\n",
       "      <td>img1</td>\n",
       "      <td>img-00612.png</td>\n",
       "      <td>1.599832e+09</td>\n",
       "      <td>69.711785</td>\n",
       "      <td>61.962286</td>\n",
       "      <td>87.377436</td>\n",
       "    </tr>\n",
       "    <tr>\n",
       "      <th>3</th>\n",
       "      <td>img1</td>\n",
       "      <td>img-00613.png</td>\n",
       "      <td>1.599832e+09</td>\n",
       "      <td>69.594640</td>\n",
       "      <td>61.871811</td>\n",
       "      <td>87.303698</td>\n",
       "    </tr>\n",
       "    <tr>\n",
       "      <th>4</th>\n",
       "      <td>img1</td>\n",
       "      <td>img-00614.png</td>\n",
       "      <td>1.599832e+09</td>\n",
       "      <td>69.602250</td>\n",
       "      <td>61.886858</td>\n",
       "      <td>87.263077</td>\n",
       "    </tr>\n",
       "  </tbody>\n",
       "</table>\n",
       "</div>"
      ],
      "text/plain": [
       "    folder       filename   time (unix)     zone 1     zone 2     zone 3\n",
       "num                                                                     \n",
       "0     img1  img-00610.png  1.599832e+09  69.792346  61.988281  87.333981\n",
       "1     img1  img-00611.png  1.599832e+09  69.682485  61.919363  87.315412\n",
       "2     img1  img-00612.png  1.599832e+09  69.711785  61.962286  87.377436\n",
       "3     img1  img-00613.png  1.599832e+09  69.594640  61.871811  87.303698\n",
       "4     img1  img-00614.png  1.599832e+09  69.602250  61.886858  87.263077"
      ]
     },
     "execution_count": 22,
     "metadata": {},
     "output_type": "execute_result"
    }
   ],
   "source": [
    "data = gl.load('Img_GreyLevel_SavingTest')  # loads from .tsv file\n",
    "data.head()"
   ]
  },
  {
   "cell_type": "markdown",
   "metadata": {},
   "source": [
    "# Access individual images"
   ]
  },
  {
   "cell_type": "markdown",
   "metadata": {},
   "source": [
    "`GreyLevel` inherits from `ImageSeries` so that its methods are available, e.g."
   ]
  },
  {
   "cell_type": "code",
   "execution_count": 29,
   "metadata": {},
   "outputs": [],
   "source": [
    "gl = GreyLevel(paths=folders, savepath=basefolder)"
   ]
  },
  {
   "cell_type": "code",
   "execution_count": 30,
   "metadata": {},
   "outputs": [
    {
     "data": {
      "text/plain": [
       "filo.File #33 [img-00643.png in folder 'data\\img2']"
      ]
     },
     "execution_count": 30,
     "metadata": {},
     "output_type": "execute_result"
    }
   ],
   "source": [
    "gl.files[33]"
   ]
  },
  {
   "cell_type": "code",
   "execution_count": 31,
   "metadata": {},
   "outputs": [
    {
     "data": {
      "text/plain": [
       "WindowsPath('data/img2/img-00643.png')"
      ]
     },
     "execution_count": 31,
     "metadata": {},
     "output_type": "execute_result"
    }
   ],
   "source": [
    "gl.files[33].file"
   ]
  },
  {
   "cell_type": "code",
   "execution_count": 32,
   "metadata": {},
   "outputs": [
    {
     "data": {
      "text/plain": [
       "array([[ 69,  68,  72, ...,  69,  65,  56],\n",
       "       [ 65,  54,  52, ...,  59,  59,  65],\n",
       "       [ 65,  59,  59, ...,  61,  66,  63],\n",
       "       ...,\n",
       "       [ 81,  90,  77, ...,  92,  90, 103],\n",
       "       [ 80,  91,  81, ...,  91,  90,  98],\n",
       "       [ 89,  83,  83, ...,  87,  94, 103]], dtype=uint8)"
      ]
     },
     "execution_count": 32,
     "metadata": {},
     "output_type": "execute_result"
    }
   ],
   "source": [
    "gl.read(33)  # read image num 33 as an array"
   ]
  },
  {
   "cell_type": "code",
   "execution_count": 33,
   "metadata": {},
   "outputs": [
    {
     "data": {
      "text/plain": [
       "<AxesSubplot:title={'center':'img-00643.png (#33)'}>"
      ]
     },
     "execution_count": 33,
     "metadata": {},
     "output_type": "execute_result"
    },
    {
     "data": {
      "image/png": "[encoded data removed]",
      "image/svg+xml": [
       "<?xml version=\"1.0\" encoding=\"utf-8\" standalone=\"no\"?>\r\n",
       "<!DOCTYPE svg PUBLIC \"-//W3C//DTD SVG 1.1//EN\"\r\n",
       "  \"http://www.w3.org/Graphics/SVG/1.1/DTD/svg11.dtd\">\r\n",
       "<!-- Created with matplotlib (https://matplotlib.org/) -->\r\n",
       "<svg height=\"246.958125pt\" version=\"1.1\" viewBox=\"0 0 254.770036 246.958125\" width=\"254.770036pt\" xmlns=\"http://www.w3.org/2000/svg\" xmlns:xlink=\"http://www.w3.org/1999/xlink\">\r\n",
       " <metadata>\r\n",
       "  <rdf:RDF xmlns:cc=\"http://creativecommons.org/ns#\" xmlns:dc=\"http://purl.org/dc/elements/1.1/\" xmlns:rdf=\"http://www.w3.org/1999/02/22-rdf-syntax-ns#\">\r\n",
       "   <cc:Work>\r\n",
       "    <dc:type rdf:resource=\"http://purl.org/dc/dcmitype/StillImage\"/>\r\n",
       "    <dc:date>2021-01-27T13:35:50.663461</dc:date>\r\n",
       "    <dc:format>image/svg+xml</dc:format>\r\n",
       "    <dc:creator>\r\n",
       "     <cc:Agent>\r\n",
       "      <dc:title>Matplotlib v3.3.2, https://matplotlib.org/</dc:title>\r\n",
       "     </cc:Agent>\r\n",
       "    </dc:creator>\r\n",
       "   </cc:Work>\r\n",
       "  </rdf:RDF>\r\n",
       " </metadata>\r\n",
       " <defs>\r\n",
       "  <style type=\"text/css\">*{stroke-linecap:butt;stroke-linejoin:round;}</style>\r\n",
       " </defs>\r\n",
       " <g id=\"figure_1\">\r\n",
       "  <g id=\"patch_1\">\r\n",
       "   <path d=\"M 0 246.958125 \r\n",
       "L 254.770036 246.958125 \r\n",
       "L 254.770036 0 \r\n",
       "L 0 0 \r\n",
       "z\r\n",
       "\" style=\"fill:none;\"/>\r\n",
       "  </g>\r\n",
       "  <g id=\"axes_1\">\r\n",
       "   <g clip-path=\"url(#p07b8f50d27)\">\r\n",
       "    <image height=\"218\" id=\"image0cc2482f4b\" transform=\"scale(1 -1)translate(0 -218)\" width=\"241\" x=\"7.2\" xlink:href=\"data:image/png;base64,\r\n",
       "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\" y=\"-21.758125\"/>\r\n",
       "   </g>\r\n",
       "   <g id=\"text_1\">\r\n",
       "    <!-- img-00643.png (#33) -->\r\n",
       "    <g transform=\"translate(62.233456 16.318125)scale(0.12 -0.12)\">\r\n",
       "     <defs>\r\n",
       "      <path d=\"M 9.421875 54.6875 \r\n",
       "L 18.40625 54.6875 \r\n",
       "L 18.40625 0 \r\n",
       "L 9.421875 0 \r\n",
       "z\r\n",
       "M 9.421875 75.984375 \r\n",
       "L 18.40625 75.984375 \r\n",
       "L 18.40625 64.59375 \r\n",
       "L 9.421875 64.59375 \r\n",
       "z\r\n",
       "\" id=\"DejaVuSans-105\"/>\r\n",
       "      <path d=\"M 52 44.1875 \r\n",
       "Q 55.375 50.25 60.0625 53.125 \r\n",
       "Q 64.75 56 71.09375 56 \r\n",
       "Q 79.640625 56 84.28125 50.015625 \r\n",
       "Q 88.921875 44.046875 88.921875 33.015625 \r\n",
       "L 88.921875 0 \r\n",
       "L 79.890625 0 \r\n",
       "L 79.890625 32.71875 \r\n",
       "Q 79.890625 40.578125 77.09375 44.375 \r\n",
       "Q 74.3125 48.1875 68.609375 48.1875 \r\n",
       "Q 61.625 48.1875 57.5625 43.546875 \r\n",
       "Q 53.515625 38.921875 53.515625 30.90625 \r\n",
       "L 53.515625 0 \r\n",
       "L 44.484375 0 \r\n",
       "L 44.484375 32.71875 \r\n",
       "Q 44.484375 40.625 41.703125 44.40625 \r\n",
       "Q 38.921875 48.1875 33.109375 48.1875 \r\n",
       "Q 26.21875 48.1875 22.15625 43.53125 \r\n",
       "Q 18.109375 38.875 18.109375 30.90625 \r\n",
       "L 18.109375 0 \r\n",
       "L 9.078125 0 \r\n",
       "L 9.078125 54.6875 \r\n",
       "L 18.109375 54.6875 \r\n",
       "L 18.109375 46.1875 \r\n",
       "Q 21.1875 51.21875 25.484375 53.609375 \r\n",
       "Q 29.78125 56 35.6875 56 \r\n",
       "Q 41.65625 56 45.828125 52.96875 \r\n",
       "Q 50 49.953125 52 44.1875 \r\n",
       "z\r\n",
       "\" id=\"DejaVuSans-109\"/>\r\n",
       "      <path d=\"M 45.40625 27.984375 \r\n",
       "Q 45.40625 37.75 41.375 43.109375 \r\n",
       "Q 37.359375 48.484375 30.078125 48.484375 \r\n",
       "Q 22.859375 48.484375 18.828125 43.109375 \r\n",
       "Q 14.796875 37.75 14.796875 27.984375 \r\n",
       "Q 14.796875 18.265625 18.828125 12.890625 \r\n",
       "Q 22.859375 7.515625 30.078125 7.515625 \r\n",
       "Q 37.359375 7.515625 41.375 12.890625 \r\n",
       "Q 45.40625 18.265625 45.40625 27.984375 \r\n",
       "z\r\n",
       "M 54.390625 6.78125 \r\n",
       "Q 54.390625 -7.171875 48.1875 -13.984375 \r\n",
       "Q 42 -20.796875 29.203125 -20.796875 \r\n",
       "Q 24.46875 -20.796875 20.265625 -20.09375 \r\n",
       "Q 16.0625 -19.390625 12.109375 -17.921875 \r\n",
       "L 12.109375 -9.1875 \r\n",
       "Q 16.0625 -11.328125 19.921875 -12.34375 \r\n",
       "Q 23.78125 -13.375 27.78125 -13.375 \r\n",
       "Q 36.625 -13.375 41.015625 -8.765625 \r\n",
       "Q 45.40625 -4.15625 45.40625 5.171875 \r\n",
       "L 45.40625 9.625 \r\n",
       "Q 42.625 4.78125 38.28125 2.390625 \r\n",
       "Q 33.9375 0 27.875 0 \r\n",
       "Q 17.828125 0 11.671875 7.65625 \r\n",
       "Q 5.515625 15.328125 5.515625 27.984375 \r\n",
       "Q 5.515625 40.671875 11.671875 48.328125 \r\n",
       "Q 17.828125 56 27.875 56 \r\n",
       "Q 33.9375 56 38.28125 53.609375 \r\n",
       "Q 42.625 51.21875 45.40625 46.390625 \r\n",
       "L 45.40625 54.6875 \r\n",
       "L 54.390625 54.6875 \r\n",
       "z\r\n",
       "\" id=\"DejaVuSans-103\"/>\r\n",
       "      <path d=\"M 4.890625 31.390625 \r\n",
       "L 31.203125 31.390625 \r\n",
       "L 31.203125 23.390625 \r\n",
       "L 4.890625 23.390625 \r\n",
       "z\r\n",
       "\" id=\"DejaVuSans-45\"/>\r\n",
       "      <path d=\"M 31.78125 66.40625 \r\n",
       "Q 24.171875 66.40625 20.328125 58.90625 \r\n",
       "Q 16.5 51.421875 16.5 36.375 \r\n",
       "Q 16.5 21.390625 20.328125 13.890625 \r\n",
       "Q 24.171875 6.390625 31.78125 6.390625 \r\n",
       "Q 39.453125 6.390625 43.28125 13.890625 \r\n",
       "Q 47.125 21.390625 47.125 36.375 \r\n",
       "Q 47.125 51.421875 43.28125 58.90625 \r\n",
       "Q 39.453125 66.40625 31.78125 66.40625 \r\n",
       "z\r\n",
       "M 31.78125 74.21875 \r\n",
       "Q 44.046875 74.21875 50.515625 64.515625 \r\n",
       "Q 56.984375 54.828125 56.984375 36.375 \r\n",
       "Q 56.984375 17.96875 50.515625 8.265625 \r\n",
       "Q 44.046875 -1.421875 31.78125 -1.421875 \r\n",
       "Q 19.53125 -1.421875 13.0625 8.265625 \r\n",
       "Q 6.59375 17.96875 6.59375 36.375 \r\n",
       "Q 6.59375 54.828125 13.0625 64.515625 \r\n",
       "Q 19.53125 74.21875 31.78125 74.21875 \r\n",
       "z\r\n",
       "\" id=\"DejaVuSans-48\"/>\r\n",
       "      <path d=\"M 33.015625 40.375 \r\n",
       "Q 26.375 40.375 22.484375 35.828125 \r\n",
       "Q 18.609375 31.296875 18.609375 23.390625 \r\n",
       "Q 18.609375 15.53125 22.484375 10.953125 \r\n",
       "Q 26.375 6.390625 33.015625 6.390625 \r\n",
       "Q 39.65625 6.390625 43.53125 10.953125 \r\n",
       "Q 47.40625 15.53125 47.40625 23.390625 \r\n",
       "Q 47.40625 31.296875 43.53125 35.828125 \r\n",
       "Q 39.65625 40.375 33.015625 40.375 \r\n",
       "z\r\n",
       "M 52.59375 71.296875 \r\n",
       "L 52.59375 62.3125 \r\n",
       "Q 48.875 64.0625 45.09375 64.984375 \r\n",
       "Q 41.3125 65.921875 37.59375 65.921875 \r\n",
       "Q 27.828125 65.921875 22.671875 59.328125 \r\n",
       "Q 17.53125 52.734375 16.796875 39.40625 \r\n",
       "Q 19.671875 43.65625 24.015625 45.921875 \r\n",
       "Q 28.375 48.1875 33.59375 48.1875 \r\n",
       "Q 44.578125 48.1875 50.953125 41.515625 \r\n",
       "Q 57.328125 34.859375 57.328125 23.390625 \r\n",
       "Q 57.328125 12.15625 50.6875 5.359375 \r\n",
       "Q 44.046875 -1.421875 33.015625 -1.421875 \r\n",
       "Q 20.359375 -1.421875 13.671875 8.265625 \r\n",
       "Q 6.984375 17.96875 6.984375 36.375 \r\n",
       "Q 6.984375 53.65625 15.1875 63.9375 \r\n",
       "Q 23.390625 74.21875 37.203125 74.21875 \r\n",
       "Q 40.921875 74.21875 44.703125 73.484375 \r\n",
       "Q 48.484375 72.75 52.59375 71.296875 \r\n",
       "z\r\n",
       "\" id=\"DejaVuSans-54\"/>\r\n",
       "      <path d=\"M 37.796875 64.3125 \r\n",
       "L 12.890625 25.390625 \r\n",
       "L 37.796875 25.390625 \r\n",
       "z\r\n",
       "M 35.203125 72.90625 \r\n",
       "L 47.609375 72.90625 \r\n",
       "L 47.609375 25.390625 \r\n",
       "L 58.015625 25.390625 \r\n",
       "L 58.015625 17.1875 \r\n",
       "L 47.609375 17.1875 \r\n",
       "L 47.609375 0 \r\n",
       "L 37.796875 0 \r\n",
       "L 37.796875 17.1875 \r\n",
       "L 4.890625 17.1875 \r\n",
       "L 4.890625 26.703125 \r\n",
       "z\r\n",
       "\" id=\"DejaVuSans-52\"/>\r\n",
       "      <path d=\"M 40.578125 39.3125 \r\n",
       "Q 47.65625 37.796875 51.625 33 \r\n",
       "Q 55.609375 28.21875 55.609375 21.1875 \r\n",
       "Q 55.609375 10.40625 48.1875 4.484375 \r\n",
       "Q 40.765625 -1.421875 27.09375 -1.421875 \r\n",
       "Q 22.515625 -1.421875 17.65625 -0.515625 \r\n",
       "Q 12.796875 0.390625 7.625 2.203125 \r\n",
       "L 7.625 11.71875 \r\n",
       "Q 11.71875 9.328125 16.59375 8.109375 \r\n",
       "Q 21.484375 6.890625 26.8125 6.890625 \r\n",
       "Q 36.078125 6.890625 40.9375 10.546875 \r\n",
       "Q 45.796875 14.203125 45.796875 21.1875 \r\n",
       "Q 45.796875 27.640625 41.28125 31.265625 \r\n",
       "Q 36.765625 34.90625 28.71875 34.90625 \r\n",
       "L 20.21875 34.90625 \r\n",
       "L 20.21875 43.015625 \r\n",
       "L 29.109375 43.015625 \r\n",
       "Q 36.375 43.015625 40.234375 45.921875 \r\n",
       "Q 44.09375 48.828125 44.09375 54.296875 \r\n",
       "Q 44.09375 59.90625 40.109375 62.90625 \r\n",
       "Q 36.140625 65.921875 28.71875 65.921875 \r\n",
       "Q 24.65625 65.921875 20.015625 65.03125 \r\n",
       "Q 15.375 64.15625 9.8125 62.3125 \r\n",
       "L 9.8125 71.09375 \r\n",
       "Q 15.4375 72.65625 20.34375 73.4375 \r\n",
       "Q 25.25 74.21875 29.59375 74.21875 \r\n",
       "Q 40.828125 74.21875 47.359375 69.109375 \r\n",
       "Q 53.90625 64.015625 53.90625 55.328125 \r\n",
       "Q 53.90625 49.265625 50.4375 45.09375 \r\n",
       "Q 46.96875 40.921875 40.578125 39.3125 \r\n",
       "z\r\n",
       "\" id=\"DejaVuSans-51\"/>\r\n",
       "      <path d=\"M 10.6875 12.40625 \r\n",
       "L 21 12.40625 \r\n",
       "L 21 0 \r\n",
       "L 10.6875 0 \r\n",
       "z\r\n",
       "\" id=\"DejaVuSans-46\"/>\r\n",
       "      <path d=\"M 18.109375 8.203125 \r\n",
       "L 18.109375 -20.796875 \r\n",
       "L 9.078125 -20.796875 \r\n",
       "L 9.078125 54.6875 \r\n",
       "L 18.109375 54.6875 \r\n",
       "L 18.109375 46.390625 \r\n",
       "Q 20.953125 51.265625 25.265625 53.625 \r\n",
       "Q 29.59375 56 35.59375 56 \r\n",
       "Q 45.5625 56 51.78125 48.09375 \r\n",
       "Q 58.015625 40.1875 58.015625 27.296875 \r\n",
       "Q 58.015625 14.40625 51.78125 6.484375 \r\n",
       "Q 45.5625 -1.421875 35.59375 -1.421875 \r\n",
       "Q 29.59375 -1.421875 25.265625 0.953125 \r\n",
       "Q 20.953125 3.328125 18.109375 8.203125 \r\n",
       "z\r\n",
       "M 48.6875 27.296875 \r\n",
       "Q 48.6875 37.203125 44.609375 42.84375 \r\n",
       "Q 40.53125 48.484375 33.40625 48.484375 \r\n",
       "Q 26.265625 48.484375 22.1875 42.84375 \r\n",
       "Q 18.109375 37.203125 18.109375 27.296875 \r\n",
       "Q 18.109375 17.390625 22.1875 11.75 \r\n",
       "Q 26.265625 6.109375 33.40625 6.109375 \r\n",
       "Q 40.53125 6.109375 44.609375 11.75 \r\n",
       "Q 48.6875 17.390625 48.6875 27.296875 \r\n",
       "z\r\n",
       "\" id=\"DejaVuSans-112\"/>\r\n",
       "      <path d=\"M 54.890625 33.015625 \r\n",
       "L 54.890625 0 \r\n",
       "L 45.90625 0 \r\n",
       "L 45.90625 32.71875 \r\n",
       "Q 45.90625 40.484375 42.875 44.328125 \r\n",
       "Q 39.84375 48.1875 33.796875 48.1875 \r\n",
       "Q 26.515625 48.1875 22.3125 43.546875 \r\n",
       "Q 18.109375 38.921875 18.109375 30.90625 \r\n",
       "L 18.109375 0 \r\n",
       "L 9.078125 0 \r\n",
       "L 9.078125 54.6875 \r\n",
       "L 18.109375 54.6875 \r\n",
       "L 18.109375 46.1875 \r\n",
       "Q 21.34375 51.125 25.703125 53.5625 \r\n",
       "Q 30.078125 56 35.796875 56 \r\n",
       "Q 45.21875 56 50.046875 50.171875 \r\n",
       "Q 54.890625 44.34375 54.890625 33.015625 \r\n",
       "z\r\n",
       "\" id=\"DejaVuSans-110\"/>\r\n",
       "      <path id=\"DejaVuSans-32\"/>\r\n",
       "      <path d=\"M 31 75.875 \r\n",
       "Q 24.46875 64.65625 21.28125 53.65625 \r\n",
       "Q 18.109375 42.671875 18.109375 31.390625 \r\n",
       "Q 18.109375 20.125 21.3125 9.0625 \r\n",
       "Q 24.515625 -2 31 -13.1875 \r\n",
       "L 23.1875 -13.1875 \r\n",
       "Q 15.875 -1.703125 12.234375 9.375 \r\n",
       "Q 8.59375 20.453125 8.59375 31.390625 \r\n",
       "Q 8.59375 42.28125 12.203125 53.3125 \r\n",
       "Q 15.828125 64.359375 23.1875 75.875 \r\n",
       "z\r\n",
       "\" id=\"DejaVuSans-40\"/>\r\n",
       "      <path d=\"M 51.125 44 \r\n",
       "L 36.921875 44 \r\n",
       "L 32.8125 27.6875 \r\n",
       "L 47.125 27.6875 \r\n",
       "z\r\n",
       "M 43.796875 71.78125 \r\n",
       "L 38.71875 51.515625 \r\n",
       "L 52.984375 51.515625 \r\n",
       "L 58.109375 71.78125 \r\n",
       "L 65.921875 71.78125 \r\n",
       "L 60.890625 51.515625 \r\n",
       "L 76.125 51.515625 \r\n",
       "L 76.125 44 \r\n",
       "L 58.984375 44 \r\n",
       "L 54.984375 27.6875 \r\n",
       "L 70.515625 27.6875 \r\n",
       "L 70.515625 20.21875 \r\n",
       "L 53.078125 20.21875 \r\n",
       "L 48 0 \r\n",
       "L 40.1875 0 \r\n",
       "L 45.21875 20.21875 \r\n",
       "L 30.90625 20.21875 \r\n",
       "L 25.875 0 \r\n",
       "L 18.015625 0 \r\n",
       "L 23.09375 20.21875 \r\n",
       "L 7.71875 20.21875 \r\n",
       "L 7.71875 27.6875 \r\n",
       "L 24.90625 27.6875 \r\n",
       "L 29 44 \r\n",
       "L 13.28125 44 \r\n",
       "L 13.28125 51.515625 \r\n",
       "L 30.90625 51.515625 \r\n",
       "L 35.890625 71.78125 \r\n",
       "z\r\n",
       "\" id=\"DejaVuSans-35\"/>\r\n",
       "      <path d=\"M 8.015625 75.875 \r\n",
       "L 15.828125 75.875 \r\n",
       "Q 23.140625 64.359375 26.78125 53.3125 \r\n",
       "Q 30.421875 42.28125 30.421875 31.390625 \r\n",
       "Q 30.421875 20.453125 26.78125 9.375 \r\n",
       "Q 23.140625 -1.703125 15.828125 -13.1875 \r\n",
       "L 8.015625 -13.1875 \r\n",
       "Q 14.5 -2 17.703125 9.0625 \r\n",
       "Q 20.90625 20.125 20.90625 31.390625 \r\n",
       "Q 20.90625 42.671875 17.703125 53.65625 \r\n",
       "Q 14.5 64.65625 8.015625 75.875 \r\n",
       "z\r\n",
       "\" id=\"DejaVuSans-41\"/>\r\n",
       "     </defs>\r\n",
       "     <use xlink:href=\"#DejaVuSans-105\"/>\r\n",
       "     <use x=\"27.783203\" xlink:href=\"#DejaVuSans-109\"/>\r\n",
       "     <use x=\"125.195312\" xlink:href=\"#DejaVuSans-103\"/>\r\n",
       "     <use x=\"188.671875\" xlink:href=\"#DejaVuSans-45\"/>\r\n",
       "     <use x=\"224.755859\" xlink:href=\"#DejaVuSans-48\"/>\r\n",
       "     <use x=\"288.378906\" xlink:href=\"#DejaVuSans-48\"/>\r\n",
       "     <use x=\"352.001953\" xlink:href=\"#DejaVuSans-54\"/>\r\n",
       "     <use x=\"415.625\" xlink:href=\"#DejaVuSans-52\"/>\r\n",
       "     <use x=\"479.248047\" xlink:href=\"#DejaVuSans-51\"/>\r\n",
       "     <use x=\"542.871094\" xlink:href=\"#DejaVuSans-46\"/>\r\n",
       "     <use x=\"574.658203\" xlink:href=\"#DejaVuSans-112\"/>\r\n",
       "     <use x=\"638.134766\" xlink:href=\"#DejaVuSans-110\"/>\r\n",
       "     <use x=\"701.513672\" xlink:href=\"#DejaVuSans-103\"/>\r\n",
       "     <use x=\"764.990234\" xlink:href=\"#DejaVuSans-32\"/>\r\n",
       "     <use x=\"796.777344\" xlink:href=\"#DejaVuSans-40\"/>\r\n",
       "     <use x=\"835.791016\" xlink:href=\"#DejaVuSans-35\"/>\r\n",
       "     <use x=\"919.580078\" xlink:href=\"#DejaVuSans-51\"/>\r\n",
       "     <use x=\"983.203125\" xlink:href=\"#DejaVuSans-51\"/>\r\n",
       "     <use x=\"1046.826172\" xlink:href=\"#DejaVuSans-41\"/>\r\n",
       "    </g>\r\n",
       "   </g>\r\n",
       "  </g>\r\n",
       " </g>\r\n",
       " <defs>\r\n",
       "  <clipPath id=\"p07b8f50d27\">\r\n",
       "   <rect height=\"217.44\" width=\"240.370036\" x=\"7.2\" y=\"22.318125\"/>\r\n",
       "  </clipPath>\r\n",
       " </defs>\r\n",
       "</svg>\r\n"
      ],
      "text/plain": [
       "<Figure size 432x288 with 1 Axes>"
      ]
     },
     "metadata": {
      "needs_background": "light"
     },
     "output_type": "display_data"
    }
   ],
   "source": [
    "gl.show(33)"
   ]
  },
  {
   "cell_type": "code",
   "execution_count": null,
   "metadata": {},
   "outputs": [],
   "source": []
  }
 ],
 "metadata": {
  "kernelspec": {
   "display_name": "Python 3",
   "language": "python",
   "name": "python3"
  },
  "language_info": {
   "codemirror_mode": {
    "name": "ipython",
    "version": 3
   },
   "file_extension": ".py",
   "mimetype": "text/x-python",
   "name": "python",
   "nbconvert_exporter": "python",
   "pygments_lexer": "ipython3",
   "version": "3.8.5"
  }
 },
 "nbformat": 4,
 "nbformat_minor": 4
}

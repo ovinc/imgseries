{
 "cells": [
  {
   "cell_type": "code",
   "execution_count": 1,
   "metadata": {},
   "outputs": [],
   "source": [
    "from imgseries import ImgSeries, ImgStack\n",
    "from pathlib import Path\n",
    "%matplotlib qt5"
   ]
  },
  {
   "cell_type": "markdown",
   "metadata": {},
   "source": [
    "**NOTE**: Matplotlib must be using an interactive backend for most of the commands below to work (e.g. `tk` or `qt5` are ok, but not `inline`).\n"
   ]
  },
  {
   "cell_type": "markdown",
   "metadata": {},
   "source": [
    "# Define ImgSeries object"
   ]
  },
  {
   "cell_type": "code",
   "execution_count": 2,
   "metadata": {},
   "outputs": [
    {
     "data": {
      "text/plain": [
       "Image Series [extension '.png', folders ['../data/img1', '../data/img2'], savepath '../data/untracked_data', 50 files]"
      ]
     },
     "execution_count": 2,
     "metadata": {},
     "output_type": "execute_result"
    }
   ],
   "source": [
    "basefolder = Path('../data')\n",
    "folders = [basefolder / folder for folder in ('img1', 'img2')]\n",
    "images = ImgSeries(folders, savepath=basefolder / 'untracked_data')\n",
    "images"
   ]
  },
  {
   "cell_type": "markdown",
   "metadata": {},
   "source": [
    "**NOTE**: see further below for the case where the images are within a TIFF stack"
   ]
  },
  {
   "cell_type": "markdown",
   "metadata": {},
   "source": [
    "# Interactive view of image series"
   ]
  },
  {
   "cell_type": "code",
   "execution_count": 3,
   "metadata": {},
   "outputs": [
    {
     "data": {
      "text/plain": [
       "(<Axes: title={'center': 'img-00643.png (#33)'}>,)"
      ]
     },
     "execution_count": 3,
     "metadata": {},
     "output_type": "execute_result"
    }
   ],
   "source": [
    "images.show(num=33)  # show specific image in the series (auto grayscale)"
   ]
  },
  {
   "cell_type": "code",
   "execution_count": 4,
   "metadata": {},
   "outputs": [
    {
     "data": {
      "text/plain": [
       "<filo.viewers.KeyPressSlider at 0x29785b100>"
      ]
     },
     "execution_count": 4,
     "metadata": {},
     "output_type": "execute_result"
    }
   ],
   "source": [
    "images.inspect(skip=2)     # navigate through series interactively"
   ]
  },
  {
   "cell_type": "code",
   "execution_count": 5,
   "metadata": {},
   "outputs": [
    {
     "data": {
      "text/plain": [
       "<matplotlib.animation.FuncAnimation at 0x298145a80>"
      ]
     },
     "execution_count": 5,
     "metadata": {},
     "output_type": "execute_result"
    }
   ],
   "source": [
    "images.animate(start=10, end=41)  # Play sequence as a movie"
   ]
  },
  {
   "cell_type": "markdown",
   "metadata": {},
   "source": [
    "The same methods are available for viewing intensity (grey level) **profiles**, either statically or dynamically: "
   ]
  },
  {
   "cell_type": "code",
   "execution_count": 6,
   "metadata": {},
   "outputs": [],
   "source": [
    "profile = images.profile()  # there are options for number of pts and integration radius etc."
   ]
  },
  {
   "cell_type": "code",
   "execution_count": 7,
   "metadata": {},
   "outputs": [
    {
     "data": {
      "text/plain": [
       "array([<Axes: >, <Axes: >], dtype=object)"
      ]
     },
     "execution_count": 7,
     "metadata": {},
     "output_type": "execute_result"
    }
   ],
   "source": [
    "profile.show(num=33)  # interactive profile on single image"
   ]
  },
  {
   "cell_type": "code",
   "execution_count": 8,
   "metadata": {},
   "outputs": [
    {
     "data": {
      "text/plain": [
       "<filo.viewers.KeyPressSlider at 0x2b10e3ac0>"
      ]
     },
     "execution_count": 8,
     "metadata": {},
     "output_type": "execute_result"
    }
   ],
   "source": [
    "profile.inspect(skip=3)  # inspect on series of images with slider"
   ]
  },
  {
   "cell_type": "code",
   "execution_count": 9,
   "metadata": {},
   "outputs": [
    {
     "data": {
      "text/plain": [
       "<matplotlib.animation.FuncAnimation at 0x2b63fa170>"
      ]
     },
     "execution_count": 9,
     "metadata": {},
     "output_type": "execute_result"
    }
   ],
   "source": [
    "profile.animate()   # As a movie"
   ]
  },
  {
   "cell_type": "markdown",
   "metadata": {},
   "source": [
    "# Define `Display Parameters`: contrast / colormap"
   ]
  },
  {
   "cell_type": "markdown",
   "metadata": {},
   "source": [
    "These parameters are only applied when showing the images (in matplotlib `imshow()`), but DO NOT impact analysis. In particular, changing the contrast does not changes the pixel value in the images. This is important e.g. for further analysis based on grayscale values : the grayscales to consider are the initial pixel values."
   ]
  },
  {
   "cell_type": "markdown",
   "metadata": {},
   "source": [
    "**NOTE**: see Static version of this notebook to define contrast manually instead (text input)"
   ]
  },
  {
   "cell_type": "markdown",
   "metadata": {},
   "source": [
    "## Contrast"
   ]
  },
  {
   "cell_type": "code",
   "execution_count": 10,
   "metadata": {},
   "outputs": [
    {
     "data": {
      "text/plain": [
       "{'slider min': <matplotlib.widgets.Slider at 0x295ed3340>,\n",
       " 'slider max': <matplotlib.widgets.Slider at 0x2ab6f2620>,\n",
       " 'button reset': <matplotlib.widgets.Button at 0x2980d3310>,\n",
       " 'button full': <matplotlib.widgets.Button at 0x295e4d450>,\n",
       " 'button auto': <matplotlib.widgets.Button at 0x295e72d70>,\n",
       " 'button ok': <matplotlib.widgets.Button at 0x2b10bf8b0>}"
      ]
     },
     "execution_count": 10,
     "metadata": {},
     "output_type": "execute_result"
    }
   ],
   "source": [
    "images.display.define('contrast')"
   ]
  },
  {
   "cell_type": "code",
   "execution_count": 11,
   "metadata": {},
   "outputs": [
    {
     "data": {
      "text/plain": [
       "(<Axes: title={'center': 'img-00610.png (#0)'}>,)"
      ]
     },
     "execution_count": 11,
     "metadata": {},
     "output_type": "execute_result"
    }
   ],
   "source": [
    "images.show()"
   ]
  },
  {
   "cell_type": "markdown",
   "metadata": {},
   "source": [
    "## Colormap"
   ]
  },
  {
   "cell_type": "code",
   "execution_count": 12,
   "metadata": {},
   "outputs": [],
   "source": [
    "images.display.define('colormap');"
   ]
  },
  {
   "cell_type": "code",
   "execution_count": 13,
   "metadata": {},
   "outputs": [
    {
     "data": {
      "text/plain": [
       "(<Axes: title={'center': 'img-00610.png (#0)'}>,)"
      ]
     },
     "execution_count": 13,
     "metadata": {},
     "output_type": "execute_result"
    }
   ],
   "source": [
    "images.show()"
   ]
  },
  {
   "cell_type": "markdown",
   "metadata": {},
   "source": [
    "## Save / load display parameters"
   ]
  },
  {
   "cell_type": "code",
   "execution_count": 14,
   "metadata": {},
   "outputs": [],
   "source": [
    "images.save_display()"
   ]
  },
  {
   "cell_type": "code",
   "execution_count": 15,
   "metadata": {},
   "outputs": [],
   "source": [
    "images.display.reset()  # go back to auto colormap and contrast"
   ]
  },
  {
   "cell_type": "code",
   "execution_count": 16,
   "metadata": {},
   "outputs": [
    {
     "name": "stdout",
     "output_type": "stream",
     "text": [
      "26.0 161.0 plasma\n"
     ]
    }
   ],
   "source": [
    "images.load_display()\n",
    "images.show()\n",
    "print(images.display.vmin, images.display.vmax, images.display.cmap)"
   ]
  },
  {
   "cell_type": "markdown",
   "metadata": {},
   "source": [
    "# Define `Transform Parameters`: rotation / crop / filter"
   ]
  },
  {
   "cell_type": "markdown",
   "metadata": {},
   "source": [
    "These parameters are applied on all images upon reading with `read()` and are taken into account when running analysis methods. Rotation is applied BEFORE crop.\n",
    "\n",
    "**NOTE**: Rotation and crop can also be defined manually by specifying angles / crop boxes non interactively (numerically), see non interactive notebook."
   ]
  },
  {
   "cell_type": "markdown",
   "metadata": {},
   "source": [
    "## Rotation"
   ]
  },
  {
   "cell_type": "code",
   "execution_count": 17,
   "metadata": {},
   "outputs": [],
   "source": [
    "images.rotation.define()  # Define rotation angle by drawing a line that is supposed to be horizontal"
   ]
  },
  {
   "cell_type": "code",
   "execution_count": 18,
   "metadata": {},
   "outputs": [],
   "source": [
    "images.rotation.define(vertical=True, num=9)  # Same, but using a vertical line (and by using an image different from the first one)"
   ]
  },
  {
   "cell_type": "code",
   "execution_count": 19,
   "metadata": {},
   "outputs": [
    {
     "data": {
      "text/plain": [
       "47.86734068819902"
      ]
     },
     "execution_count": 19,
     "metadata": {},
     "output_type": "execute_result"
    }
   ],
   "source": [
    "images.rotation.show()  # Show rotated image with the info of the angle value\n",
    "images.rotation.angle  # Get value of rotation angle in degrees (if None, then the angle has not been defined)"
   ]
  },
  {
   "cell_type": "markdown",
   "metadata": {},
   "source": [
    "## Crop"
   ]
  },
  {
   "cell_type": "code",
   "execution_count": 20,
   "metadata": {},
   "outputs": [],
   "source": [
    "images.crop.define()  # Define crop zone by clicking on two corners of a rectangle with cursors:"
   ]
  },
  {
   "cell_type": "code",
   "execution_count": 26,
   "metadata": {},
   "outputs": [
    {
     "name": "stderr",
     "output_type": "stream",
     "text": [
      "/Users/olivier.vincent/Python-OV/imgseries/imgseries/parameters/transform.py:419: RuntimeWarning: divide by zero encountered in divide\n",
      "  return img / self.reference_image - 1\n"
     ]
    }
   ],
   "source": [
    "images.crop.define(draggable=True, num=10)  # Define crop zone with a draggable rectangle (and on an image different from the first one)"
   ]
  },
  {
   "cell_type": "markdown",
   "metadata": {},
   "source": [
    "Show where crop zone is on full (rotated if applicable) image:"
   ]
  },
  {
   "cell_type": "code",
   "execution_count": 22,
   "metadata": {},
   "outputs": [
    {
     "data": {
      "text/plain": [
       "(204, 195, 409, 411)"
      ]
     },
     "execution_count": 22,
     "metadata": {},
     "output_type": "execute_result"
    }
   ],
   "source": [
    "images.crop.show()\n",
    "images.crop.zone"
   ]
  },
  {
   "cell_type": "markdown",
   "metadata": {},
   "source": [
    "## Filter"
   ]
  },
  {
   "cell_type": "code",
   "execution_count": 22,
   "metadata": {},
   "outputs": [
    {
     "data": {
      "text/plain": [
       "<matplotlib.widgets.Slider at 0x2bb942860>"
      ]
     },
     "execution_count": 22,
     "metadata": {},
     "output_type": "execute_result"
    }
   ],
   "source": [
    "images.filter.define()"
   ]
  },
  {
   "cell_type": "code",
   "execution_count": 23,
   "metadata": {},
   "outputs": [
    {
     "data": {
      "text/plain": [
       "{'type': 'gaussian', 'size': 2.7}"
      ]
     },
     "execution_count": 23,
     "metadata": {},
     "output_type": "execute_result"
    }
   ],
   "source": [
    "images.filter.data"
   ]
  },
  {
   "cell_type": "markdown",
   "metadata": {},
   "source": [
    "## Subtraction"
   ]
  },
  {
   "cell_type": "code",
   "execution_count": 24,
   "metadata": {},
   "outputs": [
    {
     "name": "stderr",
     "output_type": "stream",
     "text": [
      "/Users/olivier.vincent/Python-OV/imgseries/imgseries/parameters/transform.py:419: RuntimeWarning: invalid value encountered in divide\n",
      "  return img / self.reference_image - 1\n"
     ]
    },
    {
     "data": {
      "text/plain": [
       "(<Axes: title={'center': 'img-00635.png (#25)'}>,)"
      ]
     },
     "execution_count": 24,
     "metadata": {},
     "output_type": "execute_result"
    }
   ],
   "source": [
    "images.subtraction.reference = range(10)\n",
    "images.subtraction.relative = True\n",
    "images.display.vlims = -0.5, 0.5\n",
    "images.show(num=25)"
   ]
  },
  {
   "cell_type": "code",
   "execution_count": 27,
   "metadata": {},
   "outputs": [
    {
     "data": {
      "text/plain": [
       "<filo.viewers.KeyPressSlider at 0x2bb44a050>"
      ]
     },
     "execution_count": 27,
     "metadata": {},
     "output_type": "execute_result"
    }
   ],
   "source": [
    "images.inspect()"
   ]
  },
  {
   "cell_type": "markdown",
   "metadata": {},
   "source": [
    "## Threshold"
   ]
  },
  {
   "cell_type": "code",
   "execution_count": 28,
   "metadata": {},
   "outputs": [
    {
     "data": {
      "text/plain": [
       "{'slider min': <matplotlib.widgets.Slider at 0x2bce1e9e0>,\n",
       " 'slider max': <matplotlib.widgets.Slider at 0x2bbc4b970>,\n",
       " 'button reset': <matplotlib.widgets.Button at 0x2bbc78a90>,\n",
       " 'button full': <matplotlib.widgets.Button at 0x2bbb89a20>,\n",
       " 'button auto': <matplotlib.widgets.Button at 0x2bbbb6680>,\n",
       " 'button ok': <matplotlib.widgets.Button at 0x2bbbe6f80>}"
      ]
     },
     "execution_count": 28,
     "metadata": {},
     "output_type": "execute_result"
    }
   ],
   "source": [
    "images.threshold.define(num=30)"
   ]
  },
  {
   "cell_type": "code",
   "execution_count": 29,
   "metadata": {},
   "outputs": [
    {
     "data": {
      "text/plain": [
       "Threshold object {'vmin': -0.055621221837811596, 'vmax': 0.10586283155394449}"
      ]
     },
     "execution_count": 29,
     "metadata": {},
     "output_type": "execute_result"
    }
   ],
   "source": [
    "images.threshold"
   ]
  },
  {
   "cell_type": "code",
   "execution_count": 30,
   "metadata": {},
   "outputs": [
    {
     "data": {
      "text/plain": [
       "(<Axes: title={'center': 'img-00640.png (#30)'}>,)"
      ]
     },
     "execution_count": 30,
     "metadata": {},
     "output_type": "execute_result"
    }
   ],
   "source": [
    "images.show(num=30)"
   ]
  },
  {
   "cell_type": "code",
   "execution_count": 31,
   "metadata": {},
   "outputs": [
    {
     "data": {
      "text/plain": [
       "<filo.viewers.KeyPressSlider at 0x2bd561ed0>"
      ]
     },
     "execution_count": 31,
     "metadata": {},
     "output_type": "execute_result"
    }
   ],
   "source": [
    "images.inspect()"
   ]
  },
  {
   "cell_type": "markdown",
   "metadata": {},
   "source": [
    "## Save transforms"
   ]
  },
  {
   "cell_type": "code",
   "execution_count": 32,
   "metadata": {},
   "outputs": [],
   "source": [
    "images.save_transforms()  # there are options to specify a custom filename, see help"
   ]
  },
  {
   "cell_type": "markdown",
   "metadata": {},
   "source": [
    "## Reset transforms"
   ]
  },
  {
   "cell_type": "code",
   "execution_count": 3,
   "metadata": {},
   "outputs": [
    {
     "data": {
      "text/plain": [
       "<Axes: title={'center': 'No crop zone defined'}>"
      ]
     },
     "execution_count": 3,
     "metadata": {},
     "output_type": "execute_result"
    }
   ],
   "source": [
    "images.rotation.reset()  # similar to setting the angle manually to zero, but rotation.data also gets empty\n",
    "images.crop.reset()      # similar to setting the cropbox to the total image size, but crop.data also gets emtpy\n",
    "images.filter.reset()\n",
    "images.subtraction.reset()\n",
    "images.threshold.reset()\n",
    "images.display.reset()\n",
    "images.crop.show(num=33)"
   ]
  },
  {
   "cell_type": "markdown",
   "metadata": {},
   "source": [
    "## Load transforms"
   ]
  },
  {
   "cell_type": "code",
   "execution_count": 4,
   "metadata": {},
   "outputs": [
    {
     "name": "stdout",
     "output_type": "stream",
     "text": [
      "Crop object {'zone': [199, 468, 393, 127]}\n",
      "Subtraction object {'reference': [0, 1, 2, 3, 4, 5, 6, 7, 8, 9], 'relative': True}\n",
      "Threshold object {'vmin': -0.055621221837811596, 'vmax': 0.10586283155394449}\n"
     ]
    }
   ],
   "source": [
    "images.load_display()\n",
    "images.load_transforms()  # custom filename possible here too\n",
    "print(images.crop)\n",
    "print(images.subtraction)\n",
    "print(images.threshold)"
   ]
  },
  {
   "cell_type": "code",
   "execution_count": 5,
   "metadata": {},
   "outputs": [
    {
     "data": {
      "text/plain": [
       "(<Axes: title={'center': 'img-00640.png (#30)'}>,)"
      ]
     },
     "execution_count": 5,
     "metadata": {},
     "output_type": "execute_result"
    }
   ],
   "source": [
    "images.show(num=30)"
   ]
  },
  {
   "cell_type": "code",
   "execution_count": 6,
   "metadata": {},
   "outputs": [
    {
     "data": {
      "text/plain": [
       "<filo.viewers.KeyPressSlider at 0x28e58b2e0>"
      ]
     },
     "execution_count": 6,
     "metadata": {},
     "output_type": "execute_result"
    }
   ],
   "source": [
    "images.inspect(vmin=0, vmax=1)"
   ]
  },
  {
   "cell_type": "markdown",
   "metadata": {},
   "source": [
    "In order to load and/or show the image without transforms:"
   ]
  },
  {
   "cell_type": "code",
   "execution_count": 10,
   "metadata": {},
   "outputs": [
    {
     "data": {
      "text/plain": [
       "array([[ 67,  65,  75, ...,  72,  70,  61],\n",
       "       [ 64,  51,  52, ...,  63,  61,  74],\n",
       "       [ 66,  55,  59, ...,  56,  65,  65],\n",
       "       ...,\n",
       "       [ 77,  82,  72, ...,  94,  92, 107],\n",
       "       [ 77,  90,  81, ...,  96,  95, 102],\n",
       "       [ 92,  85,  85, ...,  88,  94, 104]], dtype=uint8)"
      ]
     },
     "execution_count": 10,
     "metadata": {},
     "output_type": "execute_result"
    }
   ],
   "source": [
    "images.read(num=11, transform=False)"
   ]
  },
  {
   "cell_type": "code",
   "execution_count": 12,
   "metadata": {},
   "outputs": [
    {
     "data": {
      "text/plain": [
       "(<Axes: title={'center': 'img-00621.png (#11) [RAW]'}>,)"
      ]
     },
     "execution_count": 12,
     "metadata": {},
     "output_type": "execute_result"
    }
   ],
   "source": [
    "images.show(num=11, transform=False, vmax=255)"
   ]
  },
  {
   "cell_type": "code",
   "execution_count": 11,
   "metadata": {},
   "outputs": [],
   "source": [
    "images.display.reset()"
   ]
  },
  {
   "cell_type": "markdown",
   "metadata": {},
   "source": [
    "# Working with tiff stacks"
   ]
  },
  {
   "cell_type": "code",
   "execution_count": 13,
   "metadata": {},
   "outputs": [
    {
     "data": {
      "text/plain": [
       "<filo.viewers.KeyPressSlider at 0x28fecd7b0>"
      ]
     },
     "execution_count": 13,
     "metadata": {},
     "output_type": "execute_result"
    }
   ],
   "source": [
    "images = ImgStack('../data/stack/ImgStack.tif', savepath='../data/stack')\n",
    "images.inspect()"
   ]
  },
  {
   "cell_type": "code",
   "execution_count": 14,
   "metadata": {},
   "outputs": [
    {
     "data": {
      "text/plain": [
       "<matplotlib.widgets.Slider at 0x2abb95210>"
      ]
     },
     "execution_count": 14,
     "metadata": {},
     "output_type": "execute_result"
    }
   ],
   "source": [
    "images.rotation.define()\n",
    "images.crop.define()\n",
    "images.filter.define()"
   ]
  },
  {
   "cell_type": "code",
   "execution_count": 15,
   "metadata": {},
   "outputs": [
    {
     "data": {
      "text/plain": [
       "(<Axes: title={'center': 'Image (#0)'}>,)"
      ]
     },
     "execution_count": 15,
     "metadata": {},
     "output_type": "execute_result"
    }
   ],
   "source": [
    "images.show()"
   ]
  },
  {
   "cell_type": "markdown",
   "metadata": {},
   "source": [
    "etc."
   ]
  },
  {
   "cell_type": "markdown",
   "metadata": {},
   "source": []
  }
 ],
 "metadata": {
  "kernelspec": {
   "display_name": "base",
   "language": "python",
   "name": "python3"
  },
  "language_info": {
   "codemirror_mode": {
    "name": "ipython",
    "version": 3
   },
   "file_extension": ".py",
   "mimetype": "text/x-python",
   "name": "python",
   "nbconvert_exporter": "python",
   "pygments_lexer": "ipython3",
   "version": "3.10.9"
  }
 },
 "nbformat": 4,
 "nbformat_minor": 4
}

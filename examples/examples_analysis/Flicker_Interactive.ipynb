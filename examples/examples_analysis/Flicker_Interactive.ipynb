{
 "cells": [
  {
   "cell_type": "code",
   "execution_count": 2,
   "id": "18c304f6-a39c-48d8-be52-c3d5d9b3c9a4",
   "metadata": {},
   "outputs": [],
   "source": [
    "from imgseries import Flicker, FlickerResults\n",
    "from imgseries import ImgSeries\n",
    "%matplotlib tk"
   ]
  },
  {
   "cell_type": "markdown",
   "id": "346175a7-81cb-4f22-ba87-8a7444406311",
   "metadata": {},
   "source": [
    "# 1) Measure flicker"
   ]
  },
  {
   "cell_type": "markdown",
   "id": "a869a4bc-59d7-4a8b-a4ac-541cb81d80a4",
   "metadata": {},
   "source": [
    "## Load image series"
   ]
  },
  {
   "cell_type": "code",
   "execution_count": 6,
   "id": "e9a5bf93-909f-4dda-9145-09a4e4304c92",
   "metadata": {},
   "outputs": [
    {
     "data": {
      "text/plain": [
       "ImgSeries, data length [25]\n",
       "-- corrections: []\n",
       "-- transforms: ['rotation', 'crop']\n",
       "from FileSeries in . / ['../data/front-flick'], 25 files]"
      ]
     },
     "execution_count": 6,
     "metadata": {},
     "output_type": "execute_result"
    }
   ],
   "source": [
    "images = ImgSeries('../data/front-flick/')\n",
    "\n",
    "# Apply crop and rotation to images in order to have front propagation purely along x\n",
    "# and also have only the zone of interest (crop) in the analysis\n",
    "# (can be made interactively, see examples in ImgSeries)\n",
    "images.load_transforms('../data/for-tests-do-not-modify/FlickFront_Transform')\n",
    "\n",
    "images"
   ]
  },
  {
   "cell_type": "markdown",
   "id": "4a49321c-6994-41ca-9bb1-4ad30e3c03fe",
   "metadata": {},
   "source": [
    "## Run analysis"
   ]
  },
  {
   "cell_type": "code",
   "execution_count": 4,
   "id": "04b0a204",
   "metadata": {},
   "outputs": [],
   "source": [
    "flick = Flicker(images, savepath='../data/untracked_data')"
   ]
  },
  {
   "cell_type": "markdown",
   "id": "a6fd959e-febc-4535-9d3a-27878633c0ed",
   "metadata": {},
   "source": [
    "**NOTE**: if definig more than one zones, an average between zones will be performed"
   ]
  },
  {
   "cell_type": "code",
   "execution_count": 8,
   "id": "2ce4bd0e-2c1c-4328-b833-5173a85cdb82",
   "metadata": {},
   "outputs": [],
   "source": [
    "flick.zones.define(n=1)"
   ]
  },
  {
   "cell_type": "code",
   "execution_count": 11,
   "id": "1914145a-7c3a-4a1c-8f43-82f8f50331e0",
   "metadata": {},
   "outputs": [
    {
     "data": {
      "text/plain": [
       "<filo.viewers.KeyPressSlider at 0x29ea72500>"
      ]
     },
     "execution_count": 11,
     "metadata": {},
     "output_type": "execute_result"
    }
   ],
   "source": [
    "flick.inspect(live=True, start=9)"
   ]
  },
  {
   "cell_type": "code",
   "execution_count": 12,
   "id": "ae9c1665-7fae-4697-b9a4-5b692824c975",
   "metadata": {},
   "outputs": [
    {
     "data": {
      "text/html": [
       "<div>\n",
       "<style scoped>\n",
       "    .dataframe tbody tr th:only-of-type {\n",
       "        vertical-align: middle;\n",
       "    }\n",
       "\n",
       "    .dataframe tbody tr th {\n",
       "        vertical-align: top;\n",
       "    }\n",
       "\n",
       "    .dataframe thead th {\n",
       "        text-align: right;\n",
       "    }\n",
       "</style>\n",
       "<table border=\"1\" class=\"dataframe\">\n",
       "  <thead>\n",
       "    <tr style=\"text-align: right;\">\n",
       "      <th></th>\n",
       "      <th>folder</th>\n",
       "      <th>filename</th>\n",
       "      <th>time (unix)</th>\n",
       "      <th>zone 1</th>\n",
       "      <th>ratio</th>\n",
       "    </tr>\n",
       "    <tr>\n",
       "      <th>num</th>\n",
       "      <th></th>\n",
       "      <th></th>\n",
       "      <th></th>\n",
       "      <th></th>\n",
       "      <th></th>\n",
       "    </tr>\n",
       "  </thead>\n",
       "  <tbody>\n",
       "    <tr>\n",
       "      <th>16</th>\n",
       "      <td>../data/front-flick</td>\n",
       "      <td>img-00016.png</td>\n",
       "      <td>1.708332e+09</td>\n",
       "      <td>0.969131</td>\n",
       "      <td>0.969131</td>\n",
       "    </tr>\n",
       "    <tr>\n",
       "      <th>17</th>\n",
       "      <td>../data/front-flick</td>\n",
       "      <td>img-00017.png</td>\n",
       "      <td>1.708332e+09</td>\n",
       "      <td>0.983919</td>\n",
       "      <td>0.983919</td>\n",
       "    </tr>\n",
       "    <tr>\n",
       "      <th>18</th>\n",
       "      <td>../data/front-flick</td>\n",
       "      <td>img-00018.png</td>\n",
       "      <td>1.708332e+09</td>\n",
       "      <td>0.976345</td>\n",
       "      <td>0.976345</td>\n",
       "    </tr>\n",
       "    <tr>\n",
       "      <th>19</th>\n",
       "      <td>../data/front-flick</td>\n",
       "      <td>img-00019.png</td>\n",
       "      <td>1.708332e+09</td>\n",
       "      <td>0.929281</td>\n",
       "      <td>0.929281</td>\n",
       "    </tr>\n",
       "    <tr>\n",
       "      <th>20</th>\n",
       "      <td>../data/front-flick</td>\n",
       "      <td>img-00020.png</td>\n",
       "      <td>1.708332e+09</td>\n",
       "      <td>0.976663</td>\n",
       "      <td>0.976663</td>\n",
       "    </tr>\n",
       "  </tbody>\n",
       "</table>\n",
       "</div>"
      ],
      "text/plain": [
       "                  folder       filename   time (unix)    zone 1     ratio\n",
       "num                                                                      \n",
       "16   ../data/front-flick  img-00016.png  1.708332e+09  0.969131  0.969131\n",
       "17   ../data/front-flick  img-00017.png  1.708332e+09  0.983919  0.983919\n",
       "18   ../data/front-flick  img-00018.png  1.708332e+09  0.976345  0.976345\n",
       "19   ../data/front-flick  img-00019.png  1.708332e+09  0.929281  0.929281\n",
       "20   ../data/front-flick  img-00020.png  1.708332e+09  0.976663  0.976663"
      ]
     },
     "execution_count": 12,
     "metadata": {},
     "output_type": "execute_result"
    }
   ],
   "source": [
    "flick.results.data.tail()"
   ]
  },
  {
   "cell_type": "code",
   "execution_count": 13,
   "id": "f820d473-91cb-4ab3-b841-1d700d08a740",
   "metadata": {},
   "outputs": [
    {
     "data": {
      "text/plain": [
       "<matplotlib.animation.FuncAnimation at 0x29c6e3100>"
      ]
     },
     "execution_count": 13,
     "metadata": {},
     "output_type": "execute_result"
    }
   ],
   "source": [
    "flick.animate(live=True)"
   ]
  },
  {
   "cell_type": "code",
   "execution_count": 14,
   "id": "e4aca433",
   "metadata": {},
   "outputs": [
    {
     "data": {
      "text/html": [
       "<div>\n",
       "<style scoped>\n",
       "    .dataframe tbody tr th:only-of-type {\n",
       "        vertical-align: middle;\n",
       "    }\n",
       "\n",
       "    .dataframe tbody tr th {\n",
       "        vertical-align: top;\n",
       "    }\n",
       "\n",
       "    .dataframe thead th {\n",
       "        text-align: right;\n",
       "    }\n",
       "</style>\n",
       "<table border=\"1\" class=\"dataframe\">\n",
       "  <thead>\n",
       "    <tr style=\"text-align: right;\">\n",
       "      <th></th>\n",
       "      <th>folder</th>\n",
       "      <th>filename</th>\n",
       "      <th>time (unix)</th>\n",
       "      <th>zone 1</th>\n",
       "      <th>ratio</th>\n",
       "    </tr>\n",
       "    <tr>\n",
       "      <th>num</th>\n",
       "      <th></th>\n",
       "      <th></th>\n",
       "      <th></th>\n",
       "      <th></th>\n",
       "      <th></th>\n",
       "    </tr>\n",
       "  </thead>\n",
       "  <tbody>\n",
       "    <tr>\n",
       "      <th>20</th>\n",
       "      <td>../data/front-flick</td>\n",
       "      <td>img-00020.png</td>\n",
       "      <td>1.708332e+09</td>\n",
       "      <td>0.976663</td>\n",
       "      <td>0.976663</td>\n",
       "    </tr>\n",
       "    <tr>\n",
       "      <th>21</th>\n",
       "      <td>../data/front-flick</td>\n",
       "      <td>img-00021.png</td>\n",
       "      <td>1.708332e+09</td>\n",
       "      <td>0.997126</td>\n",
       "      <td>0.997126</td>\n",
       "    </tr>\n",
       "    <tr>\n",
       "      <th>22</th>\n",
       "      <td>../data/front-flick</td>\n",
       "      <td>img-00022.png</td>\n",
       "      <td>1.708332e+09</td>\n",
       "      <td>0.915640</td>\n",
       "      <td>0.915640</td>\n",
       "    </tr>\n",
       "    <tr>\n",
       "      <th>23</th>\n",
       "      <td>../data/front-flick</td>\n",
       "      <td>img-00023.png</td>\n",
       "      <td>1.708332e+09</td>\n",
       "      <td>0.984249</td>\n",
       "      <td>0.984249</td>\n",
       "    </tr>\n",
       "    <tr>\n",
       "      <th>24</th>\n",
       "      <td>../data/front-flick</td>\n",
       "      <td>img-00024.png</td>\n",
       "      <td>1.708332e+09</td>\n",
       "      <td>0.961344</td>\n",
       "      <td>0.961344</td>\n",
       "    </tr>\n",
       "  </tbody>\n",
       "</table>\n",
       "</div>"
      ],
      "text/plain": [
       "                  folder       filename   time (unix)    zone 1     ratio\n",
       "num                                                                      \n",
       "20   ../data/front-flick  img-00020.png  1.708332e+09  0.976663  0.976663\n",
       "21   ../data/front-flick  img-00021.png  1.708332e+09  0.997126  0.997126\n",
       "22   ../data/front-flick  img-00022.png  1.708332e+09  0.915640  0.915640\n",
       "23   ../data/front-flick  img-00023.png  1.708332e+09  0.984249  0.984249\n",
       "24   ../data/front-flick  img-00024.png  1.708332e+09  0.961344  0.961344"
      ]
     },
     "execution_count": 14,
     "metadata": {},
     "output_type": "execute_result"
    }
   ],
   "source": [
    "flick.results.data.tail()"
   ]
  },
  {
   "cell_type": "markdown",
   "id": "f76b0293-7586-44a9-86ff-2fee9718d89d",
   "metadata": {},
   "source": [
    "# 2) Analyze flicker analysis a posteriori"
   ]
  },
  {
   "cell_type": "code",
   "execution_count": 15,
   "id": "2426c49a-3deb-40d1-a867-49a3ad4367cd",
   "metadata": {},
   "outputs": [],
   "source": [
    "images = ImgSeries('../data/front-flick/')\n",
    "flick = Flicker(images, savepath='../data/for-tests-do-not-modify/')\n",
    "flick.regenerate(filename='FlickFront_FlickerData')"
   ]
  },
  {
   "cell_type": "code",
   "execution_count": 16,
   "id": "863ddc63-bae2-4b2e-a924-b2ca89d1b916",
   "metadata": {},
   "outputs": [
    {
     "data": {
      "text/plain": [
       "<filo.viewers.KeyPressSlider at 0x29cd72f50>"
      ]
     },
     "execution_count": 16,
     "metadata": {},
     "output_type": "execute_result"
    }
   ],
   "source": [
    "flick.inspect()"
   ]
  },
  {
   "cell_type": "markdown",
   "id": "dbf140fd-da68-4073-b637-87682c54f3eb",
   "metadata": {},
   "source": [
    "# 3) Apply flicker correction to images"
   ]
  },
  {
   "cell_type": "code",
   "execution_count": 17,
   "id": "7b2bc3c5-78a7-452e-9b74-5fde2c7004b9",
   "metadata": {},
   "outputs": [],
   "source": [
    "images = ImgSeries('../data/front-flick/')\n",
    "images.flicker.load('../data/for-tests-do-not-modify/FlickFront_FlickerData')"
   ]
  },
  {
   "cell_type": "code",
   "execution_count": 18,
   "id": "e850c23a-a5ed-4ec9-b01f-50953ada1414",
   "metadata": {},
   "outputs": [
    {
     "data": {
      "text/plain": [
       "<filo.viewers.KeyPressSlider at 0x29ce54130>"
      ]
     },
     "execution_count": 18,
     "metadata": {},
     "output_type": "execute_result"
    }
   ],
   "source": [
    "images.inspect()"
   ]
  },
  {
   "cell_type": "markdown",
   "id": "4c3376de-4ca9-4be9-a580-8643e5e1352a",
   "metadata": {},
   "source": [
    "Below, see how the images would look like without flicker correction:"
   ]
  },
  {
   "cell_type": "code",
   "execution_count": 19,
   "id": "bb7c59ff-7f7d-4bf2-94c8-44947196c0ea",
   "metadata": {},
   "outputs": [
    {
     "data": {
      "text/plain": [
       "<filo.viewers.KeyPressSlider at 0x29c745720>"
      ]
     },
     "execution_count": 19,
     "metadata": {},
     "output_type": "execute_result"
    }
   ],
   "source": [
    "images.flicker.reset()\n",
    "images.inspect()"
   ]
  },
  {
   "cell_type": "code",
   "execution_count": null,
   "id": "c5fd4b00-df29-4c29-b6e9-4f56119bc27e",
   "metadata": {},
   "outputs": [],
   "source": []
  }
 ],
 "metadata": {
  "kernelspec": {
   "display_name": "base",
   "language": "python",
   "name": "python3"
  },
  "language_info": {
   "codemirror_mode": {
    "name": "ipython",
    "version": 3
   },
   "file_extension": ".py",
   "mimetype": "text/x-python",
   "name": "python",
   "nbconvert_exporter": "python",
   "pygments_lexer": "ipython3",
   "version": "3.10.9"
  }
 },
 "nbformat": 4,
 "nbformat_minor": 5
}

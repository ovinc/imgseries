{
 "cells": [
  {
   "cell_type": "code",
   "execution_count": 2,
   "metadata": {},
   "outputs": [],
   "source": [
    "%matplotlib tk\n",
    "from pathlib import Path\n",
    "from imgseries import ImgSeries, ContourTracking, ContourTrackingResults"
   ]
  },
  {
   "cell_type": "markdown",
   "metadata": {},
   "source": [
    "**NOTE**: This notebook only shows the interactive ContourTracking tools. See *ContourTracking.ipynb* for non-interactive options.\n",
    "\n",
    "**NOTE**: the main (numbered) sections are independent of each other and correspond to the sections in *ContourTracking.ipynb*"
   ]
  },
  {
   "cell_type": "code",
   "execution_count": 3,
   "metadata": {},
   "outputs": [],
   "source": [
    "# Define where images are stored, here distributed among two folders\n",
    "basefolder = Path('../data/')\n",
    "folders = [basefolder / folder for folder in ('img1', 'img2')]"
   ]
  },
  {
   "cell_type": "markdown",
   "metadata": {},
   "source": [
    "# 1) Minimal analysis"
   ]
  },
  {
   "cell_type": "code",
   "execution_count": 4,
   "metadata": {},
   "outputs": [],
   "source": [
    "images = ImgSeries(folders, savepath=basefolder)\n",
    "\n",
    "# load pre-defined transforms (see ImgSeries for how to define those)\n",
    "images.load_transforms('for-tests-do-not-modify/Img_Transform')\n",
    "\n",
    "# Save results in untracked folder to avoid git tracking test files\n",
    "ct = ContourTracking(images, savepath='../data/untracked_data/')\n",
    "\n",
    "# Load pre-defined contours, see below how to define them directly\n",
    "ct.contours.load('../for-tests-do-not-modify/Img_ContourTracking')"
   ]
  },
  {
   "cell_type": "markdown",
   "metadata": {},
   "source": [
    "If using an interactive matplotlib backend, it is also possible to view the analysis in real time, either using `inspect()` or `animate()` with the `live=True` option. In both cases, only the displayed data will have been analyzed in the end."
   ]
  },
  {
   "cell_type": "code",
   "execution_count": 11,
   "metadata": {},
   "outputs": [
    {
     "data": {
      "text/plain": [
       "<filo.viewers.KeyPressSlider at 0x29a914580>"
      ]
     },
     "execution_count": 11,
     "metadata": {},
     "output_type": "execute_result"
    }
   ],
   "source": [
    "ct.inspect(live=True)"
   ]
  },
  {
   "cell_type": "code",
   "execution_count": 12,
   "metadata": {},
   "outputs": [
    {
     "data": {
      "text/html": [
       "<div>\n",
       "<style scoped>\n",
       "    .dataframe tbody tr th:only-of-type {\n",
       "        vertical-align: middle;\n",
       "    }\n",
       "\n",
       "    .dataframe tbody tr th {\n",
       "        vertical-align: top;\n",
       "    }\n",
       "\n",
       "    .dataframe thead th {\n",
       "        text-align: right;\n",
       "    }\n",
       "</style>\n",
       "<table border=\"1\" class=\"dataframe\">\n",
       "  <thead>\n",
       "    <tr style=\"text-align: right;\">\n",
       "      <th></th>\n",
       "      <th>folder</th>\n",
       "      <th>filename</th>\n",
       "      <th>time (unix)</th>\n",
       "      <th>x1</th>\n",
       "      <th>y1</th>\n",
       "      <th>p1</th>\n",
       "      <th>a1</th>\n",
       "      <th>x2</th>\n",
       "      <th>y2</th>\n",
       "      <th>p2</th>\n",
       "      <th>a2</th>\n",
       "      <th>x3</th>\n",
       "      <th>y3</th>\n",
       "      <th>p3</th>\n",
       "      <th>a3</th>\n",
       "    </tr>\n",
       "    <tr>\n",
       "      <th>num</th>\n",
       "      <th></th>\n",
       "      <th></th>\n",
       "      <th></th>\n",
       "      <th></th>\n",
       "      <th></th>\n",
       "      <th></th>\n",
       "      <th></th>\n",
       "      <th></th>\n",
       "      <th></th>\n",
       "      <th></th>\n",
       "      <th></th>\n",
       "      <th></th>\n",
       "      <th></th>\n",
       "      <th></th>\n",
       "      <th></th>\n",
       "    </tr>\n",
       "  </thead>\n",
       "  <tbody>\n",
       "    <tr>\n",
       "      <th>6</th>\n",
       "      <td>img1</td>\n",
       "      <td>img-00616.png</td>\n",
       "      <td>1.696408e+09</td>\n",
       "      <td>186.806985</td>\n",
       "      <td>267.777687</td>\n",
       "      <td>43.876691</td>\n",
       "      <td>-145.715528</td>\n",
       "      <td>258.298856</td>\n",
       "      <td>268.756974</td>\n",
       "      <td>52.010226</td>\n",
       "      <td>-206.997431</td>\n",
       "      <td>321.354335</td>\n",
       "      <td>233.543956</td>\n",
       "      <td>46.840910</td>\n",
       "      <td>-167.922410</td>\n",
       "    </tr>\n",
       "    <tr>\n",
       "      <th>7</th>\n",
       "      <td>img1</td>\n",
       "      <td>img-00617.png</td>\n",
       "      <td>1.696408e+09</td>\n",
       "      <td>188.333554</td>\n",
       "      <td>268.552040</td>\n",
       "      <td>44.931867</td>\n",
       "      <td>-152.702367</td>\n",
       "      <td>259.644580</td>\n",
       "      <td>269.527895</td>\n",
       "      <td>53.089449</td>\n",
       "      <td>-217.798347</td>\n",
       "      <td>322.452043</td>\n",
       "      <td>234.427676</td>\n",
       "      <td>47.966072</td>\n",
       "      <td>-179.354562</td>\n",
       "    </tr>\n",
       "    <tr>\n",
       "      <th>8</th>\n",
       "      <td>img1</td>\n",
       "      <td>img-00618.png</td>\n",
       "      <td>1.696408e+09</td>\n",
       "      <td>188.534474</td>\n",
       "      <td>269.322038</td>\n",
       "      <td>46.739695</td>\n",
       "      <td>-164.419336</td>\n",
       "      <td>259.688959</td>\n",
       "      <td>270.298240</td>\n",
       "      <td>55.042782</td>\n",
       "      <td>-233.701240</td>\n",
       "      <td>322.346525</td>\n",
       "      <td>235.274893</td>\n",
       "      <td>49.639136</td>\n",
       "      <td>-192.415918</td>\n",
       "    </tr>\n",
       "    <tr>\n",
       "      <th>9</th>\n",
       "      <td>img1</td>\n",
       "      <td>img-00619.png</td>\n",
       "      <td>1.696408e+09</td>\n",
       "      <td>188.495967</td>\n",
       "      <td>268.163680</td>\n",
       "      <td>46.795354</td>\n",
       "      <td>-161.415347</td>\n",
       "      <td>259.421007</td>\n",
       "      <td>269.147718</td>\n",
       "      <td>55.492676</td>\n",
       "      <td>-230.243412</td>\n",
       "      <td>321.876165</td>\n",
       "      <td>234.159381</td>\n",
       "      <td>48.138206</td>\n",
       "      <td>-180.681308</td>\n",
       "    </tr>\n",
       "    <tr>\n",
       "      <th>10</th>\n",
       "      <td>img1</td>\n",
       "      <td>img-00620.png</td>\n",
       "      <td>1.696408e+09</td>\n",
       "      <td>188.041101</td>\n",
       "      <td>267.524509</td>\n",
       "      <td>43.537297</td>\n",
       "      <td>-143.341094</td>\n",
       "      <td>258.902179</td>\n",
       "      <td>268.531904</td>\n",
       "      <td>51.971206</td>\n",
       "      <td>-206.874000</td>\n",
       "      <td>321.297338</td>\n",
       "      <td>233.558481</td>\n",
       "      <td>46.309761</td>\n",
       "      <td>-165.767119</td>\n",
       "    </tr>\n",
       "  </tbody>\n",
       "</table>\n",
       "</div>"
      ],
      "text/plain": [
       "    folder       filename   time (unix)          x1          y1         p1  \\\n",
       "num                                                                          \n",
       "6     img1  img-00616.png  1.696408e+09  186.806985  267.777687  43.876691   \n",
       "7     img1  img-00617.png  1.696408e+09  188.333554  268.552040  44.931867   \n",
       "8     img1  img-00618.png  1.696408e+09  188.534474  269.322038  46.739695   \n",
       "9     img1  img-00619.png  1.696408e+09  188.495967  268.163680  46.795354   \n",
       "10    img1  img-00620.png  1.696408e+09  188.041101  267.524509  43.537297   \n",
       "\n",
       "             a1          x2          y2         p2          a2          x3  \\\n",
       "num                                                                          \n",
       "6   -145.715528  258.298856  268.756974  52.010226 -206.997431  321.354335   \n",
       "7   -152.702367  259.644580  269.527895  53.089449 -217.798347  322.452043   \n",
       "8   -164.419336  259.688959  270.298240  55.042782 -233.701240  322.346525   \n",
       "9   -161.415347  259.421007  269.147718  55.492676 -230.243412  321.876165   \n",
       "10  -143.341094  258.902179  268.531904  51.971206 -206.874000  321.297338   \n",
       "\n",
       "             y3         p3          a3  \n",
       "num                                     \n",
       "6    233.543956  46.840910 -167.922410  \n",
       "7    234.427676  47.966072 -179.354562  \n",
       "8    235.274893  49.639136 -192.415918  \n",
       "9    234.159381  48.138206 -180.681308  \n",
       "10   233.558481  46.309761 -165.767119  "
      ]
     },
     "execution_count": 12,
     "metadata": {},
     "output_type": "execute_result"
    }
   ],
   "source": [
    "ct.results.data.tail()"
   ]
  },
  {
   "cell_type": "code",
   "execution_count": 10,
   "metadata": {},
   "outputs": [
    {
     "data": {
      "text/plain": [
       "<matplotlib.animation.FuncAnimation at 0x29b2b38e0>"
      ]
     },
     "execution_count": 10,
     "metadata": {},
     "output_type": "execute_result"
    }
   ],
   "source": [
    "ct.animate(live=True)"
   ]
  },
  {
   "cell_type": "code",
   "execution_count": 7,
   "metadata": {},
   "outputs": [
    {
     "data": {
      "text/html": [
       "<div>\n",
       "<style scoped>\n",
       "    .dataframe tbody tr th:only-of-type {\n",
       "        vertical-align: middle;\n",
       "    }\n",
       "\n",
       "    .dataframe tbody tr th {\n",
       "        vertical-align: top;\n",
       "    }\n",
       "\n",
       "    .dataframe thead th {\n",
       "        text-align: right;\n",
       "    }\n",
       "</style>\n",
       "<table border=\"1\" class=\"dataframe\">\n",
       "  <thead>\n",
       "    <tr style=\"text-align: right;\">\n",
       "      <th></th>\n",
       "      <th>folder</th>\n",
       "      <th>filename</th>\n",
       "      <th>time (unix)</th>\n",
       "      <th>x1</th>\n",
       "      <th>y1</th>\n",
       "      <th>p1</th>\n",
       "      <th>a1</th>\n",
       "      <th>x2</th>\n",
       "      <th>y2</th>\n",
       "      <th>p2</th>\n",
       "      <th>a2</th>\n",
       "      <th>x3</th>\n",
       "      <th>y3</th>\n",
       "      <th>p3</th>\n",
       "      <th>a3</th>\n",
       "    </tr>\n",
       "    <tr>\n",
       "      <th>num</th>\n",
       "      <th></th>\n",
       "      <th></th>\n",
       "      <th></th>\n",
       "      <th></th>\n",
       "      <th></th>\n",
       "      <th></th>\n",
       "      <th></th>\n",
       "      <th></th>\n",
       "      <th></th>\n",
       "      <th></th>\n",
       "      <th></th>\n",
       "      <th></th>\n",
       "      <th></th>\n",
       "      <th></th>\n",
       "      <th></th>\n",
       "    </tr>\n",
       "  </thead>\n",
       "  <tbody>\n",
       "    <tr>\n",
       "      <th>45</th>\n",
       "      <td>img2</td>\n",
       "      <td>img-00655.png</td>\n",
       "      <td>1.696408e+09</td>\n",
       "      <td>186.466511</td>\n",
       "      <td>268.658266</td>\n",
       "      <td>44.788192</td>\n",
       "      <td>-151.820974</td>\n",
       "      <td>258.889911</td>\n",
       "      <td>269.580909</td>\n",
       "      <td>52.257163</td>\n",
       "      <td>-209.578768</td>\n",
       "      <td>322.767246</td>\n",
       "      <td>234.031024</td>\n",
       "      <td>47.293255</td>\n",
       "      <td>-174.203633</td>\n",
       "    </tr>\n",
       "    <tr>\n",
       "      <th>46</th>\n",
       "      <td>img2</td>\n",
       "      <td>img-00656.png</td>\n",
       "      <td>1.696408e+09</td>\n",
       "      <td>186.421866</td>\n",
       "      <td>268.762600</td>\n",
       "      <td>44.826190</td>\n",
       "      <td>-152.199486</td>\n",
       "      <td>259.041463</td>\n",
       "      <td>269.671973</td>\n",
       "      <td>52.275865</td>\n",
       "      <td>-210.244179</td>\n",
       "      <td>323.066706</td>\n",
       "      <td>234.038337</td>\n",
       "      <td>47.427696</td>\n",
       "      <td>-175.355538</td>\n",
       "    </tr>\n",
       "    <tr>\n",
       "      <th>47</th>\n",
       "      <td>img2</td>\n",
       "      <td>img-00657.png</td>\n",
       "      <td>1.696408e+09</td>\n",
       "      <td>186.451315</td>\n",
       "      <td>268.945876</td>\n",
       "      <td>44.935060</td>\n",
       "      <td>-152.879033</td>\n",
       "      <td>259.271238</td>\n",
       "      <td>269.846878</td>\n",
       "      <td>52.450949</td>\n",
       "      <td>-211.681457</td>\n",
       "      <td>323.456939</td>\n",
       "      <td>234.148139</td>\n",
       "      <td>47.593884</td>\n",
       "      <td>-176.552305</td>\n",
       "    </tr>\n",
       "    <tr>\n",
       "      <th>48</th>\n",
       "      <td>img2</td>\n",
       "      <td>img-00658.png</td>\n",
       "      <td>1.696408e+09</td>\n",
       "      <td>186.345269</td>\n",
       "      <td>269.088712</td>\n",
       "      <td>45.135705</td>\n",
       "      <td>-154.196262</td>\n",
       "      <td>259.348315</td>\n",
       "      <td>269.973242</td>\n",
       "      <td>52.534686</td>\n",
       "      <td>-212.449979</td>\n",
       "      <td>323.705796</td>\n",
       "      <td>234.208636</td>\n",
       "      <td>47.719038</td>\n",
       "      <td>-177.653617</td>\n",
       "    </tr>\n",
       "    <tr>\n",
       "      <th>49</th>\n",
       "      <td>img2</td>\n",
       "      <td>img-00659.png</td>\n",
       "      <td>1.696408e+09</td>\n",
       "      <td>186.248449</td>\n",
       "      <td>269.262724</td>\n",
       "      <td>45.322188</td>\n",
       "      <td>-155.137694</td>\n",
       "      <td>259.457870</td>\n",
       "      <td>270.162568</td>\n",
       "      <td>52.581465</td>\n",
       "      <td>-212.623299</td>\n",
       "      <td>323.986771</td>\n",
       "      <td>234.329816</td>\n",
       "      <td>47.842566</td>\n",
       "      <td>-178.637420</td>\n",
       "    </tr>\n",
       "  </tbody>\n",
       "</table>\n",
       "</div>"
      ],
      "text/plain": [
       "    folder       filename   time (unix)          x1          y1         p1  \\\n",
       "num                                                                          \n",
       "45    img2  img-00655.png  1.696408e+09  186.466511  268.658266  44.788192   \n",
       "46    img2  img-00656.png  1.696408e+09  186.421866  268.762600  44.826190   \n",
       "47    img2  img-00657.png  1.696408e+09  186.451315  268.945876  44.935060   \n",
       "48    img2  img-00658.png  1.696408e+09  186.345269  269.088712  45.135705   \n",
       "49    img2  img-00659.png  1.696408e+09  186.248449  269.262724  45.322188   \n",
       "\n",
       "             a1          x2          y2         p2          a2          x3  \\\n",
       "num                                                                          \n",
       "45  -151.820974  258.889911  269.580909  52.257163 -209.578768  322.767246   \n",
       "46  -152.199486  259.041463  269.671973  52.275865 -210.244179  323.066706   \n",
       "47  -152.879033  259.271238  269.846878  52.450949 -211.681457  323.456939   \n",
       "48  -154.196262  259.348315  269.973242  52.534686 -212.449979  323.705796   \n",
       "49  -155.137694  259.457870  270.162568  52.581465 -212.623299  323.986771   \n",
       "\n",
       "             y3         p3          a3  \n",
       "num                                     \n",
       "45   234.031024  47.293255 -174.203633  \n",
       "46   234.038337  47.427696 -175.355538  \n",
       "47   234.148139  47.593884 -176.552305  \n",
       "48   234.208636  47.719038 -177.653617  \n",
       "49   234.329816  47.842566 -178.637420  "
      ]
     },
     "execution_count": 7,
     "metadata": {},
     "output_type": "execute_result"
    }
   ],
   "source": [
    "ct.results.data.tail()"
   ]
  },
  {
   "cell_type": "markdown",
   "metadata": {},
   "source": [
    "After analysis, calling `animate()` or `inspect()` will display the results without re-analyzing them (be careful to not run them with the `live=True` option)"
   ]
  },
  {
   "cell_type": "code",
   "execution_count": 8,
   "metadata": {},
   "outputs": [
    {
     "data": {
      "text/plain": [
       "<filo.viewers.KeyPressSlider at 0x29c446410>"
      ]
     },
     "execution_count": 8,
     "metadata": {},
     "output_type": "execute_result"
    }
   ],
   "source": [
    "ct.inspect()"
   ]
  },
  {
   "cell_type": "code",
   "execution_count": 9,
   "metadata": {},
   "outputs": [
    {
     "data": {
      "text/plain": [
       "<matplotlib.animation.FuncAnimation at 0x29b2a5510>"
      ]
     },
     "execution_count": 9,
     "metadata": {},
     "output_type": "execute_result"
    }
   ],
   "source": [
    "ct.animate()"
   ]
  },
  {
   "cell_type": "markdown",
   "metadata": {},
   "source": [
    "# 2) Defining and viewing contours"
   ]
  },
  {
   "cell_type": "code",
   "execution_count": 13,
   "metadata": {},
   "outputs": [],
   "source": [
    "images = ImgSeries(folders, savepath=basefolder)\n",
    "images.load_transforms('for-tests-do-not-modify/Img_Transform')\n",
    "ct = ContourTracking(images, savepath='../data/untracked_data/')"
   ]
  },
  {
   "cell_type": "markdown",
   "metadata": {},
   "source": [
    "Defining contours has to be done at least once.\n",
    "\n",
    "**Important**: Matplotlib must be in an interactive mode to do so.\n",
    "\n",
    "Defining does not need to be done again in the following situations:\n",
    "- calling methods again from the same `ct` object, e.g. `ct.run()`\n",
    "- calling `ct.contours.load()` or `ct.regenerate()` to load contours data from saved metadata (.json) file."
   ]
  },
  {
   "cell_type": "markdown",
   "metadata": {},
   "source": [
    "**Note**: to improve contour detection, it might be necessary to do additional cropping/filtering on images with `images.crop` and `images.filter`"
   ]
  },
  {
   "cell_type": "code",
   "execution_count": 14,
   "metadata": {},
   "outputs": [
    {
     "data": {
      "text/plain": [
       "<matplotlib.widgets.Slider at 0x29dd1dcf0>"
      ]
     },
     "execution_count": 14,
     "metadata": {},
     "output_type": "execute_result"
    }
   ],
   "source": [
    "ct.threshold.define()"
   ]
  },
  {
   "cell_type": "code",
   "execution_count": 5,
   "metadata": {},
   "outputs": [
    {
     "name": "stdout",
     "output_type": "stream",
     "text": [
      "Threshold object {'value': 182}\n"
     ]
    }
   ],
   "source": [
    "print(ct.threshold)"
   ]
  },
  {
   "cell_type": "code",
   "execution_count": 6,
   "metadata": {},
   "outputs": [],
   "source": [
    "ct.contours.define()  # define one contour on the first image of the series"
   ]
  },
  {
   "cell_type": "code",
   "execution_count": 10,
   "metadata": {},
   "outputs": [],
   "source": [
    "ct.contours.define(n=3)  # define 3 contours on the first image of the series"
   ]
  },
  {
   "cell_type": "code",
   "execution_count": 6,
   "metadata": {},
   "outputs": [],
   "source": [
    "ct.contours.define(3, num=10)  # define 3 contours at level 170 on image #10 in the series"
   ]
  },
  {
   "cell_type": "markdown",
   "metadata": {},
   "source": [
    "Viewing analysis zones after defining or loading them:"
   ]
  },
  {
   "cell_type": "code",
   "execution_count": 7,
   "metadata": {},
   "outputs": [
    {
     "data": {
      "text/plain": [
       "{'position': {'contour 1': (188.04110067355455, 267.5245090373116),\n",
       "  'contour 2': (258.9021791530991, 268.53190375527873),\n",
       "  'contour 3': (321.2973382438927, 233.5584805632059)},\n",
       " 'level': 182,\n",
       " 'image': 10}"
      ]
     },
     "execution_count": 7,
     "metadata": {},
     "output_type": "execute_result"
    }
   ],
   "source": [
    "ct.contours.data"
   ]
  },
  {
   "cell_type": "code",
   "execution_count": 12,
   "metadata": {},
   "outputs": [
    {
     "data": {
      "text/plain": [
       "<Axes: title={'center': 'img #0, grey level 182'}>"
      ]
     },
     "execution_count": 12,
     "metadata": {},
     "output_type": "execute_result"
    }
   ],
   "source": [
    "ct.contours.show()  # show contours on the image they have been defined on"
   ]
  },
  {
   "cell_type": "code",
   "execution_count": 13,
   "metadata": {},
   "outputs": [],
   "source": [
    "ct.threshold.load()"
   ]
  },
  {
   "cell_type": "code",
   "execution_count": 14,
   "metadata": {},
   "outputs": [
    {
     "data": {
      "text/plain": [
       "Threshold object {'value': 182}"
      ]
     },
     "execution_count": 14,
     "metadata": {},
     "output_type": "execute_result"
    }
   ],
   "source": [
    "ct.threshold"
   ]
  },
  {
   "cell_type": "markdown",
   "metadata": {},
   "source": [
    "**Note**:\n",
    "Before, saving contour data was only done by calling `ct.save()`, which saves both data and metadata.\n",
    "Now, preliminary saving of zone data can be done with `ct.contours.save()`; \n",
    "Note that `ct.save()` overwrites that data if the same filename is provided."
   ]
  },
  {
   "cell_type": "code",
   "execution_count": 16,
   "metadata": {},
   "outputs": [
    {
     "name": "stdout",
     "output_type": "stream",
     "text": [
      "\n",
      "Warning: These modules have dirty git repositories: imgseries\n",
      "\n",
      "\n",
      "Warning: these modules are missing a tag: imgseries\n",
      "\n",
      "\n",
      "Warning: these modules are not in a git repository: skimage, imgbasics, matplotlib, numpy\n",
      "\n"
     ]
    }
   ],
   "source": [
    "ct.contours.save()"
   ]
  },
  {
   "cell_type": "markdown",
   "metadata": {},
   "source": [
    "# 5) Connect results to image series (e.g. for inspection/visualization)"
   ]
  },
  {
   "cell_type": "code",
   "execution_count": 18,
   "metadata": {},
   "outputs": [],
   "source": [
    "images = ImgSeries(folders, savepath=basefolder)\n",
    "ct = ContourTracking(images)\n",
    "\n",
    "# Line below is equivalent to call results.load() and images.load_transforms,\n",
    "# except that the transforms are taken directly from the results metadata.\n",
    "ct.regenerate(filename='for-tests-do-not-modify/Img_ContourTracking')"
   ]
  },
  {
   "cell_type": "markdown",
   "metadata": {},
   "source": [
    "Once the analysis is regenerated, all the tools associated with images (inspection, showing, animation, etc.) are available:"
   ]
  },
  {
   "cell_type": "code",
   "execution_count": 19,
   "metadata": {},
   "outputs": [
    {
     "data": {
      "text/plain": [
       "<filo.viewers.KeyPressSlider at 0x29cae5f60>"
      ]
     },
     "execution_count": 19,
     "metadata": {},
     "output_type": "execute_result"
    }
   ],
   "source": [
    "ct.inspect()"
   ]
  }
 ],
 "metadata": {
  "kernelspec": {
   "display_name": "base",
   "language": "python",
   "name": "python3"
  },
  "language_info": {
   "codemirror_mode": {
    "name": "ipython",
    "version": 3
   },
   "file_extension": ".py",
   "mimetype": "text/x-python",
   "name": "python",
   "nbconvert_exporter": "python",
   "pygments_lexer": "ipython3",
   "version": "3.10.9"
  }
 },
 "nbformat": 4,
 "nbformat_minor": 4
}

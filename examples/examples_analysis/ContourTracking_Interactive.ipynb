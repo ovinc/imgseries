{
 "cells": [
  {
   "cell_type": "code",
   "execution_count": 1,
   "metadata": {},
   "outputs": [],
   "source": [
    "%matplotlib tk\n",
    "from pathlib import Path\n",
    "from imgseries import ImgSeries, ContourTracking"
   ]
  },
  {
   "cell_type": "markdown",
   "metadata": {},
   "source": [
    "**NOTE**: This notebook only shows the interactive ContourTracking tools. See *ContourTracking.ipynb* for non-interactive options.\n",
    "\n",
    "**NOTE**: the main (numbered) sections are independent of each other and correspond to the sections in *ContourTracking.ipynb*"
   ]
  },
  {
   "cell_type": "code",
   "execution_count": 2,
   "metadata": {},
   "outputs": [],
   "source": [
    "# Define where images are stored, here distributed among two folders\n",
    "basefolder = Path('../data/')\n",
    "folders = [basefolder / folder for folder in ('img1', 'img2')]"
   ]
  },
  {
   "cell_type": "markdown",
   "metadata": {},
   "source": [
    "# 1) Minimal analysis"
   ]
  },
  {
   "cell_type": "code",
   "execution_count": 3,
   "metadata": {},
   "outputs": [],
   "source": [
    "images = ImgSeries(folders, savepath=basefolder)\n",
    "\n",
    "# load pre-defined transforms (see ImgSeries for how to define those)\n",
    "images.load_transforms('for-tests-do-not-modify/Img_Transform')\n",
    "\n",
    "# Save results in untracked folder to avoid git tracking test files\n",
    "ct = ContourTracking(images, savepath='../data/untracked_data/')\n",
    "\n",
    "# Load pre-defined contours, see below how to define them directly\n",
    "ct.contours.load('../for-tests-do-not-modify/Img_ContourTracking')"
   ]
  },
  {
   "cell_type": "markdown",
   "metadata": {},
   "source": [
    "If using an interactive matplotlib backend, it is also possible to view the analysis in real time, either using `inspect()` or `animate()` with the `live=True` option. \n",
    "\n",
    "If you want the data to be saved in the end (i.e. when the figure is closed), use the `save=True` option. It will transfer the results to `ct.results` and overwrite any pre-existing results."
   ]
  },
  {
   "cell_type": "code",
   "execution_count": 4,
   "metadata": {},
   "outputs": [
    {
     "data": {
      "text/plain": [
       "<filo.viewers.KeyPressSlider at 0x28c4c77c0>"
      ]
     },
     "execution_count": 4,
     "metadata": {},
     "output_type": "execute_result"
    }
   ],
   "source": [
    "ct.inspect(live=True)"
   ]
  },
  {
   "cell_type": "code",
   "execution_count": 5,
   "metadata": {},
   "outputs": [],
   "source": [
    "ct.results.data"
   ]
  },
  {
   "cell_type": "code",
   "execution_count": 6,
   "metadata": {},
   "outputs": [
    {
     "data": {
      "text/plain": [
       "<matplotlib.animation.FuncAnimation at 0x28c505a80>"
      ]
     },
     "execution_count": 6,
     "metadata": {},
     "output_type": "execute_result"
    }
   ],
   "source": [
    "ct.animate(live=True, save=True, start=9)"
   ]
  },
  {
   "cell_type": "code",
   "execution_count": 7,
   "metadata": {},
   "outputs": [
    {
     "data": {
      "text/plain": [
       "<matplotlib.animation.FuncAnimation at 0x28dd263b0>"
      ]
     },
     "execution_count": 7,
     "metadata": {},
     "output_type": "execute_result"
    },
    {
     "name": "stderr",
     "output_type": "stream",
     "text": [
      "invalid command name \"10969799360_on_timer\"\n",
      "    while executing\n",
      "\"10969799360_on_timer\"\n",
      "    (\"after\" script)\n"
     ]
    }
   ],
   "source": [
    "ct.animate()"
   ]
  },
  {
   "cell_type": "markdown",
   "metadata": {},
   "source": [
    "After analysis, calling `animate()` or `inspect()` will display the results without re-analyzing them (be careful to not run them with the `live=True` option)"
   ]
  },
  {
   "cell_type": "code",
   "execution_count": 8,
   "metadata": {},
   "outputs": [
    {
     "data": {
      "text/html": [
       "<div>\n",
       "<style scoped>\n",
       "    .dataframe tbody tr th:only-of-type {\n",
       "        vertical-align: middle;\n",
       "    }\n",
       "\n",
       "    .dataframe tbody tr th {\n",
       "        vertical-align: top;\n",
       "    }\n",
       "\n",
       "    .dataframe thead th {\n",
       "        text-align: right;\n",
       "    }\n",
       "</style>\n",
       "<table border=\"1\" class=\"dataframe\">\n",
       "  <thead>\n",
       "    <tr style=\"text-align: right;\">\n",
       "      <th></th>\n",
       "      <th>folder</th>\n",
       "      <th>filename</th>\n",
       "      <th>time (unix)</th>\n",
       "      <th>x1</th>\n",
       "      <th>y1</th>\n",
       "      <th>p1</th>\n",
       "      <th>a1</th>\n",
       "      <th>x2</th>\n",
       "      <th>y2</th>\n",
       "      <th>p2</th>\n",
       "      <th>a2</th>\n",
       "      <th>x3</th>\n",
       "      <th>y3</th>\n",
       "      <th>p3</th>\n",
       "      <th>a3</th>\n",
       "    </tr>\n",
       "    <tr>\n",
       "      <th>num</th>\n",
       "      <th></th>\n",
       "      <th></th>\n",
       "      <th></th>\n",
       "      <th></th>\n",
       "      <th></th>\n",
       "      <th></th>\n",
       "      <th></th>\n",
       "      <th></th>\n",
       "      <th></th>\n",
       "      <th></th>\n",
       "      <th></th>\n",
       "      <th></th>\n",
       "      <th></th>\n",
       "      <th></th>\n",
       "      <th></th>\n",
       "    </tr>\n",
       "  </thead>\n",
       "  <tbody>\n",
       "    <tr>\n",
       "      <th>16</th>\n",
       "      <td>img1</td>\n",
       "      <td>img-00626.png</td>\n",
       "      <td>1.696408e+09</td>\n",
       "      <td>257.375461</td>\n",
       "      <td>267.637025</td>\n",
       "      <td>-183.904208</td>\n",
       "      <td>48.888963</td>\n",
       "      <td>341.181840</td>\n",
       "      <td>183.663665</td>\n",
       "      <td>-92.753222</td>\n",
       "      <td>34.806633</td>\n",
       "      <td>319.061099</td>\n",
       "      <td>232.919028</td>\n",
       "      <td>-145.165658</td>\n",
       "      <td>43.167334</td>\n",
       "    </tr>\n",
       "    <tr>\n",
       "      <th>17</th>\n",
       "      <td>img1</td>\n",
       "      <td>img-00627.png</td>\n",
       "      <td>1.696408e+09</td>\n",
       "      <td>257.365962</td>\n",
       "      <td>267.264419</td>\n",
       "      <td>-184.725720</td>\n",
       "      <td>48.908782</td>\n",
       "      <td>341.104915</td>\n",
       "      <td>183.403877</td>\n",
       "      <td>-93.067117</td>\n",
       "      <td>34.940510</td>\n",
       "      <td>319.002358</td>\n",
       "      <td>232.589394</td>\n",
       "      <td>-146.695495</td>\n",
       "      <td>43.320657</td>\n",
       "    </tr>\n",
       "    <tr>\n",
       "      <th>18</th>\n",
       "      <td>img1</td>\n",
       "      <td>img-00628.png</td>\n",
       "      <td>1.696408e+09</td>\n",
       "      <td>257.461080</td>\n",
       "      <td>267.266213</td>\n",
       "      <td>-186.677804</td>\n",
       "      <td>49.191392</td>\n",
       "      <td>341.107271</td>\n",
       "      <td>183.461766</td>\n",
       "      <td>-94.243022</td>\n",
       "      <td>35.125393</td>\n",
       "      <td>319.020954</td>\n",
       "      <td>232.633330</td>\n",
       "      <td>-147.475887</td>\n",
       "      <td>43.459180</td>\n",
       "    </tr>\n",
       "    <tr>\n",
       "      <th>19</th>\n",
       "      <td>img1</td>\n",
       "      <td>img-00629.png</td>\n",
       "      <td>1.696408e+09</td>\n",
       "      <td>257.489368</td>\n",
       "      <td>267.281817</td>\n",
       "      <td>-190.194845</td>\n",
       "      <td>49.550670</td>\n",
       "      <td>341.072585</td>\n",
       "      <td>183.562629</td>\n",
       "      <td>-95.371063</td>\n",
       "      <td>35.407572</td>\n",
       "      <td>318.987285</td>\n",
       "      <td>232.656693</td>\n",
       "      <td>-150.243711</td>\n",
       "      <td>43.899007</td>\n",
       "    </tr>\n",
       "    <tr>\n",
       "      <th>20</th>\n",
       "      <td>img1</td>\n",
       "      <td>img-00630.png</td>\n",
       "      <td>1.696408e+09</td>\n",
       "      <td>257.343765</td>\n",
       "      <td>267.410222</td>\n",
       "      <td>-191.289670</td>\n",
       "      <td>49.728507</td>\n",
       "      <td>340.841507</td>\n",
       "      <td>183.731855</td>\n",
       "      <td>-97.512031</td>\n",
       "      <td>35.720313</td>\n",
       "      <td>318.790420</td>\n",
       "      <td>232.829433</td>\n",
       "      <td>-151.456867</td>\n",
       "      <td>44.071890</td>\n",
       "    </tr>\n",
       "  </tbody>\n",
       "</table>\n",
       "</div>"
      ],
      "text/plain": [
       "    folder       filename   time (unix)          x1          y1          p1  \\\n",
       "num                                                                           \n",
       "16    img1  img-00626.png  1.696408e+09  257.375461  267.637025 -183.904208   \n",
       "17    img1  img-00627.png  1.696408e+09  257.365962  267.264419 -184.725720   \n",
       "18    img1  img-00628.png  1.696408e+09  257.461080  267.266213 -186.677804   \n",
       "19    img1  img-00629.png  1.696408e+09  257.489368  267.281817 -190.194845   \n",
       "20    img1  img-00630.png  1.696408e+09  257.343765  267.410222 -191.289670   \n",
       "\n",
       "            a1          x2          y2         p2         a2          x3  \\\n",
       "num                                                                        \n",
       "16   48.888963  341.181840  183.663665 -92.753222  34.806633  319.061099   \n",
       "17   48.908782  341.104915  183.403877 -93.067117  34.940510  319.002358   \n",
       "18   49.191392  341.107271  183.461766 -94.243022  35.125393  319.020954   \n",
       "19   49.550670  341.072585  183.562629 -95.371063  35.407572  318.987285   \n",
       "20   49.728507  340.841507  183.731855 -97.512031  35.720313  318.790420   \n",
       "\n",
       "             y3          p3         a3  \n",
       "num                                     \n",
       "16   232.919028 -145.165658  43.167334  \n",
       "17   232.589394 -146.695495  43.320657  \n",
       "18   232.633330 -147.475887  43.459180  \n",
       "19   232.656693 -150.243711  43.899007  \n",
       "20   232.829433 -151.456867  44.071890  "
      ]
     },
     "execution_count": 8,
     "metadata": {},
     "output_type": "execute_result"
    }
   ],
   "source": [
    "ct.results.data['properties'].tail()"
   ]
  },
  {
   "cell_type": "markdown",
   "metadata": {},
   "source": [
    "After analysis, calling `animate()` or `inspect()` will display the results without re-analyzing them (be careful to not run them with the `save=True` option)"
   ]
  },
  {
   "cell_type": "code",
   "execution_count": 9,
   "metadata": {},
   "outputs": [
    {
     "data": {
      "text/plain": [
       "<filo.viewers.KeyPressSlider at 0x16e713310>"
      ]
     },
     "execution_count": 9,
     "metadata": {},
     "output_type": "execute_result"
    }
   ],
   "source": [
    "ct.inspect()"
   ]
  },
  {
   "cell_type": "code",
   "execution_count": 10,
   "metadata": {},
   "outputs": [
    {
     "data": {
      "text/plain": [
       "<filo.viewers.KeyPressSlider at 0x16e8a67d0>"
      ]
     },
     "execution_count": 10,
     "metadata": {},
     "output_type": "execute_result"
    }
   ],
   "source": [
    "ct.inspect(live=True)"
   ]
  },
  {
   "cell_type": "markdown",
   "metadata": {},
   "source": [
    "# 2) Defining and viewing contours"
   ]
  },
  {
   "cell_type": "code",
   "execution_count": 11,
   "metadata": {},
   "outputs": [],
   "source": [
    "images = ImgSeries(folders, savepath=basefolder)\n",
    "images.load_transforms('for-tests-do-not-modify/Img_Transform')\n",
    "ct = ContourTracking(images, savepath='../data/untracked_data/')"
   ]
  },
  {
   "cell_type": "markdown",
   "metadata": {},
   "source": [
    "Defining contours has to be done at least once.\n",
    "\n",
    "**Important**: Matplotlib must be in an interactive mode to do so.\n",
    "\n",
    "Defining does not need to be done again in the following situations:\n",
    "- calling methods again from the same `ct` object, e.g. `ct.run()`\n",
    "- calling `ct.contours.load()` or `ct.regenerate()` to load contours data from saved metadata (.json) file."
   ]
  },
  {
   "cell_type": "markdown",
   "metadata": {},
   "source": [
    "**Note**: to improve contour detection, it might be necessary to do additional cropping/filtering on images with `images.crop` and `images.filter`"
   ]
  },
  {
   "cell_type": "code",
   "execution_count": 12,
   "metadata": {},
   "outputs": [
    {
     "data": {
      "text/plain": [
       "<matplotlib.widgets.Slider at 0x16e8f2680>"
      ]
     },
     "execution_count": 12,
     "metadata": {},
     "output_type": "execute_result"
    }
   ],
   "source": [
    "ct.threshold.define()"
   ]
  },
  {
   "cell_type": "code",
   "execution_count": 13,
   "metadata": {},
   "outputs": [
    {
     "name": "stdout",
     "output_type": "stream",
     "text": [
      "Threshold {'value': 210}\n"
     ]
    }
   ],
   "source": [
    "print(ct.threshold)"
   ]
  },
  {
   "cell_type": "code",
   "execution_count": 14,
   "metadata": {},
   "outputs": [],
   "source": [
    "ct.contours.define()  # define one contour on the first image of the series"
   ]
  },
  {
   "cell_type": "code",
   "execution_count": 15,
   "metadata": {},
   "outputs": [],
   "source": [
    "ct.contours.define(n=3)  # define 3 contours on the first image of the series"
   ]
  },
  {
   "cell_type": "code",
   "execution_count": 16,
   "metadata": {},
   "outputs": [],
   "source": [
    "ct.contours.define(3, num=10)  # define 3 contours at level 170 on image #10 in the series"
   ]
  },
  {
   "cell_type": "markdown",
   "metadata": {},
   "source": [
    "Viewing analysis zones after defining or loading them:"
   ]
  },
  {
   "cell_type": "code",
   "execution_count": 17,
   "metadata": {},
   "outputs": [
    {
     "data": {
      "text/plain": [
       "{'properties': {'contour 1': {'centroid': (258.9206588827481,\n",
       "    268.5627612535674),\n",
       "   'perimeter': 49.022721905274544,\n",
       "   'area': -184.01647730461818},\n",
       "  'contour 2': {'centroid': (321.19517574267564, 233.57619172135523),\n",
       "   'perimeter': 43.21360891612078,\n",
       "   'area': -146.17044779843553},\n",
       "  'contour 3': {'centroid': (343.46460593199157, 183.99169232769228),\n",
       "   'perimeter': 34.51670212323048,\n",
       "   'area': -91.58516107035766}},\n",
       " 'level': 210,\n",
       " 'image': 10}"
      ]
     },
     "execution_count": 17,
     "metadata": {},
     "output_type": "execute_result"
    }
   ],
   "source": [
    "ct.contours.data"
   ]
  },
  {
   "cell_type": "code",
   "execution_count": 18,
   "metadata": {},
   "outputs": [
    {
     "data": {
      "text/plain": [
       "<Axes: title={'center': 'img #10, grey level 210'}>"
      ]
     },
     "execution_count": 18,
     "metadata": {},
     "output_type": "execute_result"
    }
   ],
   "source": [
    "ct.contours.show()  # show contours on the image they have been defined on"
   ]
  },
  {
   "cell_type": "code",
   "execution_count": 19,
   "metadata": {},
   "outputs": [],
   "source": [
    "ct.threshold.load()"
   ]
  },
  {
   "cell_type": "code",
   "execution_count": 20,
   "metadata": {},
   "outputs": [
    {
     "data": {
      "text/plain": [
       "Threshold {'value': 205}"
      ]
     },
     "execution_count": 20,
     "metadata": {},
     "output_type": "execute_result"
    }
   ],
   "source": [
    "ct.threshold"
   ]
  },
  {
   "cell_type": "markdown",
   "metadata": {},
   "source": [
    "**Note**:\n",
    "Before, saving contour data was only done by calling `ct.save()`, which saves both data and metadata.\n",
    "Now, preliminary saving of zone data can be done with `ct.contours.save()`; \n",
    "Note that `ct.save()` overwrites that data if the same filename is provided."
   ]
  },
  {
   "cell_type": "code",
   "execution_count": 21,
   "metadata": {},
   "outputs": [
    {
     "name": "stdout",
     "output_type": "stream",
     "text": [
      "\n",
      "Warning: These modules have dirty git repositories: imgseries, imgbasics, filo\n",
      "\n",
      "\n",
      "Warning: these modules are missing a tag: imgseries, filo\n",
      "\n",
      "\n",
      "Warning: these modules are not in a git repository: skimage, matplotlib, numpy\n",
      "\n"
     ]
    }
   ],
   "source": [
    "ct.contours.save()"
   ]
  },
  {
   "cell_type": "markdown",
   "metadata": {},
   "source": [
    "# 6) Connect results to image series (e.g. for inspection/visualization)"
   ]
  },
  {
   "cell_type": "code",
   "execution_count": 22,
   "metadata": {},
   "outputs": [],
   "source": [
    "images = ImgSeries(folders, savepath=basefolder)\n",
    "ct = ContourTracking(images)\n",
    "\n",
    "# Line below is equivalent to call results.load() and images.load_transforms,\n",
    "# except that the transforms are taken directly from the results metadata.\n",
    "ct.regenerate(filename='for-tests-do-not-modify/Img_ContourTracking')"
   ]
  },
  {
   "cell_type": "markdown",
   "metadata": {},
   "source": [
    "Once the analysis is regenerated, all the tools associated with images (inspection, showing, animation, etc.) are available:"
   ]
  },
  {
   "cell_type": "code",
   "execution_count": 23,
   "metadata": {},
   "outputs": [
    {
     "data": {
      "text/plain": [
       "<filo.viewers.KeyPressSlider at 0x17621de40>"
      ]
     },
     "execution_count": 23,
     "metadata": {},
     "output_type": "execute_result"
    }
   ],
   "source": [
    "ct.inspect()"
   ]
  },
  {
   "cell_type": "code",
   "execution_count": null,
   "metadata": {},
   "outputs": [],
   "source": []
  }
 ],
 "metadata": {
  "kernelspec": {
   "display_name": "base",
   "language": "python",
   "name": "python3"
  },
  "language_info": {
   "codemirror_mode": {
    "name": "ipython",
    "version": 3
   },
   "file_extension": ".py",
   "mimetype": "text/x-python",
   "name": "python",
   "nbconvert_exporter": "python",
   "pygments_lexer": "ipython3",
   "version": "3.10.16"
  }
 },
 "nbformat": 4,
 "nbformat_minor": 4
}

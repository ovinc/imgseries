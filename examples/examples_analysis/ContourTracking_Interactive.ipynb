{
 "cells": [
  {
   "cell_type": "code",
   "execution_count": 1,
   "metadata": {},
   "outputs": [],
   "source": [
    "%matplotlib tk\n",
    "from pathlib import Path\n",
    "from imgseries import ImgSeries, ContourTracking"
   ]
  },
  {
   "cell_type": "markdown",
   "metadata": {},
   "source": [
    "**NOTE**: This notebook only shows the interactive ContourTracking tools. See *ContourTracking.ipynb* for non-interactive options.\n",
    "\n",
    "**NOTE**: the main (numbered) sections are independent of each other and correspond to the sections in *ContourTracking.ipynb*"
   ]
  },
  {
   "cell_type": "code",
   "execution_count": 2,
   "metadata": {},
   "outputs": [],
   "source": [
    "# Define where images are stored, here distributed among two folders\n",
    "basefolder = Path('../data/')\n",
    "folders = [basefolder / folder for folder in ('img1', 'img2')]"
   ]
  },
  {
   "cell_type": "markdown",
   "metadata": {},
   "source": [
    "# 1) Minimal analysis"
   ]
  },
  {
   "cell_type": "code",
   "execution_count": 3,
   "metadata": {},
   "outputs": [],
   "source": [
    "images = ImgSeries(folders, savepath=basefolder)\n",
    "\n",
    "# load pre-defined transforms (see ImgSeries for how to define those)\n",
    "images.load_transforms('for-tests-do-not-modify/Img_Transform')\n",
    "\n",
    "# Save results in untracked folder to avoid git tracking test files\n",
    "ct = ContourTracking(images, savepath='../data/untracked_data/')\n",
    "\n",
    "# Load pre-defined contours, see below how to define them directly\n",
    "ct.contour_selection.load('../for-tests-do-not-modify/Img_ContourTracking')"
   ]
  },
  {
   "cell_type": "markdown",
   "metadata": {},
   "source": [
    "If using an interactive matplotlib backend, it is also possible to view the analysis in real time, either using `inspect()` or `animate()` with the `live=True` option. \n",
    "\n",
    "If you want the data to be saved in the end (i.e. when the figure is closed), use the `save=True` option. It will transfer the results to `ct.results` and overwrite any pre-existing results."
   ]
  },
  {
   "cell_type": "code",
   "execution_count": 4,
   "metadata": {},
   "outputs": [
    {
     "data": {
      "text/plain": [
       "<filo.viewers.KeyPressSlider at 0x2974c1a80>"
      ]
     },
     "execution_count": 4,
     "metadata": {},
     "output_type": "execute_result"
    }
   ],
   "source": [
    "ct.inspect(live=True)"
   ]
  },
  {
   "cell_type": "code",
   "execution_count": 5,
   "metadata": {},
   "outputs": [],
   "source": [
    "ct.results.data"
   ]
  },
  {
   "cell_type": "code",
   "execution_count": 4,
   "metadata": {},
   "outputs": [
    {
     "data": {
      "text/plain": [
       "<matplotlib.animation.FuncAnimation at 0x292b08f70>"
      ]
     },
     "execution_count": 4,
     "metadata": {},
     "output_type": "execute_result"
    },
    {
     "name": "stderr",
     "output_type": "stream",
     "text": [
      "invalid command name \"11271779840_on_timer\"\n",
      "    while executing\n",
      "\"11271779840_on_timer\"\n",
      "    (\"after\" script)\n"
     ]
    }
   ],
   "source": [
    "ct.animate(live=True, save=True, start=9)"
   ]
  },
  {
   "cell_type": "code",
   "execution_count": 5,
   "metadata": {},
   "outputs": [
    {
     "data": {
      "text/plain": [
       "<matplotlib.animation.FuncAnimation at 0x29281fc70>"
      ]
     },
     "execution_count": 5,
     "metadata": {},
     "output_type": "execute_result"
    },
    {
     "name": "stderr",
     "output_type": "stream",
     "text": [
      "invalid command name \"11320745216_on_timer\"\n",
      "    while executing\n",
      "\"11320745216_on_timer\"\n",
      "    (\"after\" script)\n"
     ]
    }
   ],
   "source": [
    "ct.animate()"
   ]
  },
  {
   "cell_type": "markdown",
   "metadata": {},
   "source": [
    "After analysis, calling `animate()` or `inspect()` will display the results without re-analyzing them (be careful to not run them with the `live=True` option)"
   ]
  },
  {
   "cell_type": "code",
   "execution_count": 6,
   "metadata": {},
   "outputs": [
    {
     "data": {
      "text/html": [
       "<div>\n",
       "<style scoped>\n",
       "    .dataframe tbody tr th:only-of-type {\n",
       "        vertical-align: middle;\n",
       "    }\n",
       "\n",
       "    .dataframe tbody tr th {\n",
       "        vertical-align: top;\n",
       "    }\n",
       "\n",
       "    .dataframe thead th {\n",
       "        text-align: right;\n",
       "    }\n",
       "</style>\n",
       "<table border=\"1\" class=\"dataframe\">\n",
       "  <thead>\n",
       "    <tr style=\"text-align: right;\">\n",
       "      <th></th>\n",
       "      <th>folder</th>\n",
       "      <th>filename</th>\n",
       "      <th>time (unix)</th>\n",
       "      <th>x_00</th>\n",
       "      <th>y_00</th>\n",
       "      <th>p_00</th>\n",
       "      <th>a_00</th>\n",
       "      <th>x_01</th>\n",
       "      <th>y_01</th>\n",
       "      <th>p_01</th>\n",
       "      <th>a_01</th>\n",
       "      <th>x_02</th>\n",
       "      <th>y_02</th>\n",
       "      <th>p_02</th>\n",
       "      <th>a_02</th>\n",
       "    </tr>\n",
       "    <tr>\n",
       "      <th>num</th>\n",
       "      <th></th>\n",
       "      <th></th>\n",
       "      <th></th>\n",
       "      <th></th>\n",
       "      <th></th>\n",
       "      <th></th>\n",
       "      <th></th>\n",
       "      <th></th>\n",
       "      <th></th>\n",
       "      <th></th>\n",
       "      <th></th>\n",
       "      <th></th>\n",
       "      <th></th>\n",
       "      <th></th>\n",
       "      <th></th>\n",
       "    </tr>\n",
       "  </thead>\n",
       "  <tbody>\n",
       "    <tr>\n",
       "      <th>19</th>\n",
       "      <td>img1</td>\n",
       "      <td>img-00629.png</td>\n",
       "      <td>1.696408e+09</td>\n",
       "      <td>257.486434</td>\n",
       "      <td>267.281688</td>\n",
       "      <td>187.780196</td>\n",
       "      <td>49.239111</td>\n",
       "      <td>318.986777</td>\n",
       "      <td>232.658046</td>\n",
       "      <td>148.269327</td>\n",
       "      <td>43.610597</td>\n",
       "      <td>341.070689</td>\n",
       "      <td>183.560367</td>\n",
       "      <td>93.821729</td>\n",
       "      <td>35.121110</td>\n",
       "    </tr>\n",
       "    <tr>\n",
       "      <th>20</th>\n",
       "      <td>img1</td>\n",
       "      <td>img-00630.png</td>\n",
       "      <td>1.696408e+09</td>\n",
       "      <td>257.341013</td>\n",
       "      <td>267.409836</td>\n",
       "      <td>188.876524</td>\n",
       "      <td>49.416019</td>\n",
       "      <td>318.789223</td>\n",
       "      <td>232.830652</td>\n",
       "      <td>149.474913</td>\n",
       "      <td>43.787358</td>\n",
       "      <td>340.842768</td>\n",
       "      <td>183.726808</td>\n",
       "      <td>95.876903</td>\n",
       "      <td>35.426347</td>\n",
       "    </tr>\n",
       "    <tr>\n",
       "      <th>21</th>\n",
       "      <td>img1</td>\n",
       "      <td>img-00631.png</td>\n",
       "      <td>1.696408e+09</td>\n",
       "      <td>257.314170</td>\n",
       "      <td>266.883042</td>\n",
       "      <td>186.806867</td>\n",
       "      <td>49.164957</td>\n",
       "      <td>318.737706</td>\n",
       "      <td>232.349653</td>\n",
       "      <td>148.662925</td>\n",
       "      <td>43.633645</td>\n",
       "      <td>340.769110</td>\n",
       "      <td>183.241492</td>\n",
       "      <td>94.324134</td>\n",
       "      <td>35.193357</td>\n",
       "    </tr>\n",
       "    <tr>\n",
       "      <th>22</th>\n",
       "      <td>img1</td>\n",
       "      <td>img-00632.png</td>\n",
       "      <td>1.696408e+09</td>\n",
       "      <td>257.012178</td>\n",
       "      <td>266.962018</td>\n",
       "      <td>182.571702</td>\n",
       "      <td>48.658246</td>\n",
       "      <td>318.388553</td>\n",
       "      <td>232.425233</td>\n",
       "      <td>145.819732</td>\n",
       "      <td>43.249316</td>\n",
       "      <td>340.399143</td>\n",
       "      <td>183.340753</td>\n",
       "      <td>91.676493</td>\n",
       "      <td>34.688966</td>\n",
       "    </tr>\n",
       "    <tr>\n",
       "      <th>23</th>\n",
       "      <td>img1</td>\n",
       "      <td>img-00633.png</td>\n",
       "      <td>1.696408e+09</td>\n",
       "      <td>257.104580</td>\n",
       "      <td>267.175346</td>\n",
       "      <td>179.974356</td>\n",
       "      <td>48.374979</td>\n",
       "      <td>318.468979</td>\n",
       "      <td>232.644203</td>\n",
       "      <td>143.909277</td>\n",
       "      <td>42.964099</td>\n",
       "      <td>340.469594</td>\n",
       "      <td>183.553015</td>\n",
       "      <td>90.762134</td>\n",
       "      <td>34.435337</td>\n",
       "    </tr>\n",
       "  </tbody>\n",
       "</table>\n",
       "</div>"
      ],
      "text/plain": [
       "    folder       filename   time (unix)        x_00        y_00        p_00  \\\n",
       "num                                                                           \n",
       "19    img1  img-00629.png  1.696408e+09  257.486434  267.281688  187.780196   \n",
       "20    img1  img-00630.png  1.696408e+09  257.341013  267.409836  188.876524   \n",
       "21    img1  img-00631.png  1.696408e+09  257.314170  266.883042  186.806867   \n",
       "22    img1  img-00632.png  1.696408e+09  257.012178  266.962018  182.571702   \n",
       "23    img1  img-00633.png  1.696408e+09  257.104580  267.175346  179.974356   \n",
       "\n",
       "          a_00        x_01        y_01        p_01       a_01        x_02  \\\n",
       "num                                                                         \n",
       "19   49.239111  318.986777  232.658046  148.269327  43.610597  341.070689   \n",
       "20   49.416019  318.789223  232.830652  149.474913  43.787358  340.842768   \n",
       "21   49.164957  318.737706  232.349653  148.662925  43.633645  340.769110   \n",
       "22   48.658246  318.388553  232.425233  145.819732  43.249316  340.399143   \n",
       "23   48.374979  318.468979  232.644203  143.909277  42.964099  340.469594   \n",
       "\n",
       "           y_02       p_02       a_02  \n",
       "num                                    \n",
       "19   183.560367  93.821729  35.121110  \n",
       "20   183.726808  95.876903  35.426347  \n",
       "21   183.241492  94.324134  35.193357  \n",
       "22   183.340753  91.676493  34.688966  \n",
       "23   183.553015  90.762134  34.435337  "
      ]
     },
     "execution_count": 6,
     "metadata": {},
     "output_type": "execute_result"
    }
   ],
   "source": [
    "ct.results.table.tail()"
   ]
  },
  {
   "cell_type": "markdown",
   "metadata": {},
   "source": [
    "After analysis, calling `animate()` or `inspect()` will display the results without re-analyzing them (be careful to not run them with the `save=True` option)"
   ]
  },
  {
   "cell_type": "code",
   "execution_count": 7,
   "metadata": {},
   "outputs": [
    {
     "data": {
      "text/plain": [
       "array([263. , 262. , 261. , 260. , 259. , 258. , 257. , 256. , 255.5,\n",
       "       255. ])"
      ]
     },
     "execution_count": 7,
     "metadata": {},
     "output_type": "execute_result"
    }
   ],
   "source": [
    "ct.results.get_contour(0, num=12).coordinates.x[:10]"
   ]
  },
  {
   "cell_type": "code",
   "execution_count": 8,
   "metadata": {},
   "outputs": [
    {
     "data": {
      "text/plain": [
       "<filo.viewers.KeyPressSlider at 0x2a2ccff70>"
      ]
     },
     "execution_count": 8,
     "metadata": {},
     "output_type": "execute_result"
    }
   ],
   "source": [
    "ct.inspect()"
   ]
  },
  {
   "cell_type": "code",
   "execution_count": null,
   "metadata": {},
   "outputs": [
    {
     "data": {
      "text/plain": [
       "<filo.viewers.KeyPressSlider at 0x2a09f1d20>"
      ]
     },
     "execution_count": 23,
     "metadata": {},
     "output_type": "execute_result"
    }
   ],
   "source": [
    "ct.inspect(live=True)"
   ]
  },
  {
   "cell_type": "code",
   "execution_count": 9,
   "metadata": {},
   "outputs": [
    {
     "name": "stderr",
     "output_type": "stream",
     "text": [
      "100%|██████████| 50/50 [00:00<00:00, 157.53it/s]\n"
     ]
    }
   ],
   "source": [
    "ct.run()"
   ]
  },
  {
   "cell_type": "code",
   "execution_count": 10,
   "metadata": {},
   "outputs": [
    {
     "name": "stdout",
     "output_type": "stream",
     "text": [
      "\n",
      "Warning: These modules have dirty git repositories: imgseries, imgbasics, filo\n",
      "\n",
      "\n",
      "Warning: these modules are missing a tag: imgseries, imgbasics\n",
      "\n",
      "\n",
      "Warning: these modules are not in a git repository: skimage, matplotlib, numpy\n",
      "\n"
     ]
    }
   ],
   "source": [
    "ct.results.save()"
   ]
  },
  {
   "cell_type": "markdown",
   "metadata": {},
   "source": [
    "# 2) Defining and viewing contours"
   ]
  },
  {
   "cell_type": "code",
   "execution_count": null,
   "metadata": {},
   "outputs": [],
   "source": [
    "images = ImgSeries(folders, savepath=basefolder)\n",
    "images.load_transforms('for-tests-do-not-modify/Img_Transform')\n",
    "ct = ContourTracking(images, savepath='../data/untracked_data/')"
   ]
  },
  {
   "cell_type": "markdown",
   "metadata": {},
   "source": [
    "Defining contours has to be done at least once.\n",
    "\n",
    "**Important**: Matplotlib must be in an interactive mode to do so.\n",
    "\n",
    "Defining does not need to be done again in the following situations:\n",
    "- calling methods again from the same `ct` object, e.g. `ct.run()`\n",
    "- calling `ct.contours.load()` or `ct.regenerate()` to load contours data from saved metadata (.json) file."
   ]
  },
  {
   "cell_type": "markdown",
   "metadata": {},
   "source": [
    "**Note**: to improve contour detection, it might be necessary to do additional cropping/filtering on images with `images.crop` and `images.filter`"
   ]
  },
  {
   "cell_type": "code",
   "execution_count": null,
   "metadata": {},
   "outputs": [
    {
     "data": {
      "text/plain": [
       "<matplotlib.widgets.Slider at 0x2a1675000>"
      ]
     },
     "execution_count": 4,
     "metadata": {},
     "output_type": "execute_result"
    }
   ],
   "source": [
    "ct.threshold.define()"
   ]
  },
  {
   "cell_type": "code",
   "execution_count": null,
   "metadata": {},
   "outputs": [
    {
     "name": "stdout",
     "output_type": "stream",
     "text": [
      "Threshold {'value': 212}\n"
     ]
    }
   ],
   "source": [
    "print(ct.threshold)"
   ]
  },
  {
   "cell_type": "code",
   "execution_count": null,
   "metadata": {},
   "outputs": [],
   "source": [
    "ct.contour_selection.define()  # define one contour on the first image of the series"
   ]
  },
  {
   "cell_type": "code",
   "execution_count": null,
   "metadata": {},
   "outputs": [],
   "source": [
    "ct.contour_selection.define(n=3)  # define 3 contours on the first image of the series"
   ]
  },
  {
   "cell_type": "code",
   "execution_count": null,
   "metadata": {},
   "outputs": [],
   "source": [
    "ct.contour_selection.define(3, num=10)  # define 3 contours at level 170 on image #10 in the series"
   ]
  },
  {
   "cell_type": "markdown",
   "metadata": {},
   "source": [
    "Viewing analysis zones after defining or loading them:"
   ]
  },
  {
   "cell_type": "code",
   "execution_count": null,
   "metadata": {},
   "outputs": [
    {
     "data": {
      "text/plain": [
       "{'properties': {'contour 0': {'centroid': (258.92161688147326,\n",
       "    268.56459109639144),\n",
       "   'perimeter': 48.828774144948135,\n",
       "   'area': 182.471746955222},\n",
       "  'contour 1': {'centroid': (321.1909358144602, 233.5772268959366),\n",
       "   'perimeter': 43.02653409575185,\n",
       "   'area': 144.8911610410767},\n",
       "  'contour 2': {'centroid': (343.4624374788979, 183.98929340109956),\n",
       "   'perimeter': 34.32849099178767,\n",
       "   'area': 90.56938150737285}},\n",
       " 'level': 212,\n",
       " 'image': 10}"
      ]
     },
     "execution_count": 8,
     "metadata": {},
     "output_type": "execute_result"
    }
   ],
   "source": [
    "ct.contour_selection.data"
   ]
  },
  {
   "cell_type": "code",
   "execution_count": null,
   "metadata": {},
   "outputs": [
    {
     "data": {
      "text/plain": [
       "<Axes: title={'center': 'img #10, grey level 212'}>"
      ]
     },
     "execution_count": 9,
     "metadata": {},
     "output_type": "execute_result"
    }
   ],
   "source": [
    "ct.contour_selection.show()  # show contours on the image they have been defined on"
   ]
  },
  {
   "cell_type": "code",
   "execution_count": null,
   "metadata": {},
   "outputs": [],
   "source": [
    "ct.threshold.load()"
   ]
  },
  {
   "cell_type": "code",
   "execution_count": null,
   "metadata": {},
   "outputs": [
    {
     "data": {
      "text/plain": [
       "Threshold {'value': 208}"
      ]
     },
     "execution_count": 11,
     "metadata": {},
     "output_type": "execute_result"
    }
   ],
   "source": [
    "ct.threshold"
   ]
  },
  {
   "cell_type": "markdown",
   "metadata": {},
   "source": [
    "**Note**:\n",
    "Before, saving contour data was only done by calling `ct.save()`, which saves both data and metadata.\n",
    "Now, preliminary saving of zone data can be done with `ct.contours.save()`; \n",
    "Note that `ct.save()` overwrites that data if the same filename is provided."
   ]
  },
  {
   "cell_type": "code",
   "execution_count": null,
   "metadata": {},
   "outputs": [
    {
     "name": "stdout",
     "output_type": "stream",
     "text": [
      "\n",
      "Warning: These modules have dirty git repositories: imgseries, imgbasics, filo\n",
      "\n",
      "\n",
      "Warning: these modules are missing a tag: imgseries, imgbasics\n",
      "\n",
      "\n",
      "Warning: these modules are not in a git repository: skimage, matplotlib, numpy\n",
      "\n"
     ]
    }
   ],
   "source": [
    "ct.contour_selection.save()"
   ]
  },
  {
   "cell_type": "code",
   "execution_count": null,
   "metadata": {},
   "outputs": [
    {
     "name": "stderr",
     "output_type": "stream",
     "text": [
      "100%|██████████| 50/50 [00:00<00:00, 155.85it/s]\n"
     ]
    }
   ],
   "source": [
    "ct.run()"
   ]
  },
  {
   "cell_type": "code",
   "execution_count": null,
   "metadata": {},
   "outputs": [
    {
     "data": {
      "text/plain": [
       "{'path': '/Users/olivier.vincent/Python-OV/imgseries/examples/data/untracked_data',\n",
       " 'folders': ['../img1', '../img2'],\n",
       " 'contour selection': {'properties': {'contour 0': {'centroid': (258.92161688147326,\n",
       "     268.56459109639144),\n",
       "    'perimeter': 48.828774144948135,\n",
       "    'area': 182.471746955222},\n",
       "   'contour 1': {'centroid': (321.1909358144602, 233.5772268959366),\n",
       "    'perimeter': 43.02653409575185,\n",
       "    'area': 144.8911610410767},\n",
       "   'contour 2': {'centroid': (343.4624374788979, 183.98929340109956),\n",
       "    'perimeter': 34.32849099178767,\n",
       "    'area': 90.56938150737285}},\n",
       "  'level': 212,\n",
       "  'image': 10},\n",
       " 'transforms': {'flicker': False,\n",
       "  'shaking': False,\n",
       "  'grayscale': {},\n",
       "  'rotation': {'angle': 22.765009107511496},\n",
       "  'crop': {'zone': [159, 171, 467, 380]},\n",
       "  'filter': {},\n",
       "  'subtraction': {},\n",
       "  'threshold': {}}}"
      ]
     },
     "execution_count": 14,
     "metadata": {},
     "output_type": "execute_result"
    }
   ],
   "source": [
    "ct.results.metadata"
   ]
  },
  {
   "cell_type": "code",
   "execution_count": null,
   "metadata": {},
   "outputs": [
    {
     "name": "stdout",
     "output_type": "stream",
     "text": [
      "\n",
      "Warning: These modules have dirty git repositories: imgseries, imgbasics, filo\n",
      "\n",
      "\n",
      "Warning: these modules are missing a tag: imgseries, imgbasics\n",
      "\n",
      "\n",
      "Warning: these modules are not in a git repository: skimage, matplotlib, numpy\n",
      "\n"
     ]
    }
   ],
   "source": [
    "ct.results.save()"
   ]
  },
  {
   "cell_type": "markdown",
   "metadata": {},
   "source": [
    "# 6) Connect results to image series (e.g. for inspection/visualization)"
   ]
  },
  {
   "cell_type": "code",
   "execution_count": 3,
   "metadata": {},
   "outputs": [],
   "source": [
    "images = ImgSeries(folders, savepath=basefolder)\n",
    "ct = ContourTracking(images)\n",
    "\n",
    "# Line below is equivalent to call results.load() and images.load_transforms,\n",
    "# except that the transforms are taken directly from the results metadata.\n",
    "ct.regenerate(filename='for-tests-do-not-modify/Img_ContourTracking')"
   ]
  },
  {
   "cell_type": "markdown",
   "metadata": {},
   "source": [
    "Once the analysis is regenerated, all the tools associated with images (inspection, showing, animation, etc.) are available:"
   ]
  },
  {
   "cell_type": "code",
   "execution_count": 5,
   "metadata": {},
   "outputs": [
    {
     "data": {
      "text/plain": [
       "<filo.viewers.KeyPressSlider at 0x29126aa70>"
      ]
     },
     "execution_count": 5,
     "metadata": {},
     "output_type": "execute_result"
    }
   ],
   "source": [
    "ct.inspect()"
   ]
  },
  {
   "cell_type": "code",
   "execution_count": null,
   "metadata": {},
   "outputs": [
    {
     "data": {
      "text/plain": [
       "{'path': '/Users/olivier.vincent/Python-OV/imgseries/examples/data/untracked_data',\n",
       " 'folders': ['../img1', '../img2'],\n",
       " 'contour selection': {'properties': {'contour 0': {'centroid': [258.91971771176395,\n",
       "     268.56105261167784],\n",
       "    'perimeter': 49.21791294683056,\n",
       "    'area': -185.55859760532715},\n",
       "   'contour 1': {'centroid': [321.1994688210141, 233.57527180813884],\n",
       "    'perimeter': 43.40386973919024,\n",
       "    'area': -147.45162297356632},\n",
       "   'contour 2': {'centroid': [343.46649093385753, 183.99377183456244],\n",
       "    'perimeter': 34.7021950664108,\n",
       "    'area': -92.59459704615058}},\n",
       "  'level': 208,\n",
       "  'image': 10},\n",
       " 'transforms': {'flicker': False,\n",
       "  'shaking': False,\n",
       "  'grayscale': {},\n",
       "  'rotation': {'angle': 22.765009107511496},\n",
       "  'crop': {'zone': [159, 171, 467, 380]},\n",
       "  'filter': {},\n",
       "  'subtraction': {},\n",
       "  'threshold': {}},\n",
       " 'time (utc)': '2025-10-27 15:51:30',\n",
       " 'code version': {'skimage': {'status': 'not a git repository',\n",
       "   'tag': 'v0.25.0'},\n",
       "  'imgseries': {'hash': 'd69321c9adb2b678f46e4516fbeac24fae7e5921',\n",
       "   'status': 'dirty'},\n",
       "  'imgbasics': {'hash': '935036fbd20327ac8decf9f53c2471e18b7588f1',\n",
       "   'status': 'dirty'},\n",
       "  'filo': {'hash': '4f24a52696ddb9ab10e817e2dd6bfd231fa03b4a',\n",
       "   'status': 'dirty',\n",
       "   'tag': 'v2.2.0'},\n",
       "  'matplotlib': {'status': 'not a git repository', 'tag': 'v3.10.0'},\n",
       "  'numpy': {'status': 'not a git repository', 'tag': 'v1.26.4'}}}"
      ]
     },
     "execution_count": 20,
     "metadata": {},
     "output_type": "execute_result"
    }
   ],
   "source": [
    "ct.results.metadata"
   ]
  },
  {
   "cell_type": "code",
   "execution_count": null,
   "metadata": {},
   "outputs": [
    {
     "data": {
      "text/plain": [
       "ContourCoordinates(x=array([323.        , 322.        , 321.        , 320.        ,\n",
       "       319.        , 318.        , 317.67924528, 317.        ,\n",
       "       316.45945946, 316.        , 315.58666667, 315.        ,\n",
       "       314.94029851, 314.7012987 , 314.47560976, 314.52857143,\n",
       "       314.55696203, 314.65822785, 315.        , 315.25423729,\n",
       "       315.71929825, 316.        , 316.68518519, 317.        ,\n",
       "       317.69230769, 318.        , 319.        , 319.85      ,\n",
       "       320.        , 321.        , 322.        , 323.        ,\n",
       "       324.        , 324.03703704, 325.        , 325.8125    ,\n",
       "       326.        , 326.81818182, 327.        , 327.36363636,\n",
       "       327.75471698, 328.        , 328.08888889, 328.08888889,\n",
       "       328.        , 327.9375    , 327.71153846, 327.22222222,\n",
       "       327.        , 326.56060606, 326.        , 325.64583333,\n",
       "       325.        , 324.78947368, 324.        , 323.11627907,\n",
       "       323.        ]), y=array([240.07692308, 240.45679012, 240.72222222, 240.57627119,\n",
       "       240.52702703, 240.265625  , 240.        , 239.35714286,\n",
       "       239.        , 238.64583333, 238.        , 237.08333333,\n",
       "       237.        , 236.        , 235.        , 234.        ,\n",
       "       233.        , 232.        , 231.35714286, 231.        ,\n",
       "       230.        , 229.69811321, 229.        , 228.67924528,\n",
       "       228.        , 227.75384615, 227.27419355, 227.        ,\n",
       "       226.95081967, 226.56164384, 226.55405405, 226.6875    ,\n",
       "       226.97560976, 227.        , 227.4       , 228.        ,\n",
       "       228.2       , 229.        , 229.28571429, 230.        ,\n",
       "       231.        , 231.76470588, 232.        , 233.        ,\n",
       "       233.57142857, 234.        , 235.        , 236.        ,\n",
       "       236.29268293, 237.        , 237.68518519, 238.        ,\n",
       "       238.79487179, 239.        , 239.44117647, 240.        ,\n",
       "       240.07692308]))"
      ]
     },
     "execution_count": 14,
     "metadata": {},
     "output_type": "execute_result"
    }
   ],
   "source": [
    "ct.results.data['contours'][10][1].coordinates"
   ]
  },
  {
   "cell_type": "code",
   "execution_count": null,
   "metadata": {},
   "outputs": [],
   "source": []
  }
 ],
 "metadata": {
  "kernelspec": {
   "display_name": "base",
   "language": "python",
   "name": "python3"
  },
  "language_info": {
   "codemirror_mode": {
    "name": "ipython",
    "version": 3
   },
   "file_extension": ".py",
   "mimetype": "text/x-python",
   "name": "python",
   "nbconvert_exporter": "python",
   "pygments_lexer": "ipython3",
   "version": "3.10.16"
  }
 },
 "nbformat": 4,
 "nbformat_minor": 4
}

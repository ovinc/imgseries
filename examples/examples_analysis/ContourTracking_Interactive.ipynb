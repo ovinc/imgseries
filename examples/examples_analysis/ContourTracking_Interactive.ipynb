{
 "cells": [
  {
   "cell_type": "code",
   "execution_count": 1,
   "metadata": {},
   "outputs": [],
   "source": [
    "%matplotlib tk\n",
    "from pathlib import Path\n",
    "from imgseries import ImgSeries, ContourTracking, ContourTrackingResults"
   ]
  },
  {
   "cell_type": "markdown",
   "metadata": {},
   "source": [
    "**NOTE**: This notebook only shows the interactive ContourTracking tools. See *ContourTracking.ipynb* for non-interactive options.\n",
    "\n",
    "**NOTE**: the main (numbered) sections are independent of each other and correspond to the sections in *ContourTracking.ipynb*"
   ]
  },
  {
   "cell_type": "code",
   "execution_count": 2,
   "metadata": {},
   "outputs": [],
   "source": [
    "# Define where images are stored, here distributed among two folders\n",
    "basefolder = Path('../data/')\n",
    "folders = [basefolder / folder for folder in ('img1', 'img2')]"
   ]
  },
  {
   "cell_type": "markdown",
   "metadata": {},
   "source": [
    "# 1) Minimal analysis"
   ]
  },
  {
   "cell_type": "code",
   "execution_count": 3,
   "metadata": {},
   "outputs": [],
   "source": [
    "images = ImgSeries(folders, savepath=basefolder)\n",
    "\n",
    "# load pre-defined transforms (see ImgSeries for how to define those)\n",
    "images.load_transforms('for-tests-do-not-modify/Img_Transform')\n",
    "\n",
    "# Save results in untracked folder to avoid git tracking test files\n",
    "ct = ContourTracking(images, savepath='../data/untracked_data/')\n",
    "\n",
    "# Load pre-defined contours, see below how to define them directly\n",
    "ct.contours.load('../for-tests-do-not-modify/Img_ContourTracking')"
   ]
  },
  {
   "cell_type": "markdown",
   "metadata": {},
   "source": [
    "If using an interactive matplotlib backend, it is also possible to view the analysis in real time, either using `inspect()` or `animate()` with the `live=True` option. In both cases, only the displayed data will have been analyzed in the end."
   ]
  },
  {
   "cell_type": "code",
   "execution_count": 4,
   "metadata": {},
   "outputs": [
    {
     "data": {
      "text/plain": [
       "<filo.viewers.KeyPressSlider at 0x29266fbe0>"
      ]
     },
     "execution_count": 4,
     "metadata": {},
     "output_type": "execute_result"
    }
   ],
   "source": [
    "ct.inspect(live=True)"
   ]
  },
  {
   "cell_type": "code",
   "execution_count": 5,
   "metadata": {},
   "outputs": [
    {
     "data": {
      "text/html": [
       "<div>\n",
       "<style scoped>\n",
       "    .dataframe tbody tr th:only-of-type {\n",
       "        vertical-align: middle;\n",
       "    }\n",
       "\n",
       "    .dataframe tbody tr th {\n",
       "        vertical-align: top;\n",
       "    }\n",
       "\n",
       "    .dataframe thead th {\n",
       "        text-align: right;\n",
       "    }\n",
       "</style>\n",
       "<table border=\"1\" class=\"dataframe\">\n",
       "  <thead>\n",
       "    <tr style=\"text-align: right;\">\n",
       "      <th></th>\n",
       "      <th>folder</th>\n",
       "      <th>filename</th>\n",
       "      <th>time (unix)</th>\n",
       "      <th>x1</th>\n",
       "      <th>y1</th>\n",
       "      <th>p1</th>\n",
       "      <th>a1</th>\n",
       "      <th>x2</th>\n",
       "      <th>y2</th>\n",
       "      <th>p2</th>\n",
       "      <th>a2</th>\n",
       "      <th>x3</th>\n",
       "      <th>y3</th>\n",
       "      <th>p3</th>\n",
       "      <th>a3</th>\n",
       "    </tr>\n",
       "    <tr>\n",
       "      <th>num</th>\n",
       "      <th></th>\n",
       "      <th></th>\n",
       "      <th></th>\n",
       "      <th></th>\n",
       "      <th></th>\n",
       "      <th></th>\n",
       "      <th></th>\n",
       "      <th></th>\n",
       "      <th></th>\n",
       "      <th></th>\n",
       "      <th></th>\n",
       "      <th></th>\n",
       "      <th></th>\n",
       "      <th></th>\n",
       "      <th></th>\n",
       "    </tr>\n",
       "  </thead>\n",
       "  <tbody>\n",
       "    <tr>\n",
       "      <th>40</th>\n",
       "      <td>img2</td>\n",
       "      <td>img-00650.png</td>\n",
       "      <td>1.696408e+09</td>\n",
       "      <td>186.789509</td>\n",
       "      <td>267.813787</td>\n",
       "      <td>44.073908</td>\n",
       "      <td>-147.074605</td>\n",
       "      <td>258.373225</td>\n",
       "      <td>268.790467</td>\n",
       "      <td>52.010769</td>\n",
       "      <td>-207.090668</td>\n",
       "      <td>321.465881</td>\n",
       "      <td>233.571504</td>\n",
       "      <td>46.831988</td>\n",
       "      <td>-168.592823</td>\n",
       "    </tr>\n",
       "    <tr>\n",
       "      <th>41</th>\n",
       "      <td>img2</td>\n",
       "      <td>img-00651.png</td>\n",
       "      <td>1.696408e+09</td>\n",
       "      <td>186.707489</td>\n",
       "      <td>267.939125</td>\n",
       "      <td>44.137971</td>\n",
       "      <td>-147.894955</td>\n",
       "      <td>258.478241</td>\n",
       "      <td>268.894038</td>\n",
       "      <td>52.130641</td>\n",
       "      <td>-207.667151</td>\n",
       "      <td>321.720738</td>\n",
       "      <td>233.625600</td>\n",
       "      <td>47.052733</td>\n",
       "      <td>-170.778436</td>\n",
       "    </tr>\n",
       "    <tr>\n",
       "      <th>42</th>\n",
       "      <td>img2</td>\n",
       "      <td>img-00652.png</td>\n",
       "      <td>1.696408e+09</td>\n",
       "      <td>186.650660</td>\n",
       "      <td>268.092194</td>\n",
       "      <td>44.394109</td>\n",
       "      <td>-149.267222</td>\n",
       "      <td>258.585359</td>\n",
       "      <td>269.043593</td>\n",
       "      <td>52.121481</td>\n",
       "      <td>-208.357336</td>\n",
       "      <td>321.982893</td>\n",
       "      <td>233.700934</td>\n",
       "      <td>47.104595</td>\n",
       "      <td>-171.730809</td>\n",
       "    </tr>\n",
       "    <tr>\n",
       "      <th>43</th>\n",
       "      <td>img2</td>\n",
       "      <td>img-00653.png</td>\n",
       "      <td>1.696408e+09</td>\n",
       "      <td>186.644441</td>\n",
       "      <td>268.142085</td>\n",
       "      <td>44.525680</td>\n",
       "      <td>-149.913943</td>\n",
       "      <td>258.759205</td>\n",
       "      <td>269.085678</td>\n",
       "      <td>52.195592</td>\n",
       "      <td>-208.845295</td>\n",
       "      <td>322.313955</td>\n",
       "      <td>233.656854</td>\n",
       "      <td>47.117466</td>\n",
       "      <td>-172.674448</td>\n",
       "    </tr>\n",
       "    <tr>\n",
       "      <th>44</th>\n",
       "      <td>img2</td>\n",
       "      <td>img-00654.png</td>\n",
       "      <td>1.696408e+09</td>\n",
       "      <td>186.559716</td>\n",
       "      <td>268.432024</td>\n",
       "      <td>44.672674</td>\n",
       "      <td>-150.791281</td>\n",
       "      <td>258.814020</td>\n",
       "      <td>269.384486</td>\n",
       "      <td>52.195990</td>\n",
       "      <td>-209.005009</td>\n",
       "      <td>322.540091</td>\n",
       "      <td>233.894467</td>\n",
       "      <td>47.214832</td>\n",
       "      <td>-173.297216</td>\n",
       "    </tr>\n",
       "  </tbody>\n",
       "</table>\n",
       "</div>"
      ],
      "text/plain": [
       "    folder       filename   time (unix)          x1          y1         p1  \\\n",
       "num                                                                          \n",
       "40    img2  img-00650.png  1.696408e+09  186.789509  267.813787  44.073908   \n",
       "41    img2  img-00651.png  1.696408e+09  186.707489  267.939125  44.137971   \n",
       "42    img2  img-00652.png  1.696408e+09  186.650660  268.092194  44.394109   \n",
       "43    img2  img-00653.png  1.696408e+09  186.644441  268.142085  44.525680   \n",
       "44    img2  img-00654.png  1.696408e+09  186.559716  268.432024  44.672674   \n",
       "\n",
       "             a1          x2          y2         p2          a2          x3  \\\n",
       "num                                                                          \n",
       "40  -147.074605  258.373225  268.790467  52.010769 -207.090668  321.465881   \n",
       "41  -147.894955  258.478241  268.894038  52.130641 -207.667151  321.720738   \n",
       "42  -149.267222  258.585359  269.043593  52.121481 -208.357336  321.982893   \n",
       "43  -149.913943  258.759205  269.085678  52.195592 -208.845295  322.313955   \n",
       "44  -150.791281  258.814020  269.384486  52.195990 -209.005009  322.540091   \n",
       "\n",
       "             y3         p3          a3  \n",
       "num                                     \n",
       "40   233.571504  46.831988 -168.592823  \n",
       "41   233.625600  47.052733 -170.778436  \n",
       "42   233.700934  47.104595 -171.730809  \n",
       "43   233.656854  47.117466 -172.674448  \n",
       "44   233.894467  47.214832 -173.297216  "
      ]
     },
     "execution_count": 5,
     "metadata": {},
     "output_type": "execute_result"
    }
   ],
   "source": [
    "ct.results.data.tail()"
   ]
  },
  {
   "cell_type": "code",
   "execution_count": 10,
   "metadata": {},
   "outputs": [
    {
     "data": {
      "text/plain": [
       "<matplotlib.animation.FuncAnimation at 0x2942312d0>"
      ]
     },
     "execution_count": 10,
     "metadata": {},
     "output_type": "execute_result"
    }
   ],
   "source": [
    "ct.animate(live=True, start=9)"
   ]
  },
  {
   "cell_type": "code",
   "execution_count": 11,
   "metadata": {},
   "outputs": [
    {
     "data": {
      "text/html": [
       "<div>\n",
       "<style scoped>\n",
       "    .dataframe tbody tr th:only-of-type {\n",
       "        vertical-align: middle;\n",
       "    }\n",
       "\n",
       "    .dataframe tbody tr th {\n",
       "        vertical-align: top;\n",
       "    }\n",
       "\n",
       "    .dataframe thead th {\n",
       "        text-align: right;\n",
       "    }\n",
       "</style>\n",
       "<table border=\"1\" class=\"dataframe\">\n",
       "  <thead>\n",
       "    <tr style=\"text-align: right;\">\n",
       "      <th></th>\n",
       "      <th>folder</th>\n",
       "      <th>filename</th>\n",
       "      <th>time (unix)</th>\n",
       "      <th>x1</th>\n",
       "      <th>y1</th>\n",
       "      <th>p1</th>\n",
       "      <th>a1</th>\n",
       "      <th>x2</th>\n",
       "      <th>y2</th>\n",
       "      <th>p2</th>\n",
       "      <th>a2</th>\n",
       "      <th>x3</th>\n",
       "      <th>y3</th>\n",
       "      <th>p3</th>\n",
       "      <th>a3</th>\n",
       "    </tr>\n",
       "    <tr>\n",
       "      <th>num</th>\n",
       "      <th></th>\n",
       "      <th></th>\n",
       "      <th></th>\n",
       "      <th></th>\n",
       "      <th></th>\n",
       "      <th></th>\n",
       "      <th></th>\n",
       "      <th></th>\n",
       "      <th></th>\n",
       "      <th></th>\n",
       "      <th></th>\n",
       "      <th></th>\n",
       "      <th></th>\n",
       "      <th></th>\n",
       "      <th></th>\n",
       "    </tr>\n",
       "  </thead>\n",
       "  <tbody>\n",
       "    <tr>\n",
       "      <th>16</th>\n",
       "      <td>img1</td>\n",
       "      <td>img-00626.png</td>\n",
       "      <td>1.696408e+09</td>\n",
       "      <td>187.161097</td>\n",
       "      <td>266.578527</td>\n",
       "      <td>42.640673</td>\n",
       "      <td>-138.060439</td>\n",
       "      <td>257.394503</td>\n",
       "      <td>267.618030</td>\n",
       "      <td>51.454644</td>\n",
       "      <td>-202.760690</td>\n",
       "      <td>319.082600</td>\n",
       "      <td>232.891715</td>\n",
       "      <td>45.557623</td>\n",
       "      <td>-161.111310</td>\n",
       "    </tr>\n",
       "    <tr>\n",
       "      <th>17</th>\n",
       "      <td>img1</td>\n",
       "      <td>img-00627.png</td>\n",
       "      <td>1.696408e+09</td>\n",
       "      <td>187.237329</td>\n",
       "      <td>266.205915</td>\n",
       "      <td>42.661195</td>\n",
       "      <td>-138.454240</td>\n",
       "      <td>257.394434</td>\n",
       "      <td>267.279718</td>\n",
       "      <td>51.396737</td>\n",
       "      <td>-203.654896</td>\n",
       "      <td>319.007545</td>\n",
       "      <td>232.569520</td>\n",
       "      <td>45.700096</td>\n",
       "      <td>-161.923508</td>\n",
       "    </tr>\n",
       "    <tr>\n",
       "      <th>18</th>\n",
       "      <td>img1</td>\n",
       "      <td>img-00628.png</td>\n",
       "      <td>1.696408e+09</td>\n",
       "      <td>187.423646</td>\n",
       "      <td>266.205919</td>\n",
       "      <td>42.940067</td>\n",
       "      <td>-140.357916</td>\n",
       "      <td>257.492590</td>\n",
       "      <td>267.277377</td>\n",
       "      <td>51.652677</td>\n",
       "      <td>-205.756568</td>\n",
       "      <td>319.027939</td>\n",
       "      <td>232.614490</td>\n",
       "      <td>45.888083</td>\n",
       "      <td>-162.951397</td>\n",
       "    </tr>\n",
       "    <tr>\n",
       "      <th>19</th>\n",
       "      <td>img1</td>\n",
       "      <td>img-00629.png</td>\n",
       "      <td>1.696408e+09</td>\n",
       "      <td>187.532449</td>\n",
       "      <td>266.233544</td>\n",
       "      <td>43.436513</td>\n",
       "      <td>-143.289527</td>\n",
       "      <td>257.511243</td>\n",
       "      <td>267.283046</td>\n",
       "      <td>52.145407</td>\n",
       "      <td>-209.605415</td>\n",
       "      <td>318.993348</td>\n",
       "      <td>232.646246</td>\n",
       "      <td>46.331531</td>\n",
       "      <td>-166.277589</td>\n",
       "    </tr>\n",
       "    <tr>\n",
       "      <th>20</th>\n",
       "      <td>img1</td>\n",
       "      <td>img-00630.png</td>\n",
       "      <td>1.696408e+09</td>\n",
       "      <td>187.477777</td>\n",
       "      <td>266.365915</td>\n",
       "      <td>43.561492</td>\n",
       "      <td>-145.322834</td>\n",
       "      <td>257.373557</td>\n",
       "      <td>267.416427</td>\n",
       "      <td>52.216684</td>\n",
       "      <td>-210.719202</td>\n",
       "      <td>318.802785</td>\n",
       "      <td>232.819217</td>\n",
       "      <td>46.393121</td>\n",
       "      <td>-167.161730</td>\n",
       "    </tr>\n",
       "  </tbody>\n",
       "</table>\n",
       "</div>"
      ],
      "text/plain": [
       "    folder       filename   time (unix)          x1          y1         p1  \\\n",
       "num                                                                          \n",
       "16    img1  img-00626.png  1.696408e+09  187.161097  266.578527  42.640673   \n",
       "17    img1  img-00627.png  1.696408e+09  187.237329  266.205915  42.661195   \n",
       "18    img1  img-00628.png  1.696408e+09  187.423646  266.205919  42.940067   \n",
       "19    img1  img-00629.png  1.696408e+09  187.532449  266.233544  43.436513   \n",
       "20    img1  img-00630.png  1.696408e+09  187.477777  266.365915  43.561492   \n",
       "\n",
       "             a1          x2          y2         p2          a2          x3  \\\n",
       "num                                                                          \n",
       "16  -138.060439  257.394503  267.618030  51.454644 -202.760690  319.082600   \n",
       "17  -138.454240  257.394434  267.279718  51.396737 -203.654896  319.007545   \n",
       "18  -140.357916  257.492590  267.277377  51.652677 -205.756568  319.027939   \n",
       "19  -143.289527  257.511243  267.283046  52.145407 -209.605415  318.993348   \n",
       "20  -145.322834  257.373557  267.416427  52.216684 -210.719202  318.802785   \n",
       "\n",
       "             y3         p3          a3  \n",
       "num                                     \n",
       "16   232.891715  45.557623 -161.111310  \n",
       "17   232.569520  45.700096 -161.923508  \n",
       "18   232.614490  45.888083 -162.951397  \n",
       "19   232.646246  46.331531 -166.277589  \n",
       "20   232.819217  46.393121 -167.161730  "
      ]
     },
     "execution_count": 11,
     "metadata": {},
     "output_type": "execute_result"
    }
   ],
   "source": [
    "ct.results.data.tail()"
   ]
  },
  {
   "cell_type": "markdown",
   "metadata": {},
   "source": [
    "After analysis, calling `animate()` or `inspect()` will display the results without re-analyzing them (be careful to not run them with the `live=True` option)"
   ]
  },
  {
   "cell_type": "code",
   "execution_count": 12,
   "metadata": {},
   "outputs": [
    {
     "data": {
      "text/plain": [
       "<filo.viewers.KeyPressSlider at 0x295329510>"
      ]
     },
     "execution_count": 12,
     "metadata": {},
     "output_type": "execute_result"
    }
   ],
   "source": [
    "ct.inspect()"
   ]
  },
  {
   "cell_type": "code",
   "execution_count": 13,
   "metadata": {},
   "outputs": [
    {
     "data": {
      "text/plain": [
       "<matplotlib.animation.FuncAnimation at 0x292c44160>"
      ]
     },
     "execution_count": 13,
     "metadata": {},
     "output_type": "execute_result"
    }
   ],
   "source": [
    "ct.animate()"
   ]
  },
  {
   "cell_type": "markdown",
   "metadata": {},
   "source": [
    "# 2) Defining and viewing contours"
   ]
  },
  {
   "cell_type": "code",
   "execution_count": 14,
   "metadata": {},
   "outputs": [],
   "source": [
    "images = ImgSeries(folders, savepath=basefolder)\n",
    "images.load_transforms('for-tests-do-not-modify/Img_Transform')\n",
    "ct = ContourTracking(images, savepath='../data/untracked_data/')"
   ]
  },
  {
   "cell_type": "markdown",
   "metadata": {},
   "source": [
    "Defining contours has to be done at least once.\n",
    "\n",
    "**Important**: Matplotlib must be in an interactive mode to do so.\n",
    "\n",
    "Defining does not need to be done again in the following situations:\n",
    "- calling methods again from the same `ct` object, e.g. `ct.run()`\n",
    "- calling `ct.contours.load()` or `ct.regenerate()` to load contours data from saved metadata (.json) file."
   ]
  },
  {
   "cell_type": "markdown",
   "metadata": {},
   "source": [
    "**Note**: to improve contour detection, it might be necessary to do additional cropping/filtering on images with `images.crop` and `images.filter`"
   ]
  },
  {
   "cell_type": "code",
   "execution_count": 15,
   "metadata": {},
   "outputs": [
    {
     "data": {
      "text/plain": [
       "<matplotlib.widgets.Slider at 0x294562c20>"
      ]
     },
     "execution_count": 15,
     "metadata": {},
     "output_type": "execute_result"
    }
   ],
   "source": [
    "ct.threshold.define()"
   ]
  },
  {
   "cell_type": "code",
   "execution_count": 16,
   "metadata": {},
   "outputs": [
    {
     "name": "stdout",
     "output_type": "stream",
     "text": [
      "Threshold {'value': 162}\n"
     ]
    }
   ],
   "source": [
    "print(ct.threshold)"
   ]
  },
  {
   "cell_type": "code",
   "execution_count": 17,
   "metadata": {},
   "outputs": [],
   "source": [
    "ct.contours.define()  # define one contour on the first image of the series"
   ]
  },
  {
   "cell_type": "code",
   "execution_count": 18,
   "metadata": {},
   "outputs": [],
   "source": [
    "ct.contours.define(n=3)  # define 3 contours on the first image of the series"
   ]
  },
  {
   "cell_type": "code",
   "execution_count": null,
   "metadata": {},
   "outputs": [],
   "source": [
    "ct.contours.define(3, num=10)  # define 3 contours at level 170 on image #10 in the series"
   ]
  },
  {
   "cell_type": "markdown",
   "metadata": {},
   "source": [
    "Viewing analysis zones after defining or loading them:"
   ]
  },
  {
   "cell_type": "code",
   "execution_count": null,
   "metadata": {},
   "outputs": [
    {
     "data": {
      "text/plain": [
       "{'position': {'contour 1': (188.04110067355455, 267.5245090373116),\n",
       "  'contour 2': (258.9021791530991, 268.53190375527873),\n",
       "  'contour 3': (321.2973382438927, 233.5584805632059)},\n",
       " 'level': 182,\n",
       " 'image': 10}"
      ]
     },
     "execution_count": 7,
     "metadata": {},
     "output_type": "execute_result"
    }
   ],
   "source": [
    "ct.contours.data"
   ]
  },
  {
   "cell_type": "code",
   "execution_count": null,
   "metadata": {},
   "outputs": [
    {
     "data": {
      "text/plain": [
       "<Axes: title={'center': 'img #0, grey level 182'}>"
      ]
     },
     "execution_count": 12,
     "metadata": {},
     "output_type": "execute_result"
    }
   ],
   "source": [
    "ct.contours.show()  # show contours on the image they have been defined on"
   ]
  },
  {
   "cell_type": "code",
   "execution_count": null,
   "metadata": {},
   "outputs": [],
   "source": [
    "ct.threshold.load()"
   ]
  },
  {
   "cell_type": "code",
   "execution_count": null,
   "metadata": {},
   "outputs": [
    {
     "data": {
      "text/plain": [
       "Threshold object {'value': 182}"
      ]
     },
     "execution_count": 14,
     "metadata": {},
     "output_type": "execute_result"
    }
   ],
   "source": [
    "ct.threshold"
   ]
  },
  {
   "cell_type": "markdown",
   "metadata": {},
   "source": [
    "**Note**:\n",
    "Before, saving contour data was only done by calling `ct.save()`, which saves both data and metadata.\n",
    "Now, preliminary saving of zone data can be done with `ct.contours.save()`; \n",
    "Note that `ct.save()` overwrites that data if the same filename is provided."
   ]
  },
  {
   "cell_type": "code",
   "execution_count": 19,
   "metadata": {},
   "outputs": [
    {
     "name": "stdout",
     "output_type": "stream",
     "text": [
      "\n",
      "Warning: These modules have dirty git repositories: imgseries\n",
      "\n",
      "\n",
      "Warning: these modules are missing a tag: imgseries, filo\n",
      "\n",
      "\n",
      "Warning: these modules are not in a git repository: skimage, matplotlib, numpy\n",
      "\n"
     ]
    }
   ],
   "source": [
    "ct.contours.save()"
   ]
  },
  {
   "cell_type": "markdown",
   "metadata": {},
   "source": [
    "# 5) Connect results to image series (e.g. for inspection/visualization)"
   ]
  },
  {
   "cell_type": "code",
   "execution_count": 20,
   "metadata": {},
   "outputs": [],
   "source": [
    "images = ImgSeries(folders, savepath=basefolder)\n",
    "ct = ContourTracking(images)\n",
    "\n",
    "# Line below is equivalent to call results.load() and images.load_transforms,\n",
    "# except that the transforms are taken directly from the results metadata.\n",
    "ct.regenerate(filename='for-tests-do-not-modify/Img_ContourTracking')"
   ]
  },
  {
   "cell_type": "markdown",
   "metadata": {},
   "source": [
    "Once the analysis is regenerated, all the tools associated with images (inspection, showing, animation, etc.) are available:"
   ]
  },
  {
   "cell_type": "code",
   "execution_count": 21,
   "metadata": {},
   "outputs": [
    {
     "data": {
      "text/plain": [
       "<filo.viewers.KeyPressSlider at 0x29279a470>"
      ]
     },
     "execution_count": 21,
     "metadata": {},
     "output_type": "execute_result"
    }
   ],
   "source": [
    "ct.inspect()"
   ]
  },
  {
   "cell_type": "code",
   "execution_count": null,
   "metadata": {},
   "outputs": [],
   "source": []
  }
 ],
 "metadata": {
  "kernelspec": {
   "display_name": "base",
   "language": "python",
   "name": "python3"
  },
  "language_info": {
   "codemirror_mode": {
    "name": "ipython",
    "version": 3
   },
   "file_extension": ".py",
   "mimetype": "text/x-python",
   "name": "python",
   "nbconvert_exporter": "python",
   "pygments_lexer": "ipython3",
   "version": "3.10.9"
  }
 },
 "nbformat": 4,
 "nbformat_minor": 4
}

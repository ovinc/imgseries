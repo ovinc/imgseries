{
 "cells": [
  {
   "cell_type": "code",
   "execution_count": 1,
   "metadata": {},
   "outputs": [],
   "source": [
    "%matplotlib tk\n",
    "from pathlib import Path\n",
    "from imgseries import ImgSeries, ContourTracking"
   ]
  },
  {
   "cell_type": "markdown",
   "metadata": {},
   "source": [
    "**NOTE**: This notebook only shows the interactive ContourTracking tools. See *ContourTracking.ipynb* for non-interactive options.\n",
    "\n",
    "**NOTE**: the main (numbered) sections are independent of each other and correspond to the sections in *ContourTracking.ipynb*"
   ]
  },
  {
   "cell_type": "code",
   "execution_count": 2,
   "metadata": {},
   "outputs": [],
   "source": [
    "# Define where images are stored, here distributed among two folders\n",
    "basefolder = Path('../data/')\n",
    "folders = [basefolder / folder for folder in ('img1', 'img2')]"
   ]
  },
  {
   "cell_type": "markdown",
   "metadata": {},
   "source": [
    "# 1) Minimal analysis"
   ]
  },
  {
   "cell_type": "code",
   "execution_count": 3,
   "metadata": {},
   "outputs": [],
   "source": [
    "images = ImgSeries(folders, savepath=basefolder)\n",
    "\n",
    "# load pre-defined transforms (see ImgSeries for how to define those)\n",
    "images.load_transforms('for-tests-do-not-modify/Img_Transform')\n",
    "\n",
    "# Save results in untracked folder to avoid git tracking test files\n",
    "ct = ContourTracking(images, savepath='../data/untracked_data/')\n",
    "\n",
    "# Load pre-defined contours, see below how to define them directly\n",
    "ct.contour_selection.load('../for-tests-do-not-modify/Img_ContourTracking')"
   ]
  },
  {
   "cell_type": "markdown",
   "metadata": {},
   "source": [
    "If using an interactive matplotlib backend, it is also possible to view the analysis in real time, either using `inspect()` or `animate()` with the `live=True` option. \n",
    "\n",
    "If you want the data to be saved in the end (i.e. when the figure is closed), use the `save=True` option. It will transfer the results to `ct.results` and overwrite any pre-existing results."
   ]
  },
  {
   "cell_type": "code",
   "execution_count": 4,
   "metadata": {},
   "outputs": [
    {
     "data": {
      "text/plain": [
       "<filo.viewers.KeyPressSlider at 0x293b76020>"
      ]
     },
     "execution_count": 4,
     "metadata": {},
     "output_type": "execute_result"
    }
   ],
   "source": [
    "ct.inspect(live=True)"
   ]
  },
  {
   "cell_type": "code",
   "execution_count": 5,
   "metadata": {},
   "outputs": [],
   "source": [
    "ct.results.data"
   ]
  },
  {
   "cell_type": "code",
   "execution_count": 6,
   "metadata": {},
   "outputs": [
    {
     "data": {
      "text/plain": [
       "<matplotlib.animation.FuncAnimation at 0x294177f40>"
      ]
     },
     "execution_count": 6,
     "metadata": {},
     "output_type": "execute_result"
    },
    {
     "name": "stderr",
     "output_type": "stream",
     "text": [
      "invalid command name \"11055549952_on_timer\"\n",
      "    while executing\n",
      "\"11055549952_on_timer\"\n",
      "    (\"after\" script)\n"
     ]
    }
   ],
   "source": [
    "ct.animate(live=True, save=True, start=9)"
   ]
  },
  {
   "cell_type": "code",
   "execution_count": 7,
   "metadata": {},
   "outputs": [
    {
     "data": {
      "text/plain": [
       "<matplotlib.animation.FuncAnimation at 0x152d797e0>"
      ]
     },
     "execution_count": 7,
     "metadata": {},
     "output_type": "execute_result"
    },
    {
     "name": "stderr",
     "output_type": "stream",
     "text": [
      "invalid command name \"11114578048_on_timer\"\n",
      "    while executing\n",
      "\"11114578048_on_timer\"\n",
      "    (\"after\" script)\n"
     ]
    }
   ],
   "source": [
    "ct.animate()"
   ]
  },
  {
   "cell_type": "markdown",
   "metadata": {},
   "source": [
    "After analysis, calling `animate()` or `inspect()` will display the results without re-analyzing them (be careful to not run them with the `live=True` option)"
   ]
  },
  {
   "cell_type": "code",
   "execution_count": 8,
   "metadata": {},
   "outputs": [
    {
     "data": {
      "text/html": [
       "<div>\n",
       "<style scoped>\n",
       "    .dataframe tbody tr th:only-of-type {\n",
       "        vertical-align: middle;\n",
       "    }\n",
       "\n",
       "    .dataframe tbody tr th {\n",
       "        vertical-align: top;\n",
       "    }\n",
       "\n",
       "    .dataframe thead th {\n",
       "        text-align: right;\n",
       "    }\n",
       "</style>\n",
       "<table border=\"1\" class=\"dataframe\">\n",
       "  <thead>\n",
       "    <tr style=\"text-align: right;\">\n",
       "      <th></th>\n",
       "      <th>folder</th>\n",
       "      <th>filename</th>\n",
       "      <th>time (unix)</th>\n",
       "      <th>x_00</th>\n",
       "      <th>y_00</th>\n",
       "      <th>p_00</th>\n",
       "      <th>a_00</th>\n",
       "      <th>x_01</th>\n",
       "      <th>y_01</th>\n",
       "      <th>p_01</th>\n",
       "      <th>a_01</th>\n",
       "      <th>x_02</th>\n",
       "      <th>y_02</th>\n",
       "      <th>p_02</th>\n",
       "      <th>a_02</th>\n",
       "    </tr>\n",
       "    <tr>\n",
       "      <th>num</th>\n",
       "      <th></th>\n",
       "      <th></th>\n",
       "      <th></th>\n",
       "      <th></th>\n",
       "      <th></th>\n",
       "      <th></th>\n",
       "      <th></th>\n",
       "      <th></th>\n",
       "      <th></th>\n",
       "      <th></th>\n",
       "      <th></th>\n",
       "      <th></th>\n",
       "      <th></th>\n",
       "      <th></th>\n",
       "      <th></th>\n",
       "    </tr>\n",
       "  </thead>\n",
       "  <tbody>\n",
       "    <tr>\n",
       "      <th>15</th>\n",
       "      <td>img1</td>\n",
       "      <td>img-00625.png</td>\n",
       "      <td>1.696408e+09</td>\n",
       "      <td>257.428143</td>\n",
       "      <td>267.405788</td>\n",
       "      <td>182.141287</td>\n",
       "      <td>48.659180</td>\n",
       "      <td>319.188531</td>\n",
       "      <td>232.680118</td>\n",
       "      <td>143.195911</td>\n",
       "      <td>42.783505</td>\n",
       "      <td>341.293144</td>\n",
       "      <td>183.385059</td>\n",
       "      <td>91.423165</td>\n",
       "      <td>34.562975</td>\n",
       "    </tr>\n",
       "    <tr>\n",
       "      <th>16</th>\n",
       "      <td>img1</td>\n",
       "      <td>img-00626.png</td>\n",
       "      <td>1.696408e+09</td>\n",
       "      <td>257.374044</td>\n",
       "      <td>267.638668</td>\n",
       "      <td>181.586089</td>\n",
       "      <td>48.586908</td>\n",
       "      <td>319.059478</td>\n",
       "      <td>232.922656</td>\n",
       "      <td>143.194397</td>\n",
       "      <td>42.868703</td>\n",
       "      <td>341.177822</td>\n",
       "      <td>183.660587</td>\n",
       "      <td>91.244718</td>\n",
       "      <td>34.530023</td>\n",
       "    </tr>\n",
       "    <tr>\n",
       "      <th>17</th>\n",
       "      <td>img1</td>\n",
       "      <td>img-00627.png</td>\n",
       "      <td>1.696408e+09</td>\n",
       "      <td>257.363530</td>\n",
       "      <td>267.263211</td>\n",
       "      <td>182.425380</td>\n",
       "      <td>48.609405</td>\n",
       "      <td>319.002720</td>\n",
       "      <td>232.591344</td>\n",
       "      <td>144.767579</td>\n",
       "      <td>43.027702</td>\n",
       "      <td>341.101950</td>\n",
       "      <td>183.398897</td>\n",
       "      <td>91.550232</td>\n",
       "      <td>34.655305</td>\n",
       "    </tr>\n",
       "    <tr>\n",
       "      <th>18</th>\n",
       "      <td>img1</td>\n",
       "      <td>img-00628.png</td>\n",
       "      <td>1.696408e+09</td>\n",
       "      <td>257.457734</td>\n",
       "      <td>267.265302</td>\n",
       "      <td>184.322258</td>\n",
       "      <td>48.889705</td>\n",
       "      <td>319.021201</td>\n",
       "      <td>232.635579</td>\n",
       "      <td>145.531334</td>\n",
       "      <td>43.163394</td>\n",
       "      <td>341.104991</td>\n",
       "      <td>183.458914</td>\n",
       "      <td>92.711252</td>\n",
       "      <td>34.840545</td>\n",
       "    </tr>\n",
       "    <tr>\n",
       "      <th>19</th>\n",
       "      <td>img1</td>\n",
       "      <td>img-00629.png</td>\n",
       "      <td>1.696408e+09</td>\n",
       "      <td>257.486434</td>\n",
       "      <td>267.281688</td>\n",
       "      <td>187.780196</td>\n",
       "      <td>49.239111</td>\n",
       "      <td>318.986777</td>\n",
       "      <td>232.658046</td>\n",
       "      <td>148.269327</td>\n",
       "      <td>43.610597</td>\n",
       "      <td>341.070689</td>\n",
       "      <td>183.560367</td>\n",
       "      <td>93.821729</td>\n",
       "      <td>35.121110</td>\n",
       "    </tr>\n",
       "  </tbody>\n",
       "</table>\n",
       "</div>"
      ],
      "text/plain": [
       "    folder       filename   time (unix)        x_00        y_00        p_00  \\\n",
       "num                                                                           \n",
       "15    img1  img-00625.png  1.696408e+09  257.428143  267.405788  182.141287   \n",
       "16    img1  img-00626.png  1.696408e+09  257.374044  267.638668  181.586089   \n",
       "17    img1  img-00627.png  1.696408e+09  257.363530  267.263211  182.425380   \n",
       "18    img1  img-00628.png  1.696408e+09  257.457734  267.265302  184.322258   \n",
       "19    img1  img-00629.png  1.696408e+09  257.486434  267.281688  187.780196   \n",
       "\n",
       "          a_00        x_01        y_01        p_01       a_01        x_02  \\\n",
       "num                                                                         \n",
       "15   48.659180  319.188531  232.680118  143.195911  42.783505  341.293144   \n",
       "16   48.586908  319.059478  232.922656  143.194397  42.868703  341.177822   \n",
       "17   48.609405  319.002720  232.591344  144.767579  43.027702  341.101950   \n",
       "18   48.889705  319.021201  232.635579  145.531334  43.163394  341.104991   \n",
       "19   49.239111  318.986777  232.658046  148.269327  43.610597  341.070689   \n",
       "\n",
       "           y_02       p_02       a_02  \n",
       "num                                    \n",
       "15   183.385059  91.423165  34.562975  \n",
       "16   183.660587  91.244718  34.530023  \n",
       "17   183.398897  91.550232  34.655305  \n",
       "18   183.458914  92.711252  34.840545  \n",
       "19   183.560367  93.821729  35.121110  "
      ]
     },
     "execution_count": 8,
     "metadata": {},
     "output_type": "execute_result"
    }
   ],
   "source": [
    "ct.results.table.tail()"
   ]
  },
  {
   "cell_type": "markdown",
   "metadata": {},
   "source": [
    "After analysis, calling `animate()` or `inspect()` will display the results without re-analyzing them (be careful to not run them with the `save=True` option)"
   ]
  },
  {
   "cell_type": "code",
   "execution_count": 9,
   "metadata": {},
   "outputs": [
    {
     "data": {
      "text/plain": [
       "array([263. , 262. , 261. , 260. , 259. , 258. , 257. , 256. , 255.5,\n",
       "       255. ])"
      ]
     },
     "execution_count": 9,
     "metadata": {},
     "output_type": "execute_result"
    }
   ],
   "source": [
    "ct.results.get_contour(0, num=12).coordinates.x[:10]"
   ]
  },
  {
   "cell_type": "code",
   "execution_count": 10,
   "metadata": {},
   "outputs": [
    {
     "data": {
      "text/plain": [
       "<filo.viewers.KeyPressSlider at 0x29382bac0>"
      ]
     },
     "execution_count": 10,
     "metadata": {},
     "output_type": "execute_result"
    }
   ],
   "source": [
    "ct.inspect()"
   ]
  },
  {
   "cell_type": "code",
   "execution_count": 11,
   "metadata": {},
   "outputs": [
    {
     "name": "stderr",
     "output_type": "stream",
     "text": [
      "100%|██████████| 50/50 [00:00<00:00, 133.85it/s]\n"
     ]
    }
   ],
   "source": [
    "ct.run()"
   ]
  },
  {
   "cell_type": "code",
   "execution_count": 12,
   "metadata": {},
   "outputs": [
    {
     "name": "stderr",
     "output_type": "stream",
     "text": [
      "/Users/olivier.vincent/Python-OV/gittools/gittools/gittools.py:390: UserWarning: These modules have dirty git repositories: imgseries\n",
      "  metadata['code version'] = check_modules(\n",
      "/Users/olivier.vincent/Python-OV/gittools/gittools/gittools.py:390: UserWarning: Warning: these modules are missing a tag: imgseries, imgbasics\n",
      "  metadata['code version'] = check_modules(\n",
      "/Users/olivier.vincent/Python-OV/gittools/gittools/gittools.py:390: UserWarning: Warning: these modules are not in a git repository: skimage, matplotlib, numpy\n",
      "  metadata['code version'] = check_modules(\n"
     ]
    }
   ],
   "source": [
    "ct.results.save()"
   ]
  },
  {
   "cell_type": "markdown",
   "metadata": {},
   "source": [
    "# 2) Defining and viewing contours"
   ]
  },
  {
   "cell_type": "code",
   "execution_count": 13,
   "metadata": {},
   "outputs": [],
   "source": [
    "images = ImgSeries(folders, savepath=basefolder)\n",
    "images.load_transforms('for-tests-do-not-modify/Img_Transform')\n",
    "ct = ContourTracking(images, savepath='../data/untracked_data/')"
   ]
  },
  {
   "cell_type": "markdown",
   "metadata": {},
   "source": [
    "Defining contours has to be done at least once.\n",
    "\n",
    "**Important**: Matplotlib must be in an interactive mode to do so.\n",
    "\n",
    "Defining does not need to be done again in the following situations:\n",
    "- calling methods again from the same `ct` object, e.g. `ct.run()`\n",
    "- calling `ct.contours.load()` or `ct.regenerate()` to load contours data from saved metadata (.json) file."
   ]
  },
  {
   "cell_type": "markdown",
   "metadata": {},
   "source": [
    "**Note**: to improve contour detection, it might be necessary to do additional cropping/filtering on images with `images.crop` and `images.filter`"
   ]
  },
  {
   "cell_type": "code",
   "execution_count": 14,
   "metadata": {},
   "outputs": [
    {
     "data": {
      "text/plain": [
       "<matplotlib.widgets.Slider at 0x296742c80>"
      ]
     },
     "execution_count": 14,
     "metadata": {},
     "output_type": "execute_result"
    }
   ],
   "source": [
    "ct.threshold.define()"
   ]
  },
  {
   "cell_type": "code",
   "execution_count": 15,
   "metadata": {},
   "outputs": [
    {
     "name": "stdout",
     "output_type": "stream",
     "text": [
      "Threshold {'value': 225}\n"
     ]
    }
   ],
   "source": [
    "print(ct.threshold)"
   ]
  },
  {
   "cell_type": "code",
   "execution_count": 16,
   "metadata": {},
   "outputs": [],
   "source": [
    "ct.contour_selection.define()  # define one contour on the first image of the series"
   ]
  },
  {
   "cell_type": "code",
   "execution_count": 17,
   "metadata": {},
   "outputs": [],
   "source": [
    "ct.contour_selection.define(n=3)  # define 3 contours on the first image of the series"
   ]
  },
  {
   "cell_type": "code",
   "execution_count": 18,
   "metadata": {},
   "outputs": [],
   "source": [
    "ct.contour_selection.define(3, num=10)  # define 3 contours at level 170 on image #10 in the series"
   ]
  },
  {
   "cell_type": "markdown",
   "metadata": {},
   "source": [
    "Viewing analysis zones after defining or loading them:"
   ]
  },
  {
   "cell_type": "code",
   "execution_count": 19,
   "metadata": {},
   "outputs": [
    {
     "data": {
      "text/plain": [
       "{'properties': {'contour 0': {'centroid': (321.16074655956754,\n",
       "    233.5830436641251),\n",
       "   'perimeter': 41.81052288073364,\n",
       "   'area': 136.26921134025628},\n",
       "  'contour 1': {'centroid': (258.93106674897876, 268.57648389860645),\n",
       "   'perimeter': 47.54626495762515,\n",
       "   'area': 172.0873214019212},\n",
       "  'contour 2': {'centroid': (343.4412585122846, 183.97654981373753),\n",
       "   'perimeter': 33.01464376694267,\n",
       "   'area': 83.48983212858764}},\n",
       " 'level': 225,\n",
       " 'image': 10}"
      ]
     },
     "execution_count": 19,
     "metadata": {},
     "output_type": "execute_result"
    }
   ],
   "source": [
    "ct.contour_selection.data"
   ]
  },
  {
   "cell_type": "code",
   "execution_count": 20,
   "metadata": {},
   "outputs": [
    {
     "data": {
      "text/plain": [
       "<Axes: title={'center': 'img #10, grey level 225'}>"
      ]
     },
     "execution_count": 20,
     "metadata": {},
     "output_type": "execute_result"
    }
   ],
   "source": [
    "ct.contour_selection.show()  # show contours on the image they have been defined on"
   ]
  },
  {
   "cell_type": "code",
   "execution_count": 23,
   "metadata": {},
   "outputs": [],
   "source": [
    "ct.threshold.load()"
   ]
  },
  {
   "cell_type": "code",
   "execution_count": 24,
   "metadata": {},
   "outputs": [
    {
     "data": {
      "text/plain": [
       "Threshold {'value': 225}"
      ]
     },
     "execution_count": 24,
     "metadata": {},
     "output_type": "execute_result"
    }
   ],
   "source": [
    "ct.threshold"
   ]
  },
  {
   "cell_type": "markdown",
   "metadata": {},
   "source": [
    "**Note**:\n",
    "Before, saving contour data was only done by calling `ct.save()`, which saves both data and metadata.\n",
    "Now, preliminary saving of zone data can be done with `ct.contours.save()`; \n",
    "Note that `ct.save()` overwrites that data if the same filename is provided."
   ]
  },
  {
   "cell_type": "code",
   "execution_count": 25,
   "metadata": {},
   "outputs": [
    {
     "name": "stderr",
     "output_type": "stream",
     "text": [
      "/Users/olivier.vincent/Python-OV/gittools/gittools/gittools.py:390: UserWarning: These modules have dirty git repositories: imgseries\n",
      "  metadata['code version'] = check_modules(\n",
      "/Users/olivier.vincent/Python-OV/gittools/gittools/gittools.py:390: UserWarning: Warning: these modules are missing a tag: imgseries, imgbasics\n",
      "  metadata['code version'] = check_modules(\n",
      "/Users/olivier.vincent/Python-OV/gittools/gittools/gittools.py:390: UserWarning: Warning: these modules are not in a git repository: skimage, matplotlib, numpy\n",
      "  metadata['code version'] = check_modules(\n"
     ]
    }
   ],
   "source": [
    "ct.contour_selection.save()"
   ]
  },
  {
   "cell_type": "code",
   "execution_count": 26,
   "metadata": {},
   "outputs": [
    {
     "name": "stderr",
     "output_type": "stream",
     "text": [
      "100%|██████████| 50/50 [00:00<00:00, 157.40it/s]\n"
     ]
    }
   ],
   "source": [
    "ct.run()"
   ]
  },
  {
   "cell_type": "code",
   "execution_count": 27,
   "metadata": {},
   "outputs": [
    {
     "data": {
      "text/plain": [
       "{'path': '/Users/olivier.vincent/Python-OV/imgseries/examples/data/untracked_data',\n",
       " 'folders': ['../img1', '../img2'],\n",
       " 'contour selection': {'properties': {'contour 0': {'centroid': (321.16074655956754,\n",
       "     233.5830436641251),\n",
       "    'perimeter': 41.81052288073364,\n",
       "    'area': 136.26921134025628},\n",
       "   'contour 1': {'centroid': (258.93106674897876, 268.57648389860645),\n",
       "    'perimeter': 47.54626495762515,\n",
       "    'area': 172.0873214019212},\n",
       "   'contour 2': {'centroid': (343.4412585122846, 183.97654981373753),\n",
       "    'perimeter': 33.01464376694267,\n",
       "    'area': 83.48983212858764}},\n",
       "  'level': 225,\n",
       "  'image': 10},\n",
       " 'transforms': {'flicker': False,\n",
       "  'shaking': False,\n",
       "  'grayscale': {},\n",
       "  'rotation': {'angle': 22.765009107511496},\n",
       "  'crop': {'zone': [159, 171, 467, 380]},\n",
       "  'filter': {},\n",
       "  'subtraction': {},\n",
       "  'threshold': {}}}"
      ]
     },
     "execution_count": 27,
     "metadata": {},
     "output_type": "execute_result"
    }
   ],
   "source": [
    "ct.results.metadata"
   ]
  },
  {
   "cell_type": "code",
   "execution_count": 28,
   "metadata": {},
   "outputs": [
    {
     "name": "stderr",
     "output_type": "stream",
     "text": [
      "/Users/olivier.vincent/Python-OV/gittools/gittools/gittools.py:390: UserWarning: These modules have dirty git repositories: imgseries\n",
      "  metadata['code version'] = check_modules(\n",
      "/Users/olivier.vincent/Python-OV/gittools/gittools/gittools.py:390: UserWarning: Warning: these modules are missing a tag: imgseries, imgbasics\n",
      "  metadata['code version'] = check_modules(\n",
      "/Users/olivier.vincent/Python-OV/gittools/gittools/gittools.py:390: UserWarning: Warning: these modules are not in a git repository: skimage, matplotlib, numpy\n",
      "  metadata['code version'] = check_modules(\n"
     ]
    }
   ],
   "source": [
    "ct.results.save()"
   ]
  },
  {
   "cell_type": "markdown",
   "metadata": {},
   "source": [
    "# 6) Connect results to image series (e.g. for inspection/visualization)"
   ]
  },
  {
   "cell_type": "code",
   "execution_count": 29,
   "metadata": {},
   "outputs": [],
   "source": [
    "images = ImgSeries(folders, savepath=basefolder)\n",
    "ct = ContourTracking(images)\n",
    "\n",
    "# Line below is equivalent to call results.load() and images.load_transforms,\n",
    "# except that the transforms are taken directly from the results metadata.\n",
    "ct.regenerate(filename='for-tests-do-not-modify/Img_ContourTracking')"
   ]
  },
  {
   "cell_type": "markdown",
   "metadata": {},
   "source": [
    "Once the analysis is regenerated, all the tools associated with images (inspection, showing, animation, etc.) are available:"
   ]
  },
  {
   "cell_type": "code",
   "execution_count": 30,
   "metadata": {},
   "outputs": [
    {
     "data": {
      "text/plain": [
       "<filo.viewers.KeyPressSlider at 0x294e6d7b0>"
      ]
     },
     "execution_count": 30,
     "metadata": {},
     "output_type": "execute_result"
    }
   ],
   "source": [
    "ct.inspect()"
   ]
  },
  {
   "cell_type": "code",
   "execution_count": 31,
   "metadata": {},
   "outputs": [
    {
     "data": {
      "text/plain": [
       "{'path': '/Users/olivier.vincent/Python-OV/imgseries/examples/data/untracked_data',\n",
       " 'folders': ['../img1', '../img2'],\n",
       " 'contour selection': {'properties': {'contour 0': {'centroid': [258.91971771176395,\n",
       "     268.56105261167784],\n",
       "    'perimeter': 49.21791294683056,\n",
       "    'area': -185.55859760532715},\n",
       "   'contour 1': {'centroid': [321.1994688210141, 233.57527180813884],\n",
       "    'perimeter': 43.40386973919024,\n",
       "    'area': -147.45162297356632},\n",
       "   'contour 2': {'centroid': [343.46649093385753, 183.99377183456244],\n",
       "    'perimeter': 34.7021950664108,\n",
       "    'area': -92.59459704615058}},\n",
       "  'level': 208,\n",
       "  'image': 10},\n",
       " 'transforms': {'flicker': False,\n",
       "  'shaking': False,\n",
       "  'grayscale': {},\n",
       "  'rotation': {'angle': 22.765009107511496},\n",
       "  'crop': {'zone': [159, 171, 467, 380]},\n",
       "  'filter': {},\n",
       "  'subtraction': {},\n",
       "  'threshold': {}},\n",
       " 'time (utc)': '2025-10-28 13:44:26',\n",
       " 'code version': {'skimage': {'status': 'not a git repository',\n",
       "   'tag': 'v0.25.0'},\n",
       "  'imgseries': {'hash': '72ac183260608797bf4564d79661c7b7dcf7ae6f',\n",
       "   'status': 'dirty'},\n",
       "  'imgbasics': {'hash': '892f8a0d3ba7172fe3a4204aee58e92c1ba7ae16',\n",
       "   'status': 'clean'},\n",
       "  'filo': {'hash': 'a208d795d935c7de7954f6bcf2a2f0ee1f52f9a0',\n",
       "   'status': 'clean',\n",
       "   'tag': 'v2.2.1'},\n",
       "  'matplotlib': {'status': 'not a git repository', 'tag': 'v3.10.0'},\n",
       "  'numpy': {'status': 'not a git repository', 'tag': 'v1.26.4'}}}"
      ]
     },
     "execution_count": 31,
     "metadata": {},
     "output_type": "execute_result"
    }
   ],
   "source": [
    "ct.results.metadata"
   ]
  },
  {
   "cell_type": "code",
   "execution_count": 33,
   "metadata": {},
   "outputs": [
    {
     "data": {
      "text/plain": [
       "ContourCoordinates(x=array([263.        , 262.        , 261.        , 260.        ,\n",
       "       259.        , 258.        , 257.        , 256.        ,\n",
       "       255.5       , 255.        , 254.        , 253.55882353,\n",
       "       253.        , 252.225     , 252.        , 251.53703704,\n",
       "       251.        , 250.90322581, 250.43333333, 250.38461538,\n",
       "       250.49206349, 250.58730159, 250.9787234 , 251.        ,\n",
       "       251.57692308, 252.        , 252.61904762, 253.        ,\n",
       "       254.        , 254.04761905, 255.        , 256.        ,\n",
       "       256.94736842, 257.        , 258.        , 259.        ,\n",
       "       260.        , 261.        , 262.        , 262.1627907 ,\n",
       "       263.        , 264.        , 264.31818182, 265.        ,\n",
       "       265.83333333, 266.        , 266.86046512, 267.        ,\n",
       "       267.48333333, 267.8125    , 267.97727273, 267.88679245,\n",
       "       267.88      , 267.61111111, 267.3       , 267.        ,\n",
       "       266.41304348, 266.        , 265.22916667, 265.        ,\n",
       "       264.        , 263.42424242, 263.        ]), y=array([274.21212121, 274.30487805, 274.53623188, 274.66666667,\n",
       "       274.59459459, 274.66666667, 274.43661972, 274.28846154,\n",
       "       274.        , 273.75806452, 273.23809524, 273.        ,\n",
       "       272.62      , 272.        , 271.73529412, 271.        ,\n",
       "       270.17142857, 270.        , 269.        , 268.        ,\n",
       "       267.        , 266.        , 265.        , 264.96774194,\n",
       "       264.        , 263.37142857, 263.        , 262.83673469,\n",
       "       262.02083333, 262.        , 261.62962963, 261.29508197,\n",
       "       261.        , 260.98148148, 260.7704918 , 260.61111111,\n",
       "       260.7       , 260.88888889, 260.88333333, 261.        ,\n",
       "       261.46153846, 261.78787879, 262.        , 262.46153846,\n",
       "       263.        , 263.15909091, 264.        , 264.17142857,\n",
       "       265.        , 266.        , 267.        , 268.        ,\n",
       "       269.        , 270.        , 271.        , 271.35714286,\n",
       "       272.        , 272.33928571, 273.        , 273.18333333,\n",
       "       273.6779661 , 274.        , 274.21212121]))"
      ]
     },
     "execution_count": 33,
     "metadata": {},
     "output_type": "execute_result"
    }
   ],
   "source": [
    "ct.results.get_contour(0, num=12).coordinates"
   ]
  },
  {
   "cell_type": "code",
   "execution_count": null,
   "metadata": {},
   "outputs": [],
   "source": []
  }
 ],
 "metadata": {
  "kernelspec": {
   "display_name": "base",
   "language": "python",
   "name": "python3"
  },
  "language_info": {
   "codemirror_mode": {
    "name": "ipython",
    "version": 3
   },
   "file_extension": ".py",
   "mimetype": "text/x-python",
   "name": "python",
   "nbconvert_exporter": "python",
   "pygments_lexer": "ipython3",
   "version": "3.10.16"
  }
 },
 "nbformat": 4,
 "nbformat_minor": 4
}

{
 "cells": [
  {
   "cell_type": "code",
   "execution_count": 1,
   "metadata": {},
   "outputs": [],
   "source": [
    "%matplotlib tk\n",
    "from pathlib import Path\n",
    "from imgseries import ImgSeries, ContourTracking"
   ]
  },
  {
   "cell_type": "markdown",
   "metadata": {},
   "source": [
    "**NOTE**: This notebook only shows the interactive ContourTracking tools. See *ContourTracking.ipynb* for non-interactive options.\n",
    "\n",
    "**NOTE**: the main (numbered) sections are independent of each other and correspond to the sections in *ContourTracking.ipynb*"
   ]
  },
  {
   "cell_type": "code",
   "execution_count": 2,
   "metadata": {},
   "outputs": [],
   "source": [
    "# Define where images are stored, here distributed among two folders\n",
    "basefolder = Path('../data/')\n",
    "folders = [basefolder / folder for folder in ('img1', 'img2')]"
   ]
  },
  {
   "cell_type": "markdown",
   "metadata": {},
   "source": [
    "# 1) Minimal analysis"
   ]
  },
  {
   "cell_type": "code",
   "execution_count": 3,
   "metadata": {},
   "outputs": [
    {
     "ename": "AttributeError",
     "evalue": "'ContourTracking' object has no attribute 'contours'",
     "output_type": "error",
     "traceback": [
      "\u001b[0;31m---------------------------------------------------------------------------\u001b[0m",
      "\u001b[0;31mAttributeError\u001b[0m                            Traceback (most recent call last)",
      "Cell \u001b[0;32mIn[3], line 10\u001b[0m\n\u001b[1;32m      7\u001b[0m ct \u001b[38;5;241m=\u001b[39m ContourTracking(images, savepath\u001b[38;5;241m=\u001b[39m\u001b[38;5;124m'\u001b[39m\u001b[38;5;124m../data/untracked_data/\u001b[39m\u001b[38;5;124m'\u001b[39m)\n\u001b[1;32m      9\u001b[0m \u001b[38;5;66;03m# Load pre-defined contours, see below how to define them directly\u001b[39;00m\n\u001b[0;32m---> 10\u001b[0m \u001b[43mct\u001b[49m\u001b[38;5;241;43m.\u001b[39;49m\u001b[43mcontours\u001b[49m\u001b[38;5;241m.\u001b[39mload(\u001b[38;5;124m'\u001b[39m\u001b[38;5;124m../for-tests-do-not-modify/Img_ContourTracking\u001b[39m\u001b[38;5;124m'\u001b[39m)\n",
      "\u001b[0;31mAttributeError\u001b[0m: 'ContourTracking' object has no attribute 'contours'"
     ]
    }
   ],
   "source": [
    "images = ImgSeries(folders, savepath=basefolder)\n",
    "\n",
    "# load pre-defined transforms (see ImgSeries for how to define those)\n",
    "images.load_transforms('for-tests-do-not-modify/Img_Transform')\n",
    "\n",
    "# Save results in untracked folder to avoid git tracking test files\n",
    "ct = ContourTracking(images, savepath='../data/untracked_data/')\n",
    "\n",
    "# Load pre-defined contours, see below how to define them directly\n",
    "ct.contours.load('../for-tests-do-not-modify/Img_ContourTracking')"
   ]
  },
  {
   "cell_type": "markdown",
   "metadata": {},
   "source": [
    "If using an interactive matplotlib backend, it is also possible to view the analysis in real time, either using `inspect()` or `animate()` with the `live=True` option. \n",
    "\n",
    "If you want the data to be saved in the end (i.e. when the figure is closed), use the `save=True` option. It will transfer the results to `ct.results` and overwrite any pre-existing results."
   ]
  },
  {
   "cell_type": "code",
   "execution_count": 16,
   "metadata": {},
   "outputs": [
    {
     "data": {
      "text/plain": [
       "<filo.viewers.KeyPressSlider at 0x2a046c940>"
      ]
     },
     "execution_count": 16,
     "metadata": {},
     "output_type": "execute_result"
    }
   ],
   "source": [
    "ct.inspect(live=True)"
   ]
  },
  {
   "cell_type": "code",
   "execution_count": 17,
   "metadata": {},
   "outputs": [],
   "source": [
    "ct.results.data"
   ]
  },
  {
   "cell_type": "code",
   "execution_count": 18,
   "metadata": {},
   "outputs": [
    {
     "data": {
      "text/plain": [
       "<matplotlib.animation.FuncAnimation at 0x297cf2a10>"
      ]
     },
     "execution_count": 18,
     "metadata": {},
     "output_type": "execute_result"
    }
   ],
   "source": [
    "ct.animate(live=True, save=True, start=9)"
   ]
  },
  {
   "cell_type": "code",
   "execution_count": 19,
   "metadata": {},
   "outputs": [
    {
     "data": {
      "text/plain": [
       "<matplotlib.animation.FuncAnimation at 0x296d32e30>"
      ]
     },
     "execution_count": 19,
     "metadata": {},
     "output_type": "execute_result"
    },
    {
     "name": "stderr",
     "output_type": "stream",
     "text": [
      "invalid command name \"11279930624_on_timer\"\n",
      "    while executing\n",
      "\"11279930624_on_timer\"\n",
      "    (\"after\" script)\n"
     ]
    }
   ],
   "source": [
    "ct.animate()"
   ]
  },
  {
   "cell_type": "markdown",
   "metadata": {},
   "source": [
    "After analysis, calling `animate()` or `inspect()` will display the results without re-analyzing them (be careful to not run them with the `live=True` option)"
   ]
  },
  {
   "cell_type": "code",
   "execution_count": 20,
   "metadata": {},
   "outputs": [
    {
     "data": {
      "text/html": [
       "<div>\n",
       "<style scoped>\n",
       "    .dataframe tbody tr th:only-of-type {\n",
       "        vertical-align: middle;\n",
       "    }\n",
       "\n",
       "    .dataframe tbody tr th {\n",
       "        vertical-align: top;\n",
       "    }\n",
       "\n",
       "    .dataframe thead th {\n",
       "        text-align: right;\n",
       "    }\n",
       "</style>\n",
       "<table border=\"1\" class=\"dataframe\">\n",
       "  <thead>\n",
       "    <tr style=\"text-align: right;\">\n",
       "      <th></th>\n",
       "      <th>folder</th>\n",
       "      <th>filename</th>\n",
       "      <th>time (unix)</th>\n",
       "      <th>x_0</th>\n",
       "      <th>y_0</th>\n",
       "      <th>p_0</th>\n",
       "      <th>a_0</th>\n",
       "      <th>x_1</th>\n",
       "      <th>y_1</th>\n",
       "      <th>p_1</th>\n",
       "      <th>a_1</th>\n",
       "      <th>x_2</th>\n",
       "      <th>y_2</th>\n",
       "      <th>p_2</th>\n",
       "      <th>a_2</th>\n",
       "    </tr>\n",
       "    <tr>\n",
       "      <th>num</th>\n",
       "      <th></th>\n",
       "      <th></th>\n",
       "      <th></th>\n",
       "      <th></th>\n",
       "      <th></th>\n",
       "      <th></th>\n",
       "      <th></th>\n",
       "      <th></th>\n",
       "      <th></th>\n",
       "      <th></th>\n",
       "      <th></th>\n",
       "      <th></th>\n",
       "      <th></th>\n",
       "      <th></th>\n",
       "      <th></th>\n",
       "    </tr>\n",
       "  </thead>\n",
       "  <tbody>\n",
       "    <tr>\n",
       "      <th>18</th>\n",
       "      <td>img1</td>\n",
       "      <td>img-00628.png</td>\n",
       "      <td>1.696408e+09</td>\n",
       "      <td>257.467605</td>\n",
       "      <td>267.268193</td>\n",
       "      <td>-190.657216</td>\n",
       "      <td>49.701565</td>\n",
       "      <td>319.020882</td>\n",
       "      <td>232.629454</td>\n",
       "      <td>-150.717122</td>\n",
       "      <td>43.955864</td>\n",
       "      <td>341.109933</td>\n",
       "      <td>183.466817</td>\n",
       "      <td>-96.792539</td>\n",
       "      <td>35.596355</td>\n",
       "    </tr>\n",
       "    <tr>\n",
       "      <th>19</th>\n",
       "      <td>img1</td>\n",
       "      <td>img-00629.png</td>\n",
       "      <td>1.696408e+09</td>\n",
       "      <td>257.494107</td>\n",
       "      <td>267.282014</td>\n",
       "      <td>-194.234688</td>\n",
       "      <td>50.072680</td>\n",
       "      <td>318.987772</td>\n",
       "      <td>232.654180</td>\n",
       "      <td>-153.553498</td>\n",
       "      <td>44.396182</td>\n",
       "      <td>341.076397</td>\n",
       "      <td>183.567121</td>\n",
       "      <td>-97.997554</td>\n",
       "      <td>35.890962</td>\n",
       "    </tr>\n",
       "    <tr>\n",
       "      <th>20</th>\n",
       "      <td>img1</td>\n",
       "      <td>img-00630.png</td>\n",
       "      <td>1.696408e+09</td>\n",
       "      <td>257.348133</td>\n",
       "      <td>267.410715</td>\n",
       "      <td>-195.319465</td>\n",
       "      <td>50.248647</td>\n",
       "      <td>318.792627</td>\n",
       "      <td>232.826911</td>\n",
       "      <td>-154.758369</td>\n",
       "      <td>44.550757</td>\n",
       "      <td>340.839820</td>\n",
       "      <td>183.740214</td>\n",
       "      <td>-100.251865</td>\n",
       "      <td>36.217292</td>\n",
       "    </tr>\n",
       "    <tr>\n",
       "      <th>21</th>\n",
       "      <td>img1</td>\n",
       "      <td>img-00631.png</td>\n",
       "      <td>1.696408e+09</td>\n",
       "      <td>257.317852</td>\n",
       "      <td>266.881283</td>\n",
       "      <td>-193.346595</td>\n",
       "      <td>50.016751</td>\n",
       "      <td>318.737164</td>\n",
       "      <td>232.340445</td>\n",
       "      <td>-154.068534</td>\n",
       "      <td>44.452531</td>\n",
       "      <td>340.772789</td>\n",
       "      <td>183.249777</td>\n",
       "      <td>-98.643956</td>\n",
       "      <td>35.995566</td>\n",
       "    </tr>\n",
       "    <tr>\n",
       "      <th>22</th>\n",
       "      <td>img1</td>\n",
       "      <td>img-00632.png</td>\n",
       "      <td>1.696408e+09</td>\n",
       "      <td>257.015087</td>\n",
       "      <td>266.956545</td>\n",
       "      <td>-188.792617</td>\n",
       "      <td>49.455334</td>\n",
       "      <td>318.394296</td>\n",
       "      <td>232.415654</td>\n",
       "      <td>-151.098874</td>\n",
       "      <td>44.025798</td>\n",
       "      <td>340.407263</td>\n",
       "      <td>183.349312</td>\n",
       "      <td>-96.037073</td>\n",
       "      <td>35.475426</td>\n",
       "    </tr>\n",
       "  </tbody>\n",
       "</table>\n",
       "</div>"
      ],
      "text/plain": [
       "    folder       filename   time (unix)         x_0         y_0         p_0  \\\n",
       "num                                                                           \n",
       "18    img1  img-00628.png  1.696408e+09  257.467605  267.268193 -190.657216   \n",
       "19    img1  img-00629.png  1.696408e+09  257.494107  267.282014 -194.234688   \n",
       "20    img1  img-00630.png  1.696408e+09  257.348133  267.410715 -195.319465   \n",
       "21    img1  img-00631.png  1.696408e+09  257.317852  266.881283 -193.346595   \n",
       "22    img1  img-00632.png  1.696408e+09  257.015087  266.956545 -188.792617   \n",
       "\n",
       "           a_0         x_1         y_1         p_1        a_1         x_2  \\\n",
       "num                                                                         \n",
       "18   49.701565  319.020882  232.629454 -150.717122  43.955864  341.109933   \n",
       "19   50.072680  318.987772  232.654180 -153.553498  44.396182  341.076397   \n",
       "20   50.248647  318.792627  232.826911 -154.758369  44.550757  340.839820   \n",
       "21   50.016751  318.737164  232.340445 -154.068534  44.452531  340.772789   \n",
       "22   49.455334  318.394296  232.415654 -151.098874  44.025798  340.407263   \n",
       "\n",
       "            y_2         p_2        a_2  \n",
       "num                                     \n",
       "18   183.466817  -96.792539  35.596355  \n",
       "19   183.567121  -97.997554  35.890962  \n",
       "20   183.740214 -100.251865  36.217292  \n",
       "21   183.249777  -98.643956  35.995566  \n",
       "22   183.349312  -96.037073  35.475426  "
      ]
     },
     "execution_count": 20,
     "metadata": {},
     "output_type": "execute_result"
    }
   ],
   "source": [
    "ct.results.data['table'].tail()"
   ]
  },
  {
   "cell_type": "markdown",
   "metadata": {},
   "source": [
    "After analysis, calling `animate()` or `inspect()` will display the results without re-analyzing them (be careful to not run them with the `save=True` option)"
   ]
  },
  {
   "cell_type": "code",
   "execution_count": 21,
   "metadata": {},
   "outputs": [
    {
     "data": {
      "text/plain": [
       "<filo.viewers.KeyPressSlider at 0x2a043b430>"
      ]
     },
     "execution_count": 21,
     "metadata": {},
     "output_type": "execute_result"
    }
   ],
   "source": [
    "ct.inspect()"
   ]
  },
  {
   "cell_type": "code",
   "execution_count": 23,
   "metadata": {},
   "outputs": [
    {
     "data": {
      "text/plain": [
       "<filo.viewers.KeyPressSlider at 0x2a09f1d20>"
      ]
     },
     "execution_count": 23,
     "metadata": {},
     "output_type": "execute_result"
    }
   ],
   "source": [
    "ct.inspect(live=True)"
   ]
  },
  {
   "cell_type": "code",
   "execution_count": 24,
   "metadata": {},
   "outputs": [
    {
     "name": "stderr",
     "output_type": "stream",
     "text": [
      " 60%|██████    | 30/50 [00:00<00:00, 142.66it/s]/Users/olivier.vincent/Python-OV/imgbasics/imgbasics/contours.py:100: RuntimeWarning: divide by zero encountered in scalar divide\n",
      "  xc = Ma / area + xm\n",
      "/Users/olivier.vincent/Python-OV/imgbasics/imgbasics/contours.py:101: RuntimeWarning: divide by zero encountered in scalar divide\n",
      "  yc = Mb / area + ym\n",
      "100%|██████████| 50/50 [00:00<00:00, 147.15it/s]\n"
     ]
    }
   ],
   "source": [
    "ct.run()"
   ]
  },
  {
   "cell_type": "code",
   "execution_count": 25,
   "metadata": {},
   "outputs": [],
   "source": [
    "ct.results.save()"
   ]
  },
  {
   "cell_type": "markdown",
   "metadata": {},
   "source": [
    "# 2) Defining and viewing contours"
   ]
  },
  {
   "cell_type": "code",
   "execution_count": 3,
   "metadata": {},
   "outputs": [],
   "source": [
    "images = ImgSeries(folders, savepath=basefolder)\n",
    "images.load_transforms('for-tests-do-not-modify/Img_Transform')\n",
    "ct = ContourTracking(images, savepath='../data/untracked_data/')"
   ]
  },
  {
   "cell_type": "markdown",
   "metadata": {},
   "source": [
    "Defining contours has to be done at least once.\n",
    "\n",
    "**Important**: Matplotlib must be in an interactive mode to do so.\n",
    "\n",
    "Defining does not need to be done again in the following situations:\n",
    "- calling methods again from the same `ct` object, e.g. `ct.run()`\n",
    "- calling `ct.contours.load()` or `ct.regenerate()` to load contours data from saved metadata (.json) file."
   ]
  },
  {
   "cell_type": "markdown",
   "metadata": {},
   "source": [
    "**Note**: to improve contour detection, it might be necessary to do additional cropping/filtering on images with `images.crop` and `images.filter`"
   ]
  },
  {
   "cell_type": "code",
   "execution_count": 4,
   "metadata": {},
   "outputs": [
    {
     "data": {
      "text/plain": [
       "<matplotlib.widgets.Slider at 0x299531ea0>"
      ]
     },
     "execution_count": 4,
     "metadata": {},
     "output_type": "execute_result"
    }
   ],
   "source": [
    "ct.threshold.define()"
   ]
  },
  {
   "cell_type": "code",
   "execution_count": 5,
   "metadata": {},
   "outputs": [
    {
     "name": "stdout",
     "output_type": "stream",
     "text": [
      "Threshold {'value': 199}\n"
     ]
    }
   ],
   "source": [
    "print(ct.threshold)"
   ]
  },
  {
   "cell_type": "code",
   "execution_count": null,
   "metadata": {},
   "outputs": [
    {
     "ename": "AttributeError",
     "evalue": "'ContourTracking' object has no attribute 'contours'",
     "output_type": "error",
     "traceback": [
      "\u001b[0;31m---------------------------------------------------------------------------\u001b[0m",
      "\u001b[0;31mAttributeError\u001b[0m                            Traceback (most recent call last)",
      "Cell \u001b[0;32mIn[6], line 1\u001b[0m\n\u001b[0;32m----> 1\u001b[0m \u001b[43mct\u001b[49m\u001b[38;5;241;43m.\u001b[39;49m\u001b[43mcontours\u001b[49m\u001b[38;5;241m.\u001b[39mdefine()  \u001b[38;5;66;03m# define one contour on the first image of the series\u001b[39;00m\n",
      "\u001b[0;31mAttributeError\u001b[0m: 'ContourTracking' object has no attribute 'contours'"
     ]
    }
   ],
   "source": [
    "ct.contour_selection.define()  # define one contour on the first image of the series"
   ]
  },
  {
   "cell_type": "code",
   "execution_count": null,
   "metadata": {},
   "outputs": [],
   "source": [
    "ct.contour_selection.define(n=3)  # define 3 contours on the first image of the series"
   ]
  },
  {
   "cell_type": "code",
   "execution_count": 5,
   "metadata": {},
   "outputs": [],
   "source": [
    "ct.contour_selection.define(3, num=10)  # define 3 contours at level 170 on image #10 in the series"
   ]
  },
  {
   "cell_type": "markdown",
   "metadata": {},
   "source": [
    "Viewing analysis zones after defining or loading them:"
   ]
  },
  {
   "cell_type": "code",
   "execution_count": 6,
   "metadata": {},
   "outputs": [
    {
     "data": {
      "text/plain": [
       "{'properties': {'contour 0': {'centroid': (258.91971771176395,\n",
       "    268.56105261167784),\n",
       "   'perimeter': 49.21791294683056,\n",
       "   'area': -185.55859760532715},\n",
       "  'contour 1': {'centroid': (321.1994688210141, 233.57527180813884),\n",
       "   'perimeter': 43.40386973919024,\n",
       "   'area': -147.45162297356632},\n",
       "  'contour 2': {'centroid': (343.46649093385753, 183.99377183456244),\n",
       "   'perimeter': 34.7021950664108,\n",
       "   'area': -92.59459704615058}},\n",
       " 'level': 208,\n",
       " 'image': 10}"
      ]
     },
     "execution_count": 6,
     "metadata": {},
     "output_type": "execute_result"
    }
   ],
   "source": [
    "ct.contour_selection.data"
   ]
  },
  {
   "cell_type": "code",
   "execution_count": 7,
   "metadata": {},
   "outputs": [
    {
     "data": {
      "text/plain": [
       "<Axes: title={'center': 'img #10, grey level 208'}>"
      ]
     },
     "execution_count": 7,
     "metadata": {},
     "output_type": "execute_result"
    }
   ],
   "source": [
    "ct.contour_selection.show()  # show contours on the image they have been defined on"
   ]
  },
  {
   "cell_type": "code",
   "execution_count": 9,
   "metadata": {},
   "outputs": [
    {
     "ename": "KeyError",
     "evalue": "'contours'",
     "output_type": "error",
     "traceback": [
      "\u001b[0;31m---------------------------------------------------------------------------\u001b[0m",
      "\u001b[0;31mKeyError\u001b[0m                                  Traceback (most recent call last)",
      "File \u001b[0;32m~/Python-OV/imgseries/imgseries/parameters/analysis.py:353\u001b[0m, in \u001b[0;36mThreshold.load\u001b[0;34m(self, filename)\u001b[0m\n\u001b[1;32m    352\u001b[0m \u001b[38;5;28;01mtry\u001b[39;00m:\n\u001b[0;32m--> 353\u001b[0m     \u001b[38;5;28mself\u001b[39m\u001b[38;5;241m.\u001b[39mdata \u001b[38;5;241m=\u001b[39m \u001b[43mall_data\u001b[49m\u001b[43m[\u001b[49m\u001b[38;5;28;43mself\u001b[39;49m\u001b[38;5;241;43m.\u001b[39;49m\u001b[43mname\u001b[49m\u001b[43m]\u001b[49m\n\u001b[1;32m    354\u001b[0m \u001b[38;5;28;01mexcept\u001b[39;00m \u001b[38;5;167;01mKeyError\u001b[39;00m:\n",
      "\u001b[0;31mKeyError\u001b[0m: 'threshold'",
      "\nDuring handling of the above exception, another exception occurred:\n",
      "\u001b[0;31mKeyError\u001b[0m                                  Traceback (most recent call last)",
      "Cell \u001b[0;32mIn[9], line 1\u001b[0m\n\u001b[0;32m----> 1\u001b[0m \u001b[43mct\u001b[49m\u001b[38;5;241;43m.\u001b[39;49m\u001b[43mthreshold\u001b[49m\u001b[38;5;241;43m.\u001b[39;49m\u001b[43mload\u001b[49m\u001b[43m(\u001b[49m\u001b[43m)\u001b[49m\n",
      "File \u001b[0;32m~/Python-OV/imgseries/imgseries/parameters/analysis.py:355\u001b[0m, in \u001b[0;36mThreshold.load\u001b[0;34m(self, filename)\u001b[0m\n\u001b[1;32m    353\u001b[0m     \u001b[38;5;28mself\u001b[39m\u001b[38;5;241m.\u001b[39mdata \u001b[38;5;241m=\u001b[39m all_data[\u001b[38;5;28mself\u001b[39m\u001b[38;5;241m.\u001b[39mname]\n\u001b[1;32m    354\u001b[0m \u001b[38;5;28;01mexcept\u001b[39;00m \u001b[38;5;167;01mKeyError\u001b[39;00m:\n\u001b[0;32m--> 355\u001b[0m     \u001b[38;5;28mself\u001b[39m\u001b[38;5;241m.\u001b[39mvalue \u001b[38;5;241m=\u001b[39m \u001b[43mall_data\u001b[49m\u001b[43m[\u001b[49m\u001b[38;5;124;43m'\u001b[39;49m\u001b[38;5;124;43mcontours\u001b[39;49m\u001b[38;5;124;43m'\u001b[39;49m\u001b[43m]\u001b[49m[\u001b[38;5;124m'\u001b[39m\u001b[38;5;124mlevel\u001b[39m\u001b[38;5;124m'\u001b[39m]\n",
      "\u001b[0;31mKeyError\u001b[0m: 'contours'"
     ]
    }
   ],
   "source": [
    "ct.threshold.load()"
   ]
  },
  {
   "cell_type": "code",
   "execution_count": 13,
   "metadata": {},
   "outputs": [
    {
     "data": {
      "text/plain": [
       "Threshold {'value': 200}"
      ]
     },
     "execution_count": 13,
     "metadata": {},
     "output_type": "execute_result"
    }
   ],
   "source": [
    "ct.threshold"
   ]
  },
  {
   "cell_type": "markdown",
   "metadata": {},
   "source": [
    "**Note**:\n",
    "Before, saving contour data was only done by calling `ct.save()`, which saves both data and metadata.\n",
    "Now, preliminary saving of zone data can be done with `ct.contours.save()`; \n",
    "Note that `ct.save()` overwrites that data if the same filename is provided."
   ]
  },
  {
   "cell_type": "code",
   "execution_count": 8,
   "metadata": {},
   "outputs": [
    {
     "name": "stdout",
     "output_type": "stream",
     "text": [
      "\n",
      "Warning: These modules have dirty git repositories: imgseries, imgbasics, filo\n",
      "\n",
      "\n",
      "Warning: these modules are missing a tag: imgseries, imgbasics\n",
      "\n",
      "\n",
      "Warning: these modules are not in a git repository: skimage, matplotlib, numpy\n",
      "\n"
     ]
    }
   ],
   "source": [
    "ct.contour_selection.save()"
   ]
  },
  {
   "cell_type": "code",
   "execution_count": 7,
   "metadata": {},
   "outputs": [
    {
     "name": "stderr",
     "output_type": "stream",
     "text": [
      "100%|██████████| 50/50 [00:00<00:00, 150.43it/s]"
     ]
    },
    {
     "name": "stdout",
     "output_type": "stream",
     "text": [
      "{}\n",
      "{'contour selection': {'properties': {'contour 0': {'centroid': (258.92161688147326, 268.56459109639144), 'perimeter': 48.828774144948135, 'area': -182.471746955222}, 'contour 1': {'centroid': (321.1909358144602, 233.5772268959366), 'perimeter': 43.02653409575185, 'area': -144.8911610410767}, 'contour 2': {'centroid': (343.4624374788979, 183.98929340109956), 'perimeter': 34.32849099178767, 'area': -90.56938150737285}}, 'level': 212, 'image': 10}}\n"
     ]
    },
    {
     "name": "stderr",
     "output_type": "stream",
     "text": [
      "\n"
     ]
    }
   ],
   "source": [
    "ct.run()"
   ]
  },
  {
   "cell_type": "code",
   "execution_count": 8,
   "metadata": {},
   "outputs": [
    {
     "data": {
      "text/plain": [
       "{'path': '/Users/olivier.vincent/Python-OV/imgseries/examples/data/untracked_data',\n",
       " 'folders': ['../img1', '../img2'],\n",
       " 'contour selection': {'properties': {'contour 0': {'centroid': (258.92161688147326,\n",
       "     268.56459109639144),\n",
       "    'perimeter': 48.828774144948135,\n",
       "    'area': -182.471746955222},\n",
       "   'contour 1': {'centroid': (321.1909358144602, 233.5772268959366),\n",
       "    'perimeter': 43.02653409575185,\n",
       "    'area': -144.8911610410767},\n",
       "   'contour 2': {'centroid': (343.4624374788979, 183.98929340109956),\n",
       "    'perimeter': 34.32849099178767,\n",
       "    'area': -90.56938150737285}},\n",
       "  'level': 212,\n",
       "  'image': 10},\n",
       " 'transforms': {'flicker': False,\n",
       "  'shaking': False,\n",
       "  'grayscale': {},\n",
       "  'rotation': {'angle': 22.765009107511496},\n",
       "  'crop': {'zone': [159, 171, 467, 380]},\n",
       "  'filter': {},\n",
       "  'subtraction': {},\n",
       "  'threshold': {}}}"
      ]
     },
     "execution_count": 8,
     "metadata": {},
     "output_type": "execute_result"
    }
   ],
   "source": [
    "ct.results.metadata"
   ]
  },
  {
   "cell_type": "code",
   "execution_count": 9,
   "metadata": {},
   "outputs": [],
   "source": [
    "ct.results.save()"
   ]
  },
  {
   "cell_type": "markdown",
   "metadata": {},
   "source": [
    "# 6) Connect results to image series (e.g. for inspection/visualization)"
   ]
  },
  {
   "cell_type": "code",
   "execution_count": null,
   "metadata": {},
   "outputs": [],
   "source": [
    "images = ImgSeries(folders, savepath=basefolder)\n",
    "ct = ContourTracking(images)\n",
    "\n",
    "# Line below is equivalent to call results.load() and images.load_transforms,\n",
    "# except that the transforms are taken directly from the results metadata.\n",
    "ct.regenerate(filename='for-tests-do-not-modify/Img_ContourTracking')"
   ]
  },
  {
   "cell_type": "markdown",
   "metadata": {},
   "source": [
    "Once the analysis is regenerated, all the tools associated with images (inspection, showing, animation, etc.) are available:"
   ]
  },
  {
   "cell_type": "code",
   "execution_count": null,
   "metadata": {},
   "outputs": [
    {
     "data": {
      "text/plain": [
       "<filo.viewers.KeyPressSlider at 0x289a4b880>"
      ]
     },
     "execution_count": 5,
     "metadata": {},
     "output_type": "execute_result"
    }
   ],
   "source": [
    "ct.inspect()"
   ]
  },
  {
   "cell_type": "code",
   "execution_count": null,
   "metadata": {},
   "outputs": [
    {
     "data": {
      "text/plain": [
       "{'path': '/Users/olivier.vincent/Python-OV/imgseries/examples/data/untracked_data',\n",
       " 'folders': ['../img1', '../img2'],\n",
       " 'contours': {'properties': {'contour 1': {'centroid': [258.91821206447423,\n",
       "     268.55855369455435],\n",
       "    'perimeter': 49.51328604738248,\n",
       "    'area': -187.87977759868332},\n",
       "   'contour 2': {'centroid': [343.46924604384037, 183.99690799508085],\n",
       "    'perimeter': 34.975858347870194,\n",
       "    'area': -94.10940133105035},\n",
       "   'contour 3': {'centroid': [321.20603888980366, 233.5737575740049],\n",
       "    'perimeter': 43.69244739061277,\n",
       "    'area': -149.38499575660785}},\n",
       "  'level': 205,\n",
       "  'image': 10},\n",
       " 'transforms': {'flicker': False,\n",
       "  'shaking': False,\n",
       "  'grayscale': {},\n",
       "  'rotation': {'angle': 22.765009107511496},\n",
       "  'crop': {'zone': [159, 171, 467, 380]},\n",
       "  'filter': {},\n",
       "  'subtraction': {},\n",
       "  'threshold': {}},\n",
       " 'time (utc)': '2025-10-22 15:37:09',\n",
       " 'code version': {'skimage': {'status': 'not a git repository',\n",
       "   'tag': 'v0.25.0'},\n",
       "  'imgseries': {'hash': '4141aa95ae4460f8a8df9a4fb122f3d133d8aa1d',\n",
       "   'status': 'dirty'},\n",
       "  'imgbasics': {'hash': '7a8ee808fe7c9e834a95d979e9b23c71727fc60a',\n",
       "   'status': 'dirty',\n",
       "   'tag': 'v0.4.0'},\n",
       "  'filo': {'hash': 'd51c93722fbce558bb2649a00a1d74136fa58261',\n",
       "   'status': 'dirty'},\n",
       "  'matplotlib': {'status': 'not a git repository', 'tag': 'v3.10.0'},\n",
       "  'numpy': {'status': 'not a git repository', 'tag': 'v1.26.4'}}}"
      ]
     },
     "execution_count": 23,
     "metadata": {},
     "output_type": "execute_result"
    }
   ],
   "source": [
    "ct.results.metadata"
   ]
  },
  {
   "cell_type": "code",
   "execution_count": null,
   "metadata": {},
   "outputs": [],
   "source": []
  }
 ],
 "metadata": {
  "kernelspec": {
   "display_name": "base",
   "language": "python",
   "name": "python3"
  },
  "language_info": {
   "codemirror_mode": {
    "name": "ipython",
    "version": 3
   },
   "file_extension": ".py",
   "mimetype": "text/x-python",
   "name": "python",
   "nbconvert_exporter": "python",
   "pygments_lexer": "ipython3",
   "version": "3.10.16"
  }
 },
 "nbformat": 4,
 "nbformat_minor": 4
}

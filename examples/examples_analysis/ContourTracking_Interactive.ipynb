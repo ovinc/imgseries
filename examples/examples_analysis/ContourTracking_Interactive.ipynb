{
 "cells": [
  {
   "cell_type": "code",
   "execution_count": 1,
   "metadata": {},
   "outputs": [],
   "source": [
    "%matplotlib tk\n",
    "from pathlib import Path\n",
    "from imgseries import ImgSeries, ContourTracking"
   ]
  },
  {
   "cell_type": "markdown",
   "metadata": {},
   "source": [
    "**NOTE**: This notebook only shows the interactive ContourTracking tools. See *ContourTracking.ipynb* for non-interactive options.\n",
    "\n",
    "**NOTE**: the main (numbered) sections are independent of each other and correspond to the sections in *ContourTracking.ipynb*"
   ]
  },
  {
   "cell_type": "code",
   "execution_count": 2,
   "metadata": {},
   "outputs": [],
   "source": [
    "# Define where images are stored, here distributed among two folders\n",
    "basefolder = Path('../data/')\n",
    "folders = [basefolder / folder for folder in ('img1', 'img2')]"
   ]
  },
  {
   "cell_type": "markdown",
   "metadata": {},
   "source": [
    "# 1) Minimal analysis"
   ]
  },
  {
   "cell_type": "code",
   "execution_count": 3,
   "metadata": {},
   "outputs": [],
   "source": [
    "images = ImgSeries(folders, savepath=basefolder)\n",
    "\n",
    "# load pre-defined transforms (see ImgSeries for how to define those)\n",
    "images.load_transforms('for-tests-do-not-modify/Img_Transform')\n",
    "\n",
    "# Save results in untracked folder to avoid git tracking test files\n",
    "ct = ContourTracking(images, savepath='../data/untracked_data/')\n",
    "\n",
    "# Load pre-defined contours, see below how to define them directly\n",
    "ct.contours.load('../for-tests-do-not-modify/Img_ContourTracking')"
   ]
  },
  {
   "cell_type": "markdown",
   "metadata": {},
   "source": [
    "If using an interactive matplotlib backend, it is also possible to view the analysis in real time, either using `inspect()` or `animate()` with the `live=True` option. In both cases, only the displayed data will have been analyzed in the end."
   ]
  },
  {
   "cell_type": "code",
   "execution_count": 4,
   "metadata": {},
   "outputs": [
    {
     "ename": "TypeError",
     "evalue": "cannot unpack non-iterable Contour object",
     "output_type": "error",
     "traceback": [
      "\u001b[0;31m---------------------------------------------------------------------------\u001b[0m",
      "\u001b[0;31mTypeError\u001b[0m                                 Traceback (most recent call last)",
      "Cell \u001b[0;32mIn[4], line 1\u001b[0m\n\u001b[0;32m----> 1\u001b[0m \u001b[43mct\u001b[49m\u001b[38;5;241;43m.\u001b[39;49m\u001b[43minspect\u001b[49m\u001b[43m(\u001b[49m\u001b[43mlive\u001b[49m\u001b[38;5;241;43m=\u001b[39;49m\u001b[38;5;28;43;01mTrue\u001b[39;49;00m\u001b[43m)\u001b[49m\n",
      "File \u001b[0;32m~/Python-OV/filo/filo/analysis.py:191\u001b[0m, in \u001b[0;36mAnalysisBase.inspect\u001b[0;34m(self, start, end, skip, transform, live, save, **kwargs)\u001b[0m\n\u001b[1;32m    164\u001b[0m \u001b[38;5;250m\u001b[39m\u001b[38;5;124;03m\"\"\"Interactively inspect data series.\u001b[39;00m\n\u001b[1;32m    165\u001b[0m \n\u001b[1;32m    166\u001b[0m \u001b[38;5;124;03mParameters\u001b[39;00m\n\u001b[0;32m   (...)\u001b[0m\n\u001b[1;32m    188\u001b[0m \u001b[38;5;124;03m    any keyword-argument to pass to the viewer.\u001b[39;00m\n\u001b[1;32m    189\u001b[0m \u001b[38;5;124;03m\"\"\"\u001b[39;00m\n\u001b[1;32m    190\u001b[0m \u001b[38;5;28mself\u001b[39m\u001b[38;5;241m.\u001b[39m_prepare_viewer(transform\u001b[38;5;241m=\u001b[39mtransform, live\u001b[38;5;241m=\u001b[39mlive, save\u001b[38;5;241m=\u001b[39msave, \u001b[38;5;241m*\u001b[39m\u001b[38;5;241m*\u001b[39mkwargs)\n\u001b[0;32m--> 191\u001b[0m \u001b[38;5;28;01mreturn\u001b[39;00m \u001b[38;5;28;43mself\u001b[39;49m\u001b[38;5;241;43m.\u001b[39;49m\u001b[43mviewer\u001b[49m\u001b[38;5;241;43m.\u001b[39;49m\u001b[43minspect\u001b[49m\u001b[43m(\u001b[49m\u001b[43mnums\u001b[49m\u001b[38;5;241;43m=\u001b[39;49m\u001b[38;5;28;43mself\u001b[39;49m\u001b[38;5;241;43m.\u001b[39;49m\u001b[43mdata_series\u001b[49m\u001b[38;5;241;43m.\u001b[39;49m\u001b[43mnums\u001b[49m\u001b[43m[\u001b[49m\u001b[43mstart\u001b[49m\u001b[43m:\u001b[49m\u001b[43mend\u001b[49m\u001b[43m:\u001b[49m\u001b[43mskip\u001b[49m\u001b[43m]\u001b[49m\u001b[43m)\u001b[49m\n",
      "File \u001b[0;32m~/Python-OV/filo/filo/viewers.py:202\u001b[0m, in \u001b[0;36mDataViewerBase.inspect\u001b[0;34m(self, nums)\u001b[0m\n\u001b[1;32m    199\u001b[0m \u001b[38;5;28mself\u001b[39m\u001b[38;5;241m.\u001b[39m_initialize()\n\u001b[1;32m    200\u001b[0m \u001b[38;5;28mself\u001b[39m\u001b[38;5;241m.\u001b[39mplot_init_done \u001b[38;5;241m=\u001b[39m \u001b[38;5;28;01mFalse\u001b[39;00m\n\u001b[0;32m--> 202\u001b[0m \u001b[38;5;28;43mself\u001b[39;49m\u001b[38;5;241;43m.\u001b[39;49m\u001b[43m_plot\u001b[49m\u001b[43m(\u001b[49m\u001b[43mnum\u001b[49m\u001b[38;5;241;43m=\u001b[39;49m\u001b[43mnum_min\u001b[49m\u001b[43m)\u001b[49m\n\u001b[1;32m    204\u001b[0m \u001b[38;5;28mself\u001b[39m\u001b[38;5;241m.\u001b[39mfig\u001b[38;5;241m.\u001b[39msubplots_adjust(bottom\u001b[38;5;241m=\u001b[39m\u001b[38;5;241m0.1\u001b[39m)\n\u001b[1;32m    205\u001b[0m ax_slider \u001b[38;5;241m=\u001b[39m \u001b[38;5;28mself\u001b[39m\u001b[38;5;241m.\u001b[39mfig\u001b[38;5;241m.\u001b[39madd_axes([\u001b[38;5;241m0.1\u001b[39m, \u001b[38;5;241m0.01\u001b[39m, \u001b[38;5;241m0.8\u001b[39m, \u001b[38;5;241m0.03\u001b[39m])\n",
      "File \u001b[0;32m~/Python-OV/filo/filo/viewers.py:135\u001b[0m, in \u001b[0;36mDataViewerBase._plot\u001b[0;34m(self, num)\u001b[0m\n\u001b[1;32m    133\u001b[0m \u001b[38;5;28;01mdef\u001b[39;00m\u001b[38;5;250m \u001b[39m\u001b[38;5;21m_plot\u001b[39m(\u001b[38;5;28mself\u001b[39m, num):\n\u001b[1;32m    134\u001b[0m \u001b[38;5;250m    \u001b[39m\u001b[38;5;124;03m\"\"\"How to plot data\"\"\"\u001b[39;00m\n\u001b[0;32m--> 135\u001b[0m     data \u001b[38;5;241m=\u001b[39m \u001b[38;5;28;43mself\u001b[39;49m\u001b[38;5;241;43m.\u001b[39;49m\u001b[43m_get_data\u001b[49m\u001b[43m(\u001b[49m\u001b[43mnum\u001b[49m\u001b[43m)\u001b[49m\n\u001b[1;32m    137\u001b[0m     \u001b[38;5;28;01mif\u001b[39;00m \u001b[38;5;129;01mnot\u001b[39;00m \u001b[38;5;28mself\u001b[39m\u001b[38;5;241m.\u001b[39mplot_init_done:\n\u001b[1;32m    138\u001b[0m         \u001b[38;5;28mself\u001b[39m\u001b[38;5;241m.\u001b[39m_first_plot(data)\n",
      "File \u001b[0;32m~/Python-OV/filo/filo/viewers.py:261\u001b[0m, in \u001b[0;36mAnalysisViewerBase._get_data\u001b[0;34m(self, num)\u001b[0m\n\u001b[1;32m    259\u001b[0m \u001b[38;5;66;03m# Actual anlysis being made, with a live view\u001b[39;00m\n\u001b[1;32m    260\u001b[0m \u001b[38;5;28;01mif\u001b[39;00m \u001b[38;5;28mself\u001b[39m\u001b[38;5;241m.\u001b[39mlive:\n\u001b[0;32m--> 261\u001b[0m     data \u001b[38;5;241m=\u001b[39m \u001b[38;5;28;43mself\u001b[39;49m\u001b[38;5;241;43m.\u001b[39;49m\u001b[43manalysis\u001b[49m\u001b[38;5;241;43m.\u001b[39;49m\u001b[43manalyze\u001b[49m\u001b[43m(\u001b[49m\u001b[43mnum\u001b[49m\u001b[43m,\u001b[49m\u001b[43m \u001b[49m\u001b[43mdetails\u001b[49m\u001b[38;5;241;43m=\u001b[39;49m\u001b[38;5;28;43;01mTrue\u001b[39;49;00m\u001b[43m)\u001b[49m\n\u001b[1;32m    262\u001b[0m     \u001b[38;5;28mself\u001b[39m\u001b[38;5;241m.\u001b[39manalysis\u001b[38;5;241m.\u001b[39m_store_data(data)\n\u001b[1;32m    263\u001b[0m     \u001b[38;5;28;01mreturn\u001b[39;00m data\n",
      "File \u001b[0;32m~/Python-OV/imgseries/imgseries/analysis/analysis_base.py:90\u001b[0m, in \u001b[0;36mAnalysis.analyze\u001b[0;34m(self, num, details)\u001b[0m\n\u001b[1;32m     71\u001b[0m \u001b[38;5;250m\u001b[39m\u001b[38;5;124;03m\"\"\"Same as _analyze, but with num as input instead of img.\u001b[39;00m\n\u001b[1;32m     72\u001b[0m \n\u001b[1;32m     73\u001b[0m \u001b[38;5;124;03mCan be subclassed if necessary.\u001b[39;00m\n\u001b[0;32m   (...)\u001b[0m\n\u001b[1;32m     87\u001b[0m \u001b[38;5;124;03m    the key 'num' indicating the data series identifier\u001b[39;00m\n\u001b[1;32m     88\u001b[0m \u001b[38;5;124;03m\"\"\"\u001b[39;00m\n\u001b[1;32m     89\u001b[0m img \u001b[38;5;241m=\u001b[39m \u001b[38;5;28mself\u001b[39m\u001b[38;5;241m.\u001b[39mimg_series\u001b[38;5;241m.\u001b[39mread(num\u001b[38;5;241m=\u001b[39mnum)\n\u001b[0;32m---> 90\u001b[0m data \u001b[38;5;241m=\u001b[39m \u001b[38;5;28;43mself\u001b[39;49m\u001b[38;5;241;43m.\u001b[39;49m\u001b[43m_analyze\u001b[49m\u001b[43m(\u001b[49m\u001b[43mimg\u001b[49m\u001b[38;5;241;43m=\u001b[39;49m\u001b[43mimg\u001b[49m\u001b[43m)\u001b[49m\n\u001b[1;32m     91\u001b[0m data[\u001b[38;5;124m'\u001b[39m\u001b[38;5;124mnum\u001b[39m\u001b[38;5;124m'\u001b[39m] \u001b[38;5;241m=\u001b[39m num\n\u001b[1;32m     92\u001b[0m \u001b[38;5;28;01mif\u001b[39;00m details:\n",
      "File \u001b[0;32m~/Python-OV/imgseries/imgseries/analysis/contour_tracking.py:488\u001b[0m, in \u001b[0;36mContourTracking._analyze\u001b[0;34m(self, img)\u001b[0m\n\u001b[1;32m    483\u001b[0m \u001b[38;5;28;01mfor\u001b[39;00m refpos \u001b[38;5;129;01min\u001b[39;00m \u001b[38;5;28mself\u001b[39m\u001b[38;5;241m.\u001b[39mreference_positions:\n\u001b[1;32m    485\u001b[0m     \u001b[38;5;28;01mtry\u001b[39;00m:\n\u001b[1;32m    486\u001b[0m         \u001b[38;5;66;03m# this time edge=false, because trying to find contour closest\u001b[39;00m\n\u001b[1;32m    487\u001b[0m         \u001b[38;5;66;03m# to the recorded centroid position, not edges\u001b[39;00m\n\u001b[0;32m--> 488\u001b[0m         contour \u001b[38;5;241m=\u001b[39m \u001b[43mimgbasics\u001b[49m\u001b[38;5;241;43m.\u001b[39;49m\u001b[43mclosest_contour\u001b[49m\u001b[43m(\u001b[49m\n\u001b[1;32m    489\u001b[0m \u001b[43m            \u001b[49m\u001b[43mcontours\u001b[49m\u001b[38;5;241;43m=\u001b[39;49m\u001b[43mcontours\u001b[49m\u001b[43m,\u001b[49m\n\u001b[1;32m    490\u001b[0m \u001b[43m            \u001b[49m\u001b[43mposition\u001b[49m\u001b[38;5;241;43m=\u001b[39;49m\u001b[43mrefpos\u001b[49m\u001b[43m,\u001b[49m\n\u001b[1;32m    491\u001b[0m \u001b[43m            \u001b[49m\u001b[43medge\u001b[49m\u001b[38;5;241;43m=\u001b[39;49m\u001b[38;5;28;43;01mTrue\u001b[39;49;00m\u001b[43m,\u001b[49m\n\u001b[1;32m    492\u001b[0m \u001b[43m        \u001b[49m\u001b[43m)\u001b[49m\n\u001b[1;32m    494\u001b[0m     \u001b[38;5;28;01mexcept\u001b[39;00m imgbasics\u001b[38;5;241m.\u001b[39mContourError:\n\u001b[1;32m    495\u001b[0m         \u001b[38;5;66;03m# No contour at all detected on image --> return NaN\u001b[39;00m\n\u001b[1;32m    496\u001b[0m         xc, yc, perimeter, area \u001b[38;5;241m=\u001b[39m (NaN,) \u001b[38;5;241m*\u001b[39m \u001b[38;5;241m4\u001b[39m\n",
      "File \u001b[0;32m~/Python-OV/imgbasics/imgbasics/contours.py:143\u001b[0m, in \u001b[0;36mclosest_contour\u001b[0;34m(contours, position, edge, source)\u001b[0m\n\u001b[1;32m    139\u001b[0m dists \u001b[38;5;241m=\u001b[39m []  \u001b[38;5;66;03m# will store distances to position\u001b[39;00m\n\u001b[1;32m    141\u001b[0m \u001b[38;5;28;01mfor\u001b[39;00m contour \u001b[38;5;129;01min\u001b[39;00m contours:\n\u001b[0;32m--> 143\u001b[0m     xcont, ycont \u001b[38;5;241m=\u001b[39m contour_coords(contour, source)\n\u001b[1;32m    145\u001b[0m     \u001b[38;5;66;03m# center mode: compare approx. center of contour to position\u001b[39;00m\n\u001b[1;32m    146\u001b[0m     \u001b[38;5;28;01mif\u001b[39;00m \u001b[38;5;129;01mnot\u001b[39;00m edge:\n",
      "\u001b[0;31mTypeError\u001b[0m: cannot unpack non-iterable Contour object"
     ]
    }
   ],
   "source": [
    "ct.inspect(live=True)"
   ]
  },
  {
   "cell_type": "code",
   "execution_count": null,
   "metadata": {},
   "outputs": [
    {
     "data": {
      "text/html": [
       "<div>\n",
       "<style scoped>\n",
       "    .dataframe tbody tr th:only-of-type {\n",
       "        vertical-align: middle;\n",
       "    }\n",
       "\n",
       "    .dataframe tbody tr th {\n",
       "        vertical-align: top;\n",
       "    }\n",
       "\n",
       "    .dataframe thead th {\n",
       "        text-align: right;\n",
       "    }\n",
       "</style>\n",
       "<table border=\"1\" class=\"dataframe\">\n",
       "  <thead>\n",
       "    <tr style=\"text-align: right;\">\n",
       "      <th></th>\n",
       "      <th>folder</th>\n",
       "      <th>filename</th>\n",
       "      <th>time (unix)</th>\n",
       "      <th>x1</th>\n",
       "      <th>y1</th>\n",
       "      <th>p1</th>\n",
       "      <th>a1</th>\n",
       "      <th>x2</th>\n",
       "      <th>y2</th>\n",
       "      <th>p2</th>\n",
       "      <th>a2</th>\n",
       "      <th>x3</th>\n",
       "      <th>y3</th>\n",
       "      <th>p3</th>\n",
       "      <th>a3</th>\n",
       "    </tr>\n",
       "    <tr>\n",
       "      <th>num</th>\n",
       "      <th></th>\n",
       "      <th></th>\n",
       "      <th></th>\n",
       "      <th></th>\n",
       "      <th></th>\n",
       "      <th></th>\n",
       "      <th></th>\n",
       "      <th></th>\n",
       "      <th></th>\n",
       "      <th></th>\n",
       "      <th></th>\n",
       "      <th></th>\n",
       "      <th></th>\n",
       "      <th></th>\n",
       "      <th></th>\n",
       "    </tr>\n",
       "  </thead>\n",
       "  <tbody>\n",
       "    <tr>\n",
       "      <th>32</th>\n",
       "      <td>img2</td>\n",
       "      <td>img-00642.png</td>\n",
       "      <td>1.696408e+09</td>\n",
       "      <td>187.364690</td>\n",
       "      <td>265.320414</td>\n",
       "      <td>43.270759</td>\n",
       "      <td>-142.029436</td>\n",
       "      <td>257.719171</td>\n",
       "      <td>266.370382</td>\n",
       "      <td>51.830282</td>\n",
       "      <td>-206.872060</td>\n",
       "      <td>319.555812</td>\n",
       "      <td>231.593265</td>\n",
       "      <td>46.132492</td>\n",
       "      <td>-165.451198</td>\n",
       "    </tr>\n",
       "    <tr>\n",
       "      <th>34</th>\n",
       "      <td>img2</td>\n",
       "      <td>img-00644.png</td>\n",
       "      <td>1.696408e+09</td>\n",
       "      <td>187.169372</td>\n",
       "      <td>267.428050</td>\n",
       "      <td>45.021270</td>\n",
       "      <td>-153.318311</td>\n",
       "      <td>257.781781</td>\n",
       "      <td>268.357366</td>\n",
       "      <td>53.295230</td>\n",
       "      <td>-219.807310</td>\n",
       "      <td>319.909030</td>\n",
       "      <td>233.517218</td>\n",
       "      <td>47.490904</td>\n",
       "      <td>-175.386133</td>\n",
       "    </tr>\n",
       "    <tr>\n",
       "      <th>35</th>\n",
       "      <td>img2</td>\n",
       "      <td>img-00645.png</td>\n",
       "      <td>1.696408e+09</td>\n",
       "      <td>187.220590</td>\n",
       "      <td>266.815080</td>\n",
       "      <td>43.429820</td>\n",
       "      <td>-143.445278</td>\n",
       "      <td>258.051950</td>\n",
       "      <td>267.839777</td>\n",
       "      <td>52.171060</td>\n",
       "      <td>-207.666720</td>\n",
       "      <td>320.331481</td>\n",
       "      <td>232.891746</td>\n",
       "      <td>46.096399</td>\n",
       "      <td>-165.685672</td>\n",
       "    </tr>\n",
       "    <tr>\n",
       "      <th>36</th>\n",
       "      <td>img2</td>\n",
       "      <td>img-00646.png</td>\n",
       "      <td>1.696408e+09</td>\n",
       "      <td>187.101229</td>\n",
       "      <td>267.269552</td>\n",
       "      <td>43.490668</td>\n",
       "      <td>-143.190503</td>\n",
       "      <td>258.063319</td>\n",
       "      <td>268.287151</td>\n",
       "      <td>51.800314</td>\n",
       "      <td>-205.727564</td>\n",
       "      <td>320.495598</td>\n",
       "      <td>233.274237</td>\n",
       "      <td>45.979353</td>\n",
       "      <td>-164.687714</td>\n",
       "    </tr>\n",
       "    <tr>\n",
       "      <th>37</th>\n",
       "      <td>img2</td>\n",
       "      <td>img-00647.png</td>\n",
       "      <td>1.696408e+09</td>\n",
       "      <td>186.995911</td>\n",
       "      <td>267.274400</td>\n",
       "      <td>43.663875</td>\n",
       "      <td>-144.143504</td>\n",
       "      <td>258.113908</td>\n",
       "      <td>268.288137</td>\n",
       "      <td>51.945336</td>\n",
       "      <td>-206.762635</td>\n",
       "      <td>320.689271</td>\n",
       "      <td>233.218465</td>\n",
       "      <td>46.177693</td>\n",
       "      <td>-165.594815</td>\n",
       "    </tr>\n",
       "  </tbody>\n",
       "</table>\n",
       "</div>"
      ],
      "text/plain": [
       "    folder       filename   time (unix)          x1          y1         p1  \\\n",
       "num                                                                          \n",
       "32    img2  img-00642.png  1.696408e+09  187.364690  265.320414  43.270759   \n",
       "34    img2  img-00644.png  1.696408e+09  187.169372  267.428050  45.021270   \n",
       "35    img2  img-00645.png  1.696408e+09  187.220590  266.815080  43.429820   \n",
       "36    img2  img-00646.png  1.696408e+09  187.101229  267.269552  43.490668   \n",
       "37    img2  img-00647.png  1.696408e+09  186.995911  267.274400  43.663875   \n",
       "\n",
       "             a1          x2          y2         p2          a2          x3  \\\n",
       "num                                                                          \n",
       "32  -142.029436  257.719171  266.370382  51.830282 -206.872060  319.555812   \n",
       "34  -153.318311  257.781781  268.357366  53.295230 -219.807310  319.909030   \n",
       "35  -143.445278  258.051950  267.839777  52.171060 -207.666720  320.331481   \n",
       "36  -143.190503  258.063319  268.287151  51.800314 -205.727564  320.495598   \n",
       "37  -144.143504  258.113908  268.288137  51.945336 -206.762635  320.689271   \n",
       "\n",
       "             y3         p3          a3  \n",
       "num                                     \n",
       "32   231.593265  46.132492 -165.451198  \n",
       "34   233.517218  47.490904 -175.386133  \n",
       "35   232.891746  46.096399 -165.685672  \n",
       "36   233.274237  45.979353 -164.687714  \n",
       "37   233.218465  46.177693 -165.594815  "
      ]
     },
     "execution_count": 5,
     "metadata": {},
     "output_type": "execute_result"
    }
   ],
   "source": [
    "ct.results.data.tail()"
   ]
  },
  {
   "cell_type": "code",
   "execution_count": null,
   "metadata": {},
   "outputs": [
    {
     "data": {
      "text/plain": [
       "<matplotlib.animation.FuncAnimation at 0x12602f730>"
      ]
     },
     "execution_count": 6,
     "metadata": {},
     "output_type": "execute_result"
    }
   ],
   "source": [
    "ct.animate(live=True, start=9)"
   ]
  },
  {
   "cell_type": "code",
   "execution_count": null,
   "metadata": {},
   "outputs": [
    {
     "data": {
      "text/html": [
       "<div>\n",
       "<style scoped>\n",
       "    .dataframe tbody tr th:only-of-type {\n",
       "        vertical-align: middle;\n",
       "    }\n",
       "\n",
       "    .dataframe tbody tr th {\n",
       "        vertical-align: top;\n",
       "    }\n",
       "\n",
       "    .dataframe thead th {\n",
       "        text-align: right;\n",
       "    }\n",
       "</style>\n",
       "<table border=\"1\" class=\"dataframe\">\n",
       "  <thead>\n",
       "    <tr style=\"text-align: right;\">\n",
       "      <th></th>\n",
       "      <th>folder</th>\n",
       "      <th>filename</th>\n",
       "      <th>time (unix)</th>\n",
       "      <th>x1</th>\n",
       "      <th>y1</th>\n",
       "      <th>p1</th>\n",
       "      <th>a1</th>\n",
       "      <th>x2</th>\n",
       "      <th>y2</th>\n",
       "      <th>p2</th>\n",
       "      <th>a2</th>\n",
       "      <th>x3</th>\n",
       "      <th>y3</th>\n",
       "      <th>p3</th>\n",
       "      <th>a3</th>\n",
       "    </tr>\n",
       "    <tr>\n",
       "      <th>num</th>\n",
       "      <th></th>\n",
       "      <th></th>\n",
       "      <th></th>\n",
       "      <th></th>\n",
       "      <th></th>\n",
       "      <th></th>\n",
       "      <th></th>\n",
       "      <th></th>\n",
       "      <th></th>\n",
       "      <th></th>\n",
       "      <th></th>\n",
       "      <th></th>\n",
       "      <th></th>\n",
       "      <th></th>\n",
       "      <th></th>\n",
       "    </tr>\n",
       "  </thead>\n",
       "  <tbody>\n",
       "    <tr>\n",
       "      <th>20</th>\n",
       "      <td>img1</td>\n",
       "      <td>img-00630.png</td>\n",
       "      <td>1.696408e+09</td>\n",
       "      <td>187.477777</td>\n",
       "      <td>266.365915</td>\n",
       "      <td>43.561492</td>\n",
       "      <td>-145.322834</td>\n",
       "      <td>257.373557</td>\n",
       "      <td>267.416427</td>\n",
       "      <td>52.216684</td>\n",
       "      <td>-210.719202</td>\n",
       "      <td>318.802785</td>\n",
       "      <td>232.819217</td>\n",
       "      <td>46.393121</td>\n",
       "      <td>-167.161730</td>\n",
       "    </tr>\n",
       "    <tr>\n",
       "      <th>21</th>\n",
       "      <td>img1</td>\n",
       "      <td>img-00631.png</td>\n",
       "      <td>1.696408e+09</td>\n",
       "      <td>187.467998</td>\n",
       "      <td>265.835410</td>\n",
       "      <td>43.342803</td>\n",
       "      <td>-142.686444</td>\n",
       "      <td>257.321739</td>\n",
       "      <td>266.867481</td>\n",
       "      <td>52.011341</td>\n",
       "      <td>-209.120515</td>\n",
       "      <td>318.734478</td>\n",
       "      <td>232.315008</td>\n",
       "      <td>46.327720</td>\n",
       "      <td>-166.541634</td>\n",
       "    </tr>\n",
       "    <tr>\n",
       "      <th>22</th>\n",
       "      <td>img1</td>\n",
       "      <td>img-00632.png</td>\n",
       "      <td>1.696408e+09</td>\n",
       "      <td>187.167991</td>\n",
       "      <td>265.889111</td>\n",
       "      <td>42.738777</td>\n",
       "      <td>-138.762625</td>\n",
       "      <td>257.019777</td>\n",
       "      <td>266.932022</td>\n",
       "      <td>51.398164</td>\n",
       "      <td>-204.034672</td>\n",
       "      <td>318.405747</td>\n",
       "      <td>232.383528</td>\n",
       "      <td>45.858763</td>\n",
       "      <td>-163.588657</td>\n",
       "    </tr>\n",
       "    <tr>\n",
       "      <th>23</th>\n",
       "      <td>img1</td>\n",
       "      <td>img-00633.png</td>\n",
       "      <td>1.696408e+09</td>\n",
       "      <td>187.274928</td>\n",
       "      <td>266.097806</td>\n",
       "      <td>42.398972</td>\n",
       "      <td>-136.601986</td>\n",
       "      <td>257.109245</td>\n",
       "      <td>267.178652</td>\n",
       "      <td>51.158804</td>\n",
       "      <td>-200.767876</td>\n",
       "      <td>318.483078</td>\n",
       "      <td>232.609760</td>\n",
       "      <td>45.536277</td>\n",
       "      <td>-161.006710</td>\n",
       "    </tr>\n",
       "    <tr>\n",
       "      <th>24</th>\n",
       "      <td>img1</td>\n",
       "      <td>img-00634.png</td>\n",
       "      <td>1.696408e+09</td>\n",
       "      <td>187.979105</td>\n",
       "      <td>265.963865</td>\n",
       "      <td>42.859156</td>\n",
       "      <td>-139.482007</td>\n",
       "      <td>257.784155</td>\n",
       "      <td>267.015880</td>\n",
       "      <td>51.723446</td>\n",
       "      <td>-205.840894</td>\n",
       "      <td>319.119806</td>\n",
       "      <td>232.467723</td>\n",
       "      <td>45.963790</td>\n",
       "      <td>-163.841087</td>\n",
       "    </tr>\n",
       "  </tbody>\n",
       "</table>\n",
       "</div>"
      ],
      "text/plain": [
       "    folder       filename   time (unix)          x1          y1         p1  \\\n",
       "num                                                                          \n",
       "20    img1  img-00630.png  1.696408e+09  187.477777  266.365915  43.561492   \n",
       "21    img1  img-00631.png  1.696408e+09  187.467998  265.835410  43.342803   \n",
       "22    img1  img-00632.png  1.696408e+09  187.167991  265.889111  42.738777   \n",
       "23    img1  img-00633.png  1.696408e+09  187.274928  266.097806  42.398972   \n",
       "24    img1  img-00634.png  1.696408e+09  187.979105  265.963865  42.859156   \n",
       "\n",
       "             a1          x2          y2         p2          a2          x3  \\\n",
       "num                                                                          \n",
       "20  -145.322834  257.373557  267.416427  52.216684 -210.719202  318.802785   \n",
       "21  -142.686444  257.321739  266.867481  52.011341 -209.120515  318.734478   \n",
       "22  -138.762625  257.019777  266.932022  51.398164 -204.034672  318.405747   \n",
       "23  -136.601986  257.109245  267.178652  51.158804 -200.767876  318.483078   \n",
       "24  -139.482007  257.784155  267.015880  51.723446 -205.840894  319.119806   \n",
       "\n",
       "             y3         p3          a3  \n",
       "num                                     \n",
       "20   232.819217  46.393121 -167.161730  \n",
       "21   232.315008  46.327720 -166.541634  \n",
       "22   232.383528  45.858763 -163.588657  \n",
       "23   232.609760  45.536277 -161.006710  \n",
       "24   232.467723  45.963790 -163.841087  "
      ]
     },
     "execution_count": 7,
     "metadata": {},
     "output_type": "execute_result"
    }
   ],
   "source": [
    "ct.results.data.tail()"
   ]
  },
  {
   "cell_type": "markdown",
   "metadata": {},
   "source": [
    "After analysis, calling `animate()` or `inspect()` will display the results without re-analyzing them (be careful to not run them with the `live=True` option)"
   ]
  },
  {
   "cell_type": "code",
   "execution_count": null,
   "metadata": {},
   "outputs": [
    {
     "data": {
      "text/plain": [
       "<filo.viewers.KeyPressSlider at 0x297d0f400>"
      ]
     },
     "execution_count": 8,
     "metadata": {},
     "output_type": "execute_result"
    },
    {
     "ename": "",
     "evalue": "",
     "output_type": "error",
     "traceback": [
      "\u001b[1;31mThe Kernel crashed while executing code in the current cell or a previous cell. \n",
      "\u001b[1;31mPlease review the code in the cell(s) to identify a possible cause of the failure. \n",
      "\u001b[1;31mClick <a href='https://aka.ms/vscodeJupyterKernelCrash'>here</a> for more info. \n",
      "\u001b[1;31mView Jupyter <a href='command:jupyter.viewOutput'>log</a> for further details."
     ]
    }
   ],
   "source": [
    "ct.inspect()"
   ]
  },
  {
   "cell_type": "code",
   "execution_count": null,
   "metadata": {},
   "outputs": [
    {
     "data": {
      "text/plain": [
       "<matplotlib.animation.FuncAnimation at 0x292c44160>"
      ]
     },
     "execution_count": 13,
     "metadata": {},
     "output_type": "execute_result"
    }
   ],
   "source": [
    "ct.animate()"
   ]
  },
  {
   "cell_type": "markdown",
   "metadata": {},
   "source": [
    "# 2) Defining and viewing contours"
   ]
  },
  {
   "cell_type": "code",
   "execution_count": 5,
   "metadata": {},
   "outputs": [],
   "source": [
    "images = ImgSeries(folders, savepath=basefolder)\n",
    "images.load_transforms('for-tests-do-not-modify/Img_Transform')\n",
    "ct = ContourTracking(images, savepath='../data/untracked_data/')"
   ]
  },
  {
   "cell_type": "markdown",
   "metadata": {},
   "source": [
    "Defining contours has to be done at least once.\n",
    "\n",
    "**Important**: Matplotlib must be in an interactive mode to do so.\n",
    "\n",
    "Defining does not need to be done again in the following situations:\n",
    "- calling methods again from the same `ct` object, e.g. `ct.run()`\n",
    "- calling `ct.contours.load()` or `ct.regenerate()` to load contours data from saved metadata (.json) file."
   ]
  },
  {
   "cell_type": "markdown",
   "metadata": {},
   "source": [
    "**Note**: to improve contour detection, it might be necessary to do additional cropping/filtering on images with `images.crop` and `images.filter`"
   ]
  },
  {
   "cell_type": "code",
   "execution_count": 6,
   "metadata": {},
   "outputs": [
    {
     "data": {
      "text/plain": [
       "<matplotlib.widgets.Slider at 0x29f89efe0>"
      ]
     },
     "execution_count": 6,
     "metadata": {},
     "output_type": "execute_result"
    }
   ],
   "source": [
    "ct.threshold.define()"
   ]
  },
  {
   "cell_type": "code",
   "execution_count": 7,
   "metadata": {},
   "outputs": [
    {
     "name": "stdout",
     "output_type": "stream",
     "text": [
      "Threshold {'value': 195}\n"
     ]
    }
   ],
   "source": [
    "print(ct.threshold)"
   ]
  },
  {
   "cell_type": "code",
   "execution_count": null,
   "metadata": {},
   "outputs": [],
   "source": [
    "ct.contours.define()  # define one contour on the first image of the series"
   ]
  },
  {
   "cell_type": "code",
   "execution_count": null,
   "metadata": {},
   "outputs": [],
   "source": [
    "ct.contours.define(n=3)  # define 3 contours on the first image of the series"
   ]
  },
  {
   "cell_type": "code",
   "execution_count": 8,
   "metadata": {},
   "outputs": [],
   "source": [
    "ct.contours.define(3, num=10)  # define 3 contours at level 170 on image #10 in the series"
   ]
  },
  {
   "cell_type": "markdown",
   "metadata": {},
   "source": [
    "Viewing analysis zones after defining or loading them:"
   ]
  },
  {
   "cell_type": "code",
   "execution_count": 9,
   "metadata": {},
   "outputs": [
    {
     "data": {
      "text/plain": [
       "{'properties': {'contour 1': {'centroid': (258.9109593046871,\n",
       "    268.54902546368044),\n",
       "   'perimeter': 50.52527374165962,\n",
       "   'area': -195.76542110990277},\n",
       "  'contour 2': {'centroid': (321.2363745251275, 233.5671688167948),\n",
       "   'perimeter': 44.70301444724173,\n",
       "   'area': -156.11570981563548},\n",
       "  'contour 3': {'centroid': (343.47682368302605, 184.0059790577565),\n",
       "   'perimeter': 35.90016038017945,\n",
       "   'area': -99.20955587194604}},\n",
       " 'level': 195,\n",
       " 'image': 10}"
      ]
     },
     "execution_count": 9,
     "metadata": {},
     "output_type": "execute_result"
    }
   ],
   "source": [
    "ct.contours.data"
   ]
  },
  {
   "cell_type": "code",
   "execution_count": 10,
   "metadata": {},
   "outputs": [
    {
     "data": {
      "text/plain": [
       "<Axes: title={'center': 'img #10, grey level 195'}>"
      ]
     },
     "execution_count": 10,
     "metadata": {},
     "output_type": "execute_result"
    }
   ],
   "source": [
    "ct.contours.show()  # show contours on the image they have been defined on"
   ]
  },
  {
   "cell_type": "code",
   "execution_count": null,
   "metadata": {},
   "outputs": [],
   "source": [
    "ct.threshold.load()"
   ]
  },
  {
   "cell_type": "code",
   "execution_count": 11,
   "metadata": {},
   "outputs": [
    {
     "data": {
      "text/plain": [
       "Threshold {'value': 195}"
      ]
     },
     "execution_count": 11,
     "metadata": {},
     "output_type": "execute_result"
    }
   ],
   "source": [
    "ct.threshold"
   ]
  },
  {
   "cell_type": "markdown",
   "metadata": {},
   "source": [
    "**Note**:\n",
    "Before, saving contour data was only done by calling `ct.save()`, which saves both data and metadata.\n",
    "Now, preliminary saving of zone data can be done with `ct.contours.save()`; \n",
    "Note that `ct.save()` overwrites that data if the same filename is provided."
   ]
  },
  {
   "cell_type": "code",
   "execution_count": 12,
   "metadata": {},
   "outputs": [
    {
     "name": "stdout",
     "output_type": "stream",
     "text": [
      "\n",
      "Warning: These modules have dirty git repositories: imgseries, imgbasics, filo\n",
      "\n",
      "\n",
      "Warning: these modules are not in a git repository: skimage, matplotlib, numpy\n",
      "\n"
     ]
    }
   ],
   "source": [
    "ct.contours.save()"
   ]
  },
  {
   "cell_type": "markdown",
   "metadata": {},
   "source": [
    "# 5) Connect results to image series (e.g. for inspection/visualization)"
   ]
  },
  {
   "cell_type": "code",
   "execution_count": null,
   "metadata": {},
   "outputs": [],
   "source": [
    "images = ImgSeries(folders, savepath=basefolder)\n",
    "ct = ContourTracking(images)\n",
    "\n",
    "# Line below is equivalent to call results.load() and images.load_transforms,\n",
    "# except that the transforms are taken directly from the results metadata.\n",
    "ct.regenerate(filename='for-tests-do-not-modify/Img_ContourTracking')"
   ]
  },
  {
   "cell_type": "markdown",
   "metadata": {},
   "source": [
    "Once the analysis is regenerated, all the tools associated with images (inspection, showing, animation, etc.) are available:"
   ]
  },
  {
   "cell_type": "code",
   "execution_count": null,
   "metadata": {},
   "outputs": [
    {
     "data": {
      "text/plain": [
       "<filo.viewers.KeyPressSlider at 0x29279a470>"
      ]
     },
     "execution_count": 21,
     "metadata": {},
     "output_type": "execute_result"
    }
   ],
   "source": [
    "ct.inspect()"
   ]
  },
  {
   "cell_type": "code",
   "execution_count": null,
   "metadata": {},
   "outputs": [],
   "source": []
  }
 ],
 "metadata": {
  "kernelspec": {
   "display_name": "base",
   "language": "python",
   "name": "python3"
  },
  "language_info": {
   "codemirror_mode": {
    "name": "ipython",
    "version": 3
   },
   "file_extension": ".py",
   "mimetype": "text/x-python",
   "name": "python",
   "nbconvert_exporter": "python",
   "pygments_lexer": "ipython3",
   "version": "3.10.16"
  }
 },
 "nbformat": 4,
 "nbformat_minor": 4
}

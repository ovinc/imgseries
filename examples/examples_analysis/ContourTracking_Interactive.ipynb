{
 "cells": [
  {
   "cell_type": "code",
   "execution_count": 1,
   "metadata": {},
   "outputs": [],
   "source": [
    "%matplotlib tk\n",
    "from pathlib import Path\n",
    "from imgseries import ImgSeries, ContourTracking"
   ]
  },
  {
   "cell_type": "markdown",
   "metadata": {},
   "source": [
    "**NOTE**: This notebook only shows the interactive ContourTracking tools. See *ContourTracking.ipynb* for non-interactive options.\n",
    "\n",
    "**NOTE**: the main (numbered) sections are independent of each other and correspond to the sections in *ContourTracking.ipynb*"
   ]
  },
  {
   "cell_type": "code",
   "execution_count": 2,
   "metadata": {},
   "outputs": [],
   "source": [
    "# Define where images are stored, here distributed among two folders\n",
    "basefolder = Path('../data/')\n",
    "folders = [basefolder / folder for folder in ('img1', 'img2')]"
   ]
  },
  {
   "cell_type": "markdown",
   "metadata": {},
   "source": [
    "# 1) Minimal analysis"
   ]
  },
  {
   "cell_type": "code",
   "execution_count": 22,
   "metadata": {},
   "outputs": [],
   "source": [
    "images = ImgSeries(folders, savepath=basefolder)\n",
    "\n",
    "# load pre-defined transforms (see ImgSeries for how to define those)\n",
    "images.load_transforms('for-tests-do-not-modify/Img_Transform')\n",
    "\n",
    "# Save results in untracked folder to avoid git tracking test files\n",
    "ct = ContourTracking(images, savepath='../data/untracked_data/')\n",
    "\n",
    "# Load pre-defined contours, see below how to define them directly\n",
    "ct.contour_selection.load('../for-tests-do-not-modify/Img_ContourTracking')"
   ]
  },
  {
   "cell_type": "markdown",
   "metadata": {},
   "source": [
    "If using an interactive matplotlib backend, it is also possible to view the analysis in real time, either using `inspect()` or `animate()` with the `live=True` option. \n",
    "\n",
    "If you want the data to be saved in the end (i.e. when the figure is closed), use the `save=True` option. It will transfer the results to `ct.results` and overwrite any pre-existing results."
   ]
  },
  {
   "cell_type": "code",
   "execution_count": 23,
   "metadata": {},
   "outputs": [
    {
     "data": {
      "text/plain": [
       "<filo.viewers.KeyPressSlider at 0x2a49dbee0>"
      ]
     },
     "execution_count": 23,
     "metadata": {},
     "output_type": "execute_result"
    }
   ],
   "source": [
    "ct.inspect(live=True)"
   ]
  },
  {
   "cell_type": "code",
   "execution_count": 24,
   "metadata": {},
   "outputs": [],
   "source": [
    "ct.results.data"
   ]
  },
  {
   "cell_type": "code",
   "execution_count": 25,
   "metadata": {},
   "outputs": [
    {
     "data": {
      "text/plain": [
       "<matplotlib.animation.FuncAnimation at 0x2a1753670>"
      ]
     },
     "execution_count": 25,
     "metadata": {},
     "output_type": "execute_result"
    },
    {
     "name": "stderr",
     "output_type": "stream",
     "text": [
      "invalid command name \"11353517312_on_timer\"\n",
      "    while executing\n",
      "\"11353517312_on_timer\"\n",
      "    (\"after\" script)\n"
     ]
    }
   ],
   "source": [
    "ct.animate(live=True, save=True, start=9)"
   ]
  },
  {
   "cell_type": "code",
   "execution_count": 26,
   "metadata": {},
   "outputs": [
    {
     "data": {
      "text/plain": [
       "<matplotlib.animation.FuncAnimation at 0x2a4be2560>"
      ]
     },
     "execution_count": 26,
     "metadata": {},
     "output_type": "execute_result"
    },
    {
     "name": "stderr",
     "output_type": "stream",
     "text": [
      "invalid command name \"11353736448_on_timer\"\n",
      "    while executing\n",
      "\"11353736448_on_timer\"\n",
      "    (\"after\" script)\n"
     ]
    }
   ],
   "source": [
    "ct.animate()"
   ]
  },
  {
   "cell_type": "markdown",
   "metadata": {},
   "source": [
    "After analysis, calling `animate()` or `inspect()` will display the results without re-analyzing them (be careful to not run them with the `live=True` option)"
   ]
  },
  {
   "cell_type": "code",
   "execution_count": 27,
   "metadata": {},
   "outputs": [
    {
     "data": {
      "text/html": [
       "<div>\n",
       "<style scoped>\n",
       "    .dataframe tbody tr th:only-of-type {\n",
       "        vertical-align: middle;\n",
       "    }\n",
       "\n",
       "    .dataframe tbody tr th {\n",
       "        vertical-align: top;\n",
       "    }\n",
       "\n",
       "    .dataframe thead th {\n",
       "        text-align: right;\n",
       "    }\n",
       "</style>\n",
       "<table border=\"1\" class=\"dataframe\">\n",
       "  <thead>\n",
       "    <tr style=\"text-align: right;\">\n",
       "      <th></th>\n",
       "      <th>folder</th>\n",
       "      <th>filename</th>\n",
       "      <th>time (unix)</th>\n",
       "      <th>x_00</th>\n",
       "      <th>y_00</th>\n",
       "      <th>p_00</th>\n",
       "      <th>a_00</th>\n",
       "      <th>x_01</th>\n",
       "      <th>y_01</th>\n",
       "      <th>p_01</th>\n",
       "      <th>a_01</th>\n",
       "      <th>x_02</th>\n",
       "      <th>y_02</th>\n",
       "      <th>p_02</th>\n",
       "      <th>a_02</th>\n",
       "    </tr>\n",
       "    <tr>\n",
       "      <th>num</th>\n",
       "      <th></th>\n",
       "      <th></th>\n",
       "      <th></th>\n",
       "      <th></th>\n",
       "      <th></th>\n",
       "      <th></th>\n",
       "      <th></th>\n",
       "      <th></th>\n",
       "      <th></th>\n",
       "      <th></th>\n",
       "      <th></th>\n",
       "      <th></th>\n",
       "      <th></th>\n",
       "      <th></th>\n",
       "      <th></th>\n",
       "    </tr>\n",
       "  </thead>\n",
       "  <tbody>\n",
       "    <tr>\n",
       "      <th>14</th>\n",
       "      <td>img1</td>\n",
       "      <td>img-00624.png</td>\n",
       "      <td>1.696408e+09</td>\n",
       "      <td>257.613399</td>\n",
       "      <td>267.738181</td>\n",
       "      <td>182.617305</td>\n",
       "      <td>48.739829</td>\n",
       "      <td>319.420963</td>\n",
       "      <td>232.958032</td>\n",
       "      <td>143.685699</td>\n",
       "      <td>43.008482</td>\n",
       "      <td>341.581204</td>\n",
       "      <td>183.634980</td>\n",
       "      <td>91.346579</td>\n",
       "      <td>34.498407</td>\n",
       "    </tr>\n",
       "    <tr>\n",
       "      <th>15</th>\n",
       "      <td>img1</td>\n",
       "      <td>img-00625.png</td>\n",
       "      <td>1.696408e+09</td>\n",
       "      <td>257.428143</td>\n",
       "      <td>267.405788</td>\n",
       "      <td>182.141287</td>\n",
       "      <td>48.659180</td>\n",
       "      <td>319.188531</td>\n",
       "      <td>232.680118</td>\n",
       "      <td>143.195911</td>\n",
       "      <td>42.783505</td>\n",
       "      <td>341.293144</td>\n",
       "      <td>183.385059</td>\n",
       "      <td>91.423165</td>\n",
       "      <td>34.562975</td>\n",
       "    </tr>\n",
       "    <tr>\n",
       "      <th>16</th>\n",
       "      <td>img1</td>\n",
       "      <td>img-00626.png</td>\n",
       "      <td>1.696408e+09</td>\n",
       "      <td>257.374044</td>\n",
       "      <td>267.638668</td>\n",
       "      <td>181.586089</td>\n",
       "      <td>48.586908</td>\n",
       "      <td>319.059478</td>\n",
       "      <td>232.922656</td>\n",
       "      <td>143.194397</td>\n",
       "      <td>42.868703</td>\n",
       "      <td>341.177822</td>\n",
       "      <td>183.660587</td>\n",
       "      <td>91.244718</td>\n",
       "      <td>34.530023</td>\n",
       "    </tr>\n",
       "    <tr>\n",
       "      <th>17</th>\n",
       "      <td>img1</td>\n",
       "      <td>img-00627.png</td>\n",
       "      <td>1.696408e+09</td>\n",
       "      <td>257.363530</td>\n",
       "      <td>267.263211</td>\n",
       "      <td>182.425380</td>\n",
       "      <td>48.609405</td>\n",
       "      <td>319.002720</td>\n",
       "      <td>232.591344</td>\n",
       "      <td>144.767579</td>\n",
       "      <td>43.027702</td>\n",
       "      <td>341.101950</td>\n",
       "      <td>183.398897</td>\n",
       "      <td>91.550232</td>\n",
       "      <td>34.655305</td>\n",
       "    </tr>\n",
       "    <tr>\n",
       "      <th>18</th>\n",
       "      <td>img1</td>\n",
       "      <td>img-00628.png</td>\n",
       "      <td>1.696408e+09</td>\n",
       "      <td>257.457734</td>\n",
       "      <td>267.265302</td>\n",
       "      <td>184.322258</td>\n",
       "      <td>48.889705</td>\n",
       "      <td>319.021201</td>\n",
       "      <td>232.635579</td>\n",
       "      <td>145.531334</td>\n",
       "      <td>43.163394</td>\n",
       "      <td>341.104991</td>\n",
       "      <td>183.458914</td>\n",
       "      <td>92.711252</td>\n",
       "      <td>34.840545</td>\n",
       "    </tr>\n",
       "  </tbody>\n",
       "</table>\n",
       "</div>"
      ],
      "text/plain": [
       "    folder       filename   time (unix)        x_00        y_00        p_00  \\\n",
       "num                                                                           \n",
       "14    img1  img-00624.png  1.696408e+09  257.613399  267.738181  182.617305   \n",
       "15    img1  img-00625.png  1.696408e+09  257.428143  267.405788  182.141287   \n",
       "16    img1  img-00626.png  1.696408e+09  257.374044  267.638668  181.586089   \n",
       "17    img1  img-00627.png  1.696408e+09  257.363530  267.263211  182.425380   \n",
       "18    img1  img-00628.png  1.696408e+09  257.457734  267.265302  184.322258   \n",
       "\n",
       "          a_00        x_01        y_01        p_01       a_01        x_02  \\\n",
       "num                                                                         \n",
       "14   48.739829  319.420963  232.958032  143.685699  43.008482  341.581204   \n",
       "15   48.659180  319.188531  232.680118  143.195911  42.783505  341.293144   \n",
       "16   48.586908  319.059478  232.922656  143.194397  42.868703  341.177822   \n",
       "17   48.609405  319.002720  232.591344  144.767579  43.027702  341.101950   \n",
       "18   48.889705  319.021201  232.635579  145.531334  43.163394  341.104991   \n",
       "\n",
       "           y_02       p_02       a_02  \n",
       "num                                    \n",
       "14   183.634980  91.346579  34.498407  \n",
       "15   183.385059  91.423165  34.562975  \n",
       "16   183.660587  91.244718  34.530023  \n",
       "17   183.398897  91.550232  34.655305  \n",
       "18   183.458914  92.711252  34.840545  "
      ]
     },
     "execution_count": 27,
     "metadata": {},
     "output_type": "execute_result"
    }
   ],
   "source": [
    "ct.results.data['table'].tail()"
   ]
  },
  {
   "cell_type": "markdown",
   "metadata": {},
   "source": [
    "After analysis, calling `animate()` or `inspect()` will display the results without re-analyzing them (be careful to not run them with the `save=True` option)"
   ]
  },
  {
   "cell_type": "code",
   "execution_count": 28,
   "metadata": {},
   "outputs": [
    {
     "data": {
      "text/plain": [
       "<filo.viewers.KeyPressSlider at 0x2a4f06740>"
      ]
     },
     "execution_count": 28,
     "metadata": {},
     "output_type": "execute_result"
    }
   ],
   "source": [
    "ct.inspect()"
   ]
  },
  {
   "cell_type": "code",
   "execution_count": 23,
   "metadata": {},
   "outputs": [
    {
     "data": {
      "text/plain": [
       "<filo.viewers.KeyPressSlider at 0x2a09f1d20>"
      ]
     },
     "execution_count": 23,
     "metadata": {},
     "output_type": "execute_result"
    }
   ],
   "source": [
    "ct.inspect(live=True)"
   ]
  },
  {
   "cell_type": "code",
   "execution_count": 24,
   "metadata": {},
   "outputs": [
    {
     "name": "stderr",
     "output_type": "stream",
     "text": [
      " 60%|██████    | 30/50 [00:00<00:00, 142.66it/s]/Users/olivier.vincent/Python-OV/imgbasics/imgbasics/contours.py:100: RuntimeWarning: divide by zero encountered in scalar divide\n",
      "  xc = Ma / area + xm\n",
      "/Users/olivier.vincent/Python-OV/imgbasics/imgbasics/contours.py:101: RuntimeWarning: divide by zero encountered in scalar divide\n",
      "  yc = Mb / area + ym\n",
      "100%|██████████| 50/50 [00:00<00:00, 147.15it/s]\n"
     ]
    }
   ],
   "source": [
    "ct.run()"
   ]
  },
  {
   "cell_type": "code",
   "execution_count": 29,
   "metadata": {},
   "outputs": [
    {
     "name": "stdout",
     "output_type": "stream",
     "text": [
      "\n",
      "Warning: These modules have dirty git repositories: imgseries, imgbasics, filo\n",
      "\n",
      "\n",
      "Warning: these modules are missing a tag: imgseries, imgbasics\n",
      "\n",
      "\n",
      "Warning: these modules are not in a git repository: skimage, matplotlib, numpy\n",
      "\n"
     ]
    }
   ],
   "source": [
    "ct.results.save()"
   ]
  },
  {
   "cell_type": "markdown",
   "metadata": {},
   "source": [
    "# 2) Defining and viewing contours"
   ]
  },
  {
   "cell_type": "code",
   "execution_count": 3,
   "metadata": {},
   "outputs": [],
   "source": [
    "images = ImgSeries(folders, savepath=basefolder)\n",
    "images.load_transforms('for-tests-do-not-modify/Img_Transform')\n",
    "ct = ContourTracking(images, savepath='../data/untracked_data/')"
   ]
  },
  {
   "cell_type": "markdown",
   "metadata": {},
   "source": [
    "Defining contours has to be done at least once.\n",
    "\n",
    "**Important**: Matplotlib must be in an interactive mode to do so.\n",
    "\n",
    "Defining does not need to be done again in the following situations:\n",
    "- calling methods again from the same `ct` object, e.g. `ct.run()`\n",
    "- calling `ct.contours.load()` or `ct.regenerate()` to load contours data from saved metadata (.json) file."
   ]
  },
  {
   "cell_type": "markdown",
   "metadata": {},
   "source": [
    "**Note**: to improve contour detection, it might be necessary to do additional cropping/filtering on images with `images.crop` and `images.filter`"
   ]
  },
  {
   "cell_type": "code",
   "execution_count": 4,
   "metadata": {},
   "outputs": [
    {
     "data": {
      "text/plain": [
       "<matplotlib.widgets.Slider at 0x2a1675000>"
      ]
     },
     "execution_count": 4,
     "metadata": {},
     "output_type": "execute_result"
    }
   ],
   "source": [
    "ct.threshold.define()"
   ]
  },
  {
   "cell_type": "code",
   "execution_count": 5,
   "metadata": {},
   "outputs": [
    {
     "name": "stdout",
     "output_type": "stream",
     "text": [
      "Threshold {'value': 212}\n"
     ]
    }
   ],
   "source": [
    "print(ct.threshold)"
   ]
  },
  {
   "cell_type": "code",
   "execution_count": 6,
   "metadata": {},
   "outputs": [],
   "source": [
    "ct.contour_selection.define()  # define one contour on the first image of the series"
   ]
  },
  {
   "cell_type": "code",
   "execution_count": null,
   "metadata": {},
   "outputs": [],
   "source": [
    "ct.contour_selection.define(n=3)  # define 3 contours on the first image of the series"
   ]
  },
  {
   "cell_type": "code",
   "execution_count": 7,
   "metadata": {},
   "outputs": [],
   "source": [
    "ct.contour_selection.define(3, num=10)  # define 3 contours at level 170 on image #10 in the series"
   ]
  },
  {
   "cell_type": "markdown",
   "metadata": {},
   "source": [
    "Viewing analysis zones after defining or loading them:"
   ]
  },
  {
   "cell_type": "code",
   "execution_count": 8,
   "metadata": {},
   "outputs": [
    {
     "data": {
      "text/plain": [
       "{'properties': {'contour 0': {'centroid': (258.92161688147326,\n",
       "    268.56459109639144),\n",
       "   'perimeter': 48.828774144948135,\n",
       "   'area': 182.471746955222},\n",
       "  'contour 1': {'centroid': (321.1909358144602, 233.5772268959366),\n",
       "   'perimeter': 43.02653409575185,\n",
       "   'area': 144.8911610410767},\n",
       "  'contour 2': {'centroid': (343.4624374788979, 183.98929340109956),\n",
       "   'perimeter': 34.32849099178767,\n",
       "   'area': 90.56938150737285}},\n",
       " 'level': 212,\n",
       " 'image': 10}"
      ]
     },
     "execution_count": 8,
     "metadata": {},
     "output_type": "execute_result"
    }
   ],
   "source": [
    "ct.contour_selection.data"
   ]
  },
  {
   "cell_type": "code",
   "execution_count": 9,
   "metadata": {},
   "outputs": [
    {
     "data": {
      "text/plain": [
       "<Axes: title={'center': 'img #10, grey level 212'}>"
      ]
     },
     "execution_count": 9,
     "metadata": {},
     "output_type": "execute_result"
    }
   ],
   "source": [
    "ct.contour_selection.show()  # show contours on the image they have been defined on"
   ]
  },
  {
   "cell_type": "code",
   "execution_count": 10,
   "metadata": {},
   "outputs": [],
   "source": [
    "ct.threshold.load()"
   ]
  },
  {
   "cell_type": "code",
   "execution_count": 11,
   "metadata": {},
   "outputs": [
    {
     "data": {
      "text/plain": [
       "Threshold {'value': 208}"
      ]
     },
     "execution_count": 11,
     "metadata": {},
     "output_type": "execute_result"
    }
   ],
   "source": [
    "ct.threshold"
   ]
  },
  {
   "cell_type": "markdown",
   "metadata": {},
   "source": [
    "**Note**:\n",
    "Before, saving contour data was only done by calling `ct.save()`, which saves both data and metadata.\n",
    "Now, preliminary saving of zone data can be done with `ct.contours.save()`; \n",
    "Note that `ct.save()` overwrites that data if the same filename is provided."
   ]
  },
  {
   "cell_type": "code",
   "execution_count": 16,
   "metadata": {},
   "outputs": [
    {
     "name": "stdout",
     "output_type": "stream",
     "text": [
      "\n",
      "Warning: These modules have dirty git repositories: imgseries, imgbasics, filo\n",
      "\n",
      "\n",
      "Warning: these modules are missing a tag: imgseries, imgbasics\n",
      "\n",
      "\n",
      "Warning: these modules are not in a git repository: skimage, matplotlib, numpy\n",
      "\n"
     ]
    }
   ],
   "source": [
    "ct.contour_selection.save()"
   ]
  },
  {
   "cell_type": "code",
   "execution_count": 13,
   "metadata": {},
   "outputs": [
    {
     "name": "stderr",
     "output_type": "stream",
     "text": [
      "100%|██████████| 50/50 [00:00<00:00, 155.85it/s]\n"
     ]
    }
   ],
   "source": [
    "ct.run()"
   ]
  },
  {
   "cell_type": "code",
   "execution_count": 14,
   "metadata": {},
   "outputs": [
    {
     "data": {
      "text/plain": [
       "{'path': '/Users/olivier.vincent/Python-OV/imgseries/examples/data/untracked_data',\n",
       " 'folders': ['../img1', '../img2'],\n",
       " 'contour selection': {'properties': {'contour 0': {'centroid': (258.92161688147326,\n",
       "     268.56459109639144),\n",
       "    'perimeter': 48.828774144948135,\n",
       "    'area': 182.471746955222},\n",
       "   'contour 1': {'centroid': (321.1909358144602, 233.5772268959366),\n",
       "    'perimeter': 43.02653409575185,\n",
       "    'area': 144.8911610410767},\n",
       "   'contour 2': {'centroid': (343.4624374788979, 183.98929340109956),\n",
       "    'perimeter': 34.32849099178767,\n",
       "    'area': 90.56938150737285}},\n",
       "  'level': 212,\n",
       "  'image': 10},\n",
       " 'transforms': {'flicker': False,\n",
       "  'shaking': False,\n",
       "  'grayscale': {},\n",
       "  'rotation': {'angle': 22.765009107511496},\n",
       "  'crop': {'zone': [159, 171, 467, 380]},\n",
       "  'filter': {},\n",
       "  'subtraction': {},\n",
       "  'threshold': {}}}"
      ]
     },
     "execution_count": 14,
     "metadata": {},
     "output_type": "execute_result"
    }
   ],
   "source": [
    "ct.results.metadata"
   ]
  },
  {
   "cell_type": "code",
   "execution_count": 17,
   "metadata": {},
   "outputs": [
    {
     "name": "stdout",
     "output_type": "stream",
     "text": [
      "\n",
      "Warning: These modules have dirty git repositories: imgseries, imgbasics, filo\n",
      "\n",
      "\n",
      "Warning: these modules are missing a tag: imgseries, imgbasics\n",
      "\n",
      "\n",
      "Warning: these modules are not in a git repository: skimage, matplotlib, numpy\n",
      "\n"
     ]
    }
   ],
   "source": [
    "ct.results.save()"
   ]
  },
  {
   "cell_type": "markdown",
   "metadata": {},
   "source": [
    "# 6) Connect results to image series (e.g. for inspection/visualization)"
   ]
  },
  {
   "cell_type": "code",
   "execution_count": 18,
   "metadata": {},
   "outputs": [],
   "source": [
    "images = ImgSeries(folders, savepath=basefolder)\n",
    "ct = ContourTracking(images)\n",
    "\n",
    "# Line below is equivalent to call results.load() and images.load_transforms,\n",
    "# except that the transforms are taken directly from the results metadata.\n",
    "ct.regenerate(filename='for-tests-do-not-modify/Img_ContourTracking')"
   ]
  },
  {
   "cell_type": "markdown",
   "metadata": {},
   "source": [
    "Once the analysis is regenerated, all the tools associated with images (inspection, showing, animation, etc.) are available:"
   ]
  },
  {
   "cell_type": "code",
   "execution_count": 19,
   "metadata": {},
   "outputs": [
    {
     "data": {
      "text/plain": [
       "<filo.viewers.KeyPressSlider at 0x2a21716c0>"
      ]
     },
     "execution_count": 19,
     "metadata": {},
     "output_type": "execute_result"
    }
   ],
   "source": [
    "ct.inspect()"
   ]
  },
  {
   "cell_type": "code",
   "execution_count": 20,
   "metadata": {},
   "outputs": [
    {
     "data": {
      "text/plain": [
       "{'path': '/Users/olivier.vincent/Python-OV/imgseries/examples/data/untracked_data',\n",
       " 'folders': ['../img1', '../img2'],\n",
       " 'contour selection': {'properties': {'contour 0': {'centroid': [258.91971771176395,\n",
       "     268.56105261167784],\n",
       "    'perimeter': 49.21791294683056,\n",
       "    'area': -185.55859760532715},\n",
       "   'contour 1': {'centroid': [321.1994688210141, 233.57527180813884],\n",
       "    'perimeter': 43.40386973919024,\n",
       "    'area': -147.45162297356632},\n",
       "   'contour 2': {'centroid': [343.46649093385753, 183.99377183456244],\n",
       "    'perimeter': 34.7021950664108,\n",
       "    'area': -92.59459704615058}},\n",
       "  'level': 208,\n",
       "  'image': 10},\n",
       " 'transforms': {'flicker': False,\n",
       "  'shaking': False,\n",
       "  'grayscale': {},\n",
       "  'rotation': {'angle': 22.765009107511496},\n",
       "  'crop': {'zone': [159, 171, 467, 380]},\n",
       "  'filter': {},\n",
       "  'subtraction': {},\n",
       "  'threshold': {}},\n",
       " 'time (utc)': '2025-10-27 15:51:30',\n",
       " 'code version': {'skimage': {'status': 'not a git repository',\n",
       "   'tag': 'v0.25.0'},\n",
       "  'imgseries': {'hash': 'd69321c9adb2b678f46e4516fbeac24fae7e5921',\n",
       "   'status': 'dirty'},\n",
       "  'imgbasics': {'hash': '935036fbd20327ac8decf9f53c2471e18b7588f1',\n",
       "   'status': 'dirty'},\n",
       "  'filo': {'hash': '4f24a52696ddb9ab10e817e2dd6bfd231fa03b4a',\n",
       "   'status': 'dirty',\n",
       "   'tag': 'v2.2.0'},\n",
       "  'matplotlib': {'status': 'not a git repository', 'tag': 'v3.10.0'},\n",
       "  'numpy': {'status': 'not a git repository', 'tag': 'v1.26.4'}}}"
      ]
     },
     "execution_count": 20,
     "metadata": {},
     "output_type": "execute_result"
    }
   ],
   "source": [
    "ct.results.metadata"
   ]
  },
  {
   "cell_type": "code",
   "execution_count": null,
   "metadata": {},
   "outputs": [],
   "source": []
  }
 ],
 "metadata": {
  "kernelspec": {
   "display_name": "base",
   "language": "python",
   "name": "python3"
  },
  "language_info": {
   "codemirror_mode": {
    "name": "ipython",
    "version": 3
   },
   "file_extension": ".py",
   "mimetype": "text/x-python",
   "name": "python",
   "nbconvert_exporter": "python",
   "pygments_lexer": "ipython3",
   "version": "3.10.16"
  }
 },
 "nbformat": 4,
 "nbformat_minor": 4
}

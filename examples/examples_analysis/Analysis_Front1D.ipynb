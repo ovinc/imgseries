{
 "cells": [
  {
   "cell_type": "code",
   "execution_count": 1,
   "metadata": {},
   "outputs": [],
   "source": [
    "from imgseries import Front1D\n",
    "from imgseries import series\n",
    "\n",
    "from pathlib import Path\n",
    "import matplotlib.pyplot as plt\n",
    "\n",
    "%matplotlib tk"
   ]
  },
  {
   "cell_type": "markdown",
   "metadata": {},
   "source": [
    "**NOTE**: the main (numbered) sections are independent of each other"
   ]
  },
  {
   "cell_type": "markdown",
   "metadata": {},
   "source": [
    "# 1) Analyze images"
   ]
  },
  {
   "cell_type": "markdown",
   "metadata": {},
   "source": [
    "## Load images"
   ]
  },
  {
   "cell_type": "code",
   "execution_count": 2,
   "metadata": {},
   "outputs": [
    {
     "data": {
      "text/plain": [
       "Image Series [extension '.png', folders ['../data/front-flick'], savepath '.', 25 files]"
      ]
     },
     "execution_count": 2,
     "metadata": {},
     "output_type": "execute_result"
    }
   ],
   "source": [
    "images = series('../data/front-flick/')\n",
    "\n",
    "# Apply crop and rotation to images in order to have front propagation purely along x\n",
    "# and also have only the zone of interest (crop) in the analysis\n",
    "# (can be made interactively, see examples in ImgSeries)\n",
    "images.load_transforms('../data/for-tests-do-not-modify/FlickFront_Transform')\n",
    "\n",
    "# These images have flicker, which needs to be corrected before the analysis for better front detection\n",
    "# If your images don't have flicker, this step is unnecessary.\n",
    "images.flicker.load('../data/for-tests-do-not-modify/FlickFront_FlickerData')\n",
    "\n",
    "images"
   ]
  },
  {
   "cell_type": "markdown",
   "metadata": {},
   "source": [
    "## Analyze"
   ]
  },
  {
   "cell_type": "code",
   "execution_count": 3,
   "metadata": {},
   "outputs": [],
   "source": [
    "f1d = Front1D(images, savepath='../data/untracked_data/')"
   ]
  },
  {
   "cell_type": "code",
   "execution_count": 4,
   "metadata": {},
   "outputs": [],
   "source": [
    "f1d.run(live=True)"
   ]
  },
  {
   "cell_type": "code",
   "execution_count": 6,
   "metadata": {},
   "outputs": [
    {
     "data": {
      "text/plain": [
       "<imgseries.viewers.KeyPressSlider at 0x29e196ad0>"
      ]
     },
     "execution_count": 6,
     "metadata": {},
     "output_type": "execute_result"
    }
   ],
   "source": [
    "f1d.inspect()"
   ]
  },
  {
   "cell_type": "code",
   "execution_count": 7,
   "metadata": {},
   "outputs": [
    {
     "name": "stdout",
     "output_type": "stream",
     "text": [
      "\n",
      "Warning: These modules have dirty git repositories: imgseries\n",
      "\n",
      "\n",
      "Warning: these modules are missing a tag: imgseries\n",
      "\n",
      "\n",
      "Warning: these modules are not in a git repository: skimage, matplotlib, numpy\n",
      "\n"
     ]
    }
   ],
   "source": [
    "f1d.results.save()"
   ]
  },
  {
   "cell_type": "markdown",
   "metadata": {},
   "source": [
    "# 2) Load and analyze data a posteriori"
   ]
  },
  {
   "cell_type": "code",
   "execution_count": 8,
   "metadata": {},
   "outputs": [],
   "source": [
    "images = series('../data/front-flick/')\n",
    "images.load_transforms('../data/for-tests-do-not-modify/FlickFront_Transform')\n",
    "images.flicker.load('../data/for-tests-do-not-modify/FlickFront_FlickerData')\n",
    "f1d = Front1D(images, savepath='../data/for-tests-do-not-modify/')\n",
    "f1d.regenerate(filename='FlickFront_FrontData')"
   ]
  },
  {
   "cell_type": "code",
   "execution_count": 9,
   "metadata": {},
   "outputs": [
    {
     "data": {
      "text/html": [
       "<div>\n",
       "<style scoped>\n",
       "    .dataframe tbody tr th:only-of-type {\n",
       "        vertical-align: middle;\n",
       "    }\n",
       "\n",
       "    .dataframe tbody tr th {\n",
       "        vertical-align: top;\n",
       "    }\n",
       "\n",
       "    .dataframe thead th {\n",
       "        text-align: right;\n",
       "    }\n",
       "</style>\n",
       "<table border=\"1\" class=\"dataframe\">\n",
       "  <thead>\n",
       "    <tr style=\"text-align: right;\">\n",
       "      <th></th>\n",
       "      <th>folder</th>\n",
       "      <th>filename</th>\n",
       "      <th>time (unix)</th>\n",
       "      <th>0</th>\n",
       "      <th>1</th>\n",
       "      <th>2</th>\n",
       "      <th>3</th>\n",
       "      <th>4</th>\n",
       "      <th>5</th>\n",
       "      <th>6</th>\n",
       "      <th>...</th>\n",
       "      <th>209</th>\n",
       "      <th>210</th>\n",
       "      <th>211</th>\n",
       "      <th>212</th>\n",
       "      <th>213</th>\n",
       "      <th>214</th>\n",
       "      <th>215</th>\n",
       "      <th>216</th>\n",
       "      <th>217</th>\n",
       "      <th>218</th>\n",
       "    </tr>\n",
       "    <tr>\n",
       "      <th>num</th>\n",
       "      <th></th>\n",
       "      <th></th>\n",
       "      <th></th>\n",
       "      <th></th>\n",
       "      <th></th>\n",
       "      <th></th>\n",
       "      <th></th>\n",
       "      <th></th>\n",
       "      <th></th>\n",
       "      <th></th>\n",
       "      <th></th>\n",
       "      <th></th>\n",
       "      <th></th>\n",
       "      <th></th>\n",
       "      <th></th>\n",
       "      <th></th>\n",
       "      <th></th>\n",
       "      <th></th>\n",
       "      <th></th>\n",
       "      <th></th>\n",
       "      <th></th>\n",
       "    </tr>\n",
       "  </thead>\n",
       "  <tbody>\n",
       "    <tr>\n",
       "      <th>20</th>\n",
       "      <td>data/front-flick</td>\n",
       "      <td>img-00020.png</td>\n",
       "      <td>1.708332e+09</td>\n",
       "      <td>170.965517</td>\n",
       "      <td>174.834483</td>\n",
       "      <td>175.324138</td>\n",
       "      <td>171.655172</td>\n",
       "      <td>171.503448</td>\n",
       "      <td>174.875862</td>\n",
       "      <td>175.855172</td>\n",
       "      <td>...</td>\n",
       "      <td>146.917241</td>\n",
       "      <td>148.351724</td>\n",
       "      <td>150.234483</td>\n",
       "      <td>148.579310</td>\n",
       "      <td>149.248276</td>\n",
       "      <td>149.586207</td>\n",
       "      <td>150.806897</td>\n",
       "      <td>153.041379</td>\n",
       "      <td>155.186207</td>\n",
       "      <td>154.524138</td>\n",
       "    </tr>\n",
       "    <tr>\n",
       "      <th>21</th>\n",
       "      <td>data/front-flick</td>\n",
       "      <td>img-00021.png</td>\n",
       "      <td>1.708332e+09</td>\n",
       "      <td>171.096552</td>\n",
       "      <td>175.055172</td>\n",
       "      <td>175.468966</td>\n",
       "      <td>172.420690</td>\n",
       "      <td>171.393103</td>\n",
       "      <td>174.696552</td>\n",
       "      <td>176.179310</td>\n",
       "      <td>...</td>\n",
       "      <td>147.048276</td>\n",
       "      <td>148.434483</td>\n",
       "      <td>150.041379</td>\n",
       "      <td>148.420690</td>\n",
       "      <td>149.496552</td>\n",
       "      <td>150.013793</td>\n",
       "      <td>150.600000</td>\n",
       "      <td>153.372414</td>\n",
       "      <td>155.593103</td>\n",
       "      <td>154.972414</td>\n",
       "    </tr>\n",
       "    <tr>\n",
       "      <th>22</th>\n",
       "      <td>data/front-flick</td>\n",
       "      <td>img-00022.png</td>\n",
       "      <td>1.708332e+09</td>\n",
       "      <td>170.572414</td>\n",
       "      <td>174.537931</td>\n",
       "      <td>175.613793</td>\n",
       "      <td>172.310345</td>\n",
       "      <td>171.351724</td>\n",
       "      <td>174.227586</td>\n",
       "      <td>175.668966</td>\n",
       "      <td>...</td>\n",
       "      <td>147.213793</td>\n",
       "      <td>148.048276</td>\n",
       "      <td>149.972414</td>\n",
       "      <td>148.648276</td>\n",
       "      <td>149.689655</td>\n",
       "      <td>149.710345</td>\n",
       "      <td>150.413793</td>\n",
       "      <td>153.027586</td>\n",
       "      <td>155.406897</td>\n",
       "      <td>154.531034</td>\n",
       "    </tr>\n",
       "    <tr>\n",
       "      <th>23</th>\n",
       "      <td>data/front-flick</td>\n",
       "      <td>img-00023.png</td>\n",
       "      <td>1.708332e+09</td>\n",
       "      <td>170.655172</td>\n",
       "      <td>174.972414</td>\n",
       "      <td>175.600000</td>\n",
       "      <td>172.379310</td>\n",
       "      <td>171.303448</td>\n",
       "      <td>174.524138</td>\n",
       "      <td>176.268966</td>\n",
       "      <td>...</td>\n",
       "      <td>146.910345</td>\n",
       "      <td>148.296552</td>\n",
       "      <td>150.000000</td>\n",
       "      <td>148.379310</td>\n",
       "      <td>149.344828</td>\n",
       "      <td>149.544828</td>\n",
       "      <td>150.455172</td>\n",
       "      <td>153.186207</td>\n",
       "      <td>155.482759</td>\n",
       "      <td>154.682759</td>\n",
       "    </tr>\n",
       "    <tr>\n",
       "      <th>24</th>\n",
       "      <td>data/front-flick</td>\n",
       "      <td>img-00024.png</td>\n",
       "      <td>1.708332e+09</td>\n",
       "      <td>170.600000</td>\n",
       "      <td>174.317241</td>\n",
       "      <td>174.965517</td>\n",
       "      <td>171.710345</td>\n",
       "      <td>171.220690</td>\n",
       "      <td>174.386207</td>\n",
       "      <td>175.924138</td>\n",
       "      <td>...</td>\n",
       "      <td>147.013793</td>\n",
       "      <td>148.324138</td>\n",
       "      <td>150.365517</td>\n",
       "      <td>148.662069</td>\n",
       "      <td>149.331034</td>\n",
       "      <td>149.834483</td>\n",
       "      <td>150.827586</td>\n",
       "      <td>153.234483</td>\n",
       "      <td>155.482759</td>\n",
       "      <td>154.668966</td>\n",
       "    </tr>\n",
       "  </tbody>\n",
       "</table>\n",
       "<p>5 rows × 222 columns</p>\n",
       "</div>"
      ],
      "text/plain": [
       "               folder       filename   time (unix)           0           1  \\\n",
       "num                                                                          \n",
       "20   data/front-flick  img-00020.png  1.708332e+09  170.965517  174.834483   \n",
       "21   data/front-flick  img-00021.png  1.708332e+09  171.096552  175.055172   \n",
       "22   data/front-flick  img-00022.png  1.708332e+09  170.572414  174.537931   \n",
       "23   data/front-flick  img-00023.png  1.708332e+09  170.655172  174.972414   \n",
       "24   data/front-flick  img-00024.png  1.708332e+09  170.600000  174.317241   \n",
       "\n",
       "              2           3           4           5           6  ...  \\\n",
       "num                                                              ...   \n",
       "20   175.324138  171.655172  171.503448  174.875862  175.855172  ...   \n",
       "21   175.468966  172.420690  171.393103  174.696552  176.179310  ...   \n",
       "22   175.613793  172.310345  171.351724  174.227586  175.668966  ...   \n",
       "23   175.600000  172.379310  171.303448  174.524138  176.268966  ...   \n",
       "24   174.965517  171.710345  171.220690  174.386207  175.924138  ...   \n",
       "\n",
       "            209         210         211         212         213         214  \\\n",
       "num                                                                           \n",
       "20   146.917241  148.351724  150.234483  148.579310  149.248276  149.586207   \n",
       "21   147.048276  148.434483  150.041379  148.420690  149.496552  150.013793   \n",
       "22   147.213793  148.048276  149.972414  148.648276  149.689655  149.710345   \n",
       "23   146.910345  148.296552  150.000000  148.379310  149.344828  149.544828   \n",
       "24   147.013793  148.324138  150.365517  148.662069  149.331034  149.834483   \n",
       "\n",
       "            215         216         217         218  \n",
       "num                                                  \n",
       "20   150.806897  153.041379  155.186207  154.524138  \n",
       "21   150.600000  153.372414  155.593103  154.972414  \n",
       "22   150.413793  153.027586  155.406897  154.531034  \n",
       "23   150.455172  153.186207  155.482759  154.682759  \n",
       "24   150.827586  153.234483  155.482759  154.668966  \n",
       "\n",
       "[5 rows x 222 columns]"
      ]
     },
     "execution_count": 9,
     "metadata": {},
     "output_type": "execute_result"
    }
   ],
   "source": [
    "f1d.results.data.tail()"
   ]
  },
  {
   "cell_type": "code",
   "execution_count": 10,
   "metadata": {},
   "outputs": [
    {
     "data": {
      "text/plain": [
       "<imgseries.viewers.KeyPressSlider at 0x29a48d480>"
      ]
     },
     "execution_count": 10,
     "metadata": {},
     "output_type": "execute_result"
    }
   ],
   "source": [
    "f1d.inspect()"
   ]
  },
  {
   "cell_type": "code",
   "execution_count": 13,
   "metadata": {},
   "outputs": [
    {
     "data": {
      "text/plain": [
       "Text(0, 0.5, 'Front Data')"
      ]
     },
     "execution_count": 13,
     "metadata": {},
     "output_type": "execute_result"
    }
   ],
   "source": [
    "fig, ax = plt.subplots()\n",
    "\n",
    "try:\n",
    "    data = f1d.results.data.loc[:, 3:]\n",
    "except TypeError:\n",
    "    data = f1d.results.data.loc[:, '3':]\n",
    "\n",
    "ax.imshow(data.T)\n",
    "ax.set_xlabel('Image Number')\n",
    "ax.set_ylabel('Front Data')"
   ]
  },
  {
   "cell_type": "code",
   "execution_count": null,
   "metadata": {},
   "outputs": [],
   "source": []
  }
 ],
 "metadata": {
  "kernelspec": {
   "display_name": "base",
   "language": "python",
   "name": "python3"
  },
  "language_info": {
   "codemirror_mode": {
    "name": "ipython",
    "version": 3
   },
   "file_extension": ".py",
   "mimetype": "text/x-python",
   "name": "python",
   "nbconvert_exporter": "python",
   "pygments_lexer": "ipython3",
   "version": "3.10.9"
  }
 },
 "nbformat": 4,
 "nbformat_minor": 4
}

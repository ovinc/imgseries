{
 "cells": [
  {
   "cell_type": "code",
   "execution_count": 1,
   "metadata": {},
   "outputs": [],
   "source": [
    "from imgseries import Front1D\n",
    "from imgseries import ImgSeries\n",
    "%matplotlib tk"
   ]
  },
  {
   "cell_type": "markdown",
   "metadata": {},
   "source": [
    "# 1) Analyze images"
   ]
  },
  {
   "cell_type": "code",
   "execution_count": 2,
   "metadata": {},
   "outputs": [],
   "source": [
    "images = ImgSeries('../data/front-flick/')\n",
    "\n",
    "# Apply crop and rotation to images in order to have front propagation purely along x\n",
    "# and also have only the zone of interest (crop) in the analysis\n",
    "# (can be made interactively, see examples in ImgSeries)\n",
    "images.load_transforms('../data/for-tests-do-not-modify/FlickFront_Transform')\n",
    "\n",
    "# These images have flicker, which needs to be corrected before the analysis for better front detection\n",
    "# If your images don't have flicker, this step is unnecessary.\n",
    "images.flicker.load('../data/for-tests-do-not-modify/FlickFront_FlickerData')\n",
    "\n",
    "f1d = Front1D(images, savepath='../data/untracked_data/')"
   ]
  },
  {
   "cell_type": "code",
   "execution_count": 3,
   "metadata": {},
   "outputs": [
    {
     "data": {
      "text/plain": [
       "<filo.viewers.KeyPressSlider at 0x299e17070>"
      ]
     },
     "execution_count": 3,
     "metadata": {},
     "output_type": "execute_result"
    }
   ],
   "source": [
    "f1d.inspect(start=10, live=True)"
   ]
  },
  {
   "cell_type": "code",
   "execution_count": 4,
   "metadata": {},
   "outputs": [
    {
     "data": {
      "text/html": [
       "<div>\n",
       "<style scoped>\n",
       "    .dataframe tbody tr th:only-of-type {\n",
       "        vertical-align: middle;\n",
       "    }\n",
       "\n",
       "    .dataframe tbody tr th {\n",
       "        vertical-align: top;\n",
       "    }\n",
       "\n",
       "    .dataframe thead th {\n",
       "        text-align: right;\n",
       "    }\n",
       "</style>\n",
       "<table border=\"1\" class=\"dataframe\">\n",
       "  <thead>\n",
       "    <tr style=\"text-align: right;\">\n",
       "      <th></th>\n",
       "      <th>folder</th>\n",
       "      <th>filename</th>\n",
       "      <th>time (unix)</th>\n",
       "      <th>0</th>\n",
       "      <th>1</th>\n",
       "      <th>2</th>\n",
       "      <th>3</th>\n",
       "      <th>4</th>\n",
       "      <th>5</th>\n",
       "      <th>6</th>\n",
       "      <th>...</th>\n",
       "      <th>209</th>\n",
       "      <th>210</th>\n",
       "      <th>211</th>\n",
       "      <th>212</th>\n",
       "      <th>213</th>\n",
       "      <th>214</th>\n",
       "      <th>215</th>\n",
       "      <th>216</th>\n",
       "      <th>217</th>\n",
       "      <th>218</th>\n",
       "    </tr>\n",
       "    <tr>\n",
       "      <th>num</th>\n",
       "      <th></th>\n",
       "      <th></th>\n",
       "      <th></th>\n",
       "      <th></th>\n",
       "      <th></th>\n",
       "      <th></th>\n",
       "      <th></th>\n",
       "      <th></th>\n",
       "      <th></th>\n",
       "      <th></th>\n",
       "      <th></th>\n",
       "      <th></th>\n",
       "      <th></th>\n",
       "      <th></th>\n",
       "      <th></th>\n",
       "      <th></th>\n",
       "      <th></th>\n",
       "      <th></th>\n",
       "      <th></th>\n",
       "      <th></th>\n",
       "      <th></th>\n",
       "    </tr>\n",
       "  </thead>\n",
       "  <tbody>\n",
       "    <tr>\n",
       "      <th>10</th>\n",
       "      <td>../data/front-flick</td>\n",
       "      <td>img-00010.png</td>\n",
       "      <td>1.708332e+09</td>\n",
       "      <td>170.468966</td>\n",
       "      <td>174.703448</td>\n",
       "      <td>175.558621</td>\n",
       "      <td>172.248276</td>\n",
       "      <td>171.489655</td>\n",
       "      <td>174.889655</td>\n",
       "      <td>175.517241</td>\n",
       "      <td>...</td>\n",
       "      <td>146.737931</td>\n",
       "      <td>147.806897</td>\n",
       "      <td>149.993103</td>\n",
       "      <td>148.537931</td>\n",
       "      <td>149.158621</td>\n",
       "      <td>149.420690</td>\n",
       "      <td>150.186207</td>\n",
       "      <td>152.848276</td>\n",
       "      <td>154.958621</td>\n",
       "      <td>154.344828</td>\n",
       "    </tr>\n",
       "    <tr>\n",
       "      <th>12</th>\n",
       "      <td>../data/front-flick</td>\n",
       "      <td>img-00012.png</td>\n",
       "      <td>1.708332e+09</td>\n",
       "      <td>170.696552</td>\n",
       "      <td>174.510345</td>\n",
       "      <td>175.082759</td>\n",
       "      <td>171.848276</td>\n",
       "      <td>171.206897</td>\n",
       "      <td>174.482759</td>\n",
       "      <td>176.034483</td>\n",
       "      <td>...</td>\n",
       "      <td>146.606897</td>\n",
       "      <td>148.048276</td>\n",
       "      <td>149.827586</td>\n",
       "      <td>148.200000</td>\n",
       "      <td>149.158621</td>\n",
       "      <td>149.462069</td>\n",
       "      <td>150.351724</td>\n",
       "      <td>152.758621</td>\n",
       "      <td>154.951724</td>\n",
       "      <td>154.227586</td>\n",
       "    </tr>\n",
       "    <tr>\n",
       "      <th>13</th>\n",
       "      <td>../data/front-flick</td>\n",
       "      <td>img-00013.png</td>\n",
       "      <td>1.708332e+09</td>\n",
       "      <td>170.958621</td>\n",
       "      <td>175.241379</td>\n",
       "      <td>175.427586</td>\n",
       "      <td>172.213793</td>\n",
       "      <td>171.737931</td>\n",
       "      <td>175.186207</td>\n",
       "      <td>176.062069</td>\n",
       "      <td>...</td>\n",
       "      <td>146.758621</td>\n",
       "      <td>148.089655</td>\n",
       "      <td>150.468966</td>\n",
       "      <td>148.682759</td>\n",
       "      <td>149.275862</td>\n",
       "      <td>149.965517</td>\n",
       "      <td>150.531034</td>\n",
       "      <td>153.062069</td>\n",
       "      <td>155.268966</td>\n",
       "      <td>154.468966</td>\n",
       "    </tr>\n",
       "    <tr>\n",
       "      <th>14</th>\n",
       "      <td>../data/front-flick</td>\n",
       "      <td>img-00014.png</td>\n",
       "      <td>1.708332e+09</td>\n",
       "      <td>170.882759</td>\n",
       "      <td>174.517241</td>\n",
       "      <td>175.468966</td>\n",
       "      <td>171.910345</td>\n",
       "      <td>171.475862</td>\n",
       "      <td>174.751724</td>\n",
       "      <td>175.641379</td>\n",
       "      <td>...</td>\n",
       "      <td>147.006897</td>\n",
       "      <td>148.172414</td>\n",
       "      <td>150.006897</td>\n",
       "      <td>148.496552</td>\n",
       "      <td>149.282759</td>\n",
       "      <td>149.482759</td>\n",
       "      <td>150.551724</td>\n",
       "      <td>152.868966</td>\n",
       "      <td>155.296552</td>\n",
       "      <td>154.641379</td>\n",
       "    </tr>\n",
       "  </tbody>\n",
       "</table>\n",
       "<p>4 rows × 222 columns</p>\n",
       "</div>"
      ],
      "text/plain": [
       "                  folder       filename   time (unix)           0           1  \\\n",
       "num                                                                             \n",
       "10   ../data/front-flick  img-00010.png  1.708332e+09  170.468966  174.703448   \n",
       "12   ../data/front-flick  img-00012.png  1.708332e+09  170.696552  174.510345   \n",
       "13   ../data/front-flick  img-00013.png  1.708332e+09  170.958621  175.241379   \n",
       "14   ../data/front-flick  img-00014.png  1.708332e+09  170.882759  174.517241   \n",
       "\n",
       "              2           3           4           5           6  ...  \\\n",
       "num                                                              ...   \n",
       "10   175.558621  172.248276  171.489655  174.889655  175.517241  ...   \n",
       "12   175.082759  171.848276  171.206897  174.482759  176.034483  ...   \n",
       "13   175.427586  172.213793  171.737931  175.186207  176.062069  ...   \n",
       "14   175.468966  171.910345  171.475862  174.751724  175.641379  ...   \n",
       "\n",
       "            209         210         211         212         213         214  \\\n",
       "num                                                                           \n",
       "10   146.737931  147.806897  149.993103  148.537931  149.158621  149.420690   \n",
       "12   146.606897  148.048276  149.827586  148.200000  149.158621  149.462069   \n",
       "13   146.758621  148.089655  150.468966  148.682759  149.275862  149.965517   \n",
       "14   147.006897  148.172414  150.006897  148.496552  149.282759  149.482759   \n",
       "\n",
       "            215         216         217         218  \n",
       "num                                                  \n",
       "10   150.186207  152.848276  154.958621  154.344828  \n",
       "12   150.351724  152.758621  154.951724  154.227586  \n",
       "13   150.531034  153.062069  155.268966  154.468966  \n",
       "14   150.551724  152.868966  155.296552  154.641379  \n",
       "\n",
       "[4 rows x 222 columns]"
      ]
     },
     "execution_count": 4,
     "metadata": {},
     "output_type": "execute_result"
    }
   ],
   "source": [
    "f1d.results.data.tail()"
   ]
  },
  {
   "cell_type": "code",
   "execution_count": 5,
   "metadata": {},
   "outputs": [
    {
     "data": {
      "text/plain": [
       "<filo.viewers.KeyPressSlider at 0x29a44eb90>"
      ]
     },
     "execution_count": 5,
     "metadata": {},
     "output_type": "execute_result"
    }
   ],
   "source": [
    "f1d.inspect()"
   ]
  },
  {
   "cell_type": "markdown",
   "metadata": {},
   "source": [
    "# 2) Load and analyze data a posteriori"
   ]
  },
  {
   "cell_type": "code",
   "execution_count": 6,
   "metadata": {},
   "outputs": [],
   "source": [
    "images = ImgSeries('../data/front-flick/')\n",
    "images.load_transforms('../data/for-tests-do-not-modify/FlickFront_Transform')\n",
    "images.flicker.load('../data/for-tests-do-not-modify/FlickFront_FlickerData')\n",
    "\n",
    "f1d = Front1D(images, savepath='../data/for-tests-do-not-modify/')\n",
    "f1d.results.load(filename='FlickFront_FrontData')"
   ]
  },
  {
   "cell_type": "code",
   "execution_count": 7,
   "metadata": {},
   "outputs": [
    {
     "data": {
      "text/plain": [
       "<filo.viewers.KeyPressSlider at 0x29d0142b0>"
      ]
     },
     "execution_count": 7,
     "metadata": {},
     "output_type": "execute_result"
    }
   ],
   "source": [
    "f1d.inspect()"
   ]
  },
  {
   "cell_type": "code",
   "execution_count": null,
   "metadata": {},
   "outputs": [],
   "source": []
  }
 ],
 "metadata": {
  "kernelspec": {
   "display_name": "base",
   "language": "python",
   "name": "python3"
  },
  "language_info": {
   "codemirror_mode": {
    "name": "ipython",
    "version": 3
   },
   "file_extension": ".py",
   "mimetype": "text/x-python",
   "name": "python",
   "nbconvert_exporter": "python",
   "pygments_lexer": "ipython3",
   "version": "3.10.9"
  }
 },
 "nbformat": 4,
 "nbformat_minor": 4
}

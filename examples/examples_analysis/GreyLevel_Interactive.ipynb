{
 "cells": [
  {
   "cell_type": "code",
   "execution_count": 1,
   "metadata": {},
   "outputs": [],
   "source": [
    "%matplotlib tk\n",
    "from pathlib import Path\n",
    "from imgseries import ImgSeries, GreyLevel"
   ]
  },
  {
   "cell_type": "markdown",
   "metadata": {},
   "source": [
    "**NOTE**: This notebook only shows the interactive GreyLevel tools. See *GreyLevel.ipynb* for non-interactive options.\n",
    "\n",
    "**NOTE**: the main (numbered) sections are independent of each other and correspond to the sections in *GreyLevel.ipynb*"
   ]
  },
  {
   "cell_type": "code",
   "execution_count": 2,
   "metadata": {},
   "outputs": [],
   "source": [
    "# Define where images are stored, here distributed among two folders\n",
    "basefolder = Path('../data')\n",
    "folders = [basefolder / folder for folder in ('img1', 'img2')]"
   ]
  },
  {
   "cell_type": "markdown",
   "metadata": {},
   "source": [
    "# 1) Minimal analysis"
   ]
  },
  {
   "cell_type": "markdown",
   "metadata": {
    "tags": []
   },
   "source": [
    "## Load images"
   ]
  },
  {
   "cell_type": "code",
   "execution_count": 3,
   "metadata": {},
   "outputs": [
    {
     "data": {
      "text/plain": [
       "ImgSeries, data length [50]\n",
       "-- corrections: []\n",
       "-- transforms: ['rotation', 'crop']\n",
       "from FileSeries in ../data / ['img1', 'img2'], 50 files]"
      ]
     },
     "execution_count": 3,
     "metadata": {},
     "output_type": "execute_result"
    }
   ],
   "source": [
    "images = ImgSeries(folders, savepath=basefolder)\n",
    "\n",
    "# load pre-defined transforms (see ImgSeries for how to define those)\n",
    "images.load_transforms('for-tests-do-not-modify/Img_Transform')\n",
    "images"
   ]
  },
  {
   "cell_type": "markdown",
   "metadata": {},
   "source": [
    "## Analysis"
   ]
  },
  {
   "cell_type": "code",
   "execution_count": 4,
   "metadata": {},
   "outputs": [],
   "source": [
    "# Save results in untracked folder to avoid git tracking test files\n",
    "gl = GreyLevel(images, savepath='../data/untracked_data/')\n",
    "\n",
    "# Load pre-defined zones, see below how to define them directly\n",
    "# NOTE: if zones not defined, the whole image is used as default\n",
    "gl.zones.load('../for-tests-do-not-modify/Img_GreyLevel')"
   ]
  },
  {
   "cell_type": "markdown",
   "metadata": {},
   "source": [
    "If using an interactive matplotlib backend, it is also possible to view the analysis in real time, either using `inspect()` or `animate()` with the `live=True` option. In both cases, only the displayed data will have been analyzed in the end."
   ]
  },
  {
   "cell_type": "code",
   "execution_count": 5,
   "metadata": {},
   "outputs": [
    {
     "data": {
      "text/plain": [
       "<filo.viewers.KeyPressSlider at 0x29c861510>"
      ]
     },
     "execution_count": 5,
     "metadata": {},
     "output_type": "execute_result"
    }
   ],
   "source": [
    "gl.inspect(live=True)"
   ]
  },
  {
   "cell_type": "code",
   "execution_count": 6,
   "metadata": {},
   "outputs": [
    {
     "data": {
      "text/plain": [
       "<matplotlib.animation.FuncAnimation at 0x29b6f8640>"
      ]
     },
     "execution_count": 6,
     "metadata": {},
     "output_type": "execute_result"
    }
   ],
   "source": [
    "gl.animate(live=True)"
   ]
  },
  {
   "cell_type": "markdown",
   "metadata": {},
   "source": [
    "After analysis, calling `animate()` or `inspect()` will display the results without re-analyzing them (be careful to not run them with the `live=True` option)"
   ]
  },
  {
   "cell_type": "code",
   "execution_count": 7,
   "metadata": {},
   "outputs": [
    {
     "data": {
      "text/plain": [
       "<matplotlib.animation.FuncAnimation at 0x29cad7460>"
      ]
     },
     "execution_count": 7,
     "metadata": {},
     "output_type": "execute_result"
    }
   ],
   "source": [
    "gl.animate()"
   ]
  },
  {
   "cell_type": "code",
   "execution_count": 8,
   "metadata": {},
   "outputs": [
    {
     "data": {
      "text/html": [
       "<div>\n",
       "<style scoped>\n",
       "    .dataframe tbody tr th:only-of-type {\n",
       "        vertical-align: middle;\n",
       "    }\n",
       "\n",
       "    .dataframe tbody tr th {\n",
       "        vertical-align: top;\n",
       "    }\n",
       "\n",
       "    .dataframe thead th {\n",
       "        text-align: right;\n",
       "    }\n",
       "</style>\n",
       "<table border=\"1\" class=\"dataframe\">\n",
       "  <thead>\n",
       "    <tr style=\"text-align: right;\">\n",
       "      <th></th>\n",
       "      <th>folder</th>\n",
       "      <th>filename</th>\n",
       "      <th>time (unix)</th>\n",
       "      <th>zone 1</th>\n",
       "      <th>zone 2</th>\n",
       "      <th>zone 3</th>\n",
       "    </tr>\n",
       "    <tr>\n",
       "      <th>num</th>\n",
       "      <th></th>\n",
       "      <th></th>\n",
       "      <th></th>\n",
       "      <th></th>\n",
       "      <th></th>\n",
       "      <th></th>\n",
       "    </tr>\n",
       "  </thead>\n",
       "  <tbody>\n",
       "    <tr>\n",
       "      <th>8</th>\n",
       "      <td>img1</td>\n",
       "      <td>img-00618.png</td>\n",
       "      <td>1.696408e+09</td>\n",
       "      <td>78.055747</td>\n",
       "      <td>87.860264</td>\n",
       "      <td>85.746704</td>\n",
       "    </tr>\n",
       "    <tr>\n",
       "      <th>9</th>\n",
       "      <td>img1</td>\n",
       "      <td>img-00619.png</td>\n",
       "      <td>1.696408e+09</td>\n",
       "      <td>78.045730</td>\n",
       "      <td>87.729799</td>\n",
       "      <td>85.798682</td>\n",
       "    </tr>\n",
       "    <tr>\n",
       "      <th>10</th>\n",
       "      <td>img1</td>\n",
       "      <td>img-00620.png</td>\n",
       "      <td>1.696408e+09</td>\n",
       "      <td>77.975025</td>\n",
       "      <td>87.507547</td>\n",
       "      <td>85.831897</td>\n",
       "    </tr>\n",
       "    <tr>\n",
       "      <th>11</th>\n",
       "      <td>img1</td>\n",
       "      <td>img-00621.png</td>\n",
       "      <td>1.696408e+09</td>\n",
       "      <td>77.961618</td>\n",
       "      <td>87.616138</td>\n",
       "      <td>85.772312</td>\n",
       "    </tr>\n",
       "    <tr>\n",
       "      <th>12</th>\n",
       "      <td>img1</td>\n",
       "      <td>img-00622.png</td>\n",
       "      <td>1.696408e+09</td>\n",
       "      <td>78.055753</td>\n",
       "      <td>87.717789</td>\n",
       "      <td>85.850406</td>\n",
       "    </tr>\n",
       "  </tbody>\n",
       "</table>\n",
       "</div>"
      ],
      "text/plain": [
       "    folder       filename   time (unix)     zone 1     zone 2     zone 3\n",
       "num                                                                     \n",
       "8     img1  img-00618.png  1.696408e+09  78.055747  87.860264  85.746704\n",
       "9     img1  img-00619.png  1.696408e+09  78.045730  87.729799  85.798682\n",
       "10    img1  img-00620.png  1.696408e+09  77.975025  87.507547  85.831897\n",
       "11    img1  img-00621.png  1.696408e+09  77.961618  87.616138  85.772312\n",
       "12    img1  img-00622.png  1.696408e+09  78.055753  87.717789  85.850406"
      ]
     },
     "execution_count": 8,
     "metadata": {},
     "output_type": "execute_result"
    }
   ],
   "source": [
    "gl.results.data.tail()"
   ]
  },
  {
   "cell_type": "code",
   "execution_count": 9,
   "metadata": {},
   "outputs": [
    {
     "data": {
      "text/plain": [
       "<filo.viewers.KeyPressSlider at 0x29ef927a0>"
      ]
     },
     "execution_count": 9,
     "metadata": {},
     "output_type": "execute_result"
    }
   ],
   "source": [
    "gl.inspect()"
   ]
  },
  {
   "cell_type": "code",
   "execution_count": 10,
   "metadata": {},
   "outputs": [
    {
     "data": {
      "text/plain": [
       "<filo.viewers.KeyPressSlider at 0x29fe32d40>"
      ]
     },
     "execution_count": 10,
     "metadata": {},
     "output_type": "execute_result"
    }
   ],
   "source": [
    "gl.inspect(live=True)"
   ]
  },
  {
   "cell_type": "code",
   "execution_count": 11,
   "metadata": {},
   "outputs": [
    {
     "data": {
      "text/html": [
       "<div>\n",
       "<style scoped>\n",
       "    .dataframe tbody tr th:only-of-type {\n",
       "        vertical-align: middle;\n",
       "    }\n",
       "\n",
       "    .dataframe tbody tr th {\n",
       "        vertical-align: top;\n",
       "    }\n",
       "\n",
       "    .dataframe thead th {\n",
       "        text-align: right;\n",
       "    }\n",
       "</style>\n",
       "<table border=\"1\" class=\"dataframe\">\n",
       "  <thead>\n",
       "    <tr style=\"text-align: right;\">\n",
       "      <th></th>\n",
       "      <th>folder</th>\n",
       "      <th>filename</th>\n",
       "      <th>time (unix)</th>\n",
       "      <th>zone 1</th>\n",
       "      <th>zone 2</th>\n",
       "      <th>zone 3</th>\n",
       "    </tr>\n",
       "    <tr>\n",
       "      <th>num</th>\n",
       "      <th></th>\n",
       "      <th></th>\n",
       "      <th></th>\n",
       "      <th></th>\n",
       "      <th></th>\n",
       "      <th></th>\n",
       "    </tr>\n",
       "  </thead>\n",
       "  <tbody>\n",
       "    <tr>\n",
       "      <th>22</th>\n",
       "      <td>img1</td>\n",
       "      <td>img-00632.png</td>\n",
       "      <td>1.696408e+09</td>\n",
       "      <td>78.279187</td>\n",
       "      <td>88.071940</td>\n",
       "      <td>86.417343</td>\n",
       "    </tr>\n",
       "    <tr>\n",
       "      <th>25</th>\n",
       "      <td>img1</td>\n",
       "      <td>img-00635.png</td>\n",
       "      <td>1.696408e+09</td>\n",
       "      <td>78.288600</td>\n",
       "      <td>88.139548</td>\n",
       "      <td>86.296400</td>\n",
       "    </tr>\n",
       "    <tr>\n",
       "      <th>26</th>\n",
       "      <td>img1</td>\n",
       "      <td>img-00636.png</td>\n",
       "      <td>1.696408e+09</td>\n",
       "      <td>78.266991</td>\n",
       "      <td>88.062509</td>\n",
       "      <td>86.280933</td>\n",
       "    </tr>\n",
       "    <tr>\n",
       "      <th>27</th>\n",
       "      <td>img1</td>\n",
       "      <td>img-00637.png</td>\n",
       "      <td>1.696408e+09</td>\n",
       "      <td>78.272310</td>\n",
       "      <td>88.049037</td>\n",
       "      <td>86.211207</td>\n",
       "    </tr>\n",
       "    <tr>\n",
       "      <th>28</th>\n",
       "      <td>img1</td>\n",
       "      <td>img-00638.png</td>\n",
       "      <td>1.696408e+09</td>\n",
       "      <td>78.245419</td>\n",
       "      <td>87.992134</td>\n",
       "      <td>86.102941</td>\n",
       "    </tr>\n",
       "  </tbody>\n",
       "</table>\n",
       "</div>"
      ],
      "text/plain": [
       "    folder       filename   time (unix)     zone 1     zone 2     zone 3\n",
       "num                                                                     \n",
       "22    img1  img-00632.png  1.696408e+09  78.279187  88.071940  86.417343\n",
       "25    img1  img-00635.png  1.696408e+09  78.288600  88.139548  86.296400\n",
       "26    img1  img-00636.png  1.696408e+09  78.266991  88.062509  86.280933\n",
       "27    img1  img-00637.png  1.696408e+09  78.272310  88.049037  86.211207\n",
       "28    img1  img-00638.png  1.696408e+09  78.245419  87.992134  86.102941"
      ]
     },
     "execution_count": 11,
     "metadata": {},
     "output_type": "execute_result"
    }
   ],
   "source": [
    "gl.results.data.tail()"
   ]
  },
  {
   "cell_type": "markdown",
   "metadata": {},
   "source": [
    "# 2) Defining and viewing analysis zones"
   ]
  },
  {
   "cell_type": "code",
   "execution_count": 12,
   "metadata": {},
   "outputs": [],
   "source": [
    "images = ImgSeries(folders, savepath=basefolder)\n",
    "images.load_transforms('for-tests-do-not-modify/Img_Transform')\n",
    "gl = GreyLevel(images, savepath='../data/untracked_data/')"
   ]
  },
  {
   "cell_type": "markdown",
   "metadata": {},
   "source": [
    "Zone defining has to be done at least once.\n",
    "\n",
    "**Important**: Matplotlib must be in an interactive mode to do so.\n",
    "\n",
    "Defining does not need to be done again in the following situations:\n",
    "- calling methods again from the same `gl` object, e.g. `gl.run()`\n",
    "- calling `gl.zones.load()` or `gl.regenerate()` to load zones data from saved metadata (.json) file."
   ]
  },
  {
   "cell_type": "code",
   "execution_count": 13,
   "metadata": {},
   "outputs": [],
   "source": [
    "gl.zones.define()  # define one zone using the first image of the series"
   ]
  },
  {
   "cell_type": "code",
   "execution_count": null,
   "metadata": {},
   "outputs": [],
   "source": [
    "gl.zones.define(3)  # define 3 zones using the first image of the series"
   ]
  },
  {
   "cell_type": "code",
   "execution_count": null,
   "metadata": {},
   "outputs": [],
   "source": [
    "gl.zones.define(3, num=10)  # define 3 zones using image #10 in the series"
   ]
  },
  {
   "cell_type": "code",
   "execution_count": null,
   "metadata": {},
   "outputs": [],
   "source": [
    "gl.zones.define(3, draggable=True)  # define 3 zones using draggable rectangles instead of clicks"
   ]
  },
  {
   "cell_type": "markdown",
   "metadata": {},
   "source": [
    "Viewing analysis zones after defining or loading them:"
   ]
  },
  {
   "cell_type": "code",
   "execution_count": null,
   "metadata": {},
   "outputs": [
    {
     "data": {
      "text/plain": [
       "{'zone 1': (227, 192, 131, 121),\n",
       " 'zone 2': (116, 94, 71, 94),\n",
       " 'zone 3': (227, 94, 124, 47)}"
      ]
     },
     "execution_count": 29,
     "metadata": {},
     "output_type": "execute_result"
    }
   ],
   "source": [
    "gl.zones.data"
   ]
  },
  {
   "cell_type": "code",
   "execution_count": null,
   "metadata": {},
   "outputs": [],
   "source": [
    "gl.zones.load()"
   ]
  },
  {
   "cell_type": "code",
   "execution_count": null,
   "metadata": {},
   "outputs": [
    {
     "data": {
      "text/plain": [
       "<Axes: title={'center': 'Analysis Zones (img #33)'}>"
      ]
     },
     "execution_count": 15,
     "metadata": {},
     "output_type": "execute_result"
    }
   ],
   "source": [
    "gl.zones.show(33)  # show zones on 33th image of series"
   ]
  },
  {
   "cell_type": "markdown",
   "metadata": {},
   "source": [
    "**Note**:\n",
    "Before, saving zones data was only done by calling `gl.save()`, which saves both data and metadata.\n",
    "Now, preliminary saving of zone data can be done with `gl.zones.save()`; \n",
    "Note that `gl.save()` overwrites that data if the same filename is provided."
   ]
  },
  {
   "cell_type": "code",
   "execution_count": null,
   "metadata": {},
   "outputs": [
    {
     "name": "stdout",
     "output_type": "stream",
     "text": [
      "\n",
      "Warning: These modules have dirty git repositories: imgseries, filo\n",
      "\n",
      "\n",
      "Warning: these modules are missing a tag: imgseries, filo\n",
      "\n",
      "\n",
      "Warning: these modules are not in a git repository: skimage, matplotlib, numpy\n",
      "\n"
     ]
    }
   ],
   "source": [
    "gl.zones.save()"
   ]
  },
  {
   "cell_type": "markdown",
   "metadata": {},
   "source": [
    "# 5) Connect results to image series (e.g. for inspection/visualization)"
   ]
  },
  {
   "cell_type": "code",
   "execution_count": null,
   "metadata": {},
   "outputs": [],
   "source": [
    "images = ImgSeries(folders, savepath=basefolder)\n",
    "gl = GreyLevel(images)\n",
    "\n",
    "# Line below is equivalent to call results.load() and images.load_transforms,\n",
    "# except that the transforms are taken directly from the results metadata.\n",
    "gl.regenerate(filename='for-tests-do-not-modify/Img_GreyLevel')"
   ]
  },
  {
   "cell_type": "markdown",
   "metadata": {},
   "source": [
    "Once the analysis is regenerated, all the tools associated with images (inspection, showing, animation, etc.) are available:"
   ]
  },
  {
   "cell_type": "code",
   "execution_count": null,
   "metadata": {},
   "outputs": [
    {
     "name": "stderr",
     "output_type": "stream",
     "text": [
      "/Users/olivier.vincent/Python-OV/imgseries/imgseries/analysis/grey_level.py:96: UserWarning: This figure includes Axes that are not compatible with tight_layout, so results might be incorrect.\n",
      "  self.fig.tight_layout()\n"
     ]
    },
    {
     "data": {
      "text/plain": [
       "<filo.viewers.KeyPressSlider at 0x2977c5de0>"
      ]
     },
     "execution_count": 14,
     "metadata": {},
     "output_type": "execute_result"
    }
   ],
   "source": [
    "gl.inspect()"
   ]
  },
  {
   "cell_type": "code",
   "execution_count": null,
   "metadata": {},
   "outputs": [],
   "source": []
  }
 ],
 "metadata": {
  "kernelspec": {
   "display_name": "base",
   "language": "python",
   "name": "python3"
  },
  "language_info": {
   "codemirror_mode": {
    "name": "ipython",
    "version": 3
   },
   "file_extension": ".py",
   "mimetype": "text/x-python",
   "name": "python",
   "nbconvert_exporter": "python",
   "pygments_lexer": "ipython3",
   "version": "3.10.9"
  }
 },
 "nbformat": 4,
 "nbformat_minor": 4
}

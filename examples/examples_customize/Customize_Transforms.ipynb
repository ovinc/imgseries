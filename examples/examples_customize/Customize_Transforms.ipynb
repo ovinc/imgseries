{
 "cells": [
  {
   "cell_type": "code",
   "execution_count": 1,
   "id": "975892f9-0614-4e52-b3e5-4690b32243ef",
   "metadata": {},
   "outputs": [],
   "source": [
    "from imgseries import ImgSeries\n",
    "from imgseries import CONFIG\n",
    "from imgseries import TransformParameter"
   ]
  },
  {
   "cell_type": "markdown",
   "id": "eaf5ee45-31c8-4dbf-883e-62ae9cc37b35",
   "metadata": {},
   "source": [
    "# Change order and/or number of transforms"
   ]
  },
  {
   "cell_type": "markdown",
   "id": "14026c47",
   "metadata": {},
   "source": [
    "One can see the current ordering of transforms with:"
   ]
  },
  {
   "cell_type": "code",
   "execution_count": 2,
   "id": "a972fbc9",
   "metadata": {},
   "outputs": [
    {
     "data": {
      "text/plain": [
       "('grayscale', 'rotation', 'crop', 'filter', 'subtraction', 'threshold')"
      ]
     },
     "execution_count": 2,
     "metadata": {},
     "output_type": "execute_result"
    }
   ],
   "source": [
    "CONFIG['transform order']"
   ]
  },
  {
   "cell_type": "markdown",
   "id": "9aa7944b",
   "metadata": {},
   "source": [
    "One can use them in a different order and also reduce the number of possible transforms by using the `transforms` argument in ImgSeries"
   ]
  },
  {
   "cell_type": "code",
   "execution_count": 3,
   "id": "57323841",
   "metadata": {},
   "outputs": [
    {
     "data": {
      "text/plain": [
       "('rotation', 'filter', 'crop')"
      ]
     },
     "execution_count": 3,
     "metadata": {},
     "output_type": "execute_result"
    }
   ],
   "source": [
    "images = ImgSeries('../data/img1', transforms=('rotation', 'filter', 'crop'))\n",
    "images.transforms\n"
   ]
  },
  {
   "cell_type": "markdown",
   "id": "570df4c3",
   "metadata": {},
   "source": [
    "In this case, the other transforms are not available, e.g."
   ]
  },
  {
   "cell_type": "code",
   "execution_count": 4,
   "id": "ebe4f5b2",
   "metadata": {},
   "outputs": [
    {
     "name": "stdout",
     "output_type": "stream",
     "text": [
      "Threshold transform does not exist\n"
     ]
    }
   ],
   "source": [
    "try:\n",
    "    images.threshold\n",
    "except AttributeError:\n",
    "    print(\"Threshold transform does not exist\")"
   ]
  },
  {
   "cell_type": "markdown",
   "id": "4f71a570",
   "metadata": {},
   "source": [
    "# Create a user-defined transform"
   ]
  },
  {
   "cell_type": "markdown",
   "id": "eba4793d",
   "metadata": {},
   "source": [
    "It is also possible to add custom transforms.\n",
    "Here, we will show how to proceed, with the example of a new transform that consists in multiplying the pixel values with a constant."
   ]
  },
  {
   "cell_type": "markdown",
   "id": "e657f0ad",
   "metadata": {},
   "source": [
    "## Write custom transform class\n",
    "\n",
    "### Mandatory\n",
    "\n",
    "The class must inherit from `TransformParameter` and define the following attributes:\n",
    "\n",
    "- `parameter_name` (class attribute): name of the transform; will be used as the name of an attribute, and thus needs to follow usual rules (lowercase, no starting with a number, etc.)\n",
    "\n",
    "- `apply()`: method which takes an image array as an argument and returns another (processed) image array.\n",
    "\n",
    "- The important values governing the transform (e.g. angle for rotation, etc.) must be stored in the already-defined (but empty) dict `self.data`; This will allow automatic saving/loading of transform parameters from JSON file.\n",
    "\n",
    "### Optional\n",
    "\n",
    "- For convenience, it can be useful to wrap the transform parameters (contained in `self.data` into settable properties, see e.g. `coefficient` below)\n",
    "\n",
    "- If the transform parameters can be chosen interactively / graphically, the user should provide a `define()` method with a `num` argument, which corresponds to the image number on which to do the interactive process.\n",
    "\n",
    "*Note*: The `TransformParameter` class also automatically defines the attribute `self.img_series`, which allows the user to use all `ImgSeries` attributes, methods etc."
   ]
  },
  {
   "cell_type": "markdown",
   "id": "09d5eef8",
   "metadata": {},
   "source": [
    "## Add/remove transform to available transforms"
   ]
  },
  {
   "cell_type": "markdown",
   "id": "d46d7d59",
   "metadata": {},
   "source": [
    "This is done very simply by adding the user-defined class with\n",
    "```python\n",
    "ImgSeries.add_transform(TransformClass)\n",
    "```\n",
    "\n",
    "A custom, default order can be supplied:\n",
    "```python\n",
    "ImgSeries.add_transform(TransformClass, order=3)\n",
    "```\n",
    "\n",
    "Note that the new transform is added to the configuration of the `imgseries` package, and is thus available for all instances of `ImgSeries` and `ImgStack`, as long as the python session is not closed.\n",
    "\n",
    "In order to remove the transform:\n",
    "```python\n",
    "ImgSeries.remove_transform(TransformClass)\n",
    "```"
   ]
  },
  {
   "cell_type": "markdown",
   "id": "a5909cc0",
   "metadata": {},
   "source": [
    "## Examples"
   ]
  },
  {
   "cell_type": "markdown",
   "id": "88b95018",
   "metadata": {},
   "source": [
    "### Minimal example"
   ]
  },
  {
   "cell_type": "code",
   "execution_count": 5,
   "id": "81fbe71a",
   "metadata": {},
   "outputs": [],
   "source": [
    "class Multiply(TransformParameter):\n",
    "\n",
    "    parameter_name = 'multiply'\n",
    "\n",
    "    def apply(self, img):\n",
    "        new_img = self.data['coefficient'] * img\n",
    "        return new_img.astype(img.dtype)  # to preserve type of image e.g. uint8"
   ]
  },
  {
   "cell_type": "code",
   "execution_count": 6,
   "id": "8445bb6b",
   "metadata": {},
   "outputs": [
    {
     "data": {
      "text/plain": [
       "('grayscale',\n",
       " 'multiply',\n",
       " 'rotation',\n",
       " 'crop',\n",
       " 'filter',\n",
       " 'subtraction',\n",
       " 'threshold')"
      ]
     },
     "execution_count": 6,
     "metadata": {},
     "output_type": "execute_result"
    }
   ],
   "source": [
    "ImgSeries.add_transform(Multiply, order=1)\n",
    "CONFIG['transform order']"
   ]
  },
  {
   "cell_type": "code",
   "execution_count": 7,
   "id": "0a24f692",
   "metadata": {},
   "outputs": [
    {
     "data": {
      "text/plain": [
       "('grayscale',\n",
       " 'multiply',\n",
       " 'rotation',\n",
       " 'crop',\n",
       " 'filter',\n",
       " 'subtraction',\n",
       " 'threshold')"
      ]
     },
     "execution_count": 7,
     "metadata": {},
     "output_type": "execute_result"
    }
   ],
   "source": [
    "images = ImgSeries('../data/img1')\n",
    "images.transforms\n"
   ]
  },
  {
   "cell_type": "code",
   "execution_count": 8,
   "id": "c18c8b7c",
   "metadata": {},
   "outputs": [
    {
     "name": "stdout",
     "output_type": "stream",
     "text": [
      "['multiply']\n",
      "77.0014144736842 151.01412081339714\n"
     ]
    }
   ],
   "source": [
    "images.multiply.data['coefficient'] = 2\n",
    "img0 = images.read(num=3, transform=False)\n",
    "img1 = images.read(num=3)\n",
    "\n",
    "print(images.active_transforms)\n",
    "print(img0.mean(), img1.mean())"
   ]
  },
  {
   "cell_type": "code",
   "execution_count": 9,
   "id": "853e7410",
   "metadata": {},
   "outputs": [
    {
     "data": {
      "text/plain": [
       "('grayscale', 'rotation', 'crop', 'filter', 'subtraction', 'threshold')"
      ]
     },
     "execution_count": 9,
     "metadata": {},
     "output_type": "execute_result"
    }
   ],
   "source": [
    "ImgSeries.remove_transform(Multiply)\n",
    "CONFIG['transform order']"
   ]
  },
  {
   "cell_type": "markdown",
   "id": "d9386759",
   "metadata": {},
   "source": [
    "### With settable properties"
   ]
  },
  {
   "cell_type": "code",
   "execution_count": 10,
   "id": "e3224666",
   "metadata": {},
   "outputs": [],
   "source": [
    "class Multiply(TransformParameter):\n",
    "\n",
    "    parameter_name = 'multiply'\n",
    "\n",
    "    def apply(self, img):\n",
    "        new_img = self.coefficient * img\n",
    "        return new_img.astype(img.dtype)  # to preserve type of image e.g. uint8\n",
    "\n",
    "    @property\n",
    "    def coefficient(self):\n",
    "        return self.data['coefficient']\n",
    "\n",
    "    @coefficient.setter\n",
    "    def coefficient(self, value):\n",
    "        self.data['coefficient'] = value"
   ]
  },
  {
   "cell_type": "code",
   "execution_count": 11,
   "id": "2d3b7087",
   "metadata": {},
   "outputs": [],
   "source": [
    "ImgSeries.add_transform(Multiply, order=3)\n",
    "images = ImgSeries('../data/img1')"
   ]
  },
  {
   "cell_type": "code",
   "execution_count": 12,
   "id": "34e8d97f",
   "metadata": {},
   "outputs": [
    {
     "name": "stdout",
     "output_type": "stream",
     "text": [
      "['multiply']\n",
      "77.0014144736842 151.01412081339714\n"
     ]
    }
   ],
   "source": [
    "images.multiply.coefficient = 2\n",
    "img0 = images.read(num=3, transform=False)\n",
    "img1 = images.read(num=3)\n",
    "\n",
    "print(images.active_transforms)\n",
    "print(img0.mean(), img1.mean())"
   ]
  },
  {
   "cell_type": "markdown",
   "id": "14d77d9d",
   "metadata": {},
   "source": [
    "# Apply same transform two (or more) times"
   ]
  },
  {
   "cell_type": "markdown",
   "id": "4c178e1c",
   "metadata": {},
   "source": [
    "By default, transforms are applied only once.\n",
    "If there is a need to apply the same type of transform twice, then the easiest way is to define a new class that simply inherits from the transform class, and to name it differently.\n",
    "\n",
    "For example, to achieve two rotations:"
   ]
  },
  {
   "cell_type": "code",
   "execution_count": 13,
   "id": "5280fe41",
   "metadata": {},
   "outputs": [
    {
     "data": {
      "text/plain": [
       "('grayscale',\n",
       " 'rotation',\n",
       " 'crop',\n",
       " 'multiply',\n",
       " 'filter',\n",
       " 'subtraction',\n",
       " 'threshold',\n",
       " 'rotation2')"
      ]
     },
     "execution_count": 13,
     "metadata": {},
     "output_type": "execute_result"
    }
   ],
   "source": [
    "from imgseries import Rotation\n",
    "\n",
    "class Rotation2(Rotation):\n",
    "    parameter_name = 'rotation2'\n",
    "\n",
    "ImgSeries.add_transform(Rotation2)\n",
    "CONFIG['transform order']"
   ]
  },
  {
   "cell_type": "code",
   "execution_count": 14,
   "id": "2b3b5c4b",
   "metadata": {},
   "outputs": [
    {
     "data": {
      "text/plain": [
       "('grayscale',\n",
       " 'rotation',\n",
       " 'crop',\n",
       " 'multiply',\n",
       " 'filter',\n",
       " 'subtraction',\n",
       " 'threshold')"
      ]
     },
     "execution_count": 14,
     "metadata": {},
     "output_type": "execute_result"
    }
   ],
   "source": [
    "ImgSeries.remove_transform(Rotation2)\n",
    "CONFIG['transform order']"
   ]
  },
  {
   "cell_type": "markdown",
   "id": "d0b56fd4",
   "metadata": {},
   "source": []
  }
 ],
 "metadata": {
  "kernelspec": {
   "display_name": "base",
   "language": "python",
   "name": "python3"
  },
  "language_info": {
   "codemirror_mode": {
    "name": "ipython",
    "version": 3
   },
   "file_extension": ".py",
   "mimetype": "text/x-python",
   "name": "python",
   "nbconvert_exporter": "python",
   "pygments_lexer": "ipython3",
   "version": "3.10.9"
  }
 },
 "nbformat": 4,
 "nbformat_minor": 5
}

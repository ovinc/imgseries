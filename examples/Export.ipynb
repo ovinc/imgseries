{
 "cells": [
  {
   "cell_type": "code",
   "execution_count": 1,
   "metadata": {},
   "outputs": [],
   "source": [
    "%matplotlib tk\n",
    "from imgseries import ImgSeries\n",
    "from pathlib import Path"
   ]
  },
  {
   "cell_type": "markdown",
   "metadata": {},
   "source": [
    "# Define ImgSeries object"
   ]
  },
  {
   "cell_type": "code",
   "execution_count": 2,
   "metadata": {},
   "outputs": [],
   "source": [
    "basefolder = Path('data')\n",
    "folders = [basefolder / folder for folder in ('img1', 'img2')]\n",
    "images = ImgSeries(folders, savepath=basefolder / 'untracked_data')"
   ]
  },
  {
   "cell_type": "markdown",
   "metadata": {},
   "source": [
    "**NOTE**: see further below for the case where the images are within a TIFF stack"
   ]
  },
  {
   "cell_type": "markdown",
   "metadata": {
    "tags": []
   },
   "source": [
    "# Export"
   ]
  },
  {
   "cell_type": "code",
   "execution_count": 3,
   "metadata": {},
   "outputs": [],
   "source": [
    "images.filter.size = 5"
   ]
  },
  {
   "cell_type": "code",
   "execution_count": 4,
   "metadata": {},
   "outputs": [
    {
     "data": {
      "text/plain": [
       "{'gray': <matplotlib.widgets.Button at 0x29a6a5c00>,\n",
       " 'viridis': <matplotlib.widgets.Button at 0x29a6d66b0>,\n",
       " 'plasma': <matplotlib.widgets.Button at 0x29b0179a0>,\n",
       " 'inferno': <matplotlib.widgets.Button at 0x29b046830>,\n",
       " 'magma': <matplotlib.widgets.Button at 0x29b0a9ea0>,\n",
       " 'cividis': <matplotlib.widgets.Button at 0x29b0d9c00>}"
      ]
     },
     "execution_count": 4,
     "metadata": {},
     "output_type": "execute_result"
    }
   ],
   "source": [
    "images.display.define('colormap')"
   ]
  },
  {
   "cell_type": "code",
   "execution_count": 5,
   "metadata": {},
   "outputs": [
    {
     "data": {
      "text/plain": [
       "{'slider min': <matplotlib.widgets.Slider at 0x10fd416f0>,\n",
       " 'slider max': <matplotlib.widgets.Slider at 0x29c2a3850>,\n",
       " 'button reset': <matplotlib.widgets.Button at 0x29c2d89a0>,\n",
       " 'button full': <matplotlib.widgets.Button at 0x29b4a9870>,\n",
       " 'button auto': <matplotlib.widgets.Button at 0x29b4d6530>,\n",
       " 'button ok': <matplotlib.widgets.Button at 0x29c23b160>}"
      ]
     },
     "execution_count": 5,
     "metadata": {},
     "output_type": "execute_result"
    }
   ],
   "source": [
    "images.display.define('contrast')"
   ]
  },
  {
   "cell_type": "code",
   "execution_count": 7,
   "metadata": {},
   "outputs": [
    {
     "name": "stderr",
     "output_type": "stream",
     "text": [
      "100%|██████████| 25/25 [00:02<00:00,  8.49it/s]\n"
     ]
    }
   ],
   "source": [
    "images.export(parallel=True, ndigits=7, skip=2, with_display=True)"
   ]
  },
  {
   "cell_type": "code",
   "execution_count": null,
   "metadata": {},
   "outputs": [],
   "source": []
  }
 ],
 "metadata": {
  "kernelspec": {
   "display_name": "base",
   "language": "python",
   "name": "python3"
  },
  "language_info": {
   "codemirror_mode": {
    "name": "ipython",
    "version": 3
   },
   "file_extension": ".py",
   "mimetype": "text/x-python",
   "name": "python",
   "nbconvert_exporter": "python",
   "pygments_lexer": "ipython3",
   "version": "3.10.9"
  }
 },
 "nbformat": 4,
 "nbformat_minor": 4
}

{
 "cells": [
  {
   "cell_type": "code",
   "execution_count": null,
   "metadata": {},
   "outputs": [],
   "source": [
    "%matplotlib\n",
    "from imgseries import ImgSeries, Front1D"
   ]
  },
  {
   "cell_type": "code",
   "execution_count": 2,
   "metadata": {},
   "outputs": [],
   "source": [
    "basefolder = Path('data')\n",
    "folders = [basefolder / folder for folder in ('img1', 'img2')]\n",
    "images = ImgSeries(folders, savepath=basefolder)"
   ]
  },
  {
   "cell_type": "code",
   "execution_count": 3,
   "metadata": {},
   "outputs": [],
   "source": [
    "f1d = Front1D(images)"
   ]
  },
  {
   "cell_type": "code",
   "execution_count": 4,
   "metadata": {},
   "outputs": [
    {
     "name": "stderr",
     "output_type": "stream",
     "text": [
      "Traceback (most recent call last):\n",
      "  File \"/Users/ovincent/opt/anaconda3/lib/python3.9/site-packages/matplotlib/cbook/__init__.py\", line 270, in process\n",
      "    func(*args, **kwargs)\n",
      "  File \"/Users/ovincent/opt/anaconda3/lib/python3.9/site-packages/matplotlib/animation.py\", line 991, in _start\n",
      "    self._init_draw()\n",
      "  File \"/Users/ovincent/opt/anaconda3/lib/python3.9/site-packages/matplotlib/animation.py\", line 1753, in _init_draw\n",
      "    self._draw_frame(next(self.new_frame_seq()))\n",
      "  File \"/Users/ovincent/opt/anaconda3/lib/python3.9/site-packages/matplotlib/animation.py\", line 1776, in _draw_frame\n",
      "    self._drawn_artists = self._func(framedata, *self._args)\n",
      "  File \"/Users/ovincent/Python-OV/imgseries/imgseries/viewers.py\", line 56, in _plot\n",
      "    self._first_plot(data)\n",
      "  File \"/Users/ovincent/Python-OV/imgseries/imgseries/analysis/front_1d.py\", line 28, in _first_plot\n",
      "    ax=self.ax,\n",
      "AttributeError: 'Front1DViewer' object has no attribute 'ax'\n"
     ]
    }
   ],
   "source": [
    "f1d.run(live=True)"
   ]
  },
  {
   "cell_type": "code",
   "execution_count": 7,
   "metadata": {},
   "outputs": [],
   "source": [
    "def analyze(num=0):\n",
    "    img = images.read(num=num)\n",
    "    fig, (ax1, ax2) = plt.subplots(2, 1)\n",
    "    ax1.imshow(img)\n",
    "    data = img.mean(axis=0)\n",
    "    ax2.plot(data)"
   ]
  },
  {
   "cell_type": "code",
   "execution_count": 8,
   "metadata": {},
   "outputs": [],
   "source": [
    "analyze()"
   ]
  },
  {
   "cell_type": "code",
   "execution_count": null,
   "metadata": {},
   "outputs": [],
   "source": []
  }
 ],
 "metadata": {
  "kernelspec": {
   "display_name": "Python 3 (ipykernel)",
   "language": "python",
   "name": "python3"
  },
  "language_info": {
   "codemirror_mode": {
    "name": "ipython",
    "version": 3
   },
   "file_extension": ".py",
   "mimetype": "text/x-python",
   "name": "python",
   "nbconvert_exporter": "python",
   "pygments_lexer": "ipython3",
   "version": "3.9.7"
  }
 },
 "nbformat": 4,
 "nbformat_minor": 4
}

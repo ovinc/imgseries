{
 "cells": [
  {
   "cell_type": "code",
   "execution_count": 1,
   "metadata": {},
   "outputs": [],
   "source": [
    "%matplotlib inline\n",
    "\n",
    "from imgseries import ContourTracking"
   ]
  },
  {
   "cell_type": "code",
   "execution_count": 2,
   "metadata": {},
   "outputs": [],
   "source": [
    "basefolder = 'data'  # where analysis data etc. will be saved into and loaded from\n",
    "folders = 'data/img1', 'data/img2'"
   ]
  },
  {
   "cell_type": "markdown",
   "metadata": {},
   "source": [
    "# Minimal analysis"
   ]
  },
  {
   "cell_type": "code",
   "execution_count": 3,
   "metadata": {},
   "outputs": [],
   "source": [
    "ct = ContourTracking(folders, savepath=basefolder)\n",
    "\n",
    "# or, if working with a stack : ct = ContourTracking(stack='stack.tif', savepath=basefolder)"
   ]
  },
  {
   "cell_type": "markdown",
   "metadata": {},
   "source": [
    "The line below assumes that contours to follow have already been defined and saved in the metadata file (see details further below)"
   ]
  },
  {
   "cell_type": "code",
   "execution_count": 4,
   "metadata": {},
   "outputs": [],
   "source": [
    "ct.load_transform()\n",
    "ct.contours.load()"
   ]
  },
  {
   "cell_type": "markdown",
   "metadata": {},
   "source": [
    "Now, run analysis on these zones."
   ]
  },
  {
   "cell_type": "code",
   "execution_count": 5,
   "metadata": {},
   "outputs": [
    {
     "name": "stderr",
     "output_type": "stream",
     "text": [
      "100%|███████████████████████████████████████████████████████████████████████████████████████████████████████████| 40/40 [00:00<00:00, 67.69it/s]\n"
     ]
    }
   ],
   "source": [
    "ct.run(start=10, end=52)"
   ]
  },
  {
   "cell_type": "markdown",
   "metadata": {},
   "source": [
    "Results are stored in the `data` attribute, which is a pandas DataFrame (times are automatically extracted from image creation date, but can be modified, see further below)). `x, y` represent position, `p` perimeter and `a` signed area (see **Examples_Basics.ipynb**)\n",
    "\n",
    "*Note*: if contour detection fails at some point, `data` will contain `NaN` (`numpy.nan`) at the corresponding locations."
   ]
  },
  {
   "cell_type": "code",
   "execution_count": 6,
   "metadata": {},
   "outputs": [
    {
     "data": {
      "text/html": [
       "<div>\n",
       "<style scoped>\n",
       "    .dataframe tbody tr th:only-of-type {\n",
       "        vertical-align: middle;\n",
       "    }\n",
       "\n",
       "    .dataframe tbody tr th {\n",
       "        vertical-align: top;\n",
       "    }\n",
       "\n",
       "    .dataframe thead th {\n",
       "        text-align: right;\n",
       "    }\n",
       "</style>\n",
       "<table border=\"1\" class=\"dataframe\">\n",
       "  <thead>\n",
       "    <tr style=\"text-align: right;\">\n",
       "      <th></th>\n",
       "      <th>folder</th>\n",
       "      <th>filename</th>\n",
       "      <th>time (unix)</th>\n",
       "      <th>x1</th>\n",
       "      <th>y1</th>\n",
       "      <th>p1</th>\n",
       "      <th>a1</th>\n",
       "      <th>x2</th>\n",
       "      <th>y2</th>\n",
       "      <th>p2</th>\n",
       "      <th>a2</th>\n",
       "      <th>x3</th>\n",
       "      <th>y3</th>\n",
       "      <th>p3</th>\n",
       "      <th>a3</th>\n",
       "    </tr>\n",
       "    <tr>\n",
       "      <th>num</th>\n",
       "      <th></th>\n",
       "      <th></th>\n",
       "      <th></th>\n",
       "      <th></th>\n",
       "      <th></th>\n",
       "      <th></th>\n",
       "      <th></th>\n",
       "      <th></th>\n",
       "      <th></th>\n",
       "      <th></th>\n",
       "      <th></th>\n",
       "      <th></th>\n",
       "      <th></th>\n",
       "      <th></th>\n",
       "      <th></th>\n",
       "    </tr>\n",
       "  </thead>\n",
       "  <tbody>\n",
       "    <tr>\n",
       "      <th>10</th>\n",
       "      <td>img1</td>\n",
       "      <td>img-00620.png</td>\n",
       "      <td>1.620833e+09</td>\n",
       "      <td>232.731776</td>\n",
       "      <td>315.169836</td>\n",
       "      <td>44.754666</td>\n",
       "      <td>-152.099357</td>\n",
       "      <td>368.709534</td>\n",
       "      <td>336.278603</td>\n",
       "      <td>48.019931</td>\n",
       "      <td>-176.229078</td>\n",
       "      <td>408.452657</td>\n",
       "      <td>299.361052</td>\n",
       "      <td>38.443645</td>\n",
       "      <td>-113.702949</td>\n",
       "    </tr>\n",
       "    <tr>\n",
       "      <th>11</th>\n",
       "      <td>img1</td>\n",
       "      <td>img-00621.png</td>\n",
       "      <td>1.620833e+09</td>\n",
       "      <td>233.080802</td>\n",
       "      <td>315.676856</td>\n",
       "      <td>44.304157</td>\n",
       "      <td>-149.499103</td>\n",
       "      <td>368.724594</td>\n",
       "      <td>336.673944</td>\n",
       "      <td>47.363445</td>\n",
       "      <td>-173.177006</td>\n",
       "      <td>408.457206</td>\n",
       "      <td>299.875189</td>\n",
       "      <td>38.227885</td>\n",
       "      <td>-112.730082</td>\n",
       "    </tr>\n",
       "    <tr>\n",
       "      <th>12</th>\n",
       "      <td>img1</td>\n",
       "      <td>img-00622.png</td>\n",
       "      <td>1.620833e+09</td>\n",
       "      <td>233.683155</td>\n",
       "      <td>314.685857</td>\n",
       "      <td>45.86614</td>\n",
       "      <td>-160.601004</td>\n",
       "      <td>368.981095</td>\n",
       "      <td>335.593522</td>\n",
       "      <td>48.627516</td>\n",
       "      <td>-183.50893</td>\n",
       "      <td>408.650093</td>\n",
       "      <td>298.867432</td>\n",
       "      <td>39.595957</td>\n",
       "      <td>-121.568449</td>\n",
       "    </tr>\n",
       "    <tr>\n",
       "      <th>13</th>\n",
       "      <td>img1</td>\n",
       "      <td>img-00623.png</td>\n",
       "      <td>1.620833e+09</td>\n",
       "      <td>232.165923</td>\n",
       "      <td>314.069683</td>\n",
       "      <td>44.201827</td>\n",
       "      <td>-148.309446</td>\n",
       "      <td>367.295361</td>\n",
       "      <td>334.966751</td>\n",
       "      <td>47.04317</td>\n",
       "      <td>-171.817836</td>\n",
       "      <td>406.944206</td>\n",
       "      <td>298.286625</td>\n",
       "      <td>38.258595</td>\n",
       "      <td>-112.860618</td>\n",
       "    </tr>\n",
       "    <tr>\n",
       "      <th>14</th>\n",
       "      <td>img1</td>\n",
       "      <td>img-00624.png</td>\n",
       "      <td>1.620833e+09</td>\n",
       "      <td>232.308472</td>\n",
       "      <td>314.082175</td>\n",
       "      <td>44.102241</td>\n",
       "      <td>-147.583502</td>\n",
       "      <td>367.243839</td>\n",
       "      <td>334.946631</td>\n",
       "      <td>46.965131</td>\n",
       "      <td>-171.419981</td>\n",
       "      <td>406.865386</td>\n",
       "      <td>298.303763</td>\n",
       "      <td>38.295964</td>\n",
       "      <td>-112.841604</td>\n",
       "    </tr>\n",
       "  </tbody>\n",
       "</table>\n",
       "</div>"
      ],
      "text/plain": [
       "    folder       filename   time (unix)          x1          y1         p1  \\\n",
       "num                                                                          \n",
       "10    img1  img-00620.png  1.620833e+09  232.731776  315.169836  44.754666   \n",
       "11    img1  img-00621.png  1.620833e+09  233.080802  315.676856  44.304157   \n",
       "12    img1  img-00622.png  1.620833e+09  233.683155  314.685857   45.86614   \n",
       "13    img1  img-00623.png  1.620833e+09  232.165923  314.069683  44.201827   \n",
       "14    img1  img-00624.png  1.620833e+09  232.308472  314.082175  44.102241   \n",
       "\n",
       "             a1          x2          y2         p2          a2          x3  \\\n",
       "num                                                                          \n",
       "10  -152.099357  368.709534  336.278603  48.019931 -176.229078  408.452657   \n",
       "11  -149.499103  368.724594  336.673944  47.363445 -173.177006  408.457206   \n",
       "12  -160.601004  368.981095  335.593522  48.627516  -183.50893  408.650093   \n",
       "13  -148.309446  367.295361  334.966751   47.04317 -171.817836  406.944206   \n",
       "14  -147.583502  367.243839  334.946631  46.965131 -171.419981  406.865386   \n",
       "\n",
       "             y3         p3          a3  \n",
       "num                                     \n",
       "10   299.361052  38.443645 -113.702949  \n",
       "11   299.875189  38.227885 -112.730082  \n",
       "12   298.867432  39.595957 -121.568449  \n",
       "13   298.286625  38.258595 -112.860618  \n",
       "14   298.303763  38.295964 -112.841604  "
      ]
     },
     "execution_count": 6,
     "metadata": {},
     "output_type": "execute_result"
    }
   ],
   "source": [
    "ct.data.head()"
   ]
  },
  {
   "cell_type": "markdown",
   "metadata": {},
   "source": [
    "Plot perimeters of all detected particles (contours) as a function of time:"
   ]
  },
  {
   "cell_type": "code",
   "execution_count": 7,
   "metadata": {},
   "outputs": [
    {
     "data": {
      "text/plain": [
       "<AxesSubplot:xlabel='time (unix)'>"
      ]
     },
     "execution_count": 7,
     "metadata": {},
     "output_type": "execute_result"
    },
    {
     "data": {
      "image/png": "[encoded data removed]",
      "text/plain": [
       "<Figure size 432x288 with 1 Axes>"
      ]
     },
     "metadata": {
      "needs_background": "light"
     },
     "output_type": "display_data"
    }
   ],
   "source": [
    "ct.data.set_index('time (unix)').filter(like='p').plot()"
   ]
  },
  {
   "cell_type": "markdown",
   "metadata": {},
   "source": [
    "Save data in a tsv (tab-separated value) file, using default filename (filename can be set as a parameter if necessary, see further below). Metadata including contour info, path info, and code version info is also saved in a .json file at the same time. \n",
    "\n",
    "Before saving, make sure the timing info is correct for all images. If not, correct timing info, re-run the analysis, and call save()."
   ]
  },
  {
   "cell_type": "code",
   "execution_count": 11,
   "metadata": {},
   "outputs": [
    {
     "name": "stdout",
     "output_type": "stream",
     "text": [
      "\n",
      "Warning: these modules have dirty git repositories: imgseries\n",
      "\n",
      "Warning: these modules are missing a tag: imgseries\n",
      "\n",
      "Warning: these modules are not in a git repository: skimage, imgbasics, matplotlib, numpy\n"
     ]
    }
   ],
   "source": [
    "ct.save()"
   ]
  },
  {
   "cell_type": "markdown",
   "metadata": {},
   "source": [
    "# Defining global transform (rotation, crop)\n",
    "(optional, see ImgSeries notebook for more details)"
   ]
  },
  {
   "cell_type": "code",
   "execution_count": 4,
   "metadata": {},
   "outputs": [
    {
     "name": "stdout",
     "output_type": "stream",
     "text": [
      "Line position recorded. Line deleted.\n"
     ]
    }
   ],
   "source": [
    "ct.rotation.define()\n",
    "ct.crop.define()"
   ]
  },
  {
   "cell_type": "markdown",
   "metadata": {},
   "source": [
    "# Defining and viewing contours"
   ]
  },
  {
   "cell_type": "code",
   "execution_count": 4,
   "metadata": {},
   "outputs": [],
   "source": [
    "ct = ContourTracking(folders, savepath=basefolder)"
   ]
  },
  {
   "cell_type": "markdown",
   "metadata": {},
   "source": [
    "Defining contours has to be done at least once.\n",
    "\n",
    "**Important**: Matplotlib must be in an interactive mode to do so.\n",
    "\n",
    "Defining does not need to be done again in the following situations:\n",
    "- calling methods again from the same `ct` object, e.g. `ct.run()`\n",
    "- calling `ct.contours.load()` to load contours data from saved metadata (.json) file."
   ]
  },
  {
   "cell_type": "code",
   "execution_count": 5,
   "metadata": {},
   "outputs": [],
   "source": [
    "ct.contours.define(level=170)  # define one contour on the first image of the series, at grey level 170"
   ]
  },
  {
   "cell_type": "code",
   "execution_count": 12,
   "metadata": {},
   "outputs": [],
   "source": [
    "ct.contours.define(170, n=3)  # define 3 contours on the first image of the series"
   ]
  },
  {
   "cell_type": "code",
   "execution_count": 5,
   "metadata": {},
   "outputs": [],
   "source": [
    "ct.contours.define(170, 3, num=10)  # define 3 contours at level 170 on image #10 in the series"
   ]
  },
  {
   "cell_type": "markdown",
   "metadata": {},
   "source": [
    "Viewing analysis zones after defining or loading them:"
   ]
  },
  {
   "cell_type": "code",
   "execution_count": 6,
   "metadata": {},
   "outputs": [
    {
     "data": {
      "text/plain": [
       "{'position': {'contour 1': (241.32159816523225, 321.7370221595187),\n",
       "  'contour 2': (377.43310772427566, 341.9812976172301),\n",
       "  'contour 3': (416.98987039291785, 304.8820309993573)},\n",
       " 'level': 170,\n",
       " 'image': 10}"
      ]
     },
     "execution_count": 6,
     "metadata": {},
     "output_type": "execute_result"
    }
   ],
   "source": [
    "ct.contours.data"
   ]
  },
  {
   "cell_type": "code",
   "execution_count": 7,
   "metadata": {},
   "outputs": [
    {
     "data": {
      "text/plain": [
       "<AxesSubplot:title={'center':'img #10, grey level 170'}>"
      ]
     },
     "execution_count": 7,
     "metadata": {},
     "output_type": "execute_result"
    }
   ],
   "source": [
    "ct.contours.show()  # show contours on the image they have been defined on"
   ]
  },
  {
   "cell_type": "markdown",
   "metadata": {},
   "source": [
    "**Note**: At the moment, saving contours selection data is done by calling `ct.save()`, which saves both data and metadata. Be careful because calling `ct.save()` also overwrites saved analysis data (potentially with no data if no analysis has been run yet). This makes sure that metadata in .json files actually corresponds to the data in the .tsv file."
   ]
  },
  {
   "cell_type": "markdown",
   "metadata": {},
   "source": [
    "# Load analysis data a posteriori"
   ]
  },
  {
   "cell_type": "code",
   "execution_count": 8,
   "metadata": {},
   "outputs": [
    {
     "data": {
      "text/html": [
       "<div>\n",
       "<style scoped>\n",
       "    .dataframe tbody tr th:only-of-type {\n",
       "        vertical-align: middle;\n",
       "    }\n",
       "\n",
       "    .dataframe tbody tr th {\n",
       "        vertical-align: top;\n",
       "    }\n",
       "\n",
       "    .dataframe thead th {\n",
       "        text-align: right;\n",
       "    }\n",
       "</style>\n",
       "<table border=\"1\" class=\"dataframe\">\n",
       "  <thead>\n",
       "    <tr style=\"text-align: right;\">\n",
       "      <th></th>\n",
       "      <th>folder</th>\n",
       "      <th>filename</th>\n",
       "      <th>time (unix)</th>\n",
       "      <th>x1</th>\n",
       "      <th>y1</th>\n",
       "      <th>p1</th>\n",
       "      <th>a1</th>\n",
       "      <th>x2</th>\n",
       "      <th>y2</th>\n",
       "      <th>p2</th>\n",
       "      <th>a2</th>\n",
       "      <th>x3</th>\n",
       "      <th>y3</th>\n",
       "      <th>p3</th>\n",
       "      <th>a3</th>\n",
       "    </tr>\n",
       "    <tr>\n",
       "      <th>num</th>\n",
       "      <th></th>\n",
       "      <th></th>\n",
       "      <th></th>\n",
       "      <th></th>\n",
       "      <th></th>\n",
       "      <th></th>\n",
       "      <th></th>\n",
       "      <th></th>\n",
       "      <th></th>\n",
       "      <th></th>\n",
       "      <th></th>\n",
       "      <th></th>\n",
       "      <th></th>\n",
       "      <th></th>\n",
       "      <th></th>\n",
       "    </tr>\n",
       "  </thead>\n",
       "  <tbody>\n",
       "    <tr>\n",
       "      <th>10</th>\n",
       "      <td>img1</td>\n",
       "      <td>img-00620.png</td>\n",
       "      <td>1.620833e+09</td>\n",
       "      <td>241.321598</td>\n",
       "      <td>321.737022</td>\n",
       "      <td>44.685861</td>\n",
       "      <td>-150.701384</td>\n",
       "      <td>377.433108</td>\n",
       "      <td>341.981298</td>\n",
       "      <td>48.239950</td>\n",
       "      <td>-175.439649</td>\n",
       "      <td>416.989870</td>\n",
       "      <td>304.882031</td>\n",
       "      <td>38.530215</td>\n",
       "      <td>-112.837116</td>\n",
       "    </tr>\n",
       "    <tr>\n",
       "      <th>11</th>\n",
       "      <td>img1</td>\n",
       "      <td>img-00621.png</td>\n",
       "      <td>1.620833e+09</td>\n",
       "      <td>241.697027</td>\n",
       "      <td>322.245920</td>\n",
       "      <td>44.210171</td>\n",
       "      <td>-148.301465</td>\n",
       "      <td>377.453254</td>\n",
       "      <td>342.395880</td>\n",
       "      <td>47.552048</td>\n",
       "      <td>-172.614044</td>\n",
       "      <td>416.995408</td>\n",
       "      <td>305.382982</td>\n",
       "      <td>38.224093</td>\n",
       "      <td>-111.452036</td>\n",
       "    </tr>\n",
       "    <tr>\n",
       "      <th>12</th>\n",
       "      <td>img1</td>\n",
       "      <td>img-00622.png</td>\n",
       "      <td>1.620833e+09</td>\n",
       "      <td>242.258786</td>\n",
       "      <td>321.228541</td>\n",
       "      <td>46.026905</td>\n",
       "      <td>-160.223692</td>\n",
       "      <td>377.703891</td>\n",
       "      <td>341.309355</td>\n",
       "      <td>48.768627</td>\n",
       "      <td>-182.663860</td>\n",
       "      <td>417.189173</td>\n",
       "      <td>304.380220</td>\n",
       "      <td>39.606543</td>\n",
       "      <td>-120.938830</td>\n",
       "    </tr>\n",
       "    <tr>\n",
       "      <th>13</th>\n",
       "      <td>img1</td>\n",
       "      <td>img-00623.png</td>\n",
       "      <td>1.620833e+09</td>\n",
       "      <td>240.761685</td>\n",
       "      <td>320.630247</td>\n",
       "      <td>43.917041</td>\n",
       "      <td>-146.835734</td>\n",
       "      <td>376.020467</td>\n",
       "      <td>340.685599</td>\n",
       "      <td>47.258487</td>\n",
       "      <td>-171.959913</td>\n",
       "      <td>415.470731</td>\n",
       "      <td>303.824656</td>\n",
       "      <td>38.198769</td>\n",
       "      <td>-111.699800</td>\n",
       "    </tr>\n",
       "    <tr>\n",
       "      <th>14</th>\n",
       "      <td>img1</td>\n",
       "      <td>img-00624.png</td>\n",
       "      <td>1.620833e+09</td>\n",
       "      <td>240.914526</td>\n",
       "      <td>320.645435</td>\n",
       "      <td>44.074533</td>\n",
       "      <td>-146.575110</td>\n",
       "      <td>375.970621</td>\n",
       "      <td>340.665609</td>\n",
       "      <td>47.179980</td>\n",
       "      <td>-171.458491</td>\n",
       "      <td>415.401316</td>\n",
       "      <td>303.829849</td>\n",
       "      <td>38.261706</td>\n",
       "      <td>-111.740596</td>\n",
       "    </tr>\n",
       "  </tbody>\n",
       "</table>\n",
       "</div>"
      ],
      "text/plain": [
       "    folder       filename   time (unix)          x1          y1         p1  \\\n",
       "num                                                                          \n",
       "10    img1  img-00620.png  1.620833e+09  241.321598  321.737022  44.685861   \n",
       "11    img1  img-00621.png  1.620833e+09  241.697027  322.245920  44.210171   \n",
       "12    img1  img-00622.png  1.620833e+09  242.258786  321.228541  46.026905   \n",
       "13    img1  img-00623.png  1.620833e+09  240.761685  320.630247  43.917041   \n",
       "14    img1  img-00624.png  1.620833e+09  240.914526  320.645435  44.074533   \n",
       "\n",
       "             a1          x2          y2         p2          a2          x3  \\\n",
       "num                                                                          \n",
       "10  -150.701384  377.433108  341.981298  48.239950 -175.439649  416.989870   \n",
       "11  -148.301465  377.453254  342.395880  47.552048 -172.614044  416.995408   \n",
       "12  -160.223692  377.703891  341.309355  48.768627 -182.663860  417.189173   \n",
       "13  -146.835734  376.020467  340.685599  47.258487 -171.959913  415.470731   \n",
       "14  -146.575110  375.970621  340.665609  47.179980 -171.458491  415.401316   \n",
       "\n",
       "             y3         p3          a3  \n",
       "num                                     \n",
       "10   304.882031  38.530215 -112.837116  \n",
       "11   305.382982  38.224093 -111.452036  \n",
       "12   304.380220  39.606543 -120.938830  \n",
       "13   303.824656  38.198769 -111.699800  \n",
       "14   303.829849  38.261706 -111.740596  "
      ]
     },
     "execution_count": 8,
     "metadata": {},
     "output_type": "execute_result"
    }
   ],
   "source": [
    "ct = ContourTracking(savepath=basefolder)  # no need to specify folders here\n",
    "data = ct.load()\n",
    "data.head()"
   ]
  },
  {
   "cell_type": "markdown",
   "metadata": {},
   "source": [
    "If one wants to use contour selection methods as above, one must first reload the contour selection using saved data:"
   ]
  },
  {
   "cell_type": "code",
   "execution_count": 9,
   "metadata": {},
   "outputs": [
    {
     "data": {
      "text/plain": [
       "{'position': {'contour 1': [241.32159816523225, 321.7370221595187],\n",
       "  'contour 2': [377.43310772427566, 341.9812976172301],\n",
       "  'contour 3': [416.98987039291785, 304.8820309993573]},\n",
       " 'level': 170,\n",
       " 'image': 10}"
      ]
     },
     "execution_count": 9,
     "metadata": {},
     "output_type": "execute_result"
    }
   ],
   "source": [
    "ct.contours.load()\n",
    "ct.contours.data"
   ]
  },
  {
   "cell_type": "markdown",
   "metadata": {},
   "source": [
    "If one wants to show the zones on actual images, one must either specify `paths` in the `glevels` instanciation above, or reload the file info using the command below (the image files must still be present in the same location. If not use `load_info` with a specific filename containing updated file location):"
   ]
  },
  {
   "cell_type": "code",
   "execution_count": 10,
   "metadata": {},
   "outputs": [],
   "source": [
    "ct.load_info()  # use default filename, or:\n",
    "ct.load_info('Img_Files_Saved.tsv')"
   ]
  },
  {
   "cell_type": "code",
   "execution_count": 11,
   "metadata": {},
   "outputs": [
    {
     "data": {
      "image/png": "[encoded data removed]",
      "text/plain": [
       "<Figure size 432x288 with 1 Axes>"
      ]
     },
     "metadata": {
      "needs_background": "light"
     },
     "output_type": "display_data"
    },
    {
     "data": {
      "text/plain": [
       "<AxesSubplot:title={'center':'img #10, grey level 170'}>"
      ]
     },
     "execution_count": 11,
     "metadata": {},
     "output_type": "execute_result"
    }
   ],
   "source": [
    "ct.contours.show()  # show zones on 10-th image"
   ]
  },
  {
   "cell_type": "markdown",
   "metadata": {},
   "source": [
    "# Analyze only subset of images"
   ]
  },
  {
   "cell_type": "markdown",
   "metadata": {},
   "source": [
    "See **Examples_GreyLevels.ipynb**, and replace:\n",
    "- `GreyLevel` →  `ContourTracking`\n",
    "- `zones` →  `contours`"
   ]
  },
  {
   "cell_type": "markdown",
   "metadata": {},
   "source": [
    "# Manage image time information"
   ]
  },
  {
   "cell_type": "markdown",
   "metadata": {},
   "source": [
    "See **Examples_GreyLevels.ipynb**, and replace `GreyLevel` with `ContourTracking` (or `ImgSeries`)"
   ]
  },
  {
   "cell_type": "markdown",
   "metadata": {},
   "source": [
    "# Load / save with custom filenames"
   ]
  },
  {
   "cell_type": "markdown",
   "metadata": {},
   "source": [
    "See **Examples_GreyLevels.ipynb**, and replace `GreyLevel` with  `ContourTracking`"
   ]
  },
  {
   "cell_type": "markdown",
   "metadata": {},
   "source": [
    "# Access individual images"
   ]
  },
  {
   "cell_type": "markdown",
   "metadata": {},
   "source": [
    "See **Examples_GreyLevels.ipynb**, and replace `GreyLevel` with `ContourTracking` (or `ImgSeries`)"
   ]
  },
  {
   "cell_type": "code",
   "execution_count": null,
   "metadata": {},
   "outputs": [],
   "source": []
  }
 ],
 "metadata": {
  "kernelspec": {
   "display_name": "Python 3 (ipykernel)",
   "language": "python",
   "name": "python3"
  },
  "language_info": {
   "codemirror_mode": {
    "name": "ipython",
    "version": 3
   },
   "file_extension": ".py",
   "mimetype": "text/x-python",
   "name": "python",
   "nbconvert_exporter": "python",
   "pygments_lexer": "ipython3",
   "version": "3.9.7"
  }
 },
 "nbformat": 4,
 "nbformat_minor": 4
}

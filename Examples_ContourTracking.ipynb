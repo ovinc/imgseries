{
 "cells": [
  {
   "cell_type": "code",
   "execution_count": 1,
   "metadata": {},
   "outputs": [],
   "source": [
    "# change to `%matplotlib` for interactive methods\n",
    "%matplotlib qt5\n",
    "\n",
    "from imgseries import ContourTracking"
   ]
  },
  {
   "cell_type": "code",
   "execution_count": 2,
   "metadata": {},
   "outputs": [],
   "source": [
    "basefolder = 'data'  # where analysis data etc. will be saved into and loaded from\n",
    "folders = 'data/img1', 'data/img2'"
   ]
  },
  {
   "cell_type": "markdown",
   "metadata": {},
   "source": [
    "# Minimal analysis"
   ]
  },
  {
   "cell_type": "code",
   "execution_count": 3,
   "metadata": {},
   "outputs": [],
   "source": [
    "ct = ContourTracking(folders, savepath=basefolder)\n",
    "\n",
    "# or, if working with a stack : ct = ContourTracking(stack='stack.tif', savepath=basefolder)"
   ]
  },
  {
   "cell_type": "markdown",
   "metadata": {},
   "source": [
    "The line below assumes that contours to follow have already been defined and saved in the metadata file (see details further below)"
   ]
  },
  {
   "cell_type": "code",
   "execution_count": 4,
   "metadata": {},
   "outputs": [],
   "source": [
    "ct.load_transform()\n",
    "ct.contours.load()"
   ]
  },
  {
   "cell_type": "markdown",
   "metadata": {},
   "source": [
    "Now, run analysis on these zones."
   ]
  },
  {
   "cell_type": "code",
   "execution_count": 5,
   "metadata": {},
   "outputs": [
    {
     "name": "stderr",
     "output_type": "stream",
     "text": [
      "100%|██████████████████████████████████████████████████████████████████████████████████████████████████████████████████| 40/40 [00:00<00:00, 61.47it/s]\n"
     ]
    }
   ],
   "source": [
    "ct.run(start=10, end=52)"
   ]
  },
  {
   "cell_type": "markdown",
   "metadata": {},
   "source": [
    "Results are stored in the `data` attribute, which is a pandas DataFrame (times are automatically extracted from image creation date, but can be modified, see further below)). `x, y` represent position, `p` perimeter and `a` signed area (see **Examples_Basics.ipynb**)\n",
    "\n",
    "*Note*: if contour detection fails at some point, `data` will contain `NaN` (`numpy.nan`) at the corresponding locations."
   ]
  },
  {
   "cell_type": "code",
   "execution_count": 6,
   "metadata": {},
   "outputs": [
    {
     "data": {
      "text/html": [
       "<div>\n",
       "<style scoped>\n",
       "    .dataframe tbody tr th:only-of-type {\n",
       "        vertical-align: middle;\n",
       "    }\n",
       "\n",
       "    .dataframe tbody tr th {\n",
       "        vertical-align: top;\n",
       "    }\n",
       "\n",
       "    .dataframe thead th {\n",
       "        text-align: right;\n",
       "    }\n",
       "</style>\n",
       "<table border=\"1\" class=\"dataframe\">\n",
       "  <thead>\n",
       "    <tr style=\"text-align: right;\">\n",
       "      <th></th>\n",
       "      <th>folder</th>\n",
       "      <th>filename</th>\n",
       "      <th>time (unix)</th>\n",
       "      <th>x1</th>\n",
       "      <th>y1</th>\n",
       "      <th>p1</th>\n",
       "      <th>a1</th>\n",
       "      <th>x2</th>\n",
       "      <th>y2</th>\n",
       "      <th>p2</th>\n",
       "      <th>a2</th>\n",
       "      <th>x3</th>\n",
       "      <th>y3</th>\n",
       "      <th>p3</th>\n",
       "      <th>a3</th>\n",
       "    </tr>\n",
       "    <tr>\n",
       "      <th>num</th>\n",
       "      <th></th>\n",
       "      <th></th>\n",
       "      <th></th>\n",
       "      <th></th>\n",
       "      <th></th>\n",
       "      <th></th>\n",
       "      <th></th>\n",
       "      <th></th>\n",
       "      <th></th>\n",
       "      <th></th>\n",
       "      <th></th>\n",
       "      <th></th>\n",
       "      <th></th>\n",
       "      <th></th>\n",
       "      <th></th>\n",
       "    </tr>\n",
       "  </thead>\n",
       "  <tbody>\n",
       "    <tr>\n",
       "      <th>10</th>\n",
       "      <td>img1</td>\n",
       "      <td>img-00620.png</td>\n",
       "      <td>1.620833e+09</td>\n",
       "      <td>222.956488</td>\n",
       "      <td>346.127156</td>\n",
       "      <td>38.503689</td>\n",
       "      <td>-113.420513</td>\n",
       "      <td>317.923508</td>\n",
       "      <td>310.518543</td>\n",
       "      <td>19.308898</td>\n",
       "      <td>-28.474613</td>\n",
       "      <td>336.855096</td>\n",
       "      <td>280.560893</td>\n",
       "      <td>12.459408</td>\n",
       "      <td>-11.781861</td>\n",
       "    </tr>\n",
       "    <tr>\n",
       "      <th>11</th>\n",
       "      <td>img1</td>\n",
       "      <td>img-00621.png</td>\n",
       "      <td>1.620833e+09</td>\n",
       "      <td>222.473876</td>\n",
       "      <td>346.311984</td>\n",
       "      <td>38.154494</td>\n",
       "      <td>-111.924609</td>\n",
       "      <td>317.241244</td>\n",
       "      <td>310.76516</td>\n",
       "      <td>19.114808</td>\n",
       "      <td>-28.137121</td>\n",
       "      <td>336.141605</td>\n",
       "      <td>280.837205</td>\n",
       "      <td>12.081659</td>\n",
       "      <td>-11.232358</td>\n",
       "    </tr>\n",
       "    <tr>\n",
       "      <th>12</th>\n",
       "      <td>img1</td>\n",
       "      <td>img-00622.png</td>\n",
       "      <td>1.620833e+09</td>\n",
       "      <td>223.503317</td>\n",
       "      <td>346.121658</td>\n",
       "      <td>39.719024</td>\n",
       "      <td>-121.486094</td>\n",
       "      <td>318.066898</td>\n",
       "      <td>310.749903</td>\n",
       "      <td>18.907247</td>\n",
       "      <td>-27.309932</td>\n",
       "      <td>336.850412</td>\n",
       "      <td>280.940046</td>\n",
       "      <td>10.455276</td>\n",
       "      <td>-8.156389</td>\n",
       "    </tr>\n",
       "    <tr>\n",
       "      <th>13</th>\n",
       "      <td>img1</td>\n",
       "      <td>img-00623.png</td>\n",
       "      <td>1.620833e+09</td>\n",
       "      <td>223.44422</td>\n",
       "      <td>344.334955</td>\n",
       "      <td>38.168624</td>\n",
       "      <td>-111.766353</td>\n",
       "      <td>317.89952</td>\n",
       "      <td>309.067225</td>\n",
       "      <td>19.656898</td>\n",
       "      <td>-29.35612</td>\n",
       "      <td>336.674979</td>\n",
       "      <td>279.044173</td>\n",
       "      <td>13.070685</td>\n",
       "      <td>-12.16702</td>\n",
       "    </tr>\n",
       "    <tr>\n",
       "      <th>14</th>\n",
       "      <td>img1</td>\n",
       "      <td>img-00624.png</td>\n",
       "      <td>1.620833e+09</td>\n",
       "      <td>223.401673</td>\n",
       "      <td>344.27385</td>\n",
       "      <td>38.222143</td>\n",
       "      <td>-111.736032</td>\n",
       "      <td>317.742797</td>\n",
       "      <td>309.068882</td>\n",
       "      <td>19.607509</td>\n",
       "      <td>-29.266362</td>\n",
       "      <td>336.48541</td>\n",
       "      <td>279.082818</td>\n",
       "      <td>13.003947</td>\n",
       "      <td>-12.214008</td>\n",
       "    </tr>\n",
       "  </tbody>\n",
       "</table>\n",
       "</div>"
      ],
      "text/plain": [
       "    folder       filename   time (unix)          x1          y1         p1  \\\n",
       "num                                                                          \n",
       "10    img1  img-00620.png  1.620833e+09  222.956488  346.127156  38.503689   \n",
       "11    img1  img-00621.png  1.620833e+09  222.473876  346.311984  38.154494   \n",
       "12    img1  img-00622.png  1.620833e+09  223.503317  346.121658  39.719024   \n",
       "13    img1  img-00623.png  1.620833e+09   223.44422  344.334955  38.168624   \n",
       "14    img1  img-00624.png  1.620833e+09  223.401673   344.27385  38.222143   \n",
       "\n",
       "             a1          x2          y2         p2         a2          x3  \\\n",
       "num                                                                         \n",
       "10  -113.420513  317.923508  310.518543  19.308898 -28.474613  336.855096   \n",
       "11  -111.924609  317.241244   310.76516  19.114808 -28.137121  336.141605   \n",
       "12  -121.486094  318.066898  310.749903  18.907247 -27.309932  336.850412   \n",
       "13  -111.766353   317.89952  309.067225  19.656898  -29.35612  336.674979   \n",
       "14  -111.736032  317.742797  309.068882  19.607509 -29.266362   336.48541   \n",
       "\n",
       "             y3         p3         a3  \n",
       "num                                    \n",
       "10   280.560893  12.459408 -11.781861  \n",
       "11   280.837205  12.081659 -11.232358  \n",
       "12   280.940046  10.455276  -8.156389  \n",
       "13   279.044173  13.070685  -12.16702  \n",
       "14   279.082818  13.003947 -12.214008  "
      ]
     },
     "execution_count": 6,
     "metadata": {},
     "output_type": "execute_result"
    }
   ],
   "source": [
    "ct.data.head()"
   ]
  },
  {
   "cell_type": "markdown",
   "metadata": {},
   "source": [
    "Plot perimeters of all detected particles (contours) as a function of time:"
   ]
  },
  {
   "cell_type": "code",
   "execution_count": 7,
   "metadata": {},
   "outputs": [
    {
     "data": {
      "text/plain": [
       "<AxesSubplot:xlabel='time (unix)'>"
      ]
     },
     "execution_count": 7,
     "metadata": {},
     "output_type": "execute_result"
    }
   ],
   "source": [
    "ct.data.set_index('time (unix)').filter(like='p').plot()"
   ]
  },
  {
   "cell_type": "markdown",
   "metadata": {},
   "source": [
    "Save data in a tsv (tab-separated value) file, using default filename (filename can be set as a parameter if necessary, see further below). Metadata including contour info, path info, and code version info is also saved in a .json file at the same time. \n",
    "\n",
    "Before saving, make sure the timing info is correct for all images. If not, correct timing info, re-run the analysis, and call save()."
   ]
  },
  {
   "cell_type": "code",
   "execution_count": 8,
   "metadata": {},
   "outputs": [
    {
     "name": "stdout",
     "output_type": "stream",
     "text": [
      "\n",
      "Warning: These modules have dirty git repositories: imgseries\n",
      "\n",
      "\n",
      "Warning: these modules are missing a tag: imgseries\n",
      "\n",
      "\n",
      "Warning: these modules are not in a git repository: skimage, matplotlib, numpy\n",
      "\n"
     ]
    }
   ],
   "source": [
    "ct.save()"
   ]
  },
  {
   "cell_type": "markdown",
   "metadata": {},
   "source": [
    "# Live view of analysis"
   ]
  },
  {
   "cell_type": "code",
   "execution_count": 6,
   "metadata": {},
   "outputs": [],
   "source": [
    "ct.run(end=30, live=True)"
   ]
  },
  {
   "cell_type": "markdown",
   "metadata": {},
   "source": [
    "# Defining global transform (rotation, crop)\n",
    "(optional, see ImgSeries notebook for more details)"
   ]
  },
  {
   "cell_type": "code",
   "execution_count": 4,
   "metadata": {},
   "outputs": [
    {
     "name": "stdout",
     "output_type": "stream",
     "text": [
      "Line position recorded. Line deleted.\n"
     ]
    }
   ],
   "source": [
    "ct.rotation.define()\n",
    "ct.crop.define()"
   ]
  },
  {
   "cell_type": "markdown",
   "metadata": {},
   "source": [
    "# Defining and viewing contours"
   ]
  },
  {
   "cell_type": "code",
   "execution_count": 4,
   "metadata": {},
   "outputs": [],
   "source": [
    "ct = ContourTracking(folders, savepath=basefolder)"
   ]
  },
  {
   "cell_type": "markdown",
   "metadata": {},
   "source": [
    "Defining contours has to be done at least once.\n",
    "\n",
    "**Important**: Matplotlib must be in an interactive mode to do so.\n",
    "\n",
    "Defining does not need to be done again in the following situations:\n",
    "- calling methods again from the same `ct` object, e.g. `ct.run()`\n",
    "- calling `ct.contours.load()` to load contours data from saved metadata (.json) file."
   ]
  },
  {
   "cell_type": "code",
   "execution_count": 5,
   "metadata": {},
   "outputs": [],
   "source": [
    "ct.contours.define(level=170)  # define one contour on the first image of the series, at grey level 170"
   ]
  },
  {
   "cell_type": "code",
   "execution_count": 12,
   "metadata": {},
   "outputs": [],
   "source": [
    "ct.contours.define(170, n=3)  # define 3 contours on the first image of the series"
   ]
  },
  {
   "cell_type": "code",
   "execution_count": 5,
   "metadata": {},
   "outputs": [],
   "source": [
    "ct.contours.define(170, 3, num=10)  # define 3 contours at level 170 on image #10 in the series"
   ]
  },
  {
   "cell_type": "markdown",
   "metadata": {},
   "source": [
    "Viewing analysis zones after defining or loading them:"
   ]
  },
  {
   "cell_type": "code",
   "execution_count": 8,
   "metadata": {},
   "outputs": [
    {
     "data": {
      "text/plain": [
       "{'position': {'contour 1': [241.32159816523225, 321.7370221595187],\n",
       "  'contour 2': [377.43310772427566, 341.9812976172301],\n",
       "  'contour 3': [416.98987039291785, 304.8820309993573]},\n",
       " 'level': 170,\n",
       " 'image': 10}"
      ]
     },
     "execution_count": 8,
     "metadata": {},
     "output_type": "execute_result"
    }
   ],
   "source": [
    "ct.contours.data"
   ]
  },
  {
   "cell_type": "code",
   "execution_count": 9,
   "metadata": {},
   "outputs": [
    {
     "data": {
      "text/plain": [
       "<AxesSubplot:title={'center':'img #10, grey level 170'}>"
      ]
     },
     "execution_count": 9,
     "metadata": {},
     "output_type": "execute_result"
    }
   ],
   "source": [
    "ct.contours.show()  # show contours on the image they have been defined on"
   ]
  },
  {
   "cell_type": "markdown",
   "metadata": {},
   "source": [
    "**Note**: At the moment, saving contours selection data is done by calling `ct.save()`, which saves both data and metadata. Be careful because calling `ct.save()` also overwrites saved analysis data (potentially with no data if no analysis has been run yet). This makes sure that metadata in .json files actually corresponds to the data in the .tsv file."
   ]
  },
  {
   "cell_type": "markdown",
   "metadata": {},
   "source": [
    "# Load analysis data a posteriori"
   ]
  },
  {
   "cell_type": "code",
   "execution_count": 8,
   "metadata": {},
   "outputs": [
    {
     "data": {
      "text/html": [
       "<div>\n",
       "<style scoped>\n",
       "    .dataframe tbody tr th:only-of-type {\n",
       "        vertical-align: middle;\n",
       "    }\n",
       "\n",
       "    .dataframe tbody tr th {\n",
       "        vertical-align: top;\n",
       "    }\n",
       "\n",
       "    .dataframe thead th {\n",
       "        text-align: right;\n",
       "    }\n",
       "</style>\n",
       "<table border=\"1\" class=\"dataframe\">\n",
       "  <thead>\n",
       "    <tr style=\"text-align: right;\">\n",
       "      <th></th>\n",
       "      <th>folder</th>\n",
       "      <th>filename</th>\n",
       "      <th>time (unix)</th>\n",
       "      <th>x1</th>\n",
       "      <th>y1</th>\n",
       "      <th>p1</th>\n",
       "      <th>a1</th>\n",
       "      <th>x2</th>\n",
       "      <th>y2</th>\n",
       "      <th>p2</th>\n",
       "      <th>a2</th>\n",
       "      <th>x3</th>\n",
       "      <th>y3</th>\n",
       "      <th>p3</th>\n",
       "      <th>a3</th>\n",
       "    </tr>\n",
       "    <tr>\n",
       "      <th>num</th>\n",
       "      <th></th>\n",
       "      <th></th>\n",
       "      <th></th>\n",
       "      <th></th>\n",
       "      <th></th>\n",
       "      <th></th>\n",
       "      <th></th>\n",
       "      <th></th>\n",
       "      <th></th>\n",
       "      <th></th>\n",
       "      <th></th>\n",
       "      <th></th>\n",
       "      <th></th>\n",
       "      <th></th>\n",
       "      <th></th>\n",
       "    </tr>\n",
       "  </thead>\n",
       "  <tbody>\n",
       "    <tr>\n",
       "      <th>10</th>\n",
       "      <td>img1</td>\n",
       "      <td>img-00620.png</td>\n",
       "      <td>1.620833e+09</td>\n",
       "      <td>241.321598</td>\n",
       "      <td>321.737022</td>\n",
       "      <td>44.685861</td>\n",
       "      <td>-150.701384</td>\n",
       "      <td>377.433108</td>\n",
       "      <td>341.981298</td>\n",
       "      <td>48.239950</td>\n",
       "      <td>-175.439649</td>\n",
       "      <td>416.989870</td>\n",
       "      <td>304.882031</td>\n",
       "      <td>38.530215</td>\n",
       "      <td>-112.837116</td>\n",
       "    </tr>\n",
       "    <tr>\n",
       "      <th>11</th>\n",
       "      <td>img1</td>\n",
       "      <td>img-00621.png</td>\n",
       "      <td>1.620833e+09</td>\n",
       "      <td>241.697027</td>\n",
       "      <td>322.245920</td>\n",
       "      <td>44.210171</td>\n",
       "      <td>-148.301465</td>\n",
       "      <td>377.453254</td>\n",
       "      <td>342.395880</td>\n",
       "      <td>47.552048</td>\n",
       "      <td>-172.614044</td>\n",
       "      <td>416.995408</td>\n",
       "      <td>305.382982</td>\n",
       "      <td>38.224093</td>\n",
       "      <td>-111.452036</td>\n",
       "    </tr>\n",
       "    <tr>\n",
       "      <th>12</th>\n",
       "      <td>img1</td>\n",
       "      <td>img-00622.png</td>\n",
       "      <td>1.620833e+09</td>\n",
       "      <td>242.258786</td>\n",
       "      <td>321.228541</td>\n",
       "      <td>46.026905</td>\n",
       "      <td>-160.223692</td>\n",
       "      <td>377.703891</td>\n",
       "      <td>341.309355</td>\n",
       "      <td>48.768627</td>\n",
       "      <td>-182.663860</td>\n",
       "      <td>417.189173</td>\n",
       "      <td>304.380220</td>\n",
       "      <td>39.606543</td>\n",
       "      <td>-120.938830</td>\n",
       "    </tr>\n",
       "    <tr>\n",
       "      <th>13</th>\n",
       "      <td>img1</td>\n",
       "      <td>img-00623.png</td>\n",
       "      <td>1.620833e+09</td>\n",
       "      <td>240.761685</td>\n",
       "      <td>320.630247</td>\n",
       "      <td>43.917041</td>\n",
       "      <td>-146.835734</td>\n",
       "      <td>376.020467</td>\n",
       "      <td>340.685599</td>\n",
       "      <td>47.258487</td>\n",
       "      <td>-171.959913</td>\n",
       "      <td>415.470731</td>\n",
       "      <td>303.824656</td>\n",
       "      <td>38.198769</td>\n",
       "      <td>-111.699800</td>\n",
       "    </tr>\n",
       "    <tr>\n",
       "      <th>14</th>\n",
       "      <td>img1</td>\n",
       "      <td>img-00624.png</td>\n",
       "      <td>1.620833e+09</td>\n",
       "      <td>240.914526</td>\n",
       "      <td>320.645435</td>\n",
       "      <td>44.074533</td>\n",
       "      <td>-146.575110</td>\n",
       "      <td>375.970621</td>\n",
       "      <td>340.665609</td>\n",
       "      <td>47.179980</td>\n",
       "      <td>-171.458491</td>\n",
       "      <td>415.401316</td>\n",
       "      <td>303.829849</td>\n",
       "      <td>38.261706</td>\n",
       "      <td>-111.740596</td>\n",
       "    </tr>\n",
       "  </tbody>\n",
       "</table>\n",
       "</div>"
      ],
      "text/plain": [
       "    folder       filename   time (unix)          x1          y1         p1  \\\n",
       "num                                                                          \n",
       "10    img1  img-00620.png  1.620833e+09  241.321598  321.737022  44.685861   \n",
       "11    img1  img-00621.png  1.620833e+09  241.697027  322.245920  44.210171   \n",
       "12    img1  img-00622.png  1.620833e+09  242.258786  321.228541  46.026905   \n",
       "13    img1  img-00623.png  1.620833e+09  240.761685  320.630247  43.917041   \n",
       "14    img1  img-00624.png  1.620833e+09  240.914526  320.645435  44.074533   \n",
       "\n",
       "             a1          x2          y2         p2          a2          x3  \\\n",
       "num                                                                          \n",
       "10  -150.701384  377.433108  341.981298  48.239950 -175.439649  416.989870   \n",
       "11  -148.301465  377.453254  342.395880  47.552048 -172.614044  416.995408   \n",
       "12  -160.223692  377.703891  341.309355  48.768627 -182.663860  417.189173   \n",
       "13  -146.835734  376.020467  340.685599  47.258487 -171.959913  415.470731   \n",
       "14  -146.575110  375.970621  340.665609  47.179980 -171.458491  415.401316   \n",
       "\n",
       "             y3         p3          a3  \n",
       "num                                     \n",
       "10   304.882031  38.530215 -112.837116  \n",
       "11   305.382982  38.224093 -111.452036  \n",
       "12   304.380220  39.606543 -120.938830  \n",
       "13   303.824656  38.198769 -111.699800  \n",
       "14   303.829849  38.261706 -111.740596  "
      ]
     },
     "execution_count": 8,
     "metadata": {},
     "output_type": "execute_result"
    }
   ],
   "source": [
    "ct = ContourTracking(savepath=basefolder)  # no need to specify folders here\n",
    "data = ct.load()\n",
    "data.head()"
   ]
  },
  {
   "cell_type": "markdown",
   "metadata": {},
   "source": [
    "If one wants to use contour selection methods as above, one must first reload the contour selection using saved data:"
   ]
  },
  {
   "cell_type": "code",
   "execution_count": 9,
   "metadata": {},
   "outputs": [
    {
     "data": {
      "text/plain": [
       "{'position': {'contour 1': [241.32159816523225, 321.7370221595187],\n",
       "  'contour 2': [377.43310772427566, 341.9812976172301],\n",
       "  'contour 3': [416.98987039291785, 304.8820309993573]},\n",
       " 'level': 170,\n",
       " 'image': 10}"
      ]
     },
     "execution_count": 9,
     "metadata": {},
     "output_type": "execute_result"
    }
   ],
   "source": [
    "ct.contours.load()\n",
    "ct.contours.data"
   ]
  },
  {
   "cell_type": "markdown",
   "metadata": {},
   "source": [
    "If one wants to show the zones on actual images, one must either specify `paths` in the `glevels` instanciation above, or reload the file info using the command below (the image files must still be present in the same location. If not use `load_info` with a specific filename containing updated file location):"
   ]
  },
  {
   "cell_type": "code",
   "execution_count": 10,
   "metadata": {},
   "outputs": [],
   "source": [
    "ct.load_info()  # use default filename, or:\n",
    "ct.load_info('Img_Files_Saved.tsv')"
   ]
  },
  {
   "cell_type": "code",
   "execution_count": 7,
   "metadata": {},
   "outputs": [
    {
     "ename": "AttributeError",
     "evalue": "'AxesImage' object has no property 'num'",
     "output_type": "error",
     "traceback": [
      "\u001b[0;31m---------------------------------------------------------------------------\u001b[0m",
      "\u001b[0;31mAttributeError\u001b[0m                            Traceback (most recent call last)",
      "\u001b[0;32m/var/folders/jp/g4p0k5cd4rvf4qzkr3qd98nc0000gn/T/ipykernel_18718/1583682075.py\u001b[0m in \u001b[0;36m<module>\u001b[0;34m\u001b[0m\n\u001b[0;32m----> 1\u001b[0;31m \u001b[0mct\u001b[0m\u001b[0;34m.\u001b[0m\u001b[0mcontours\u001b[0m\u001b[0;34m.\u001b[0m\u001b[0mshow\u001b[0m\u001b[0;34m(\u001b[0m\u001b[0mnum\u001b[0m\u001b[0;34m=\u001b[0m\u001b[0;36m10\u001b[0m\u001b[0;34m)\u001b[0m  \u001b[0;31m# show zones on 10-th image\u001b[0m\u001b[0;34m\u001b[0m\u001b[0;34m\u001b[0m\u001b[0m\n\u001b[0m",
      "\u001b[0;32m~/Python-OV/imgseries/imgseries/image_parameters.py\u001b[0m in \u001b[0;36mshow\u001b[0;34m(self, **kwargs)\u001b[0m\n\u001b[1;32m    372\u001b[0m         \u001b[0;32mif\u001b[0m \u001b[0;34m'cmap'\u001b[0m \u001b[0;32mnot\u001b[0m \u001b[0;32min\u001b[0m \u001b[0mkwargs\u001b[0m \u001b[0;32mand\u001b[0m \u001b[0mimg\u001b[0m\u001b[0;34m.\u001b[0m\u001b[0mndim\u001b[0m \u001b[0;34m<\u001b[0m \u001b[0;36m3\u001b[0m\u001b[0;34m:\u001b[0m\u001b[0;34m\u001b[0m\u001b[0;34m\u001b[0m\u001b[0m\n\u001b[1;32m    373\u001b[0m             \u001b[0mkwargs\u001b[0m\u001b[0;34m[\u001b[0m\u001b[0;34m'cmap'\u001b[0m\u001b[0;34m]\u001b[0m \u001b[0;34m=\u001b[0m \u001b[0;34m'gray'\u001b[0m\u001b[0;34m\u001b[0m\u001b[0;34m\u001b[0m\u001b[0m\n\u001b[0;32m--> 374\u001b[0;31m         \u001b[0max\u001b[0m\u001b[0;34m.\u001b[0m\u001b[0mimshow\u001b[0m\u001b[0;34m(\u001b[0m\u001b[0mimg\u001b[0m\u001b[0;34m,\u001b[0m \u001b[0;34m**\u001b[0m\u001b[0mkwargs\u001b[0m\u001b[0;34m)\u001b[0m\u001b[0;34m\u001b[0m\u001b[0;34m\u001b[0m\u001b[0m\n\u001b[0m\u001b[1;32m    375\u001b[0m \u001b[0;34m\u001b[0m\u001b[0m\n\u001b[1;32m    376\u001b[0m         \u001b[0;31m# Find contours closest to reference positions and plot them\u001b[0m\u001b[0;34m\u001b[0m\u001b[0;34m\u001b[0m\u001b[0m\n",
      "\u001b[0;32m~/opt/anaconda3/lib/python3.9/site-packages/matplotlib/__init__.py\u001b[0m in \u001b[0;36minner\u001b[0;34m(ax, data, *args, **kwargs)\u001b[0m\n\u001b[1;32m   1359\u001b[0m     \u001b[0;32mdef\u001b[0m \u001b[0minner\u001b[0m\u001b[0;34m(\u001b[0m\u001b[0max\u001b[0m\u001b[0;34m,\u001b[0m \u001b[0;34m*\u001b[0m\u001b[0margs\u001b[0m\u001b[0;34m,\u001b[0m \u001b[0mdata\u001b[0m\u001b[0;34m=\u001b[0m\u001b[0;32mNone\u001b[0m\u001b[0;34m,\u001b[0m \u001b[0;34m**\u001b[0m\u001b[0mkwargs\u001b[0m\u001b[0;34m)\u001b[0m\u001b[0;34m:\u001b[0m\u001b[0;34m\u001b[0m\u001b[0;34m\u001b[0m\u001b[0m\n\u001b[1;32m   1360\u001b[0m         \u001b[0;32mif\u001b[0m \u001b[0mdata\u001b[0m \u001b[0;32mis\u001b[0m \u001b[0;32mNone\u001b[0m\u001b[0;34m:\u001b[0m\u001b[0;34m\u001b[0m\u001b[0;34m\u001b[0m\u001b[0m\n\u001b[0;32m-> 1361\u001b[0;31m             \u001b[0;32mreturn\u001b[0m \u001b[0mfunc\u001b[0m\u001b[0;34m(\u001b[0m\u001b[0max\u001b[0m\u001b[0;34m,\u001b[0m \u001b[0;34m*\u001b[0m\u001b[0mmap\u001b[0m\u001b[0;34m(\u001b[0m\u001b[0msanitize_sequence\u001b[0m\u001b[0;34m,\u001b[0m \u001b[0margs\u001b[0m\u001b[0;34m)\u001b[0m\u001b[0;34m,\u001b[0m \u001b[0;34m**\u001b[0m\u001b[0mkwargs\u001b[0m\u001b[0;34m)\u001b[0m\u001b[0;34m\u001b[0m\u001b[0;34m\u001b[0m\u001b[0m\n\u001b[0m\u001b[1;32m   1362\u001b[0m \u001b[0;34m\u001b[0m\u001b[0m\n\u001b[1;32m   1363\u001b[0m         \u001b[0mbound\u001b[0m \u001b[0;34m=\u001b[0m \u001b[0mnew_sig\u001b[0m\u001b[0;34m.\u001b[0m\u001b[0mbind\u001b[0m\u001b[0;34m(\u001b[0m\u001b[0max\u001b[0m\u001b[0;34m,\u001b[0m \u001b[0;34m*\u001b[0m\u001b[0margs\u001b[0m\u001b[0;34m,\u001b[0m \u001b[0;34m**\u001b[0m\u001b[0mkwargs\u001b[0m\u001b[0;34m)\u001b[0m\u001b[0;34m\u001b[0m\u001b[0;34m\u001b[0m\u001b[0m\n",
      "\u001b[0;32m~/opt/anaconda3/lib/python3.9/site-packages/matplotlib/axes/_axes.py\u001b[0m in \u001b[0;36mimshow\u001b[0;34m(self, X, cmap, norm, aspect, interpolation, alpha, vmin, vmax, origin, extent, filternorm, filterrad, resample, url, **kwargs)\u001b[0m\n\u001b[1;32m   5603\u001b[0m             \u001b[0maspect\u001b[0m \u001b[0;34m=\u001b[0m \u001b[0mrcParams\u001b[0m\u001b[0;34m[\u001b[0m\u001b[0;34m'image.aspect'\u001b[0m\u001b[0;34m]\u001b[0m\u001b[0;34m\u001b[0m\u001b[0;34m\u001b[0m\u001b[0m\n\u001b[1;32m   5604\u001b[0m         \u001b[0mself\u001b[0m\u001b[0;34m.\u001b[0m\u001b[0mset_aspect\u001b[0m\u001b[0;34m(\u001b[0m\u001b[0maspect\u001b[0m\u001b[0;34m)\u001b[0m\u001b[0;34m\u001b[0m\u001b[0;34m\u001b[0m\u001b[0m\n\u001b[0;32m-> 5605\u001b[0;31m         im = mimage.AxesImage(self, cmap, norm, interpolation, origin, extent,\n\u001b[0m\u001b[1;32m   5606\u001b[0m                               \u001b[0mfilternorm\u001b[0m\u001b[0;34m=\u001b[0m\u001b[0mfilternorm\u001b[0m\u001b[0;34m,\u001b[0m \u001b[0mfilterrad\u001b[0m\u001b[0;34m=\u001b[0m\u001b[0mfilterrad\u001b[0m\u001b[0;34m,\u001b[0m\u001b[0;34m\u001b[0m\u001b[0;34m\u001b[0m\u001b[0m\n\u001b[1;32m   5607\u001b[0m                               resample=resample, **kwargs)\n",
      "\u001b[0;32m~/opt/anaconda3/lib/python3.9/site-packages/matplotlib/image.py\u001b[0m in \u001b[0;36m__init__\u001b[0;34m(self, ax, cmap, norm, interpolation, origin, extent, filternorm, filterrad, resample, **kwargs)\u001b[0m\n\u001b[1;32m    898\u001b[0m         \u001b[0mself\u001b[0m\u001b[0;34m.\u001b[0m\u001b[0m_extent\u001b[0m \u001b[0;34m=\u001b[0m \u001b[0mextent\u001b[0m\u001b[0;34m\u001b[0m\u001b[0;34m\u001b[0m\u001b[0m\n\u001b[1;32m    899\u001b[0m \u001b[0;34m\u001b[0m\u001b[0m\n\u001b[0;32m--> 900\u001b[0;31m         super().__init__(\n\u001b[0m\u001b[1;32m    901\u001b[0m             \u001b[0max\u001b[0m\u001b[0;34m,\u001b[0m\u001b[0;34m\u001b[0m\u001b[0;34m\u001b[0m\u001b[0m\n\u001b[1;32m    902\u001b[0m             \u001b[0mcmap\u001b[0m\u001b[0;34m=\u001b[0m\u001b[0mcmap\u001b[0m\u001b[0;34m,\u001b[0m\u001b[0;34m\u001b[0m\u001b[0;34m\u001b[0m\u001b[0m\n",
      "\u001b[0;32m~/opt/anaconda3/lib/python3.9/site-packages/matplotlib/image.py\u001b[0m in \u001b[0;36m__init__\u001b[0;34m(self, ax, cmap, norm, interpolation, origin, filternorm, filterrad, resample, **kwargs)\u001b[0m\n\u001b[1;32m    255\u001b[0m         \u001b[0mself\u001b[0m\u001b[0;34m.\u001b[0m\u001b[0m_imcache\u001b[0m \u001b[0;34m=\u001b[0m \u001b[0;32mNone\u001b[0m\u001b[0;34m\u001b[0m\u001b[0;34m\u001b[0m\u001b[0m\n\u001b[1;32m    256\u001b[0m \u001b[0;34m\u001b[0m\u001b[0m\n\u001b[0;32m--> 257\u001b[0;31m         \u001b[0mself\u001b[0m\u001b[0;34m.\u001b[0m\u001b[0mupdate\u001b[0m\u001b[0;34m(\u001b[0m\u001b[0mkwargs\u001b[0m\u001b[0;34m)\u001b[0m\u001b[0;34m\u001b[0m\u001b[0;34m\u001b[0m\u001b[0m\n\u001b[0m\u001b[1;32m    258\u001b[0m \u001b[0;34m\u001b[0m\u001b[0m\n\u001b[1;32m    259\u001b[0m     \u001b[0;32mdef\u001b[0m \u001b[0m__getstate__\u001b[0m\u001b[0;34m(\u001b[0m\u001b[0mself\u001b[0m\u001b[0;34m)\u001b[0m\u001b[0;34m:\u001b[0m\u001b[0;34m\u001b[0m\u001b[0;34m\u001b[0m\u001b[0m\n",
      "\u001b[0;32m~/opt/anaconda3/lib/python3.9/site-packages/matplotlib/artist.py\u001b[0m in \u001b[0;36mupdate\u001b[0;34m(self, props)\u001b[0m\n\u001b[1;32m   1060\u001b[0m                     \u001b[0mfunc\u001b[0m \u001b[0;34m=\u001b[0m \u001b[0mgetattr\u001b[0m\u001b[0;34m(\u001b[0m\u001b[0mself\u001b[0m\u001b[0;34m,\u001b[0m \u001b[0;34mf\"set_{k}\"\u001b[0m\u001b[0;34m,\u001b[0m \u001b[0;32mNone\u001b[0m\u001b[0;34m)\u001b[0m\u001b[0;34m\u001b[0m\u001b[0;34m\u001b[0m\u001b[0m\n\u001b[1;32m   1061\u001b[0m                     \u001b[0;32mif\u001b[0m \u001b[0;32mnot\u001b[0m \u001b[0mcallable\u001b[0m\u001b[0;34m(\u001b[0m\u001b[0mfunc\u001b[0m\u001b[0;34m)\u001b[0m\u001b[0;34m:\u001b[0m\u001b[0;34m\u001b[0m\u001b[0;34m\u001b[0m\u001b[0m\n\u001b[0;32m-> 1062\u001b[0;31m                         raise AttributeError(f\"{type(self).__name__!r} object \"\n\u001b[0m\u001b[1;32m   1063\u001b[0m                                              f\"has no property {k!r}\")\n\u001b[1;32m   1064\u001b[0m                     \u001b[0mret\u001b[0m\u001b[0;34m.\u001b[0m\u001b[0mappend\u001b[0m\u001b[0;34m(\u001b[0m\u001b[0mfunc\u001b[0m\u001b[0;34m(\u001b[0m\u001b[0mv\u001b[0m\u001b[0;34m)\u001b[0m\u001b[0;34m)\u001b[0m\u001b[0;34m\u001b[0m\u001b[0;34m\u001b[0m\u001b[0m\n",
      "\u001b[0;31mAttributeError\u001b[0m: 'AxesImage' object has no property 'num'"
     ]
    }
   ],
   "source": [
    "ct.contours.show(num=10)  # show zones on 10-th image"
   ]
  },
  {
   "cell_type": "markdown",
   "metadata": {},
   "source": [
    "# Analyze only subset of images"
   ]
  },
  {
   "cell_type": "markdown",
   "metadata": {},
   "source": [
    "See **Examples_GreyLevels.ipynb**, and replace:\n",
    "- `GreyLevel` →  `ContourTracking`\n",
    "- `zones` →  `contours`"
   ]
  },
  {
   "cell_type": "markdown",
   "metadata": {},
   "source": [
    "# Manage image time information"
   ]
  },
  {
   "cell_type": "markdown",
   "metadata": {},
   "source": [
    "See **Examples_GreyLevels.ipynb**, and replace `GreyLevel` with `ContourTracking` (or `ImgSeries`)"
   ]
  },
  {
   "cell_type": "markdown",
   "metadata": {},
   "source": [
    "# Load / save with custom filenames"
   ]
  },
  {
   "cell_type": "markdown",
   "metadata": {},
   "source": [
    "See **Examples_GreyLevels.ipynb**, and replace `GreyLevel` with  `ContourTracking`"
   ]
  },
  {
   "cell_type": "markdown",
   "metadata": {},
   "source": [
    "# Access individual images"
   ]
  },
  {
   "cell_type": "markdown",
   "metadata": {},
   "source": [
    "See **Examples_GreyLevels.ipynb**, and replace `GreyLevel` with `ContourTracking` (or `ImgSeries`)"
   ]
  },
  {
   "cell_type": "code",
   "execution_count": null,
   "metadata": {},
   "outputs": [],
   "source": []
  }
 ],
 "metadata": {
  "kernelspec": {
   "display_name": "Python 3 (ipykernel)",
   "language": "python",
   "name": "python3"
  },
  "language_info": {
   "codemirror_mode": {
    "name": "ipython",
    "version": 3
   },
   "file_extension": ".py",
   "mimetype": "text/x-python",
   "name": "python",
   "nbconvert_exporter": "python",
   "pygments_lexer": "ipython3",
   "version": "3.9.7"
  }
 },
 "nbformat": 4,
 "nbformat_minor": 4
}

{
 "cells": [
  {
   "cell_type": "code",
   "execution_count": 1,
   "metadata": {},
   "outputs": [],
   "source": [
    "# change to `%matplotlib qt5` for interactive methods\n",
    "%matplotlib qt5\n",
    "\n",
    "from imgseries import ImgSeries, ContourTracking, ContourTrackingResults"
   ]
  },
  {
   "cell_type": "markdown",
   "metadata": {},
   "source": [
    "# Define image series to work on"
   ]
  },
  {
   "cell_type": "code",
   "execution_count": 2,
   "metadata": {},
   "outputs": [],
   "source": [
    "basefolder = Path('data')\n",
    "folders = [basefolder / folder for folder in ('img1', 'img2')]\n",
    "images = ImgSeries(folders, savepath=basefolder)"
   ]
  },
  {
   "cell_type": "markdown",
   "metadata": {},
   "source": [
    "# Minimal analysis"
   ]
  },
  {
   "cell_type": "code",
   "execution_count": 3,
   "metadata": {},
   "outputs": [],
   "source": [
    "ct = ContourTracking(images)"
   ]
  },
  {
   "cell_type": "markdown",
   "metadata": {},
   "source": [
    "The line below assumes that contours to follow have already been defined and saved in the metadata file (see details further below)"
   ]
  },
  {
   "cell_type": "code",
   "execution_count": 4,
   "metadata": {},
   "outputs": [],
   "source": [
    "ct.regenerate()"
   ]
  },
  {
   "cell_type": "code",
   "execution_count": 5,
   "metadata": {},
   "outputs": [
    {
     "data": {
      "text/plain": [
       "<AxesSubplot: title={'center': 'img #10, grey level 170'}>"
      ]
     },
     "execution_count": 5,
     "metadata": {},
     "output_type": "execute_result"
    }
   ],
   "source": [
    "ct.contours.show()"
   ]
  },
  {
   "cell_type": "markdown",
   "metadata": {},
   "source": [
    "Now, run analysis on these zones."
   ]
  },
  {
   "cell_type": "code",
   "execution_count": 7,
   "metadata": {},
   "outputs": [
    {
     "name": "stderr",
     "output_type": "stream",
     "text": [
      "100%|█████████████████████████████████████████████████████████████████████████████████| 50/50 [00:00<00:00, 61.15it/s]\n"
     ]
    }
   ],
   "source": [
    "ct.run()"
   ]
  },
  {
   "cell_type": "markdown",
   "metadata": {},
   "source": [
    "Results are stored in the `results.data` attribute, which is a pandas DataFrame (times are automatically extracted from image creation date, but can be modified, see further below)). `x, y` represent position, `p` perimeter and `a` signed area (see **imgbasics** package)\n",
    "\n",
    "*Note*: if contour detection fails at some point, `data` will contain `NaN` (`numpy.nan`) at the corresponding locations.\n",
    "\n",
    "*Note*: by default, the full coordinates of the contours are also stored in `results.raw_contour_data`. If this is too heavey, `ContourTracking` can be instanciated with the option `save_raw_contours=False`"
   ]
  },
  {
   "cell_type": "code",
   "execution_count": 8,
   "metadata": {},
   "outputs": [
    {
     "data": {
      "text/html": [
       "<div>\n",
       "<style scoped>\n",
       "    .dataframe tbody tr th:only-of-type {\n",
       "        vertical-align: middle;\n",
       "    }\n",
       "\n",
       "    .dataframe tbody tr th {\n",
       "        vertical-align: top;\n",
       "    }\n",
       "\n",
       "    .dataframe thead th {\n",
       "        text-align: right;\n",
       "    }\n",
       "</style>\n",
       "<table border=\"1\" class=\"dataframe\">\n",
       "  <thead>\n",
       "    <tr style=\"text-align: right;\">\n",
       "      <th></th>\n",
       "      <th>folder</th>\n",
       "      <th>filename</th>\n",
       "      <th>time (unix)</th>\n",
       "      <th>x1</th>\n",
       "      <th>y1</th>\n",
       "      <th>p1</th>\n",
       "      <th>a1</th>\n",
       "      <th>x2</th>\n",
       "      <th>y2</th>\n",
       "      <th>p2</th>\n",
       "      <th>a2</th>\n",
       "      <th>x3</th>\n",
       "      <th>y3</th>\n",
       "      <th>p3</th>\n",
       "      <th>a3</th>\n",
       "    </tr>\n",
       "    <tr>\n",
       "      <th>num</th>\n",
       "      <th></th>\n",
       "      <th></th>\n",
       "      <th></th>\n",
       "      <th></th>\n",
       "      <th></th>\n",
       "      <th></th>\n",
       "      <th></th>\n",
       "      <th></th>\n",
       "      <th></th>\n",
       "      <th></th>\n",
       "      <th></th>\n",
       "      <th></th>\n",
       "      <th></th>\n",
       "      <th></th>\n",
       "      <th></th>\n",
       "    </tr>\n",
       "  </thead>\n",
       "  <tbody>\n",
       "    <tr>\n",
       "      <th>0</th>\n",
       "      <td>img1</td>\n",
       "      <td>img-00610.png</td>\n",
       "      <td>1.599832e+09</td>\n",
       "      <td>315.928971</td>\n",
       "      <td>368.440615</td>\n",
       "      <td>53.6358</td>\n",
       "      <td>-221.358537</td>\n",
       "      <td>421.038813</td>\n",
       "      <td>306.105521</td>\n",
       "      <td>38.678836</td>\n",
       "      <td>-115.161729</td>\n",
       "      <td>386.735104</td>\n",
       "      <td>349.568814</td>\n",
       "      <td>49.03888</td>\n",
       "      <td>-185.941675</td>\n",
       "    </tr>\n",
       "    <tr>\n",
       "      <th>1</th>\n",
       "      <td>img1</td>\n",
       "      <td>img-00611.png</td>\n",
       "      <td>1.599832e+09</td>\n",
       "      <td>315.896211</td>\n",
       "      <td>368.169124</td>\n",
       "      <td>53.660836</td>\n",
       "      <td>-221.577125</td>\n",
       "      <td>420.704398</td>\n",
       "      <td>305.9656</td>\n",
       "      <td>38.668941</td>\n",
       "      <td>-114.874203</td>\n",
       "      <td>386.513469</td>\n",
       "      <td>349.338689</td>\n",
       "      <td>48.802118</td>\n",
       "      <td>-184.610043</td>\n",
       "    </tr>\n",
       "    <tr>\n",
       "      <th>2</th>\n",
       "      <td>img1</td>\n",
       "      <td>img-00612.png</td>\n",
       "      <td>1.599832e+09</td>\n",
       "      <td>315.814959</td>\n",
       "      <td>368.022253</td>\n",
       "      <td>53.536133</td>\n",
       "      <td>-220.643384</td>\n",
       "      <td>420.364499</td>\n",
       "      <td>305.93741</td>\n",
       "      <td>38.620958</td>\n",
       "      <td>-114.408979</td>\n",
       "      <td>386.271897</td>\n",
       "      <td>349.213923</td>\n",
       "      <td>48.664648</td>\n",
       "      <td>-183.858767</td>\n",
       "    </tr>\n",
       "    <tr>\n",
       "      <th>3</th>\n",
       "      <td>img1</td>\n",
       "      <td>img-00613.png</td>\n",
       "      <td>1.599832e+09</td>\n",
       "      <td>315.72118</td>\n",
       "      <td>367.772809</td>\n",
       "      <td>53.501544</td>\n",
       "      <td>-219.98769</td>\n",
       "      <td>419.980109</td>\n",
       "      <td>305.837831</td>\n",
       "      <td>38.43881</td>\n",
       "      <td>-113.479844</td>\n",
       "      <td>386.022625</td>\n",
       "      <td>349.011256</td>\n",
       "      <td>48.54708</td>\n",
       "      <td>-182.229981</td>\n",
       "    </tr>\n",
       "    <tr>\n",
       "      <th>4</th>\n",
       "      <td>img1</td>\n",
       "      <td>img-00614.png</td>\n",
       "      <td>1.599832e+09</td>\n",
       "      <td>315.650098</td>\n",
       "      <td>367.566705</td>\n",
       "      <td>53.337046</td>\n",
       "      <td>-219.301255</td>\n",
       "      <td>419.641802</td>\n",
       "      <td>305.74682</td>\n",
       "      <td>38.381266</td>\n",
       "      <td>-113.082108</td>\n",
       "      <td>385.769535</td>\n",
       "      <td>348.82847</td>\n",
       "      <td>48.519166</td>\n",
       "      <td>-181.226358</td>\n",
       "    </tr>\n",
       "  </tbody>\n",
       "</table>\n",
       "</div>"
      ],
      "text/plain": [
       "    folder       filename   time (unix)          x1          y1         p1  \\\n",
       "num                                                                          \n",
       "0     img1  img-00610.png  1.599832e+09  315.928971  368.440615    53.6358   \n",
       "1     img1  img-00611.png  1.599832e+09  315.896211  368.169124  53.660836   \n",
       "2     img1  img-00612.png  1.599832e+09  315.814959  368.022253  53.536133   \n",
       "3     img1  img-00613.png  1.599832e+09   315.72118  367.772809  53.501544   \n",
       "4     img1  img-00614.png  1.599832e+09  315.650098  367.566705  53.337046   \n",
       "\n",
       "             a1          x2          y2         p2          a2          x3  \\\n",
       "num                                                                          \n",
       "0   -221.358537  421.038813  306.105521  38.678836 -115.161729  386.735104   \n",
       "1   -221.577125  420.704398    305.9656  38.668941 -114.874203  386.513469   \n",
       "2   -220.643384  420.364499   305.93741  38.620958 -114.408979  386.271897   \n",
       "3    -219.98769  419.980109  305.837831   38.43881 -113.479844  386.022625   \n",
       "4   -219.301255  419.641802   305.74682  38.381266 -113.082108  385.769535   \n",
       "\n",
       "             y3         p3          a3  \n",
       "num                                     \n",
       "0    349.568814   49.03888 -185.941675  \n",
       "1    349.338689  48.802118 -184.610043  \n",
       "2    349.213923  48.664648 -183.858767  \n",
       "3    349.011256   48.54708 -182.229981  \n",
       "4     348.82847  48.519166 -181.226358  "
      ]
     },
     "execution_count": 8,
     "metadata": {},
     "output_type": "execute_result"
    }
   ],
   "source": [
    "ct.results.data.head()"
   ]
  },
  {
   "cell_type": "code",
   "execution_count": 9,
   "metadata": {},
   "outputs": [
    {
     "data": {
      "text/plain": [
       "[374.1764705882353,\n",
       " 374.42028985507244,\n",
       " 374.65,\n",
       " 374.62264150943395,\n",
       " 374.6896551724138,\n",
       " 374.728813559322,\n",
       " 374.59322033898303,\n",
       " 374.375,\n",
       " 374.0,\n",
       " 373.9375]"
      ]
     },
     "execution_count": 9,
     "metadata": {},
     "output_type": "execute_result"
    }
   ],
   "source": [
    "ct.results.raw_contour_data['1']['10']['y'][:10]"
   ]
  },
  {
   "cell_type": "code",
   "execution_count": null,
   "metadata": {},
   "outputs": [],
   "source": [
    "ct.inspect(skip=3)"
   ]
  },
  {
   "cell_type": "code",
   "execution_count": 7,
   "metadata": {},
   "outputs": [
    {
     "data": {
      "text/plain": [
       "<matplotlib.animation.FuncAnimation at 0x155e4f12510>"
      ]
     },
     "execution_count": 7,
     "metadata": {},
     "output_type": "execute_result"
    }
   ],
   "source": [
    "ct.animate(start=10, end=30)"
   ]
  },
  {
   "cell_type": "markdown",
   "metadata": {},
   "source": [
    "Plot perimeters of all detected particles (contours) as a function of time:"
   ]
  },
  {
   "cell_type": "code",
   "execution_count": 11,
   "metadata": {},
   "outputs": [
    {
     "data": {
      "text/plain": [
       "<AxesSubplot: xlabel='time (unix)'>"
      ]
     },
     "execution_count": 11,
     "metadata": {},
     "output_type": "execute_result"
    },
    {
     "data": {
      "image/png": "[encoded data removed]",
      "text/plain": [
       "<Figure size 640x480 with 1 Axes>"
      ]
     },
     "metadata": {},
     "output_type": "display_data"
    }
   ],
   "source": [
    "ct.results.data.set_index('time (unix)').filter(like='p').plot()"
   ]
  },
  {
   "cell_type": "markdown",
   "metadata": {},
   "source": [
    "Save data in a tsv (tab-separated value) file, using default filename (filename can be set as a parameter if necessary, see further below). Metadata including contour info, path info, and code version info is also saved in a .json file at the same time. Full (raw) contour data is also saved if required.\n",
    "\n",
    "Before saving, make sure the timing info is correct for all images. If not, correct timing info, re-run the analysis, and call `results.save()`."
   ]
  },
  {
   "cell_type": "code",
   "execution_count": 12,
   "metadata": {},
   "outputs": [
    {
     "name": "stdout",
     "output_type": "stream",
     "text": [
      "\n",
      "Warning: These modules have dirty git repositories: imgseries\n",
      "\n",
      "\n",
      "Warning: these modules are missing a tag: imgseries\n",
      "\n",
      "\n",
      "Warning: these modules are not in a git repository: skimage, filo, matplotlib, numpy\n",
      "\n"
     ]
    }
   ],
   "source": [
    "ct.results.save()"
   ]
  },
  {
   "cell_type": "markdown",
   "metadata": {},
   "source": [
    "# Live view of analysis"
   ]
  },
  {
   "cell_type": "code",
   "execution_count": 15,
   "metadata": {},
   "outputs": [],
   "source": [
    "ct.run(end=30, live=True)"
   ]
  },
  {
   "cell_type": "markdown",
   "metadata": {},
   "source": [
    "It is possible that the live animation is non blocking and thus that data is not saved correctly (saving is done at the beginning of the animation and thus data is empty). If this happens, best is probably to re-run the analysis with live=False.\n",
    "\n",
    "Check that data is empty:"
   ]
  },
  {
   "cell_type": "code",
   "execution_count": 16,
   "metadata": {},
   "outputs": [
    {
     "data": {
      "text/plain": [
       "<AxesSubplot:xlabel='time (unix)'>"
      ]
     },
     "execution_count": 16,
     "metadata": {},
     "output_type": "execute_result"
    }
   ],
   "source": [
    "ct.results.data.set_index('time (unix)').filter(like='p').plot()"
   ]
  },
  {
   "cell_type": "markdown",
   "metadata": {},
   "source": [
    "# Defining and viewing contours"
   ]
  },
  {
   "cell_type": "markdown",
   "metadata": {},
   "source": [
    "Defining contours has to be done at least once.\n",
    "\n",
    "**Important**: Matplotlib must be in an interactive mode to do so.\n",
    "\n",
    "Defining does not need to be done again in the following situations:\n",
    "- calling methods again from the same `ct` object, e.g. `ct.run()`\n",
    "- calling `ct.contours.load()` or `ct.regenerate()` to load contours data from saved metadata (.json) file."
   ]
  },
  {
   "cell_type": "code",
   "execution_count": 18,
   "metadata": {},
   "outputs": [
    {
     "data": {
      "text/plain": [
       "<matplotlib.widgets.Slider at 0x14bef8f7310>"
      ]
     },
     "execution_count": 18,
     "metadata": {},
     "output_type": "execute_result"
    }
   ],
   "source": [
    "images.filter.define()  # optional, smoothing of image\n",
    "# (or images.filter.type = 'gaussian', images.filter.size = 2.2)"
   ]
  },
  {
   "cell_type": "code",
   "execution_count": 19,
   "metadata": {},
   "outputs": [
    {
     "data": {
      "text/plain": [
       "<matplotlib.widgets.Slider at 0x14bf1cce890>"
      ]
     },
     "execution_count": 19,
     "metadata": {},
     "output_type": "execute_result"
    }
   ],
   "source": [
    "ct.threshold.define()"
   ]
  },
  {
   "cell_type": "code",
   "execution_count": 9,
   "metadata": {},
   "outputs": [
    {
     "name": "stdout",
     "output_type": "stream",
     "text": [
      "Filter object {'type': 'gaussian', 'size': 3.1}\n",
      "Threshold object {'value': 158}\n"
     ]
    }
   ],
   "source": [
    "print(images.filter)\n",
    "print(ct.threshold)"
   ]
  },
  {
   "cell_type": "code",
   "execution_count": 10,
   "metadata": {},
   "outputs": [],
   "source": [
    "ct.contours.define()  # define one contour on the first image of the series"
   ]
  },
  {
   "cell_type": "code",
   "execution_count": 11,
   "metadata": {},
   "outputs": [],
   "source": [
    "ct.contours.define(n=3)  # define 3 contours on the first image of the series"
   ]
  },
  {
   "cell_type": "code",
   "execution_count": 12,
   "metadata": {},
   "outputs": [],
   "source": [
    "ct.contours.define(3, num=10)  # define 3 contours at level 170 on image #10 in the series"
   ]
  },
  {
   "cell_type": "markdown",
   "metadata": {},
   "source": [
    "Viewing analysis zones after defining or loading them:"
   ]
  },
  {
   "cell_type": "code",
   "execution_count": 13,
   "metadata": {},
   "outputs": [
    {
     "data": {
      "text/plain": [
       "{'position': {'contour 1': (306.41331378617514, 350.03551955924377),\n",
       "  'contour 2': (377.61132139817175, 342.10466783196057),\n",
       "  'contour 3': (416.90112097408644, 305.0546047438016)},\n",
       " 'level': 158,\n",
       " 'image': 10}"
      ]
     },
     "execution_count": 13,
     "metadata": {},
     "output_type": "execute_result"
    }
   ],
   "source": [
    "ct.contours.data"
   ]
  },
  {
   "cell_type": "code",
   "execution_count": 7,
   "metadata": {},
   "outputs": [
    {
     "data": {
      "image/png": "[encoded data removed]",
      "text/plain": [
       "<Figure size 432x288 with 1 Axes>"
      ]
     },
     "metadata": {
      "needs_background": "light"
     },
     "output_type": "display_data"
    },
    {
     "data": {
      "text/plain": [
       "<AxesSubplot:title={'center':'img #10, grey level 170'}>"
      ]
     },
     "execution_count": 7,
     "metadata": {},
     "output_type": "execute_result"
    }
   ],
   "source": [
    "ct.contours.show()  # show contours on the image they have been defined on"
   ]
  },
  {
   "cell_type": "markdown",
   "metadata": {},
   "source": [
    "**Note**: At the moment, saving contours selection data is done by calling `ct.save()`, which saves both data and metadata. Be careful because calling `ct.save()` also overwrites saved analysis data (potentially with no data if no analysis has been run yet). This makes sure that metadata in .json files actually corresponds to the data in the .tsv file."
   ]
  },
  {
   "cell_type": "markdown",
   "metadata": {},
   "source": [
    "# Load analysis data a posteriori"
   ]
  },
  {
   "cell_type": "markdown",
   "metadata": {},
   "source": [
    "## Load results without images"
   ]
  },
  {
   "cell_type": "code",
   "execution_count": 20,
   "metadata": {},
   "outputs": [],
   "source": [
    "results = ContourTrackingResults(savepath=basefolder)"
   ]
  },
  {
   "cell_type": "code",
   "execution_count": 21,
   "metadata": {},
   "outputs": [
    {
     "data": {
      "text/html": [
       "<div>\n",
       "<style scoped>\n",
       "    .dataframe tbody tr th:only-of-type {\n",
       "        vertical-align: middle;\n",
       "    }\n",
       "\n",
       "    .dataframe tbody tr th {\n",
       "        vertical-align: top;\n",
       "    }\n",
       "\n",
       "    .dataframe thead th {\n",
       "        text-align: right;\n",
       "    }\n",
       "</style>\n",
       "<table border=\"1\" class=\"dataframe\">\n",
       "  <thead>\n",
       "    <tr style=\"text-align: right;\">\n",
       "      <th></th>\n",
       "      <th>folder</th>\n",
       "      <th>filename</th>\n",
       "      <th>time (unix)</th>\n",
       "      <th>x1</th>\n",
       "      <th>y1</th>\n",
       "      <th>p1</th>\n",
       "      <th>a1</th>\n",
       "      <th>x2</th>\n",
       "      <th>y2</th>\n",
       "      <th>p2</th>\n",
       "      <th>a2</th>\n",
       "      <th>x3</th>\n",
       "      <th>y3</th>\n",
       "      <th>p3</th>\n",
       "      <th>a3</th>\n",
       "    </tr>\n",
       "    <tr>\n",
       "      <th>num</th>\n",
       "      <th></th>\n",
       "      <th></th>\n",
       "      <th></th>\n",
       "      <th></th>\n",
       "      <th></th>\n",
       "      <th></th>\n",
       "      <th></th>\n",
       "      <th></th>\n",
       "      <th></th>\n",
       "      <th></th>\n",
       "      <th></th>\n",
       "      <th></th>\n",
       "      <th></th>\n",
       "      <th></th>\n",
       "      <th></th>\n",
       "    </tr>\n",
       "  </thead>\n",
       "  <tbody>\n",
       "    <tr>\n",
       "      <th>0</th>\n",
       "      <td>img1</td>\n",
       "      <td>img-00610.png</td>\n",
       "      <td>1.599832e+09</td>\n",
       "      <td>315.928971</td>\n",
       "      <td>368.440615</td>\n",
       "      <td>53.635800</td>\n",
       "      <td>-221.358537</td>\n",
       "      <td>421.038813</td>\n",
       "      <td>306.105521</td>\n",
       "      <td>38.678836</td>\n",
       "      <td>-115.161729</td>\n",
       "      <td>386.735104</td>\n",
       "      <td>349.568814</td>\n",
       "      <td>49.038880</td>\n",
       "      <td>-185.941675</td>\n",
       "    </tr>\n",
       "    <tr>\n",
       "      <th>1</th>\n",
       "      <td>img1</td>\n",
       "      <td>img-00611.png</td>\n",
       "      <td>1.599832e+09</td>\n",
       "      <td>315.896211</td>\n",
       "      <td>368.169124</td>\n",
       "      <td>53.660836</td>\n",
       "      <td>-221.577125</td>\n",
       "      <td>420.704398</td>\n",
       "      <td>305.965600</td>\n",
       "      <td>38.668941</td>\n",
       "      <td>-114.874203</td>\n",
       "      <td>386.513469</td>\n",
       "      <td>349.338689</td>\n",
       "      <td>48.802118</td>\n",
       "      <td>-184.610043</td>\n",
       "    </tr>\n",
       "    <tr>\n",
       "      <th>2</th>\n",
       "      <td>img1</td>\n",
       "      <td>img-00612.png</td>\n",
       "      <td>1.599832e+09</td>\n",
       "      <td>315.814959</td>\n",
       "      <td>368.022253</td>\n",
       "      <td>53.536133</td>\n",
       "      <td>-220.643384</td>\n",
       "      <td>420.364499</td>\n",
       "      <td>305.937410</td>\n",
       "      <td>38.620958</td>\n",
       "      <td>-114.408979</td>\n",
       "      <td>386.271897</td>\n",
       "      <td>349.213923</td>\n",
       "      <td>48.664648</td>\n",
       "      <td>-183.858767</td>\n",
       "    </tr>\n",
       "    <tr>\n",
       "      <th>3</th>\n",
       "      <td>img1</td>\n",
       "      <td>img-00613.png</td>\n",
       "      <td>1.599832e+09</td>\n",
       "      <td>315.721180</td>\n",
       "      <td>367.772809</td>\n",
       "      <td>53.501544</td>\n",
       "      <td>-219.987690</td>\n",
       "      <td>419.980109</td>\n",
       "      <td>305.837831</td>\n",
       "      <td>38.438810</td>\n",
       "      <td>-113.479844</td>\n",
       "      <td>386.022625</td>\n",
       "      <td>349.011256</td>\n",
       "      <td>48.547080</td>\n",
       "      <td>-182.229981</td>\n",
       "    </tr>\n",
       "    <tr>\n",
       "      <th>4</th>\n",
       "      <td>img1</td>\n",
       "      <td>img-00614.png</td>\n",
       "      <td>1.599832e+09</td>\n",
       "      <td>315.650098</td>\n",
       "      <td>367.566705</td>\n",
       "      <td>53.337046</td>\n",
       "      <td>-219.301255</td>\n",
       "      <td>419.641802</td>\n",
       "      <td>305.746820</td>\n",
       "      <td>38.381266</td>\n",
       "      <td>-113.082108</td>\n",
       "      <td>385.769535</td>\n",
       "      <td>348.828470</td>\n",
       "      <td>48.519166</td>\n",
       "      <td>-181.226358</td>\n",
       "    </tr>\n",
       "  </tbody>\n",
       "</table>\n",
       "</div>"
      ],
      "text/plain": [
       "    folder       filename   time (unix)          x1          y1         p1  \\\n",
       "num                                                                          \n",
       "0     img1  img-00610.png  1.599832e+09  315.928971  368.440615  53.635800   \n",
       "1     img1  img-00611.png  1.599832e+09  315.896211  368.169124  53.660836   \n",
       "2     img1  img-00612.png  1.599832e+09  315.814959  368.022253  53.536133   \n",
       "3     img1  img-00613.png  1.599832e+09  315.721180  367.772809  53.501544   \n",
       "4     img1  img-00614.png  1.599832e+09  315.650098  367.566705  53.337046   \n",
       "\n",
       "             a1          x2          y2         p2          a2          x3  \\\n",
       "num                                                                          \n",
       "0   -221.358537  421.038813  306.105521  38.678836 -115.161729  386.735104   \n",
       "1   -221.577125  420.704398  305.965600  38.668941 -114.874203  386.513469   \n",
       "2   -220.643384  420.364499  305.937410  38.620958 -114.408979  386.271897   \n",
       "3   -219.987690  419.980109  305.837831  38.438810 -113.479844  386.022625   \n",
       "4   -219.301255  419.641802  305.746820  38.381266 -113.082108  385.769535   \n",
       "\n",
       "             y3         p3          a3  \n",
       "num                                     \n",
       "0    349.568814  49.038880 -185.941675  \n",
       "1    349.338689  48.802118 -184.610043  \n",
       "2    349.213923  48.664648 -183.858767  \n",
       "3    349.011256  48.547080 -182.229981  \n",
       "4    348.828470  48.519166 -181.226358  "
      ]
     },
     "execution_count": 21,
     "metadata": {},
     "output_type": "execute_result"
    }
   ],
   "source": [
    "results.load()\n",
    "results.data.head()"
   ]
  },
  {
   "cell_type": "code",
   "execution_count": 22,
   "metadata": {},
   "outputs": [
    {
     "data": {
      "text/plain": [
       "{'path': 'C:\\\\Users\\\\olivier.vincent\\\\Python-OV\\\\imgseries\\\\data',\n",
       " 'folders': ['img1', 'img2'],\n",
       " 'contours': {'position': {'contour 1': [316.21010649895425,\n",
       "    367.2207769295529],\n",
       "   'contour 2': [418.86376471987666, 306.00822566551506],\n",
       "   'contour 3': [385.30831670041636, 348.5995433315813]},\n",
       "  'level': 170,\n",
       "  'image': 10},\n",
       " 'rotation': {'angle': 8.595911436920964},\n",
       " 'crop': {'zone': [39, 24, 625, 572]},\n",
       " 'time (utc)': '2023-01-30 18:47:39',\n",
       " 'code version': {'skimage': {'status': 'not a git repository',\n",
       "   'tag': 'v0.17.2'},\n",
       "  'imgseries': {'hash': 'e30097a0afdf2d7d20fd8f060a1e5a5d107b0bd3',\n",
       "   'status': 'dirty',\n",
       "   'tag': 'v0.4.0'},\n",
       "  'imgbasics': {'hash': '3f468b4021be56679a448bea57a229fc34c6721d',\n",
       "   'status': 'clean',\n",
       "   'tag': 'v0.3.0'},\n",
       "  'filo': {'hash': '150574b5ae82c74d0c500b3fdb494e8f9c7631f7',\n",
       "   'status': 'clean',\n",
       "   'tag': 'v1.1.5'},\n",
       "  'matplotlib': {'status': 'not a git repository', 'tag': 'v3.3.2'},\n",
       "  'numpy': {'status': 'not a git repository', 'tag': 'v1.19.2'}}}"
      ]
     },
     "execution_count": 22,
     "metadata": {},
     "output_type": "execute_result"
    }
   ],
   "source": [
    "results.metadata"
   ]
  },
  {
   "cell_type": "code",
   "execution_count": 23,
   "metadata": {},
   "outputs": [
    {
     "data": {
      "text/plain": [
       "[418.0,\n",
       " 417.57142857142856,\n",
       " 417.0,\n",
       " 416.0,\n",
       " 415.0,\n",
       " 414.5925925925926,\n",
       " 414.0,\n",
       " 413.7105263157895,\n",
       " 413.2375,\n",
       " 413.0]"
      ]
     },
     "execution_count": 23,
     "metadata": {},
     "output_type": "execute_result"
    }
   ],
   "source": [
    "results.raw_contour_data['2']['33']['x'][:10]"
   ]
  },
  {
   "cell_type": "markdown",
   "metadata": {},
   "source": [
    "## Connect results to image series (e.g. for inspection/visualization)"
   ]
  },
  {
   "cell_type": "code",
   "execution_count": 8,
   "metadata": {},
   "outputs": [],
   "source": [
    "images = ImgSeries(folders, savepath=basefolder)\n",
    "ct = ContourTracking(images)\n",
    "ct.regenerate()"
   ]
  },
  {
   "cell_type": "code",
   "execution_count": 9,
   "metadata": {},
   "outputs": [
    {
     "name": "stdout",
     "output_type": "stream",
     "text": [
      "Image Crop ------------------------- [39, 24, 625, 572]\n",
      "Image Crop (same as above) --------- [39, 24, 625, 572]\n",
      "\n",
      "Image Rotation --------------------- {'angle': 8.595911436920964}\n",
      "Image Rotation (same as above) ----- {'angle': 8.595911436920964}\n",
      "\n",
      "Contour position ------------------- [418.86376471987666, 306.00822566551506]\n",
      "Contour position (same as above) --- [418.86376471987666, 306.00822566551506]\n"
     ]
    },
    {
     "data": {
      "text/html": [
       "<div>\n",
       "<style scoped>\n",
       "    .dataframe tbody tr th:only-of-type {\n",
       "        vertical-align: middle;\n",
       "    }\n",
       "\n",
       "    .dataframe tbody tr th {\n",
       "        vertical-align: top;\n",
       "    }\n",
       "\n",
       "    .dataframe thead th {\n",
       "        text-align: right;\n",
       "    }\n",
       "</style>\n",
       "<table border=\"1\" class=\"dataframe\">\n",
       "  <thead>\n",
       "    <tr style=\"text-align: right;\">\n",
       "      <th></th>\n",
       "      <th>folder</th>\n",
       "      <th>filename</th>\n",
       "      <th>time (unix)</th>\n",
       "      <th>x1</th>\n",
       "      <th>y1</th>\n",
       "      <th>p1</th>\n",
       "      <th>a1</th>\n",
       "      <th>x2</th>\n",
       "      <th>y2</th>\n",
       "      <th>p2</th>\n",
       "      <th>a2</th>\n",
       "      <th>x3</th>\n",
       "      <th>y3</th>\n",
       "      <th>p3</th>\n",
       "      <th>a3</th>\n",
       "    </tr>\n",
       "    <tr>\n",
       "      <th>num</th>\n",
       "      <th></th>\n",
       "      <th></th>\n",
       "      <th></th>\n",
       "      <th></th>\n",
       "      <th></th>\n",
       "      <th></th>\n",
       "      <th></th>\n",
       "      <th></th>\n",
       "      <th></th>\n",
       "      <th></th>\n",
       "      <th></th>\n",
       "      <th></th>\n",
       "      <th></th>\n",
       "      <th></th>\n",
       "      <th></th>\n",
       "    </tr>\n",
       "  </thead>\n",
       "  <tbody>\n",
       "    <tr>\n",
       "      <th>0</th>\n",
       "      <td>img1</td>\n",
       "      <td>img-00610.png</td>\n",
       "      <td>1.599832e+09</td>\n",
       "      <td>315.928971</td>\n",
       "      <td>368.440615</td>\n",
       "      <td>53.635800</td>\n",
       "      <td>-221.358537</td>\n",
       "      <td>421.038813</td>\n",
       "      <td>306.105521</td>\n",
       "      <td>38.678836</td>\n",
       "      <td>-115.161729</td>\n",
       "      <td>386.735104</td>\n",
       "      <td>349.568814</td>\n",
       "      <td>49.038880</td>\n",
       "      <td>-185.941675</td>\n",
       "    </tr>\n",
       "    <tr>\n",
       "      <th>1</th>\n",
       "      <td>img1</td>\n",
       "      <td>img-00611.png</td>\n",
       "      <td>1.599832e+09</td>\n",
       "      <td>315.896211</td>\n",
       "      <td>368.169124</td>\n",
       "      <td>53.660836</td>\n",
       "      <td>-221.577125</td>\n",
       "      <td>420.704398</td>\n",
       "      <td>305.965600</td>\n",
       "      <td>38.668941</td>\n",
       "      <td>-114.874203</td>\n",
       "      <td>386.513469</td>\n",
       "      <td>349.338689</td>\n",
       "      <td>48.802118</td>\n",
       "      <td>-184.610043</td>\n",
       "    </tr>\n",
       "    <tr>\n",
       "      <th>2</th>\n",
       "      <td>img1</td>\n",
       "      <td>img-00612.png</td>\n",
       "      <td>1.599832e+09</td>\n",
       "      <td>315.814959</td>\n",
       "      <td>368.022253</td>\n",
       "      <td>53.536133</td>\n",
       "      <td>-220.643384</td>\n",
       "      <td>420.364499</td>\n",
       "      <td>305.937410</td>\n",
       "      <td>38.620958</td>\n",
       "      <td>-114.408979</td>\n",
       "      <td>386.271897</td>\n",
       "      <td>349.213923</td>\n",
       "      <td>48.664648</td>\n",
       "      <td>-183.858767</td>\n",
       "    </tr>\n",
       "    <tr>\n",
       "      <th>3</th>\n",
       "      <td>img1</td>\n",
       "      <td>img-00613.png</td>\n",
       "      <td>1.599832e+09</td>\n",
       "      <td>315.721180</td>\n",
       "      <td>367.772809</td>\n",
       "      <td>53.501544</td>\n",
       "      <td>-219.987690</td>\n",
       "      <td>419.980109</td>\n",
       "      <td>305.837831</td>\n",
       "      <td>38.438810</td>\n",
       "      <td>-113.479844</td>\n",
       "      <td>386.022625</td>\n",
       "      <td>349.011256</td>\n",
       "      <td>48.547080</td>\n",
       "      <td>-182.229981</td>\n",
       "    </tr>\n",
       "    <tr>\n",
       "      <th>4</th>\n",
       "      <td>img1</td>\n",
       "      <td>img-00614.png</td>\n",
       "      <td>1.599832e+09</td>\n",
       "      <td>315.650098</td>\n",
       "      <td>367.566705</td>\n",
       "      <td>53.337046</td>\n",
       "      <td>-219.301255</td>\n",
       "      <td>419.641802</td>\n",
       "      <td>305.746820</td>\n",
       "      <td>38.381266</td>\n",
       "      <td>-113.082108</td>\n",
       "      <td>385.769535</td>\n",
       "      <td>348.828470</td>\n",
       "      <td>48.519166</td>\n",
       "      <td>-181.226358</td>\n",
       "    </tr>\n",
       "  </tbody>\n",
       "</table>\n",
       "</div>"
      ],
      "text/plain": [
       "    folder       filename   time (unix)          x1          y1         p1  \\\n",
       "num                                                                          \n",
       "0     img1  img-00610.png  1.599832e+09  315.928971  368.440615  53.635800   \n",
       "1     img1  img-00611.png  1.599832e+09  315.896211  368.169124  53.660836   \n",
       "2     img1  img-00612.png  1.599832e+09  315.814959  368.022253  53.536133   \n",
       "3     img1  img-00613.png  1.599832e+09  315.721180  367.772809  53.501544   \n",
       "4     img1  img-00614.png  1.599832e+09  315.650098  367.566705  53.337046   \n",
       "\n",
       "             a1          x2          y2         p2          a2          x3  \\\n",
       "num                                                                          \n",
       "0   -221.358537  421.038813  306.105521  38.678836 -115.161729  386.735104   \n",
       "1   -221.577125  420.704398  305.965600  38.668941 -114.874203  386.513469   \n",
       "2   -220.643384  420.364499  305.937410  38.620958 -114.408979  386.271897   \n",
       "3   -219.987690  419.980109  305.837831  38.438810 -113.479844  386.022625   \n",
       "4   -219.301255  419.641802  305.746820  38.381266 -113.082108  385.769535   \n",
       "\n",
       "             y3         p3          a3  \n",
       "num                                     \n",
       "0    349.568814  49.038880 -185.941675  \n",
       "1    349.338689  48.802118 -184.610043  \n",
       "2    349.213923  48.664648 -183.858767  \n",
       "3    349.011256  48.547080 -182.229981  \n",
       "4    348.828470  48.519166 -181.226358  "
      ]
     },
     "execution_count": 9,
     "metadata": {},
     "output_type": "execute_result"
    }
   ],
   "source": [
    "print('Image Crop -------------------------', ct.img_series.crop.zone)\n",
    "print('Image Crop (same as above) ---------', ct.results.metadata['crop']['zone'])\n",
    "print('')\n",
    "print('Image Rotation ---------------------', ct.img_series.rotation.data)\n",
    "print('Image Rotation (same as above) -----', ct.results.metadata['rotation'])\n",
    "print('')\n",
    "print('Contour position -------------------', ct.contours.data['position']['contour 2'])\n",
    "print('Contour position (same as above) ---', ct.results.metadata['contours']['position']['contour 2'])\n",
    "\n",
    "ct.results.data.head()"
   ]
  },
  {
   "cell_type": "markdown",
   "metadata": {},
   "source": [
    "Once the analysis is regenerated, all the tools associated with images (inspection, showing, animation, etc.) are available:"
   ]
  },
  {
   "cell_type": "code",
   "execution_count": 10,
   "metadata": {},
   "outputs": [
    {
     "data": {
      "text/plain": [
       "<AxesSubplot:title={'center':'img #25, grey level 170'}>"
      ]
     },
     "execution_count": 10,
     "metadata": {},
     "output_type": "execute_result"
    },
    {
     "data": {
      "image/png": "[encoded data removed]",
      "text/plain": [
       "<Figure size 432x288 with 1 Axes>"
      ]
     },
     "metadata": {
      "needs_background": "light"
     },
     "output_type": "display_data"
    }
   ],
   "source": [
    "ct.show(num=25)"
   ]
  },
  {
   "cell_type": "code",
   "execution_count": null,
   "metadata": {},
   "outputs": [],
   "source": [
    "ct.inspect()"
   ]
  },
  {
   "cell_type": "markdown",
   "metadata": {},
   "source": [
    "# Analyze only subset of images"
   ]
  },
  {
   "cell_type": "markdown",
   "metadata": {},
   "source": [
    "See **Examples_GreyLevels.ipynb**, and replace:\n",
    "- `GreyLevel` →  `ContourTracking`\n",
    "- `zones` →  `contours`"
   ]
  },
  {
   "cell_type": "code",
   "execution_count": null,
   "metadata": {},
   "outputs": [],
   "source": []
  }
 ],
 "metadata": {
  "kernelspec": {
   "display_name": "Python 3 (ipykernel)",
   "language": "python",
   "name": "python3"
  },
  "language_info": {
   "codemirror_mode": {
    "name": "ipython",
    "version": 3
   },
   "file_extension": ".py",
   "mimetype": "text/x-python",
   "name": "python",
   "nbconvert_exporter": "python",
   "pygments_lexer": "ipython3",
   "version": "3.11.0"
  }
 },
 "nbformat": 4,
 "nbformat_minor": 4
}

{
 "cells": [
  {
   "cell_type": "code",
   "execution_count": 1,
   "metadata": {},
   "outputs": [],
   "source": [
    "# change to `%matplotlib qt5` for interactive methods\n",
    "%matplotlib qt5\n",
    "from pathlib import Path\n",
    "from imgseries import ImgSeries, ContourTracking, ContourTrackingResults"
   ]
  },
  {
   "cell_type": "markdown",
   "metadata": {},
   "source": [
    "# Define image series to work on"
   ]
  },
  {
   "cell_type": "code",
   "execution_count": 2,
   "metadata": {},
   "outputs": [],
   "source": [
    "basefolder = Path('data')\n",
    "folders = [basefolder / folder for folder in ('img1', 'img2')]\n",
    "images = ImgSeries(folders, savepath=basefolder)"
   ]
  },
  {
   "cell_type": "markdown",
   "metadata": {},
   "source": [
    "# Minimal analysis"
   ]
  },
  {
   "cell_type": "code",
   "execution_count": 3,
   "metadata": {},
   "outputs": [],
   "source": [
    "ct = ContourTracking(images)"
   ]
  },
  {
   "cell_type": "markdown",
   "metadata": {},
   "source": [
    "The line below assumes that contours to follow have already been defined and saved in the metadata file (see details further below)"
   ]
  },
  {
   "cell_type": "code",
   "execution_count": 4,
   "metadata": {},
   "outputs": [],
   "source": [
    "ct.regenerate()"
   ]
  },
  {
   "cell_type": "code",
   "execution_count": 18,
   "metadata": {},
   "outputs": [
    {
     "data": {
      "text/plain": [
       "<Axes: title={'center': 'img #10, grey level 181'}>"
      ]
     },
     "execution_count": 18,
     "metadata": {},
     "output_type": "execute_result"
    }
   ],
   "source": [
    "ct.contours.show()"
   ]
  },
  {
   "cell_type": "markdown",
   "metadata": {},
   "source": [
    "Now, run analysis on these zones."
   ]
  },
  {
   "cell_type": "code",
   "execution_count": 19,
   "metadata": {},
   "outputs": [
    {
     "name": "stderr",
     "output_type": "stream",
     "text": [
      "100%|█████████████████████████████████████████████████████████████████████████████████████████████████████████| 50/50 [00:00<00:00, 153.42it/s]\n"
     ]
    }
   ],
   "source": [
    "ct.run()"
   ]
  },
  {
   "cell_type": "markdown",
   "metadata": {},
   "source": [
    "Results are stored in the `results.data` attribute, which is a pandas DataFrame (times are automatically extracted from image creation date, but can be modified, see further below)). `x, y` represent position, `p` perimeter and `a` signed area (see **imgbasics** package)\n",
    "\n",
    "*Note*: if contour detection fails at some point, `data` will contain `NaN` (`numpy.nan`) at the corresponding locations.\n",
    "\n",
    "*Note*: by default, the full coordinates of the contours are also stored in `results.raw_contour_data`. If this is too heavey, `ContourTracking` can be instanciated with the option `save_raw_contours=False`"
   ]
  },
  {
   "cell_type": "code",
   "execution_count": 20,
   "metadata": {},
   "outputs": [
    {
     "data": {
      "text/html": [
       "<div>\n",
       "<style scoped>\n",
       "    .dataframe tbody tr th:only-of-type {\n",
       "        vertical-align: middle;\n",
       "    }\n",
       "\n",
       "    .dataframe tbody tr th {\n",
       "        vertical-align: top;\n",
       "    }\n",
       "\n",
       "    .dataframe thead th {\n",
       "        text-align: right;\n",
       "    }\n",
       "</style>\n",
       "<table border=\"1\" class=\"dataframe\">\n",
       "  <thead>\n",
       "    <tr style=\"text-align: right;\">\n",
       "      <th></th>\n",
       "      <th>folder</th>\n",
       "      <th>filename</th>\n",
       "      <th>time (unix)</th>\n",
       "      <th>x1</th>\n",
       "      <th>y1</th>\n",
       "      <th>p1</th>\n",
       "      <th>a1</th>\n",
       "      <th>x2</th>\n",
       "      <th>y2</th>\n",
       "      <th>p2</th>\n",
       "      <th>a2</th>\n",
       "      <th>x3</th>\n",
       "      <th>y3</th>\n",
       "      <th>p3</th>\n",
       "      <th>a3</th>\n",
       "    </tr>\n",
       "    <tr>\n",
       "      <th>num</th>\n",
       "      <th></th>\n",
       "      <th></th>\n",
       "      <th></th>\n",
       "      <th></th>\n",
       "      <th></th>\n",
       "      <th></th>\n",
       "      <th></th>\n",
       "      <th></th>\n",
       "      <th></th>\n",
       "      <th></th>\n",
       "      <th></th>\n",
       "      <th></th>\n",
       "      <th></th>\n",
       "      <th></th>\n",
       "      <th></th>\n",
       "    </tr>\n",
       "  </thead>\n",
       "  <tbody>\n",
       "    <tr>\n",
       "      <th>0</th>\n",
       "      <td>img1</td>\n",
       "      <td>img-00610.png</td>\n",
       "      <td>1.696408e+09</td>\n",
       "      <td>153.206899</td>\n",
       "      <td>249.426678</td>\n",
       "      <td>42.934109</td>\n",
       "      <td>-142.882202</td>\n",
       "      <td>219.912664</td>\n",
       "      <td>278.198407</td>\n",
       "      <td>51.194526</td>\n",
       "      <td>-204.722955</td>\n",
       "      <td>292.745765</td>\n",
       "      <td>270.21115</td>\n",
       "      <td>46.271683</td>\n",
       "      <td>-169.317036</td>\n",
       "    </tr>\n",
       "    <tr>\n",
       "      <th>1</th>\n",
       "      <td>img1</td>\n",
       "      <td>img-00611.png</td>\n",
       "      <td>1.696408e+09</td>\n",
       "      <td>153.389457</td>\n",
       "      <td>249.22774</td>\n",
       "      <td>42.778324</td>\n",
       "      <td>-141.810327</td>\n",
       "      <td>219.9242</td>\n",
       "      <td>277.918486</td>\n",
       "      <td>51.108036</td>\n",
       "      <td>-203.94459</td>\n",
       "      <td>292.570581</td>\n",
       "      <td>269.946013</td>\n",
       "      <td>46.066067</td>\n",
       "      <td>-167.753201</td>\n",
       "    </tr>\n",
       "    <tr>\n",
       "      <th>2</th>\n",
       "      <td>img1</td>\n",
       "      <td>img-00612.png</td>\n",
       "      <td>1.696408e+09</td>\n",
       "      <td>153.532051</td>\n",
       "      <td>249.139501</td>\n",
       "      <td>42.590909</td>\n",
       "      <td>-140.473727</td>\n",
       "      <td>219.871375</td>\n",
       "      <td>277.773556</td>\n",
       "      <td>50.95654</td>\n",
       "      <td>-202.729721</td>\n",
       "      <td>292.342911</td>\n",
       "      <td>269.789197</td>\n",
       "      <td>45.919486</td>\n",
       "      <td>-166.637596</td>\n",
       "    </tr>\n",
       "    <tr>\n",
       "      <th>3</th>\n",
       "      <td>img1</td>\n",
       "      <td>img-00613.png</td>\n",
       "      <td>1.696408e+09</td>\n",
       "      <td>153.6559</td>\n",
       "      <td>248.967076</td>\n",
       "      <td>42.464292</td>\n",
       "      <td>-139.578893</td>\n",
       "      <td>219.799774</td>\n",
       "      <td>277.51511</td>\n",
       "      <td>50.920435</td>\n",
       "      <td>-202.361735</td>\n",
       "      <td>292.103532</td>\n",
       "      <td>269.530549</td>\n",
       "      <td>45.718974</td>\n",
       "      <td>-165.141563</td>\n",
       "    </tr>\n",
       "    <tr>\n",
       "      <th>4</th>\n",
       "      <td>img1</td>\n",
       "      <td>img-00614.png</td>\n",
       "      <td>1.696408e+09</td>\n",
       "      <td>153.766926</td>\n",
       "      <td>248.799268</td>\n",
       "      <td>42.218459</td>\n",
       "      <td>-137.956127</td>\n",
       "      <td>219.746896</td>\n",
       "      <td>277.284304</td>\n",
       "      <td>50.848014</td>\n",
       "      <td>-202.013301</td>\n",
       "      <td>291.876028</td>\n",
       "      <td>269.301173</td>\n",
       "      <td>45.611392</td>\n",
       "      <td>-164.326956</td>\n",
       "    </tr>\n",
       "  </tbody>\n",
       "</table>\n",
       "</div>"
      ],
      "text/plain": [
       "    folder       filename   time (unix)          x1          y1         p1  \\\n",
       "num                                                                          \n",
       "0     img1  img-00610.png  1.696408e+09  153.206899  249.426678  42.934109   \n",
       "1     img1  img-00611.png  1.696408e+09  153.389457   249.22774  42.778324   \n",
       "2     img1  img-00612.png  1.696408e+09  153.532051  249.139501  42.590909   \n",
       "3     img1  img-00613.png  1.696408e+09    153.6559  248.967076  42.464292   \n",
       "4     img1  img-00614.png  1.696408e+09  153.766926  248.799268  42.218459   \n",
       "\n",
       "             a1          x2          y2         p2          a2          x3  \\\n",
       "num                                                                          \n",
       "0   -142.882202  219.912664  278.198407  51.194526 -204.722955  292.745765   \n",
       "1   -141.810327    219.9242  277.918486  51.108036  -203.94459  292.570581   \n",
       "2   -140.473727  219.871375  277.773556   50.95654 -202.729721  292.342911   \n",
       "3   -139.578893  219.799774   277.51511  50.920435 -202.361735  292.103532   \n",
       "4   -137.956127  219.746896  277.284304  50.848014 -202.013301  291.876028   \n",
       "\n",
       "             y3         p3          a3  \n",
       "num                                     \n",
       "0     270.21115  46.271683 -169.317036  \n",
       "1    269.946013  46.066067 -167.753201  \n",
       "2    269.789197  45.919486 -166.637596  \n",
       "3    269.530549  45.718974 -165.141563  \n",
       "4    269.301173  45.611392 -164.326956  "
      ]
     },
     "execution_count": 20,
     "metadata": {},
     "output_type": "execute_result"
    }
   ],
   "source": [
    "ct.results.data.head()"
   ]
  },
  {
   "cell_type": "code",
   "execution_count": 21,
   "metadata": {},
   "outputs": [
    {
     "data": {
      "text/plain": [
       "[255.30434782608697,\n",
       " 255.75,\n",
       " 255.95833333333334,\n",
       " 255.95454545454547,\n",
       " 255.71428571428572,\n",
       " 255.26315789473685,\n",
       " 255.0,\n",
       " 254.61111111111111,\n",
       " 254.0,\n",
       " 253.7058823529412]"
      ]
     },
     "execution_count": 21,
     "metadata": {},
     "output_type": "execute_result"
    }
   ],
   "source": [
    "ct.results.raw_contour_data['1']['10']['y'][:10]"
   ]
  },
  {
   "cell_type": "code",
   "execution_count": 22,
   "metadata": {},
   "outputs": [
    {
     "data": {
      "text/plain": [
       "<matplotlib.widgets.Slider at 0x2a89e6dd0>"
      ]
     },
     "execution_count": 22,
     "metadata": {},
     "output_type": "execute_result"
    }
   ],
   "source": [
    "ct.inspect(skip=3)"
   ]
  },
  {
   "cell_type": "code",
   "execution_count": 23,
   "metadata": {},
   "outputs": [
    {
     "data": {
      "text/plain": [
       "<matplotlib.animation.FuncAnimation at 0x2a8a3f910>"
      ]
     },
     "execution_count": 23,
     "metadata": {},
     "output_type": "execute_result"
    }
   ],
   "source": [
    "ct.animate(start=10, end=30)"
   ]
  },
  {
   "cell_type": "markdown",
   "metadata": {},
   "source": [
    "Plot perimeters of all detected particles (contours) as a function of time:"
   ]
  },
  {
   "cell_type": "code",
   "execution_count": 24,
   "metadata": {},
   "outputs": [
    {
     "data": {
      "text/plain": [
       "<Axes: xlabel='time (unix)'>"
      ]
     },
     "execution_count": 24,
     "metadata": {},
     "output_type": "execute_result"
    }
   ],
   "source": [
    "ct.results.data.set_index('time (unix)').filter(like='p').plot()"
   ]
  },
  {
   "cell_type": "markdown",
   "metadata": {},
   "source": [
    "Save data in a tsv (tab-separated value) file, using default filename (filename can be set as a parameter if necessary, see further below). Metadata including contour info, path info, and code version info is also saved in a .json file at the same time. Full (raw) contour data is also saved if required.\n",
    "\n",
    "Before saving, make sure the timing info is correct for all images. If not, correct timing info, re-run the analysis, and call `results.save()`."
   ]
  },
  {
   "cell_type": "code",
   "execution_count": 25,
   "metadata": {},
   "outputs": [
    {
     "name": "stdout",
     "output_type": "stream",
     "text": [
      "\n",
      "Warning: These modules have dirty git repositories: imgseries\n",
      "\n",
      "\n",
      "Warning: these modules are missing a tag: imgseries\n",
      "\n",
      "\n",
      "Warning: these modules are not in a git repository: skimage, imgbasics, matplotlib, numpy\n",
      "\n"
     ]
    }
   ],
   "source": [
    "ct.results.save()"
   ]
  },
  {
   "cell_type": "markdown",
   "metadata": {},
   "source": [
    "# Live view of analysis"
   ]
  },
  {
   "cell_type": "code",
   "execution_count": 26,
   "metadata": {},
   "outputs": [],
   "source": [
    "ct.run(end=30, live=True)"
   ]
  },
  {
   "cell_type": "markdown",
   "metadata": {},
   "source": [
    "It is possible that the live animation is non blocking and thus that data is not saved correctly (saving is done at the beginning of the animation and thus data is empty). If this happens, best is probably to re-run the analysis with live=False.\n",
    "\n",
    "Check that data is empty:"
   ]
  },
  {
   "cell_type": "code",
   "execution_count": 28,
   "metadata": {},
   "outputs": [
    {
     "data": {
      "text/plain": [
       "<Axes: xlabel='time (unix)'>"
      ]
     },
     "execution_count": 28,
     "metadata": {},
     "output_type": "execute_result"
    }
   ],
   "source": [
    "ct.results.data.set_index('time (unix)').filter(like='p').plot()"
   ]
  },
  {
   "cell_type": "markdown",
   "metadata": {},
   "source": [
    "# Defining and viewing contours"
   ]
  },
  {
   "cell_type": "markdown",
   "metadata": {},
   "source": [
    "Defining contours has to be done at least once.\n",
    "\n",
    "**Important**: Matplotlib must be in an interactive mode to do so.\n",
    "\n",
    "Defining does not need to be done again in the following situations:\n",
    "- calling methods again from the same `ct` object, e.g. `ct.run()`\n",
    "- calling `ct.contours.load()` or `ct.regenerate()` to load contours data from saved metadata (.json) file."
   ]
  },
  {
   "cell_type": "code",
   "execution_count": 9,
   "metadata": {},
   "outputs": [],
   "source": [
    "images.crop.define()"
   ]
  },
  {
   "cell_type": "code",
   "execution_count": 10,
   "metadata": {},
   "outputs": [
    {
     "data": {
      "text/plain": [
       "<matplotlib.widgets.Slider at 0x1683d22f0>"
      ]
     },
     "execution_count": 10,
     "metadata": {},
     "output_type": "execute_result"
    }
   ],
   "source": [
    "images.filter.define()  # optional, smoothing of image\n",
    "# (or images.filter.type = 'gaussian', images.filter.size = 2.2)"
   ]
  },
  {
   "cell_type": "code",
   "execution_count": 11,
   "metadata": {},
   "outputs": [
    {
     "data": {
      "text/plain": [
       "<matplotlib.widgets.Slider at 0x2a71d6320>"
      ]
     },
     "execution_count": 11,
     "metadata": {},
     "output_type": "execute_result"
    }
   ],
   "source": [
    "ct.threshold.define()"
   ]
  },
  {
   "cell_type": "code",
   "execution_count": 12,
   "metadata": {},
   "outputs": [
    {
     "name": "stdout",
     "output_type": "stream",
     "text": [
      "Filter object {'type': 'gaussian', 'size': 2.0}\n",
      "Threshold object {'value': 181}\n"
     ]
    }
   ],
   "source": [
    "print(images.filter)\n",
    "print(ct.threshold)"
   ]
  },
  {
   "cell_type": "code",
   "execution_count": 13,
   "metadata": {},
   "outputs": [],
   "source": [
    "ct.contours.define()  # define one contour on the first image of the series"
   ]
  },
  {
   "cell_type": "code",
   "execution_count": 14,
   "metadata": {},
   "outputs": [],
   "source": [
    "ct.contours.define(n=3)  # define 3 contours on the first image of the series"
   ]
  },
  {
   "cell_type": "code",
   "execution_count": 15,
   "metadata": {},
   "outputs": [],
   "source": [
    "ct.contours.define(3, num=10)  # define 3 contours at level 170 on image #10 in the series"
   ]
  },
  {
   "cell_type": "markdown",
   "metadata": {},
   "source": [
    "Viewing analysis zones after defining or loading them:"
   ]
  },
  {
   "cell_type": "code",
   "execution_count": 16,
   "metadata": {},
   "outputs": [
    {
     "data": {
      "text/plain": [
       "{'position': {'contour 1': (155.34855196067068, 248.8680542590701),\n",
       "  'contour 2': (220.36855953462214, 277.00651519592867),\n",
       "  'contour 3': (291.47083356083385, 268.9632883107061)},\n",
       " 'level': 181,\n",
       " 'image': 10}"
      ]
     },
     "execution_count": 16,
     "metadata": {},
     "output_type": "execute_result"
    }
   ],
   "source": [
    "ct.contours.data"
   ]
  },
  {
   "cell_type": "code",
   "execution_count": 17,
   "metadata": {},
   "outputs": [
    {
     "data": {
      "text/plain": [
       "<Axes: title={'center': 'img #10, grey level 181'}>"
      ]
     },
     "execution_count": 17,
     "metadata": {},
     "output_type": "execute_result"
    }
   ],
   "source": [
    "ct.contours.show()  # show contours on the image they have been defined on"
   ]
  },
  {
   "cell_type": "markdown",
   "metadata": {},
   "source": [
    "**Note**: At the moment, saving contours selection data is done by calling `ct.results.save()`, which saves both data and metadata. Be careful because calling `ct.results.save()` also overwrites saved analysis data (potentially with no data if no analysis has been run yet). This makes sure that metadata in .json files actually corresponds to the data in the .tsv file."
   ]
  },
  {
   "cell_type": "markdown",
   "metadata": {},
   "source": [
    "# Load analysis data a posteriori"
   ]
  },
  {
   "cell_type": "markdown",
   "metadata": {},
   "source": [
    "## Load results without images"
   ]
  },
  {
   "cell_type": "code",
   "execution_count": 29,
   "metadata": {},
   "outputs": [],
   "source": [
    "results = ContourTrackingResults(savepath=basefolder)"
   ]
  },
  {
   "cell_type": "code",
   "execution_count": 30,
   "metadata": {},
   "outputs": [
    {
     "data": {
      "text/html": [
       "<div>\n",
       "<style scoped>\n",
       "    .dataframe tbody tr th:only-of-type {\n",
       "        vertical-align: middle;\n",
       "    }\n",
       "\n",
       "    .dataframe tbody tr th {\n",
       "        vertical-align: top;\n",
       "    }\n",
       "\n",
       "    .dataframe thead th {\n",
       "        text-align: right;\n",
       "    }\n",
       "</style>\n",
       "<table border=\"1\" class=\"dataframe\">\n",
       "  <thead>\n",
       "    <tr style=\"text-align: right;\">\n",
       "      <th></th>\n",
       "      <th>folder</th>\n",
       "      <th>filename</th>\n",
       "      <th>time (unix)</th>\n",
       "      <th>x1</th>\n",
       "      <th>y1</th>\n",
       "      <th>p1</th>\n",
       "      <th>a1</th>\n",
       "      <th>x2</th>\n",
       "      <th>y2</th>\n",
       "      <th>p2</th>\n",
       "      <th>a2</th>\n",
       "      <th>x3</th>\n",
       "      <th>y3</th>\n",
       "      <th>p3</th>\n",
       "      <th>a3</th>\n",
       "    </tr>\n",
       "    <tr>\n",
       "      <th>num</th>\n",
       "      <th></th>\n",
       "      <th></th>\n",
       "      <th></th>\n",
       "      <th></th>\n",
       "      <th></th>\n",
       "      <th></th>\n",
       "      <th></th>\n",
       "      <th></th>\n",
       "      <th></th>\n",
       "      <th></th>\n",
       "      <th></th>\n",
       "      <th></th>\n",
       "      <th></th>\n",
       "      <th></th>\n",
       "      <th></th>\n",
       "    </tr>\n",
       "  </thead>\n",
       "  <tbody>\n",
       "    <tr>\n",
       "      <th>0</th>\n",
       "      <td>img1</td>\n",
       "      <td>img-00610.png</td>\n",
       "      <td>1.696408e+09</td>\n",
       "      <td>153.206899</td>\n",
       "      <td>249.426678</td>\n",
       "      <td>42.934109</td>\n",
       "      <td>-142.882202</td>\n",
       "      <td>219.912664</td>\n",
       "      <td>278.198407</td>\n",
       "      <td>51.194526</td>\n",
       "      <td>-204.722955</td>\n",
       "      <td>292.745765</td>\n",
       "      <td>270.211150</td>\n",
       "      <td>46.271683</td>\n",
       "      <td>-169.317036</td>\n",
       "    </tr>\n",
       "    <tr>\n",
       "      <th>1</th>\n",
       "      <td>img1</td>\n",
       "      <td>img-00611.png</td>\n",
       "      <td>1.696408e+09</td>\n",
       "      <td>153.389457</td>\n",
       "      <td>249.227740</td>\n",
       "      <td>42.778324</td>\n",
       "      <td>-141.810327</td>\n",
       "      <td>219.924200</td>\n",
       "      <td>277.918486</td>\n",
       "      <td>51.108036</td>\n",
       "      <td>-203.944590</td>\n",
       "      <td>292.570581</td>\n",
       "      <td>269.946013</td>\n",
       "      <td>46.066067</td>\n",
       "      <td>-167.753201</td>\n",
       "    </tr>\n",
       "    <tr>\n",
       "      <th>2</th>\n",
       "      <td>img1</td>\n",
       "      <td>img-00612.png</td>\n",
       "      <td>1.696408e+09</td>\n",
       "      <td>153.532051</td>\n",
       "      <td>249.139501</td>\n",
       "      <td>42.590909</td>\n",
       "      <td>-140.473727</td>\n",
       "      <td>219.871375</td>\n",
       "      <td>277.773556</td>\n",
       "      <td>50.956540</td>\n",
       "      <td>-202.729721</td>\n",
       "      <td>292.342911</td>\n",
       "      <td>269.789197</td>\n",
       "      <td>45.919486</td>\n",
       "      <td>-166.637596</td>\n",
       "    </tr>\n",
       "    <tr>\n",
       "      <th>3</th>\n",
       "      <td>img1</td>\n",
       "      <td>img-00613.png</td>\n",
       "      <td>1.696408e+09</td>\n",
       "      <td>153.655900</td>\n",
       "      <td>248.967076</td>\n",
       "      <td>42.464292</td>\n",
       "      <td>-139.578893</td>\n",
       "      <td>219.799774</td>\n",
       "      <td>277.515110</td>\n",
       "      <td>50.920435</td>\n",
       "      <td>-202.361735</td>\n",
       "      <td>292.103532</td>\n",
       "      <td>269.530549</td>\n",
       "      <td>45.718974</td>\n",
       "      <td>-165.141563</td>\n",
       "    </tr>\n",
       "    <tr>\n",
       "      <th>4</th>\n",
       "      <td>img1</td>\n",
       "      <td>img-00614.png</td>\n",
       "      <td>1.696408e+09</td>\n",
       "      <td>153.766926</td>\n",
       "      <td>248.799268</td>\n",
       "      <td>42.218459</td>\n",
       "      <td>-137.956127</td>\n",
       "      <td>219.746896</td>\n",
       "      <td>277.284304</td>\n",
       "      <td>50.848014</td>\n",
       "      <td>-202.013301</td>\n",
       "      <td>291.876028</td>\n",
       "      <td>269.301173</td>\n",
       "      <td>45.611392</td>\n",
       "      <td>-164.326956</td>\n",
       "    </tr>\n",
       "  </tbody>\n",
       "</table>\n",
       "</div>"
      ],
      "text/plain": [
       "    folder       filename   time (unix)          x1          y1         p1  \\\n",
       "num                                                                          \n",
       "0     img1  img-00610.png  1.696408e+09  153.206899  249.426678  42.934109   \n",
       "1     img1  img-00611.png  1.696408e+09  153.389457  249.227740  42.778324   \n",
       "2     img1  img-00612.png  1.696408e+09  153.532051  249.139501  42.590909   \n",
       "3     img1  img-00613.png  1.696408e+09  153.655900  248.967076  42.464292   \n",
       "4     img1  img-00614.png  1.696408e+09  153.766926  248.799268  42.218459   \n",
       "\n",
       "             a1          x2          y2         p2          a2          x3  \\\n",
       "num                                                                          \n",
       "0   -142.882202  219.912664  278.198407  51.194526 -204.722955  292.745765   \n",
       "1   -141.810327  219.924200  277.918486  51.108036 -203.944590  292.570581   \n",
       "2   -140.473727  219.871375  277.773556  50.956540 -202.729721  292.342911   \n",
       "3   -139.578893  219.799774  277.515110  50.920435 -202.361735  292.103532   \n",
       "4   -137.956127  219.746896  277.284304  50.848014 -202.013301  291.876028   \n",
       "\n",
       "             y3         p3          a3  \n",
       "num                                     \n",
       "0    270.211150  46.271683 -169.317036  \n",
       "1    269.946013  46.066067 -167.753201  \n",
       "2    269.789197  45.919486 -166.637596  \n",
       "3    269.530549  45.718974 -165.141563  \n",
       "4    269.301173  45.611392 -164.326956  "
      ]
     },
     "execution_count": 30,
     "metadata": {},
     "output_type": "execute_result"
    }
   ],
   "source": [
    "results.load()\n",
    "results.data.head()"
   ]
  },
  {
   "cell_type": "code",
   "execution_count": 31,
   "metadata": {},
   "outputs": [
    {
     "data": {
      "text/plain": [
       "{'path': ['/Users/olivier.vincent/Python-OV/imgseries/data'],\n",
       " 'folders': ['img1', 'img2'],\n",
       " 'contours': {'position': {'contour 1': [155.34855196067068,\n",
       "    248.8680542590701],\n",
       "   'contour 2': [220.36855953462214, 277.00651519592867],\n",
       "   'contour 3': [291.47083356083385, 268.9632883107061]},\n",
       "  'level': 181,\n",
       "  'image': 10},\n",
       " 'grayscale': {},\n",
       " 'rotation': {},\n",
       " 'crop': {'zone': [86, 73, 454, 391]},\n",
       " 'filter': {'type': 'gaussian', 'size': 2.0},\n",
       " 'subtraction': {},\n",
       " 'threshold': {},\n",
       " 'time (utc)': '2024-01-28 19:45:29',\n",
       " 'code version': {'skimage': {'status': 'not a git repository',\n",
       "   'tag': 'v0.19.3'},\n",
       "  'imgseries': {'hash': 'd4a58695989a69999f36e51c4ec4245ea362041b',\n",
       "   'status': 'dirty'},\n",
       "  'imgbasics': {'status': 'not a git repository', 'tag': 'v0.3.0'},\n",
       "  'filo': {'hash': '150574b5ae82c74d0c500b3fdb494e8f9c7631f7',\n",
       "   'status': 'clean',\n",
       "   'tag': 'v1.1.5'},\n",
       "  'matplotlib': {'status': 'not a git repository', 'tag': 'v3.7.0'},\n",
       "  'numpy': {'status': 'not a git repository', 'tag': 'v1.23.5'}}}"
      ]
     },
     "execution_count": 31,
     "metadata": {},
     "output_type": "execute_result"
    }
   ],
   "source": [
    "results.metadata"
   ]
  },
  {
   "cell_type": "code",
   "execution_count": 32,
   "metadata": {},
   "outputs": [
    {
     "data": {
      "text/plain": [
       "[223.0,\n",
       " 222.0,\n",
       " 221.0,\n",
       " 220.0,\n",
       " 219.0,\n",
       " 218.5,\n",
       " 218.0,\n",
       " 217.0,\n",
       " 216.0,\n",
       " 215.93333333333334]"
      ]
     },
     "execution_count": 32,
     "metadata": {},
     "output_type": "execute_result"
    }
   ],
   "source": [
    "results.raw_contour_data['2']['33']['x'][:10]"
   ]
  },
  {
   "cell_type": "markdown",
   "metadata": {},
   "source": [
    "## Connect results to image series (e.g. for inspection/visualization)"
   ]
  },
  {
   "cell_type": "code",
   "execution_count": 33,
   "metadata": {},
   "outputs": [],
   "source": [
    "images = ImgSeries(folders, savepath=basefolder)\n",
    "ct = ContourTracking(images)\n",
    "ct.regenerate()"
   ]
  },
  {
   "cell_type": "code",
   "execution_count": 34,
   "metadata": {},
   "outputs": [
    {
     "name": "stdout",
     "output_type": "stream",
     "text": [
      "Image Crop ------------------------- [86, 73, 454, 391]\n",
      "Image Crop (same as above) --------- [86, 73, 454, 391]\n",
      "\n",
      "Image Rotation --------------------- {}\n",
      "Image Rotation (same as above) ----- {}\n",
      "\n",
      "Contour position ------------------- [220.36855953462214, 277.00651519592867]\n",
      "Contour position (same as above) --- [220.36855953462214, 277.00651519592867]\n"
     ]
    },
    {
     "data": {
      "text/html": [
       "<div>\n",
       "<style scoped>\n",
       "    .dataframe tbody tr th:only-of-type {\n",
       "        vertical-align: middle;\n",
       "    }\n",
       "\n",
       "    .dataframe tbody tr th {\n",
       "        vertical-align: top;\n",
       "    }\n",
       "\n",
       "    .dataframe thead th {\n",
       "        text-align: right;\n",
       "    }\n",
       "</style>\n",
       "<table border=\"1\" class=\"dataframe\">\n",
       "  <thead>\n",
       "    <tr style=\"text-align: right;\">\n",
       "      <th></th>\n",
       "      <th>folder</th>\n",
       "      <th>filename</th>\n",
       "      <th>time (unix)</th>\n",
       "      <th>x1</th>\n",
       "      <th>y1</th>\n",
       "      <th>p1</th>\n",
       "      <th>a1</th>\n",
       "      <th>x2</th>\n",
       "      <th>y2</th>\n",
       "      <th>p2</th>\n",
       "      <th>a2</th>\n",
       "      <th>x3</th>\n",
       "      <th>y3</th>\n",
       "      <th>p3</th>\n",
       "      <th>a3</th>\n",
       "    </tr>\n",
       "    <tr>\n",
       "      <th>num</th>\n",
       "      <th></th>\n",
       "      <th></th>\n",
       "      <th></th>\n",
       "      <th></th>\n",
       "      <th></th>\n",
       "      <th></th>\n",
       "      <th></th>\n",
       "      <th></th>\n",
       "      <th></th>\n",
       "      <th></th>\n",
       "      <th></th>\n",
       "      <th></th>\n",
       "      <th></th>\n",
       "      <th></th>\n",
       "      <th></th>\n",
       "    </tr>\n",
       "  </thead>\n",
       "  <tbody>\n",
       "    <tr>\n",
       "      <th>0</th>\n",
       "      <td>img1</td>\n",
       "      <td>img-00610.png</td>\n",
       "      <td>1.696408e+09</td>\n",
       "      <td>153.206899</td>\n",
       "      <td>249.426678</td>\n",
       "      <td>42.934109</td>\n",
       "      <td>-142.882202</td>\n",
       "      <td>219.912664</td>\n",
       "      <td>278.198407</td>\n",
       "      <td>51.194526</td>\n",
       "      <td>-204.722955</td>\n",
       "      <td>292.745765</td>\n",
       "      <td>270.211150</td>\n",
       "      <td>46.271683</td>\n",
       "      <td>-169.317036</td>\n",
       "    </tr>\n",
       "    <tr>\n",
       "      <th>1</th>\n",
       "      <td>img1</td>\n",
       "      <td>img-00611.png</td>\n",
       "      <td>1.696408e+09</td>\n",
       "      <td>153.389457</td>\n",
       "      <td>249.227740</td>\n",
       "      <td>42.778324</td>\n",
       "      <td>-141.810327</td>\n",
       "      <td>219.924200</td>\n",
       "      <td>277.918486</td>\n",
       "      <td>51.108036</td>\n",
       "      <td>-203.944590</td>\n",
       "      <td>292.570581</td>\n",
       "      <td>269.946013</td>\n",
       "      <td>46.066067</td>\n",
       "      <td>-167.753201</td>\n",
       "    </tr>\n",
       "    <tr>\n",
       "      <th>2</th>\n",
       "      <td>img1</td>\n",
       "      <td>img-00612.png</td>\n",
       "      <td>1.696408e+09</td>\n",
       "      <td>153.532051</td>\n",
       "      <td>249.139501</td>\n",
       "      <td>42.590909</td>\n",
       "      <td>-140.473727</td>\n",
       "      <td>219.871375</td>\n",
       "      <td>277.773556</td>\n",
       "      <td>50.956540</td>\n",
       "      <td>-202.729721</td>\n",
       "      <td>292.342911</td>\n",
       "      <td>269.789197</td>\n",
       "      <td>45.919486</td>\n",
       "      <td>-166.637596</td>\n",
       "    </tr>\n",
       "    <tr>\n",
       "      <th>3</th>\n",
       "      <td>img1</td>\n",
       "      <td>img-00613.png</td>\n",
       "      <td>1.696408e+09</td>\n",
       "      <td>153.655900</td>\n",
       "      <td>248.967076</td>\n",
       "      <td>42.464292</td>\n",
       "      <td>-139.578893</td>\n",
       "      <td>219.799774</td>\n",
       "      <td>277.515110</td>\n",
       "      <td>50.920435</td>\n",
       "      <td>-202.361735</td>\n",
       "      <td>292.103532</td>\n",
       "      <td>269.530549</td>\n",
       "      <td>45.718974</td>\n",
       "      <td>-165.141563</td>\n",
       "    </tr>\n",
       "    <tr>\n",
       "      <th>4</th>\n",
       "      <td>img1</td>\n",
       "      <td>img-00614.png</td>\n",
       "      <td>1.696408e+09</td>\n",
       "      <td>153.766926</td>\n",
       "      <td>248.799268</td>\n",
       "      <td>42.218459</td>\n",
       "      <td>-137.956127</td>\n",
       "      <td>219.746896</td>\n",
       "      <td>277.284304</td>\n",
       "      <td>50.848014</td>\n",
       "      <td>-202.013301</td>\n",
       "      <td>291.876028</td>\n",
       "      <td>269.301173</td>\n",
       "      <td>45.611392</td>\n",
       "      <td>-164.326956</td>\n",
       "    </tr>\n",
       "  </tbody>\n",
       "</table>\n",
       "</div>"
      ],
      "text/plain": [
       "    folder       filename   time (unix)          x1          y1         p1  \\\n",
       "num                                                                          \n",
       "0     img1  img-00610.png  1.696408e+09  153.206899  249.426678  42.934109   \n",
       "1     img1  img-00611.png  1.696408e+09  153.389457  249.227740  42.778324   \n",
       "2     img1  img-00612.png  1.696408e+09  153.532051  249.139501  42.590909   \n",
       "3     img1  img-00613.png  1.696408e+09  153.655900  248.967076  42.464292   \n",
       "4     img1  img-00614.png  1.696408e+09  153.766926  248.799268  42.218459   \n",
       "\n",
       "             a1          x2          y2         p2          a2          x3  \\\n",
       "num                                                                          \n",
       "0   -142.882202  219.912664  278.198407  51.194526 -204.722955  292.745765   \n",
       "1   -141.810327  219.924200  277.918486  51.108036 -203.944590  292.570581   \n",
       "2   -140.473727  219.871375  277.773556  50.956540 -202.729721  292.342911   \n",
       "3   -139.578893  219.799774  277.515110  50.920435 -202.361735  292.103532   \n",
       "4   -137.956127  219.746896  277.284304  50.848014 -202.013301  291.876028   \n",
       "\n",
       "             y3         p3          a3  \n",
       "num                                     \n",
       "0    270.211150  46.271683 -169.317036  \n",
       "1    269.946013  46.066067 -167.753201  \n",
       "2    269.789197  45.919486 -166.637596  \n",
       "3    269.530549  45.718974 -165.141563  \n",
       "4    269.301173  45.611392 -164.326956  "
      ]
     },
     "execution_count": 34,
     "metadata": {},
     "output_type": "execute_result"
    }
   ],
   "source": [
    "print('Image Crop -------------------------', ct.img_series.crop.zone)\n",
    "print('Image Crop (same as above) ---------', ct.results.metadata['crop'].get('zone', ()))\n",
    "print('')\n",
    "print('Image Rotation ---------------------', ct.img_series.rotation.data)\n",
    "print('Image Rotation (same as above) -----', ct.results.metadata['rotation'])\n",
    "print('')\n",
    "print('Contour position -------------------', ct.contours.data['position']['contour 2'])\n",
    "print('Contour position (same as above) ---', ct.results.metadata['contours']['position']['contour 2'])\n",
    "\n",
    "ct.results.data.head()"
   ]
  },
  {
   "cell_type": "markdown",
   "metadata": {},
   "source": [
    "Once the analysis is regenerated, all the tools associated with images (inspection, showing, animation, etc.) are available:"
   ]
  },
  {
   "cell_type": "code",
   "execution_count": 35,
   "metadata": {},
   "outputs": [
    {
     "data": {
      "text/plain": [
       "(<Axes: title={'center': 'img #25, grey level None'}>,)"
      ]
     },
     "execution_count": 35,
     "metadata": {},
     "output_type": "execute_result"
    }
   ],
   "source": [
    "ct.show(num=25)"
   ]
  },
  {
   "cell_type": "code",
   "execution_count": 36,
   "metadata": {},
   "outputs": [
    {
     "data": {
      "text/plain": [
       "<matplotlib.widgets.Slider at 0x2a678fe80>"
      ]
     },
     "execution_count": 36,
     "metadata": {},
     "output_type": "execute_result"
    }
   ],
   "source": [
    "ct.inspect()"
   ]
  },
  {
   "cell_type": "markdown",
   "metadata": {},
   "source": [
    "# Analyze only subset of images"
   ]
  },
  {
   "cell_type": "markdown",
   "metadata": {},
   "source": [
    "See **Examples_GreyLevels.ipynb**, and replace:\n",
    "- `GreyLevel` →  `ContourTracking`\n",
    "- `zones` →  `contours`"
   ]
  },
  {
   "cell_type": "code",
   "execution_count": null,
   "metadata": {},
   "outputs": [],
   "source": []
  }
 ],
 "metadata": {
  "kernelspec": {
   "display_name": "Python 3 (ipykernel)",
   "language": "python",
   "name": "python3"
  },
  "language_info": {
   "codemirror_mode": {
    "name": "ipython",
    "version": 3
   },
   "file_extension": ".py",
   "mimetype": "text/x-python",
   "name": "python",
   "nbconvert_exporter": "python",
   "pygments_lexer": "ipython3",
   "version": "3.10.9"
  }
 },
 "nbformat": 4,
 "nbformat_minor": 4
}

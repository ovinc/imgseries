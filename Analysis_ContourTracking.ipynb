{
 "cells": [
  {
   "cell_type": "code",
   "execution_count": 1,
   "metadata": {},
   "outputs": [],
   "source": [
    "# change to `%matplotlib qt5` for interactive methods\n",
    "%matplotlib qt5\n",
    "from pathlib import Path\n",
    "from imgseries import ImgSeries, ContourTracking, ContourTrackingResults"
   ]
  },
  {
   "cell_type": "markdown",
   "metadata": {},
   "source": [
    "**NOTE**: the main (numbered) sections are independent of each other"
   ]
  },
  {
   "cell_type": "code",
   "execution_count": 2,
   "metadata": {},
   "outputs": [],
   "source": [
    "# Define where images are stored, here distributed among two folders\n",
    "basefolder = Path('data')\n",
    "folders = [basefolder / folder for folder in ('img1', 'img2')]"
   ]
  },
  {
   "cell_type": "markdown",
   "metadata": {},
   "source": [
    "# 1) Minimal analysis"
   ]
  },
  {
   "cell_type": "markdown",
   "metadata": {
    "tags": []
   },
   "source": [
    "## Load images"
   ]
  },
  {
   "cell_type": "code",
   "execution_count": 5,
   "metadata": {},
   "outputs": [
    {
     "data": {
      "text/plain": [
       "Image Series [extension '.png', folders ['data/img1', 'data/img2'], savepath 'data', 50 files]"
      ]
     },
     "execution_count": 5,
     "metadata": {},
     "output_type": "execute_result"
    }
   ],
   "source": [
    "images = ImgSeries(folders, savepath=basefolder)\n",
    "\n",
    "# load pre-defined transforms (see ImgSeries for how to define those)\n",
    "images.load_transforms('for-tests-do-not-modify/Img_Transform')\n",
    "images"
   ]
  },
  {
   "cell_type": "markdown",
   "metadata": {},
   "source": [
    "## Analysis"
   ]
  },
  {
   "cell_type": "code",
   "execution_count": 6,
   "metadata": {},
   "outputs": [],
   "source": [
    "# Save results in untracked folder to avoid git tracking test files\n",
    "ct = ContourTracking(images, savepath='data/untracked_data/')"
   ]
  },
  {
   "cell_type": "markdown",
   "metadata": {},
   "source": [
    "The line below assumes that contours to follow have already been defined and saved in the metadata file (see details further below)"
   ]
  },
  {
   "cell_type": "code",
   "execution_count": 4,
   "metadata": {},
   "outputs": [],
   "source": [
    "# Load pre-defined contours, see below how to define them directly\n",
    "gl.contours.load('../for-tests-do-not-modify/Img_GreyLevel')"
   ]
  },
  {
   "cell_type": "code",
   "execution_count": 13,
   "metadata": {},
   "outputs": [
    {
     "data": {
      "text/plain": [
       "<Axes: title={'center': 'img #0, grey level 182'}>"
      ]
     },
     "execution_count": 13,
     "metadata": {},
     "output_type": "execute_result"
    }
   ],
   "source": [
    "ct.contours.show()"
   ]
  },
  {
   "cell_type": "markdown",
   "metadata": {},
   "source": [
    "Now, run analysis on these zones."
   ]
  },
  {
   "cell_type": "code",
   "execution_count": 14,
   "metadata": {},
   "outputs": [
    {
     "name": "stderr",
     "output_type": "stream",
     "text": [
      "100%|████████████████████████████████████████████████████████████████████████████████████████████████████████████| 50/50 [00:00<00:00, 197.18it/s]\n"
     ]
    }
   ],
   "source": [
    "ct.run()"
   ]
  },
  {
   "cell_type": "markdown",
   "metadata": {},
   "source": [
    "If using an interactive matplotlib backend, it is also possible to view the analysis in real time (slower). Note that here the parallel option is not available (contrary to GreyLevel), because analysis on different images is not independent."
   ]
  },
  {
   "cell_type": "code",
   "execution_count": 21,
   "metadata": {},
   "outputs": [],
   "source": [
    "ct.run(live=True)"
   ]
  },
  {
   "cell_type": "markdown",
   "metadata": {},
   "source": [
    "Results are stored in the `results.data` attribute, which is a pandas DataFrame (times are automatically extracted from image creation date, but can be modified, see further below)). `x, y` represent position, `p` perimeter and `a` signed area (see **imgbasics** package)\n",
    "\n",
    "*Note*: if contour detection fails at some point, `data` will contain `NaN` (`numpy.nan`) at the corresponding locations.\n",
    "\n",
    "*Note*: by default, the full coordinates of the contours are also stored in `results.raw_contour_data`. If this is too heavey, `ContourTracking` can be instanciated with the option `save_raw_contours=False`"
   ]
  },
  {
   "cell_type": "code",
   "execution_count": 16,
   "metadata": {},
   "outputs": [
    {
     "data": {
      "text/html": [
       "<div>\n",
       "<style scoped>\n",
       "    .dataframe tbody tr th:only-of-type {\n",
       "        vertical-align: middle;\n",
       "    }\n",
       "\n",
       "    .dataframe tbody tr th {\n",
       "        vertical-align: top;\n",
       "    }\n",
       "\n",
       "    .dataframe thead th {\n",
       "        text-align: right;\n",
       "    }\n",
       "</style>\n",
       "<table border=\"1\" class=\"dataframe\">\n",
       "  <thead>\n",
       "    <tr style=\"text-align: right;\">\n",
       "      <th></th>\n",
       "      <th>folder</th>\n",
       "      <th>filename</th>\n",
       "      <th>time (unix)</th>\n",
       "      <th>x1</th>\n",
       "      <th>y1</th>\n",
       "      <th>p1</th>\n",
       "      <th>a1</th>\n",
       "      <th>x2</th>\n",
       "      <th>y2</th>\n",
       "      <th>p2</th>\n",
       "      <th>a2</th>\n",
       "      <th>x3</th>\n",
       "      <th>y3</th>\n",
       "      <th>p3</th>\n",
       "      <th>a3</th>\n",
       "    </tr>\n",
       "    <tr>\n",
       "      <th>num</th>\n",
       "      <th></th>\n",
       "      <th></th>\n",
       "      <th></th>\n",
       "      <th></th>\n",
       "      <th></th>\n",
       "      <th></th>\n",
       "      <th></th>\n",
       "      <th></th>\n",
       "      <th></th>\n",
       "      <th></th>\n",
       "      <th></th>\n",
       "      <th></th>\n",
       "      <th></th>\n",
       "      <th></th>\n",
       "      <th></th>\n",
       "    </tr>\n",
       "  </thead>\n",
       "  <tbody>\n",
       "    <tr>\n",
       "      <th>45</th>\n",
       "      <td>img2</td>\n",
       "      <td>img-00655.png</td>\n",
       "      <td>1.696408e+09</td>\n",
       "      <td>186.466511</td>\n",
       "      <td>268.658266</td>\n",
       "      <td>44.788192</td>\n",
       "      <td>-151.820974</td>\n",
       "      <td>258.889911</td>\n",
       "      <td>269.580909</td>\n",
       "      <td>52.257163</td>\n",
       "      <td>-209.578768</td>\n",
       "      <td>322.767246</td>\n",
       "      <td>234.031024</td>\n",
       "      <td>47.293255</td>\n",
       "      <td>-174.203633</td>\n",
       "    </tr>\n",
       "    <tr>\n",
       "      <th>46</th>\n",
       "      <td>img2</td>\n",
       "      <td>img-00656.png</td>\n",
       "      <td>1.696408e+09</td>\n",
       "      <td>186.421866</td>\n",
       "      <td>268.7626</td>\n",
       "      <td>44.82619</td>\n",
       "      <td>-152.199486</td>\n",
       "      <td>259.041463</td>\n",
       "      <td>269.671973</td>\n",
       "      <td>52.275865</td>\n",
       "      <td>-210.244179</td>\n",
       "      <td>323.066706</td>\n",
       "      <td>234.038337</td>\n",
       "      <td>47.427696</td>\n",
       "      <td>-175.355538</td>\n",
       "    </tr>\n",
       "    <tr>\n",
       "      <th>47</th>\n",
       "      <td>img2</td>\n",
       "      <td>img-00657.png</td>\n",
       "      <td>1.696408e+09</td>\n",
       "      <td>186.451315</td>\n",
       "      <td>268.945876</td>\n",
       "      <td>44.93506</td>\n",
       "      <td>-152.879033</td>\n",
       "      <td>259.271238</td>\n",
       "      <td>269.846878</td>\n",
       "      <td>52.450949</td>\n",
       "      <td>-211.681457</td>\n",
       "      <td>323.456939</td>\n",
       "      <td>234.148139</td>\n",
       "      <td>47.593884</td>\n",
       "      <td>-176.552305</td>\n",
       "    </tr>\n",
       "    <tr>\n",
       "      <th>48</th>\n",
       "      <td>img2</td>\n",
       "      <td>img-00658.png</td>\n",
       "      <td>1.696408e+09</td>\n",
       "      <td>186.345269</td>\n",
       "      <td>269.088712</td>\n",
       "      <td>45.135705</td>\n",
       "      <td>-154.196262</td>\n",
       "      <td>259.348315</td>\n",
       "      <td>269.973242</td>\n",
       "      <td>52.534686</td>\n",
       "      <td>-212.449979</td>\n",
       "      <td>323.705796</td>\n",
       "      <td>234.208636</td>\n",
       "      <td>47.719038</td>\n",
       "      <td>-177.653617</td>\n",
       "    </tr>\n",
       "    <tr>\n",
       "      <th>49</th>\n",
       "      <td>img2</td>\n",
       "      <td>img-00659.png</td>\n",
       "      <td>1.696408e+09</td>\n",
       "      <td>186.248449</td>\n",
       "      <td>269.262724</td>\n",
       "      <td>45.322188</td>\n",
       "      <td>-155.137694</td>\n",
       "      <td>259.45787</td>\n",
       "      <td>270.162568</td>\n",
       "      <td>52.581465</td>\n",
       "      <td>-212.623299</td>\n",
       "      <td>323.986771</td>\n",
       "      <td>234.329816</td>\n",
       "      <td>47.842566</td>\n",
       "      <td>-178.63742</td>\n",
       "    </tr>\n",
       "  </tbody>\n",
       "</table>\n",
       "</div>"
      ],
      "text/plain": [
       "    folder       filename   time (unix)          x1          y1         p1  \\\n",
       "num                                                                          \n",
       "45    img2  img-00655.png  1.696408e+09  186.466511  268.658266  44.788192   \n",
       "46    img2  img-00656.png  1.696408e+09  186.421866    268.7626   44.82619   \n",
       "47    img2  img-00657.png  1.696408e+09  186.451315  268.945876   44.93506   \n",
       "48    img2  img-00658.png  1.696408e+09  186.345269  269.088712  45.135705   \n",
       "49    img2  img-00659.png  1.696408e+09  186.248449  269.262724  45.322188   \n",
       "\n",
       "             a1          x2          y2         p2          a2          x3  \\\n",
       "num                                                                          \n",
       "45  -151.820974  258.889911  269.580909  52.257163 -209.578768  322.767246   \n",
       "46  -152.199486  259.041463  269.671973  52.275865 -210.244179  323.066706   \n",
       "47  -152.879033  259.271238  269.846878  52.450949 -211.681457  323.456939   \n",
       "48  -154.196262  259.348315  269.973242  52.534686 -212.449979  323.705796   \n",
       "49  -155.137694   259.45787  270.162568  52.581465 -212.623299  323.986771   \n",
       "\n",
       "             y3         p3          a3  \n",
       "num                                     \n",
       "45   234.031024  47.293255 -174.203633  \n",
       "46   234.038337  47.427696 -175.355538  \n",
       "47   234.148139  47.593884 -176.552305  \n",
       "48   234.208636  47.719038 -177.653617  \n",
       "49   234.329816  47.842566  -178.63742  "
      ]
     },
     "execution_count": 16,
     "metadata": {},
     "output_type": "execute_result"
    }
   ],
   "source": [
    "ct.results.data.tail()"
   ]
  },
  {
   "cell_type": "code",
   "execution_count": 17,
   "metadata": {},
   "outputs": [
    {
     "data": {
      "text/plain": [
       "[274.0238095238095,\n",
       " 274.0,\n",
       " 273.984375,\n",
       " 273.8939393939394,\n",
       " 273.80263157894734,\n",
       " 273.6981132075472,\n",
       " 273.45454545454544,\n",
       " 273.125,\n",
       " 273.0,\n",
       " 272.3076923076923]"
      ]
     },
     "execution_count": 17,
     "metadata": {},
     "output_type": "execute_result"
    }
   ],
   "source": [
    "ct.results.raw_contour_data['1']['10']['y'][:10]"
   ]
  },
  {
   "cell_type": "code",
   "execution_count": 18,
   "metadata": {},
   "outputs": [
    {
     "data": {
      "text/plain": [
       "<matplotlib.widgets.Slider at 0x2a7486c20>"
      ]
     },
     "execution_count": 18,
     "metadata": {},
     "output_type": "execute_result"
    }
   ],
   "source": [
    "ct.inspect(skip=3)"
   ]
  },
  {
   "cell_type": "code",
   "execution_count": 23,
   "metadata": {},
   "outputs": [
    {
     "data": {
      "text/plain": [
       "<matplotlib.animation.FuncAnimation at 0x2a8a3f910>"
      ]
     },
     "execution_count": 23,
     "metadata": {},
     "output_type": "execute_result"
    }
   ],
   "source": [
    "ct.animate(start=10, end=30)"
   ]
  },
  {
   "cell_type": "markdown",
   "metadata": {},
   "source": [
    "Plot perimeters of all detected particles (contours) as a function of time:"
   ]
  },
  {
   "cell_type": "code",
   "execution_count": 19,
   "metadata": {},
   "outputs": [
    {
     "data": {
      "text/plain": [
       "<Axes: xlabel='time (unix)'>"
      ]
     },
     "execution_count": 19,
     "metadata": {},
     "output_type": "execute_result"
    }
   ],
   "source": [
    "ct.results.data.set_index('time (unix)').filter(like='p').plot()"
   ]
  },
  {
   "cell_type": "markdown",
   "metadata": {},
   "source": [
    "Save data in a tsv (tab-separated value) file, using default filename (filename can be set as a parameter if necessary, see further below). Metadata including contour info, path info, and code version info is also saved in a .json file at the same time. Full (raw) contour data is also saved if required.\n",
    "\n",
    "Before saving, make sure the timing info is correct for all images. If not, correct timing info, re-run the analysis, and call `results.save()`."
   ]
  },
  {
   "cell_type": "code",
   "execution_count": 20,
   "metadata": {},
   "outputs": [
    {
     "name": "stdout",
     "output_type": "stream",
     "text": [
      "\n",
      "Warning: These modules have dirty git repositories: imgseries\n",
      "\n",
      "\n",
      "Warning: these modules are missing a tag: imgseries\n",
      "\n",
      "\n",
      "Warning: these modules are not in a git repository: skimage, imgbasics, matplotlib, numpy\n",
      "\n"
     ]
    }
   ],
   "source": [
    "ct.results.save()"
   ]
  },
  {
   "cell_type": "markdown",
   "metadata": {},
   "source": [
    "# Live view of analysis"
   ]
  },
  {
   "cell_type": "code",
   "execution_count": 26,
   "metadata": {},
   "outputs": [],
   "source": [
    "ct.run(end=30, live=True)"
   ]
  },
  {
   "cell_type": "markdown",
   "metadata": {},
   "source": [
    "It is possible that the live animation is non blocking and thus that data is not saved correctly (saving is done at the beginning of the animation and thus data is empty). If this happens, best is probably to re-run the analysis with live=False.\n",
    "\n",
    "Check that data is empty:"
   ]
  },
  {
   "cell_type": "code",
   "execution_count": 28,
   "metadata": {},
   "outputs": [
    {
     "data": {
      "text/plain": [
       "<Axes: xlabel='time (unix)'>"
      ]
     },
     "execution_count": 28,
     "metadata": {},
     "output_type": "execute_result"
    }
   ],
   "source": [
    "ct.results.data.set_index('time (unix)').filter(like='p').plot()"
   ]
  },
  {
   "cell_type": "markdown",
   "metadata": {},
   "source": [
    "# 2) Defining and viewing contours"
   ]
  },
  {
   "cell_type": "code",
   "execution_count": 3,
   "metadata": {},
   "outputs": [],
   "source": [
    "images = ImgSeries(folders, savepath=basefolder)\n",
    "images.load_transforms('for-tests-do-not-modify/Img_Transform')\n",
    "ct = ContourTracking(images, savepath='data/untracked_data/')"
   ]
  },
  {
   "cell_type": "markdown",
   "metadata": {},
   "source": [
    "Defining contours has to be done at least once.\n",
    "\n",
    "**Important**: Matplotlib must be in an interactive mode to do so.\n",
    "\n",
    "Defining does not need to be done again in the following situations:\n",
    "- calling methods again from the same `ct` object, e.g. `ct.run()`\n",
    "- calling `ct.contours.load()` or `ct.regenerate()` to load contours data from saved metadata (.json) file."
   ]
  },
  {
   "cell_type": "markdown",
   "metadata": {},
   "source": [
    "**Note**: to improve contour detection, it might be necessary to do additional cropping/filtering on images with `images.crop` and `images.filter`"
   ]
  },
  {
   "cell_type": "code",
   "execution_count": 4,
   "metadata": {},
   "outputs": [
    {
     "data": {
      "text/plain": [
       "<matplotlib.widgets.Slider at 0x28094f6d0>"
      ]
     },
     "execution_count": 4,
     "metadata": {},
     "output_type": "execute_result"
    }
   ],
   "source": [
    "ct.threshold.define()"
   ]
  },
  {
   "cell_type": "code",
   "execution_count": 5,
   "metadata": {},
   "outputs": [
    {
     "name": "stdout",
     "output_type": "stream",
     "text": [
      "Threshold object {'value': 182}\n"
     ]
    }
   ],
   "source": [
    "print(ct.threshold)"
   ]
  },
  {
   "cell_type": "code",
   "execution_count": 6,
   "metadata": {},
   "outputs": [],
   "source": [
    "ct.contours.define()  # define one contour on the first image of the series"
   ]
  },
  {
   "cell_type": "code",
   "execution_count": 10,
   "metadata": {},
   "outputs": [],
   "source": [
    "ct.contours.define(n=3)  # define 3 contours on the first image of the series"
   ]
  },
  {
   "cell_type": "code",
   "execution_count": 6,
   "metadata": {},
   "outputs": [],
   "source": [
    "ct.contours.define(3, num=10)  # define 3 contours at level 170 on image #10 in the series"
   ]
  },
  {
   "cell_type": "markdown",
   "metadata": {},
   "source": [
    "Viewing analysis zones after defining or loading them:"
   ]
  },
  {
   "cell_type": "code",
   "execution_count": 7,
   "metadata": {},
   "outputs": [
    {
     "data": {
      "text/plain": [
       "{'position': {'contour 1': (188.04110067355455, 267.5245090373116),\n",
       "  'contour 2': (258.9021791530991, 268.53190375527873),\n",
       "  'contour 3': (321.2973382438927, 233.5584805632059)},\n",
       " 'level': 182,\n",
       " 'image': 10}"
      ]
     },
     "execution_count": 7,
     "metadata": {},
     "output_type": "execute_result"
    }
   ],
   "source": [
    "ct.contours.data"
   ]
  },
  {
   "cell_type": "code",
   "execution_count": 12,
   "metadata": {},
   "outputs": [
    {
     "data": {
      "text/plain": [
       "<Axes: title={'center': 'img #0, grey level 182'}>"
      ]
     },
     "execution_count": 12,
     "metadata": {},
     "output_type": "execute_result"
    }
   ],
   "source": [
    "ct.contours.show()  # show contours on the image they have been defined on"
   ]
  },
  {
   "cell_type": "code",
   "execution_count": 13,
   "metadata": {},
   "outputs": [],
   "source": [
    "ct.threshold.load()"
   ]
  },
  {
   "cell_type": "code",
   "execution_count": 14,
   "metadata": {},
   "outputs": [
    {
     "data": {
      "text/plain": [
       "Threshold object {'value': 182}"
      ]
     },
     "execution_count": 14,
     "metadata": {},
     "output_type": "execute_result"
    }
   ],
   "source": [
    "ct.threshold"
   ]
  },
  {
   "cell_type": "markdown",
   "metadata": {},
   "source": [
    "**Note**:\n",
    "Before, saving contour data was only done by calling `ct.save()`, which saves both data and metadata.\n",
    "Now, preliminary saving of zone data can be done with `ct.contours.save()`; \n",
    "Note that `ct.save()` overwrites that data if the same filename is provided."
   ]
  },
  {
   "cell_type": "code",
   "execution_count": 16,
   "metadata": {},
   "outputs": [
    {
     "name": "stdout",
     "output_type": "stream",
     "text": [
      "\n",
      "Warning: These modules have dirty git repositories: imgseries\n",
      "\n",
      "\n",
      "Warning: these modules are missing a tag: imgseries\n",
      "\n",
      "\n",
      "Warning: these modules are not in a git repository: skimage, imgbasics, matplotlib, numpy\n",
      "\n"
     ]
    }
   ],
   "source": [
    "ct.contours.save()"
   ]
  },
  {
   "cell_type": "markdown",
   "metadata": {},
   "source": [
    "# 3) Analyze only subset of images"
   ]
  },
  {
   "cell_type": "markdown",
   "metadata": {},
   "source": [
    "See **Examples_GreyLevels.ipynb**, and replace:\n",
    "- `GreyLevel` →  `ContourTracking`\n",
    "- `zones` →  `contours`"
   ]
  },
  {
   "cell_type": "markdown",
   "metadata": {},
   "source": [
    "# 4) Load analysis data a posteriori"
   ]
  },
  {
   "cell_type": "markdown",
   "metadata": {},
   "source": [
    "## Load results without images"
   ]
  },
  {
   "cell_type": "code",
   "execution_count": 35,
   "metadata": {},
   "outputs": [],
   "source": [
    "# Here, the savepath is where the results have been stored with save()\n",
    "results = ContourTrackingResults(savepath='data/for-tests-do-not-modify/')"
   ]
  },
  {
   "cell_type": "code",
   "execution_count": 36,
   "metadata": {},
   "outputs": [
    {
     "data": {
      "text/html": [
       "<div>\n",
       "<style scoped>\n",
       "    .dataframe tbody tr th:only-of-type {\n",
       "        vertical-align: middle;\n",
       "    }\n",
       "\n",
       "    .dataframe tbody tr th {\n",
       "        vertical-align: top;\n",
       "    }\n",
       "\n",
       "    .dataframe thead th {\n",
       "        text-align: right;\n",
       "    }\n",
       "</style>\n",
       "<table border=\"1\" class=\"dataframe\">\n",
       "  <thead>\n",
       "    <tr style=\"text-align: right;\">\n",
       "      <th></th>\n",
       "      <th>folder</th>\n",
       "      <th>filename</th>\n",
       "      <th>time (unix)</th>\n",
       "      <th>x1</th>\n",
       "      <th>y1</th>\n",
       "      <th>p1</th>\n",
       "      <th>a1</th>\n",
       "      <th>x2</th>\n",
       "      <th>y2</th>\n",
       "      <th>p2</th>\n",
       "      <th>a2</th>\n",
       "      <th>x3</th>\n",
       "      <th>y3</th>\n",
       "      <th>p3</th>\n",
       "      <th>a3</th>\n",
       "    </tr>\n",
       "    <tr>\n",
       "      <th>num</th>\n",
       "      <th></th>\n",
       "      <th></th>\n",
       "      <th></th>\n",
       "      <th></th>\n",
       "      <th></th>\n",
       "      <th></th>\n",
       "      <th></th>\n",
       "      <th></th>\n",
       "      <th></th>\n",
       "      <th></th>\n",
       "      <th></th>\n",
       "      <th></th>\n",
       "      <th></th>\n",
       "      <th></th>\n",
       "      <th></th>\n",
       "    </tr>\n",
       "  </thead>\n",
       "  <tbody>\n",
       "    <tr>\n",
       "      <th>0</th>\n",
       "      <td>img1</td>\n",
       "      <td>img-00610.png</td>\n",
       "      <td>1.696408e+09</td>\n",
       "      <td>186.381073</td>\n",
       "      <td>268.880349</td>\n",
       "      <td>44.742100</td>\n",
       "      <td>-151.322772</td>\n",
       "      <td>258.937560</td>\n",
       "      <td>269.789442</td>\n",
       "      <td>52.311205</td>\n",
       "      <td>-210.492459</td>\n",
       "      <td>322.935738</td>\n",
       "      <td>234.149331</td>\n",
       "      <td>47.418369</td>\n",
       "      <td>-175.188267</td>\n",
       "    </tr>\n",
       "    <tr>\n",
       "      <th>1</th>\n",
       "      <td>img1</td>\n",
       "      <td>img-00611.png</td>\n",
       "      <td>1.696408e+09</td>\n",
       "      <td>186.465505</td>\n",
       "      <td>268.617503</td>\n",
       "      <td>44.690003</td>\n",
       "      <td>-150.966001</td>\n",
       "      <td>258.831991</td>\n",
       "      <td>269.534000</td>\n",
       "      <td>52.257060</td>\n",
       "      <td>-209.595277</td>\n",
       "      <td>322.669741</td>\n",
       "      <td>233.992961</td>\n",
       "      <td>47.321906</td>\n",
       "      <td>-173.954602</td>\n",
       "    </tr>\n",
       "    <tr>\n",
       "      <th>2</th>\n",
       "      <td>img1</td>\n",
       "      <td>img-00612.png</td>\n",
       "      <td>1.696408e+09</td>\n",
       "      <td>186.533386</td>\n",
       "      <td>268.466188</td>\n",
       "      <td>44.553489</td>\n",
       "      <td>-149.860104</td>\n",
       "      <td>258.721319</td>\n",
       "      <td>269.418015</td>\n",
       "      <td>52.161628</td>\n",
       "      <td>-208.960533</td>\n",
       "      <td>322.396355</td>\n",
       "      <td>233.933190</td>\n",
       "      <td>47.303397</td>\n",
       "      <td>-173.368130</td>\n",
       "    </tr>\n",
       "    <tr>\n",
       "      <th>3</th>\n",
       "      <td>img1</td>\n",
       "      <td>img-00613.png</td>\n",
       "      <td>1.696408e+09</td>\n",
       "      <td>186.565485</td>\n",
       "      <td>268.256760</td>\n",
       "      <td>44.416100</td>\n",
       "      <td>-148.986836</td>\n",
       "      <td>258.573698</td>\n",
       "      <td>269.210823</td>\n",
       "      <td>52.127305</td>\n",
       "      <td>-208.499205</td>\n",
       "      <td>322.083884</td>\n",
       "      <td>233.802949</td>\n",
       "      <td>47.195826</td>\n",
       "      <td>-172.385620</td>\n",
       "    </tr>\n",
       "    <tr>\n",
       "      <th>4</th>\n",
       "      <td>img1</td>\n",
       "      <td>img-00614.png</td>\n",
       "      <td>1.696408e+09</td>\n",
       "      <td>186.588163</td>\n",
       "      <td>268.064450</td>\n",
       "      <td>44.148188</td>\n",
       "      <td>-147.764186</td>\n",
       "      <td>258.448329</td>\n",
       "      <td>269.019657</td>\n",
       "      <td>52.096051</td>\n",
       "      <td>-207.787577</td>\n",
       "      <td>321.791162</td>\n",
       "      <td>233.689884</td>\n",
       "      <td>47.079396</td>\n",
       "      <td>-171.058334</td>\n",
       "    </tr>\n",
       "  </tbody>\n",
       "</table>\n",
       "</div>"
      ],
      "text/plain": [
       "    folder       filename   time (unix)          x1          y1         p1  \\\n",
       "num                                                                          \n",
       "0     img1  img-00610.png  1.696408e+09  186.381073  268.880349  44.742100   \n",
       "1     img1  img-00611.png  1.696408e+09  186.465505  268.617503  44.690003   \n",
       "2     img1  img-00612.png  1.696408e+09  186.533386  268.466188  44.553489   \n",
       "3     img1  img-00613.png  1.696408e+09  186.565485  268.256760  44.416100   \n",
       "4     img1  img-00614.png  1.696408e+09  186.588163  268.064450  44.148188   \n",
       "\n",
       "             a1          x2          y2         p2          a2          x3  \\\n",
       "num                                                                          \n",
       "0   -151.322772  258.937560  269.789442  52.311205 -210.492459  322.935738   \n",
       "1   -150.966001  258.831991  269.534000  52.257060 -209.595277  322.669741   \n",
       "2   -149.860104  258.721319  269.418015  52.161628 -208.960533  322.396355   \n",
       "3   -148.986836  258.573698  269.210823  52.127305 -208.499205  322.083884   \n",
       "4   -147.764186  258.448329  269.019657  52.096051 -207.787577  321.791162   \n",
       "\n",
       "             y3         p3          a3  \n",
       "num                                     \n",
       "0    234.149331  47.418369 -175.188267  \n",
       "1    233.992961  47.321906 -173.954602  \n",
       "2    233.933190  47.303397 -173.368130  \n",
       "3    233.802949  47.195826 -172.385620  \n",
       "4    233.689884  47.079396 -171.058334  "
      ]
     },
     "execution_count": 36,
     "metadata": {},
     "output_type": "execute_result"
    }
   ],
   "source": [
    "results.load()\n",
    "results.data.head()"
   ]
  },
  {
   "cell_type": "code",
   "execution_count": 37,
   "metadata": {},
   "outputs": [
    {
     "data": {
      "text/plain": [
       "{'path': ['/Users/olivier.vincent/Python-OV/imgseries/data/untracked_data'],\n",
       " 'folders': ['../img1', '../img2'],\n",
       " 'contours': {'position': {'contour 1': [186.38107291551614,\n",
       "    268.8803487163035],\n",
       "   'contour 2': [258.93756035280825, 269.7894418257783],\n",
       "   'contour 3': [322.9357384733174, 234.14933143477805]},\n",
       "  'level': 182,\n",
       "  'image': 0},\n",
       " 'grayscale': {},\n",
       " 'rotation': {'angle': 22.765009107511496},\n",
       " 'crop': {'zone': [159, 171, 467, 380]},\n",
       " 'filter': {},\n",
       " 'subtraction': {},\n",
       " 'threshold': {},\n",
       " 'time (utc)': '2024-02-19 11:38:36',\n",
       " 'code version': {'skimage': {'status': 'not a git repository',\n",
       "   'tag': 'v0.19.3'},\n",
       "  'imgseries': {'hash': '9cd9673f60328c205afe3ac5fcad64c7124e0982',\n",
       "   'status': 'dirty'},\n",
       "  'imgbasics': {'status': 'not a git repository', 'tag': 'v0.3.0'},\n",
       "  'filo': {'hash': '150574b5ae82c74d0c500b3fdb494e8f9c7631f7',\n",
       "   'status': 'clean',\n",
       "   'tag': 'v1.1.5'},\n",
       "  'matplotlib': {'status': 'not a git repository', 'tag': 'v3.7.0'},\n",
       "  'numpy': {'status': 'not a git repository', 'tag': 'v1.23.5'}}}"
      ]
     },
     "execution_count": 37,
     "metadata": {},
     "output_type": "execute_result"
    }
   ],
   "source": [
    "results.metadata"
   ]
  },
  {
   "cell_type": "code",
   "execution_count": 38,
   "metadata": {},
   "outputs": [
    {
     "data": {
      "text/plain": [
       "[258.0,\n",
       " 257.8333333333333,\n",
       " 257.0,\n",
       " 256.0,\n",
       " 255.0,\n",
       " 254.0,\n",
       " 253.5,\n",
       " 253.0,\n",
       " 252.0,\n",
       " 251.6315789473684]"
      ]
     },
     "execution_count": 38,
     "metadata": {},
     "output_type": "execute_result"
    }
   ],
   "source": [
    "results.raw_contour_data['2']['33']['x'][:10]"
   ]
  },
  {
   "cell_type": "markdown",
   "metadata": {},
   "source": [
    "# 5) Connect results to image series (e.g. for inspection/visualization)"
   ]
  },
  {
   "cell_type": "code",
   "execution_count": 39,
   "metadata": {},
   "outputs": [],
   "source": [
    "images = ImgSeries(folders, savepath=basefolder)\n",
    "ct = ContourTracking(images)\n",
    "\n",
    "# Line below is equivalent to call results.load() and images.load_transforms,\n",
    "# except that the transforms are taken directly from the results metadata.\n",
    "ct.regenerate(filename='for-tests-do-not-modify/Img_ContourTracking')"
   ]
  },
  {
   "cell_type": "code",
   "execution_count": 40,
   "metadata": {},
   "outputs": [
    {
     "name": "stdout",
     "output_type": "stream",
     "text": [
      "Image Crop ------------------------- [159, 171, 467, 380]\n",
      "Image Crop (same as above) --------- [159, 171, 467, 380]\n",
      "\n",
      "Image Rotation --------------------- {'angle': 22.765009107511496}\n",
      "Image Rotation (same as above) ----- {'angle': 22.765009107511496}\n",
      "\n",
      "Contour position ------------------- [258.93756035280825, 269.7894418257783]\n",
      "Contour position (same as above) --- [258.93756035280825, 269.7894418257783]\n"
     ]
    },
    {
     "data": {
      "text/html": [
       "<div>\n",
       "<style scoped>\n",
       "    .dataframe tbody tr th:only-of-type {\n",
       "        vertical-align: middle;\n",
       "    }\n",
       "\n",
       "    .dataframe tbody tr th {\n",
       "        vertical-align: top;\n",
       "    }\n",
       "\n",
       "    .dataframe thead th {\n",
       "        text-align: right;\n",
       "    }\n",
       "</style>\n",
       "<table border=\"1\" class=\"dataframe\">\n",
       "  <thead>\n",
       "    <tr style=\"text-align: right;\">\n",
       "      <th></th>\n",
       "      <th>folder</th>\n",
       "      <th>filename</th>\n",
       "      <th>time (unix)</th>\n",
       "      <th>x1</th>\n",
       "      <th>y1</th>\n",
       "      <th>p1</th>\n",
       "      <th>a1</th>\n",
       "      <th>x2</th>\n",
       "      <th>y2</th>\n",
       "      <th>p2</th>\n",
       "      <th>a2</th>\n",
       "      <th>x3</th>\n",
       "      <th>y3</th>\n",
       "      <th>p3</th>\n",
       "      <th>a3</th>\n",
       "    </tr>\n",
       "    <tr>\n",
       "      <th>num</th>\n",
       "      <th></th>\n",
       "      <th></th>\n",
       "      <th></th>\n",
       "      <th></th>\n",
       "      <th></th>\n",
       "      <th></th>\n",
       "      <th></th>\n",
       "      <th></th>\n",
       "      <th></th>\n",
       "      <th></th>\n",
       "      <th></th>\n",
       "      <th></th>\n",
       "      <th></th>\n",
       "      <th></th>\n",
       "      <th></th>\n",
       "    </tr>\n",
       "  </thead>\n",
       "  <tbody>\n",
       "    <tr>\n",
       "      <th>0</th>\n",
       "      <td>img1</td>\n",
       "      <td>img-00610.png</td>\n",
       "      <td>1.696408e+09</td>\n",
       "      <td>186.381073</td>\n",
       "      <td>268.880349</td>\n",
       "      <td>44.742100</td>\n",
       "      <td>-151.322772</td>\n",
       "      <td>258.937560</td>\n",
       "      <td>269.789442</td>\n",
       "      <td>52.311205</td>\n",
       "      <td>-210.492459</td>\n",
       "      <td>322.935738</td>\n",
       "      <td>234.149331</td>\n",
       "      <td>47.418369</td>\n",
       "      <td>-175.188267</td>\n",
       "    </tr>\n",
       "    <tr>\n",
       "      <th>1</th>\n",
       "      <td>img1</td>\n",
       "      <td>img-00611.png</td>\n",
       "      <td>1.696408e+09</td>\n",
       "      <td>186.465505</td>\n",
       "      <td>268.617503</td>\n",
       "      <td>44.690003</td>\n",
       "      <td>-150.966001</td>\n",
       "      <td>258.831991</td>\n",
       "      <td>269.534000</td>\n",
       "      <td>52.257060</td>\n",
       "      <td>-209.595277</td>\n",
       "      <td>322.669741</td>\n",
       "      <td>233.992961</td>\n",
       "      <td>47.321906</td>\n",
       "      <td>-173.954602</td>\n",
       "    </tr>\n",
       "    <tr>\n",
       "      <th>2</th>\n",
       "      <td>img1</td>\n",
       "      <td>img-00612.png</td>\n",
       "      <td>1.696408e+09</td>\n",
       "      <td>186.533386</td>\n",
       "      <td>268.466188</td>\n",
       "      <td>44.553489</td>\n",
       "      <td>-149.860104</td>\n",
       "      <td>258.721319</td>\n",
       "      <td>269.418015</td>\n",
       "      <td>52.161628</td>\n",
       "      <td>-208.960533</td>\n",
       "      <td>322.396355</td>\n",
       "      <td>233.933190</td>\n",
       "      <td>47.303397</td>\n",
       "      <td>-173.368130</td>\n",
       "    </tr>\n",
       "    <tr>\n",
       "      <th>3</th>\n",
       "      <td>img1</td>\n",
       "      <td>img-00613.png</td>\n",
       "      <td>1.696408e+09</td>\n",
       "      <td>186.565485</td>\n",
       "      <td>268.256760</td>\n",
       "      <td>44.416100</td>\n",
       "      <td>-148.986836</td>\n",
       "      <td>258.573698</td>\n",
       "      <td>269.210823</td>\n",
       "      <td>52.127305</td>\n",
       "      <td>-208.499205</td>\n",
       "      <td>322.083884</td>\n",
       "      <td>233.802949</td>\n",
       "      <td>47.195826</td>\n",
       "      <td>-172.385620</td>\n",
       "    </tr>\n",
       "    <tr>\n",
       "      <th>4</th>\n",
       "      <td>img1</td>\n",
       "      <td>img-00614.png</td>\n",
       "      <td>1.696408e+09</td>\n",
       "      <td>186.588163</td>\n",
       "      <td>268.064450</td>\n",
       "      <td>44.148188</td>\n",
       "      <td>-147.764186</td>\n",
       "      <td>258.448329</td>\n",
       "      <td>269.019657</td>\n",
       "      <td>52.096051</td>\n",
       "      <td>-207.787577</td>\n",
       "      <td>321.791162</td>\n",
       "      <td>233.689884</td>\n",
       "      <td>47.079396</td>\n",
       "      <td>-171.058334</td>\n",
       "    </tr>\n",
       "  </tbody>\n",
       "</table>\n",
       "</div>"
      ],
      "text/plain": [
       "    folder       filename   time (unix)          x1          y1         p1  \\\n",
       "num                                                                          \n",
       "0     img1  img-00610.png  1.696408e+09  186.381073  268.880349  44.742100   \n",
       "1     img1  img-00611.png  1.696408e+09  186.465505  268.617503  44.690003   \n",
       "2     img1  img-00612.png  1.696408e+09  186.533386  268.466188  44.553489   \n",
       "3     img1  img-00613.png  1.696408e+09  186.565485  268.256760  44.416100   \n",
       "4     img1  img-00614.png  1.696408e+09  186.588163  268.064450  44.148188   \n",
       "\n",
       "             a1          x2          y2         p2          a2          x3  \\\n",
       "num                                                                          \n",
       "0   -151.322772  258.937560  269.789442  52.311205 -210.492459  322.935738   \n",
       "1   -150.966001  258.831991  269.534000  52.257060 -209.595277  322.669741   \n",
       "2   -149.860104  258.721319  269.418015  52.161628 -208.960533  322.396355   \n",
       "3   -148.986836  258.573698  269.210823  52.127305 -208.499205  322.083884   \n",
       "4   -147.764186  258.448329  269.019657  52.096051 -207.787577  321.791162   \n",
       "\n",
       "             y3         p3          a3  \n",
       "num                                     \n",
       "0    234.149331  47.418369 -175.188267  \n",
       "1    233.992961  47.321906 -173.954602  \n",
       "2    233.933190  47.303397 -173.368130  \n",
       "3    233.802949  47.195826 -172.385620  \n",
       "4    233.689884  47.079396 -171.058334  "
      ]
     },
     "execution_count": 40,
     "metadata": {},
     "output_type": "execute_result"
    }
   ],
   "source": [
    "print('Image Crop -------------------------', ct.img_series.crop.zone)\n",
    "print('Image Crop (same as above) ---------', ct.results.metadata['crop'].get('zone', ()))\n",
    "print('')\n",
    "print('Image Rotation ---------------------', ct.img_series.rotation.data)\n",
    "print('Image Rotation (same as above) -----', ct.results.metadata['rotation'])\n",
    "print('')\n",
    "print('Contour position -------------------', ct.contours.data['position']['contour 2'])\n",
    "print('Contour position (same as above) ---', ct.results.metadata['contours']['position']['contour 2'])\n",
    "\n",
    "ct.results.data.head()"
   ]
  },
  {
   "cell_type": "markdown",
   "metadata": {},
   "source": [
    "Once the analysis is regenerated, all the tools associated with images (inspection, showing, animation, etc.) are available:"
   ]
  },
  {
   "cell_type": "code",
   "execution_count": 33,
   "metadata": {},
   "outputs": [
    {
     "data": {
      "text/plain": [
       "(<Axes: title={'center': 'img #25, grey level None'}>,)"
      ]
     },
     "execution_count": 33,
     "metadata": {},
     "output_type": "execute_result"
    }
   ],
   "source": [
    "ct.show(num=25)"
   ]
  },
  {
   "cell_type": "code",
   "execution_count": 34,
   "metadata": {},
   "outputs": [
    {
     "data": {
      "text/plain": [
       "<matplotlib.widgets.Slider at 0x2a99e7bb0>"
      ]
     },
     "execution_count": 34,
     "metadata": {},
     "output_type": "execute_result"
    }
   ],
   "source": [
    "ct.inspect()"
   ]
  },
  {
   "cell_type": "code",
   "execution_count": null,
   "metadata": {},
   "outputs": [],
   "source": []
  }
 ],
 "metadata": {
  "kernelspec": {
   "display_name": "Python 3 (ipykernel)",
   "language": "python",
   "name": "python3"
  },
  "language_info": {
   "codemirror_mode": {
    "name": "ipython",
    "version": 3
   },
   "file_extension": ".py",
   "mimetype": "text/x-python",
   "name": "python",
   "nbconvert_exporter": "python",
   "pygments_lexer": "ipython3",
   "version": "3.10.9"
  }
 },
 "nbformat": 4,
 "nbformat_minor": 4
}
